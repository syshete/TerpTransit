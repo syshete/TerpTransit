{
 "cells": [
  {
   "cell_type": "code",
   "execution_count": 4,
   "metadata": {},
   "outputs": [],
   "source": [
    "import arcgis\n",
    "from arcgis.gis import GIS"
   ]
  },
  {
   "cell_type": "code",
   "execution_count": 10,
   "metadata": {},
   "outputs": [],
   "source": [
    "from copy import deepcopy\n",
    "from datetime import datetime\n",
    "from IPython.display import HTML\n",
    "import json\n",
    "import pandas as pd\n",
    "from arcgis.gis import GIS\n",
    "import arcgis.network as network\n",
    "import arcgis.geocoding as geocoding\n",
    "import requests\n",
    "import json\n",
    "import sys\n",
    "from IPython.display import FileLink, FileLinks\n",
    "\n",
    "\n",
    "my_gis = GIS('https://www.arcgis.com', user_name, password)"
   ]
  },
  {
   "cell_type": "code",
   "execution_count": 11,
   "metadata": {},
   "outputs": [
    {
     "data": {
      "text/plain": [
       "'https://route.arcgis.com/arcgis/rest/services/World/Route/NAServer/Route_World'"
      ]
     },
     "execution_count": 11,
     "metadata": {},
     "output_type": "execute_result"
    }
   ],
   "source": [
    "route_service_url = my_gis.properties.helperServices.route.url\n",
    "route_service_url"
   ]
  },
  {
   "cell_type": "code",
   "execution_count": 12,
   "metadata": {},
   "outputs": [
    {
     "data": {
      "text/plain": [
       "<RouteLayer url:\"https://route.arcgis.com/arcgis/rest/services/World/Route/NAServer/Route_World\">"
      ]
     },
     "execution_count": 12,
     "metadata": {},
     "output_type": "execute_result"
    }
   ],
   "source": [
    "route_service = network.RouteLayer(route_service_url, gis=my_gis)\n",
    "route_service"
   ]
  },
  {
   "cell_type": "code",
   "execution_count": 13,
   "metadata": {},
   "outputs": [],
   "source": [
    "#Route Blue\n",
    "blue_stops = '''\n",
    "-76.943882,38.987431;\n",
    "-76.945355,38.988067;\n",
    "-76.945293,38.98869;\n",
    "-76.942127,38.989256;\n",
    "-76.940239,38.986649;\n",
    "-76.940156,38.984922;\n",
    "-76.939149,38.982427;\n",
    "-76.937091,38.985274;\n",
    "-76.929719,38.9906131;\n",
    "-76.9340225,38.992351;\n",
    "-76.9341941,38.9905204;\n",
    "-76.939524,38.987735;\n",
    "-76.943882,38.987431;\n",
    "'''\n",
    "\n",
    "campus_connector = '''\n",
    "-76.943945,38.98761;\n",
    "-76.94678,38.985277;\n",
    "-76.945186,38.983749; \n",
    "-76.944942,38.982413;\n",
    "-76.939481,38.978162;\n",
    "-76.937771,38.979462;\n",
    "-76.939114,38.982511;\n",
    "-76.940049,38.98454;\n",
    "-76.940112,38.986373;\n",
    "-76.9406072,38.9903818;\n",
    "-76.940732,38.991492;\n",
    "-76.939835,38.993664;\n",
    "-76.937715,38.993702;\n",
    "-76.937647,38.995334;\n",
    "-76.940504,38.997819;\n",
    "-76.944723,39.001073;\n",
    "-76.9434,39.002685;\n",
    "-76.942541,39.003083;\n",
    "-76.94343,39.002056;\n",
    "-76.944723,39.001073;\n",
    "-76.940409,38.997908;\n",
    "-76.937462,38.995357;\n",
    "-76.937479,38.993628;\n",
    "-76.939932,38.993483;\n",
    "-76.940647,38.991274;\n",
    "-76.940772,38.989522;\n",
    "-76.943945,38.98761;\n",
    "'''\n",
    "\n",
    "route_layer = network.RouteLayer(route_service_url, gis=my_gis)\n",
    "result = route_layer.solve(stops=blue_stops, \n",
    "                           directions_language='en-US', return_routes=True,\n",
    "                           return_stops=True, return_directions=False,\n",
    "                           return_barriers=False, return_polygon_barriers=False,\n",
    "                           return_polyline_barriers=False)\n",
    "\n",
    "result2 = route_layer.solve(stops=campus_connector, \n",
    "                           directions_language='en-US', return_routes=True,\n",
    "                           return_stops=True, return_directions=False,\n",
    "                           return_barriers=False, return_polygon_barriers=False,\n",
    "                           return_polyline_barriers=False)\n"
   ]
  },
  {
   "cell_type": "code",
   "execution_count": 14,
   "metadata": {
    "scrolled": false
   },
   "outputs": [
    {
     "data": {
      "application/vnd.jupyter.widget-view+json": {
       "model_id": "975b4b1e8e934c53a084979609625eea",
       "version_major": 2,
       "version_minor": 0
      },
      "text/plain": [
       "MapView(layout=Layout(height='400px', width='100%'))"
      ]
     },
     "metadata": {},
     "output_type": "display_data"
    },
    {
     "data": {
      "text/html": [
       "<div class=\"map-static-img-preview-c4722d34-514b-435d-870b-031246458579\"><img src=\"\"></img></div>"
      ],
      "text/plain": [
       "<IPython.core.display.HTML object>"
      ]
     },
     "metadata": {},
     "output_type": "display_data"
    },
    {
     "data": {
      "text/html": [
       "<div class=\"map-html-embed-preview-c4722d34-514b-435d-870b-031246458579\"></div>"
      ],
      "text/plain": [
       "<IPython.core.display.HTML object>"
      ]
     },
     "metadata": {},
     "output_type": "display_data"
    }
   ],
   "source": [
    "my_map = my_gis.map('University of Maryland', zoomlevel=16)\n",
    "my_map"
   ]
  },
  {
   "cell_type": "code",
   "execution_count": 15,
   "metadata": {},
   "outputs": [],
   "source": [
    "my_map.clear_graphics()\n",
    "stop_count = result['routes']['features'][0]['attributes']['StopCount']\n",
    "travel_time = result['routes']['features'][0]['attributes']['Total_TravelTime']\n",
    "distance = result['routes']['features'][0]['attributes']['Total_Miles']\n",
    "\n",
    "data = [('Number of stops', stop_count),\n",
    "        ('Total travel time', '{0:.2f} min'.format(travel_time)),\n",
    "        ('Total travel distance', '{0:.2f} mi'.format(distance))]\n",
    "\n",
    "df = pd.DataFrame.from_records(data)\n",
    "styles = [    \n",
    "    dict(selector=\"td\", props=[(\"padding\", \"2px\")]),\n",
    "    dict(selector='.row_heading, .blank', props=[('display', 'none;')]),\n",
    "    dict(selector='.col_heading, .blank', props=[('display', 'none;')])]\n",
    "\n",
    "symbol = {\n",
    "    \"type\": \"esriSLS\",\n",
    "    \"style\": \"esriSLSSolid\",\n",
    "    \"color\": [0,191,255,90],\n",
    "    \"width\": 4\n",
    "}\n",
    "\n",
    "popup_route = {\"title\": \"Route\", \n",
    "               \"content\": df.style.set_table_styles(styles).render()}\n",
    "popup_stop = {\"title\": \"Stop {}\", \n",
    "              \"content\": df.style.set_table_styles(styles).render()}\n",
    "\n",
    "my_map.draw(result['routes']['features'][0]['geometry'], popup_route, symbol)\n",
    "\n",
    "for stop in result['stops']['features']:\n",
    "    address = geocoding.reverse_geocode(stop['geometry'])['address']['Match_addr']\n",
    "    my_map.draw(stop['geometry'], \n",
    "                {\"title\": \"Stop {}\".format(stop['attributes']['Sequence']), \n",
    "                 \"content\": address})\n",
    "my_map.zoom = 15"
   ]
  },
  {
   "cell_type": "code",
   "execution_count": 17,
   "metadata": {},
   "outputs": [],
   "source": [
    "stop_count = result2['routes']['features'][0]['attributes']['StopCount']\n",
    "travel_time = result2['routes']['features'][0]['attributes']['Total_TravelTime']\n",
    "distance = result2['routes']['features'][0]['attributes']['Total_Miles']\n",
    "\n",
    "data = [('Number of stops', stop_count),\n",
    "        ('Total travel time', '{0:.2f} min'.format(travel_time)),\n",
    "        ('Total travel distance', '{0:.2f} mi'.format(distance))]\n",
    "\n",
    "df = pd.DataFrame.from_records(data)\n",
    "styles = [    \n",
    "    dict(selector=\"td\", props=[(\"padding\", \"2px\")]),\n",
    "    dict(selector='.row_heading, .blank', props=[('display', 'none;')]),\n",
    "    dict(selector='.col_heading, .blank', props=[('display', 'none;')])]\n",
    "\n",
    "symbol = {\n",
    "    \"type\": \"esriSLS\",\n",
    "    \"style\": \"esriSLSSolid\",\n",
    "    \"color\": [128,0,128,90],\n",
    "    \"width\": 4\n",
    "}\n",
    "\n",
    "popup_route = {\"title\": \"Route\", \n",
    "               \"content\": df.style.set_table_styles(styles).render()}\n",
    "popup_stop = {\"title\": \"Stop {}\", \n",
    "              \"content\": df.style.set_table_styles(styles).render()}\n",
    "\n",
    "my_map.draw(result2['routes']['features'][0]['geometry'], popup_route, symbol)\n",
    "\n",
    "for stop in result2['stops']['features']:\n",
    "    address = geocoding.reverse_geocode(stop['geometry'])['address']['Match_addr']\n",
    "    my_map.draw(stop['geometry'], \n",
    "                {\"title\": \"Stop {}\".format(stop['attributes']['Sequence']), \n",
    "                 \"content\": address})\n",
    "my_map.zoom = 15"
   ]
  },
  {
   "cell_type": "code",
   "execution_count": null,
   "metadata": {},
   "outputs": [],
   "source": []
  },
  {
   "cell_type": "code",
   "execution_count": null,
   "metadata": {},
   "outputs": [],
   "source": []
  }
 ],
 "metadata": {
  "kernelspec": {
   "display_name": "Python 3",
   "language": "python",
   "name": "python3"
  },
  "language_info": {
   "codemirror_mode": {
    "name": "ipython",
    "version": 3
   },
   "file_extension": ".py",
   "mimetype": "text/x-python",
   "name": "python",
   "nbconvert_exporter": "python",
   "pygments_lexer": "ipython3",
   "version": "3.8.5"
  },
  "widgets": {
   "application/vnd.jupyter.widget-state+json": {
    "state": {
     "00657e71e32847e1a966ae990817f485": {
      "model_module": "@jupyter-widgets/base",
      "model_module_version": "1.2.0",
      "model_name": "LayoutModel",
      "state": {
       "height": "400px",
       "width": "100%"
      }
     },
     "3813f35de80a43638b625620b29bca39": {
      "model_module": "@jupyter-widgets/base",
      "model_module_version": "1.2.0",
      "model_name": "LayoutModel",
      "state": {
       "height": "400px",
       "width": "100%"
      }
     },
     "3b171851719a4c84b1f337d46a5f0d1e": {
      "model_module": "arcgis-map-ipywidget",
      "model_module_version": "1.8.5",
      "model_name": "ArcGISMapIPyWidgetModel",
      "state": {
       "_auth_mode": "tokenBased",
       "_basemap": "default",
       "_draw_these_graphics_on_widget_load": [],
       "_draw_these_notype_layers_on_widget_load": [],
       "_gallery_basemaps": {
        "default": {
         "baseMapLayers": [
          {
           "layerType": "ArcGISTiledMapServiceLayer",
           "resourceInfo": {
            "capabilities": "Map,Tilemap,Query,Data",
            "currentVersion": 10.3,
            "exportTilesAllowed": false,
            "fullExtent": {
             "spatialReference": {
              "latestWkid": 3857,
              "wkid": 102100
             },
             "xmax": 20037507.067161843,
             "xmin": -20037507.067161843,
             "ymax": 19971868.88040863,
             "ymin": -19971868.880408604
            },
            "initialExtent": {
             "spatialReference": {
              "latestWkid": 3857,
              "wkid": 102100
             },
             "xmax": 28848255.049479112,
             "xmin": -28848255.049479112,
             "ymax": 16430757.376790084,
             "ymin": -2077452.082122866
            },
            "layers": [
             {
              "defaultVisibility": false,
              "id": 0,
              "maxScale": 0,
              "minScale": 0,
              "name": "Citations",
              "parentLayerId": -1,
              "subLayerIds": null
             }
            ],
            "mapName": "Layers",
            "maxImageHeight": 4096,
            "maxImageWidth": 4096,
            "maxRecordCount": 100,
            "maxScale": 70.5310735,
            "minScale": 591657527.591555,
            "singleFusedMapCache": true,
            "spatialReference": {
             "latestWkid": 3857,
             "wkid": 102100
            },
            "supportedExtensions": "KmlServer",
            "supportedImageFormatTypes": "PNG32,PNG24,PNG,JPG,DIB,TIFF,EMF,PS,PDF,GIF,SVG,SVGZ,BMP",
            "supportedQueryFormats": "JSON, AMF",
            "supportsDynamicLayers": false,
            "tables": [],
            "tileInfo": {
             "cols": 256,
             "compressionQuality": 90,
             "dpi": 96,
             "format": "JPEG",
             "lods": [
              {
               "level": 0,
               "resolution": 156543.03392800014,
               "scale": 591657527.591555
              },
              {
               "level": 1,
               "resolution": 78271.51696399994,
               "scale": 295828763.795777
              },
              {
               "level": 2,
               "resolution": 39135.75848200009,
               "scale": 147914381.897889
              },
              {
               "level": 3,
               "resolution": 19567.87924099992,
               "scale": 73957190.948944
              },
              {
               "level": 4,
               "resolution": 9783.93962049996,
               "scale": 36978595.474472
              },
              {
               "level": 5,
               "resolution": 4891.96981024998,
               "scale": 18489297.737236
              },
              {
               "level": 6,
               "resolution": 2445.98490512499,
               "scale": 9244648.868618
              },
              {
               "level": 7,
               "resolution": 1222.992452562495,
               "scale": 4622324.434309
              },
              {
               "level": 8,
               "resolution": 611.4962262813797,
               "scale": 2311162.217155
              },
              {
               "level": 9,
               "resolution": 305.74811314055756,
               "scale": 1155581.108577
              },
              {
               "level": 10,
               "resolution": 152.87405657041106,
               "scale": 577790.554289
              },
              {
               "level": 11,
               "resolution": 76.43702828507324,
               "scale": 288895.277144
              },
              {
               "level": 12,
               "resolution": 38.21851414253662,
               "scale": 144447.638572
              },
              {
               "level": 13,
               "resolution": 19.10925707126831,
               "scale": 72223.819286
              },
              {
               "level": 14,
               "resolution": 9.554628535634155,
               "scale": 36111.909643
              },
              {
               "level": 15,
               "resolution": 4.77731426794937,
               "scale": 18055.954822
              },
              {
               "level": 16,
               "resolution": 2.388657133974685,
               "scale": 9027.977411
              },
              {
               "level": 17,
               "resolution": 1.1943285668550503,
               "scale": 4513.988705
              },
              {
               "level": 18,
               "resolution": 0.5971642835598172,
               "scale": 2256.994353
              },
              {
               "level": 19,
               "resolution": 0.29858214164761665,
               "scale": 1128.497176
              },
              {
               "level": 20,
               "resolution": 0.14929107082380833,
               "scale": 564.248588
              },
              {
               "level": 21,
               "resolution": 0.07464553541190416,
               "scale": 282.124294
              },
              {
               "level": 22,
               "resolution": 0.03732276770595208,
               "scale": 141.062147
              },
              {
               "level": 23,
               "resolution": 0.01866138385297604,
               "scale": 70.5310735
              }
             ],
             "origin": {
              "x": -20037508.342787,
              "y": 20037508.342787
             },
             "rows": 256,
             "spatialReference": {
              "latestWkid": 3857,
              "wkid": 102100
             }
            },
            "units": "esriMeters"
           },
           "url": "https://services.arcgisonline.com/ArcGIS/rest/services/World_Topo_Map/MapServer"
          }
         ],
         "title": "Topographic"
        }
       },
       "_overlay_these_images_on_widget_load": [],
       "_portal_sharing_rest_url": "https://ssbFmLCAQPoGBuDx.maps.arcgis.com/sharing/rest/",
       "_portal_token": "zfYI61WrtC4TGqTvO3hIJ6PBeIsnoGvPnR6DZhP8zqQyhOetyVi9owDh8WQNuwao33DDa7fJXTYizXkWNGnhAn2tghC-4ds1HjE-Lwa27FvhyAABEfHatNY3kI1KCwOWEV2tx7txdkBRcHPONKWgVQ..",
       "_portal_url": "https://ssbFmLCAQPoGBuDx.maps.arcgis.com",
       "_username": "sshete",
       "_uuid": "a0835ba9-213f-4807-bfce-6555b4e7cae0",
       "_webmap": {
        "authoringApp": "ArcGISPythonAPI",
        "authoringAppVersion": "1.8.5",
        "baseMap": {
         "baseMapLayers": [
          {
           "layerType": "ArcGISTiledMapServiceLayer",
           "resourceInfo": {
            "capabilities": "Map,Tilemap,Query,Data",
            "currentVersion": 10.3,
            "exportTilesAllowed": false,
            "fullExtent": {
             "spatialReference": {
              "latestWkid": 3857,
              "wkid": 102100
             },
             "xmax": 20037507.067161843,
             "xmin": -20037507.067161843,
             "ymax": 19971868.88040863,
             "ymin": -19971868.880408604
            },
            "initialExtent": {
             "spatialReference": {
              "latestWkid": 3857,
              "wkid": 102100
             },
             "xmax": 28848255.049479112,
             "xmin": -28848255.049479112,
             "ymax": 16430757.376790084,
             "ymin": -2077452.082122866
            },
            "layers": [
             {
              "defaultVisibility": false,
              "id": 0,
              "maxScale": 0,
              "minScale": 0,
              "name": "Citations",
              "parentLayerId": -1,
              "subLayerIds": null
             }
            ],
            "mapName": "Layers",
            "maxImageHeight": 4096,
            "maxImageWidth": 4096,
            "maxRecordCount": 100,
            "maxScale": 70.5310735,
            "minScale": 591657527.591555,
            "singleFusedMapCache": true,
            "spatialReference": {
             "latestWkid": 3857,
             "wkid": 102100
            },
            "supportedExtensions": "KmlServer",
            "supportedImageFormatTypes": "PNG32,PNG24,PNG,JPG,DIB,TIFF,EMF,PS,PDF,GIF,SVG,SVGZ,BMP",
            "supportedQueryFormats": "JSON, AMF",
            "supportsDynamicLayers": false,
            "tables": [],
            "tileInfo": {
             "cols": 256,
             "compressionQuality": 90,
             "dpi": 96,
             "format": "JPEG",
             "lods": [
              {
               "level": 0,
               "resolution": 156543.03392800014,
               "scale": 591657527.591555
              },
              {
               "level": 1,
               "resolution": 78271.51696399994,
               "scale": 295828763.795777
              },
              {
               "level": 2,
               "resolution": 39135.75848200009,
               "scale": 147914381.897889
              },
              {
               "level": 3,
               "resolution": 19567.87924099992,
               "scale": 73957190.948944
              },
              {
               "level": 4,
               "resolution": 9783.93962049996,
               "scale": 36978595.474472
              },
              {
               "level": 5,
               "resolution": 4891.96981024998,
               "scale": 18489297.737236
              },
              {
               "level": 6,
               "resolution": 2445.98490512499,
               "scale": 9244648.868618
              },
              {
               "level": 7,
               "resolution": 1222.992452562495,
               "scale": 4622324.434309
              },
              {
               "level": 8,
               "resolution": 611.4962262813797,
               "scale": 2311162.217155
              },
              {
               "level": 9,
               "resolution": 305.74811314055756,
               "scale": 1155581.108577
              },
              {
               "level": 10,
               "resolution": 152.87405657041106,
               "scale": 577790.554289
              },
              {
               "level": 11,
               "resolution": 76.43702828507324,
               "scale": 288895.277144
              },
              {
               "level": 12,
               "resolution": 38.21851414253662,
               "scale": 144447.638572
              },
              {
               "level": 13,
               "resolution": 19.10925707126831,
               "scale": 72223.819286
              },
              {
               "level": 14,
               "resolution": 9.554628535634155,
               "scale": 36111.909643
              },
              {
               "level": 15,
               "resolution": 4.77731426794937,
               "scale": 18055.954822
              },
              {
               "level": 16,
               "resolution": 2.388657133974685,
               "scale": 9027.977411
              },
              {
               "level": 17,
               "resolution": 1.1943285668550503,
               "scale": 4513.988705
              },
              {
               "level": 18,
               "resolution": 0.5971642835598172,
               "scale": 2256.994353
              },
              {
               "level": 19,
               "resolution": 0.29858214164761665,
               "scale": 1128.497176
              },
              {
               "level": 20,
               "resolution": 0.14929107082380833,
               "scale": 564.248588
              },
              {
               "level": 21,
               "resolution": 0.07464553541190416,
               "scale": 282.124294
              },
              {
               "level": 22,
               "resolution": 0.03732276770595208,
               "scale": 141.062147
              },
              {
               "level": 23,
               "resolution": 0.01866138385297604,
               "scale": 70.5310735
              }
             ],
             "origin": {
              "x": -20037508.342787,
              "y": 20037508.342787
             },
             "rows": 256,
             "spatialReference": {
              "latestWkid": 3857,
              "wkid": 102100
             }
            },
            "units": "esriMeters"
           },
           "url": "https://services.arcgisonline.com/ArcGIS/rest/services/World_Topo_Map/MapServer"
          }
         ],
         "title": "Topographic"
        },
        "operationalLayers": [
         {
          "featureCollection": {
           "layers": [
            {
             "featureSet": {
              "features": [
               {
                "attributes": {
                 "OBJECTID": 1
                },
                "geometry": {
                 "paths": [
                  [
                   [
                    -76.94388199999997,
                    38.98753000000005
                   ],
                   [
                    -76.94421999999997,
                    38.98753000000005
                   ],
                   [
                    -76.94437999999997,
                    38.98753000000005
                   ],
                   [
                    -76.94537999999994,
                    38.98742000000004
                   ],
                   [
                    -76.94541999999996,
                    38.987520000000075
                   ],
                   [
                    -76.94541999999996,
                    38.98767000000004
                   ],
                   [
                    -76.94539999999995,
                    38.988000000000056
                   ],
                   [
                    -76.94539555799997,
                    38.98806958900008
                   ]
                  ],
                  [
                   [
                    -76.94539555799997,
                    38.98806958900008
                   ],
                   [
                    -76.94530829999997,
                    38.98869510000003
                   ]
                  ],
                  [
                   [
                    -76.94530829999997,
                    38.98869510000003
                   ],
                   [
                    -76.94526999999994,
                    38.98881000000006
                   ],
                   [
                    -76.94498999999996,
                    38.988770000000045
                   ],
                   [
                    -76.94455999999997,
                    38.988620000000026
                   ],
                   [
                    -76.94432999999998,
                    38.98869000000008
                   ],
                   [
                    -76.94408999999996,
                    38.98879000000005
                   ],
                   [
                    -76.94383999999997,
                    38.98900000000003
                   ],
                   [
                    -76.94381999999996,
                    38.98907000000003
                   ],
                   [
                    -76.94379999999995,
                    38.98915000000005
                   ],
                   [
                    -76.94371999999998,
                    38.98926000000006
                   ],
                   [
                    -76.94343999999995,
                    38.98943000000003
                   ],
                   [
                    -76.94228999999996,
                    38.98943000000003
                   ],
                   [
                    -76.94206999999994,
                    38.989310000000046
                   ],
                   [
                    -76.94206105399996,
                    38.98929479200007
                   ]
                  ],
                  [
                   [
                    -76.94206105399996,
                    38.98929479200007
                   ],
                   [
                    -76.94181999999995,
                    38.98909000000003
                   ],
                   [
                    -76.94069999999994,
                    38.98905000000008
                   ],
                   [
                    -76.94066999999995,
                    38.98866000000004
                   ],
                   [
                    -76.94066999999995,
                    38.988510000000076
                   ],
                   [
                    -76.94064999999995,
                    38.98828000000003
                   ],
                   [
                    -76.94062999999994,
                    38.98812000000004
                   ],
                   [
                    -76.94062999999994,
                    38.98794000000004
                   ],
                   [
                    -76.94048999999995,
                    38.987640000000056
                   ],
                   [
                    -76.94048999999995,
                    38.98759000000007
                   ],
                   [
                    -76.94045999999997,
                    38.987540000000024
                   ],
                   [
                    -76.94031999999999,
                    38.987430000000074
                   ],
                   [
                    -76.94013999999999,
                    38.98678000000007
                   ],
                   [
                    -76.94013999999999,
                    38.98669000000007
                   ],
                   [
                    -76.94013999999999,
                    38.98664900000006
                   ]
                  ],
                  [
                   [
                    -76.94013999999999,
                    38.98664900000006
                   ],
                   [
                    -76.94013999999999,
                    38.98654000000005
                   ],
                   [
                    -76.94013999999999,
                    38.98648000000003
                   ],
                   [
                    -76.94012999999995,
                    38.98562000000004
                   ],
                   [
                    -76.94010999999995,
                    38.98553000000004
                   ],
                   [
                    -76.94009999999997,
                    38.98526000000004
                   ],
                   [
                    -76.94010999999995,
                    38.98493000000008
                   ],
                   [
                    -76.94010976099997,
                    38.98492377800005
                   ]
                  ],
                  [
                   [
                    -76.94010976099997,
                    38.98492377800005
                   ],
                   [
                    -76.94009999999997,
                    38.98467000000005
                   ],
                   [
                    -76.94008999999994,
                    38.98461000000003
                   ],
                   [
                    -76.94012999999995,
                    38.98442000000006
                   ],
                   [
                    -76.94009999999997,
                    38.984200000000044
                   ],
                   [
                    -76.93998999999997,
                    38.98335000000003
                   ],
                   [
                    -76.93990999999994,
                    38.98305000000005
                   ],
                   [
                    -76.93980999999997,
                    38.98288000000008
                   ],
                   [
                    -76.93959999999998,
                    38.98267000000004
                   ],
                   [
                    -76.93913384699994,
                    38.98246867200004
                   ]
                  ],
                  [
                   [
                    -76.93913384699994,
                    38.98246867200004
                   ],
                   [
                    -76.93910999999997,
                    38.98246000000006
                   ],
                   [
                    -76.93885999999998,
                    38.982380000000035
                   ],
                   [
                    -76.93858999999998,
                    38.98232000000007
                   ],
                   [
                    -76.93798999999996,
                    38.98215000000005
                   ],
                   [
                    -76.93782999999996,
                    38.982120000000066
                   ],
                   [
                    -76.93782999999996,
                    38.98277000000007
                   ],
                   [
                    -76.93781999999999,
                    38.98284000000007
                   ],
                   [
                    -76.93777999999998,
                    38.98311000000007
                   ],
                   [
                    -76.93772999999999,
                    38.98348000000004
                   ],
                   [
                    -76.93765999999994,
                    38.98380000000003
                   ],
                   [
                    -76.93748999999997,
                    38.98442000000006
                   ],
                   [
                    -76.93725999999998,
                    38.98502000000008
                   ],
                   [
                    -76.93713648899995,
                    38.98529447000004
                   ]
                  ],
                  [
                   [
                    -76.93713648899995,
                    38.98529447000004
                   ],
                   [
                    -76.93707999999998,
                    38.98542000000003
                   ],
                   [
                    -76.93699999999995,
                    38.98557000000005
                   ],
                   [
                    -76.93665999999996,
                    38.98617000000007
                   ],
                   [
                    -76.93654999999995,
                    38.986330000000066
                   ],
                   [
                    -76.93632999999994,
                    38.98666000000003
                   ],
                   [
                    -76.93616999999995,
                    38.98689000000007
                   ],
                   [
                    -76.93583999999998,
                    38.98738000000003
                   ],
                   [
                    -76.93511999999998,
                    38.98846000000003
                   ],
                   [
                    -76.93509999999998,
                    38.98849000000007
                   ],
                   [
                    -76.93506999999994,
                    38.988680000000045
                   ],
                   [
                    -76.93503999999996,
                    38.98873000000003
                   ],
                   [
                    -76.93491999999998,
                    38.98893000000004
                   ],
                   [
                    -76.93475999999998,
                    38.98920000000004
                   ],
                   [
                    -76.93463999999994,
                    38.98938000000004
                   ],
                   [
                    -76.93452999999994,
                    38.989540000000034
                   ],
                   [
                    -76.93440999999996,
                    38.98975000000007
                   ],
                   [
                    -76.93433999999996,
                    38.98989000000006
                   ],
                   [
                    -76.93421999999998,
                    38.98985000000005
                   ],
                   [
                    -76.93380999999994,
                    38.989720000000034
                   ],
                   [
                    -76.93345999999997,
                    38.989630000000034
                   ],
                   [
                    -76.93335999999994,
                    38.98961000000003
                   ],
                   [
                    -76.93302999999997,
                    38.98956000000004
                   ],
                   [
                    -76.93287999999995,
                    38.989550000000065
                   ],
                   [
                    -76.93274999999994,
                    38.989540000000034
                   ],
                   [
                    -76.93263999999994,
                    38.98953000000006
                   ],
                   [
                    -76.93250999999998,
                    38.98951000000005
                   ],
                   [
                    -76.93230999999997,
                    38.989490000000046
                   ],
                   [
                    -76.93068999999997,
                    38.98925000000003
                   ],
                   [
                    -76.93049999999994,
                    38.98923000000008
                   ],
                   [
                    -76.93002999999999,
                    38.98917000000006
                   ],
                   [
                    -76.92934999999994,
                    38.98908000000006
                   ],
                   [
                    -76.92873999999995,
                    38.98900000000003
                   ],
                   [
                    -76.92859999999996,
                    38.98932000000008
                   ],
                   [
                    -76.92843999999997,
                    38.98977000000008
                   ],
                   [
                    -76.92973538899997,
                    38.99058493900003
                   ]
                  ],
                  [
                   [
                    -76.92973538899997,
                    38.99058493900003
                   ],
                   [
                    -76.92994999999996,
                    38.990710000000036
                   ],
                   [
                    -76.93024999999994,
                    38.990890000000036
                   ],
                   [
                    -76.93043999999998,
                    38.99100000000004
                   ],
                   [
                    -76.93114999999995,
                    38.991480000000024
                   ],
                   [
                    -76.93139999999994,
                    38.991660000000024
                   ],
                   [
                    -76.93175999999994,
                    38.99188000000004
                   ],
                   [
                    -76.93220999999994,
                    38.99215000000004
                   ],
                   [
                    -76.93257999999997,
                    38.99237000000005
                   ],
                   [
                    -76.93271999999996,
                    38.992450000000076
                   ],
                   [
                    -76.93313999999998,
                    38.992650000000026
                   ],
                   [
                    -76.93317999999994,
                    38.992560000000026
                   ],
                   [
                    -76.93335999999994,
                    38.99215000000004
                   ],
                   [
                    -76.93399999999997,
                    38.99230000000006
                   ],
                   [
                    -76.93403467899998,
                    38.99231040400008
                   ]
                  ],
                  [
                   [
                    -76.93403467899998,
                    38.99231040400008
                   ],
                   [
                    -76.93399999999997,
                    38.99230000000006
                   ],
                   [
                    -76.93335999999994,
                    38.99215000000004
                   ],
                   [
                    -76.93340999999998,
                    38.99203000000006
                   ],
                   [
                    -76.93349999999998,
                    38.991840000000025
                   ],
                   [
                    -76.93358999999998,
                    38.991660000000024
                   ],
                   [
                    -76.93365999999997,
                    38.99150000000003
                   ],
                   [
                    -76.93372999999997,
                    38.99130000000008
                   ],
                   [
                    -76.93379999999996,
                    38.99114000000003
                   ],
                   [
                    -76.93391999999994,
                    38.99088000000006
                   ],
                   [
                    -76.93397999999996,
                    38.99073000000004
                   ],
                   [
                    -76.93401999999998,
                    38.99064000000004
                   ],
                   [
                    -76.93409310499999,
                    38.990475513000035
                   ]
                  ],
                  [
                   [
                    -76.93409310499999,
                    38.990475513000035
                   ],
                   [
                    -76.93414999999999,
                    38.99034000000006
                   ],
                   [
                    -76.93440999999996,
                    38.98975000000007
                   ],
                   [
                    -76.93452999999994,
                    38.989540000000034
                   ],
                   [
                    -76.93463999999994,
                    38.98938000000004
                   ],
                   [
                    -76.93475999999998,
                    38.98920000000004
                   ],
                   [
                    -76.93491999999998,
                    38.98893000000004
                   ],
                   [
                    -76.93503999999996,
                    38.98873000000003
                   ],
                   [
                    -76.93506999999994,
                    38.988680000000045
                   ],
                   [
                    -76.93564999999995,
                    38.988740000000064
                   ],
                   [
                    -76.93606999999997,
                    38.98873000000003
                   ],
                   [
                    -76.93665999999996,
                    38.988530000000026
                   ],
                   [
                    -76.93753999999996,
                    38.98829000000006
                   ],
                   [
                    -76.93853999999999,
                    38.98795000000007
                   ],
                   [
                    -76.93874999999997,
                    38.987880000000075
                   ],
                   [
                    -76.93904999999995,
                    38.987790000000075
                   ],
                   [
                    -76.93941999999998,
                    38.987700000000075
                   ],
                   [
                    -76.93952399999995,
                    38.987700000000075
                   ]
                  ],
                  [
                   [
                    -76.93952399999995,
                    38.987700000000075
                   ],
                   [
                    -76.93972999999994,
                    38.987720000000024
                   ],
                   [
                    -76.93988999999993,
                    38.987730000000056
                   ],
                   [
                    -76.94024999999993,
                    38.987810000000025
                   ],
                   [
                    -76.94048999999995,
                    38.987640000000056
                   ],
                   [
                    -76.94048999999995,
                    38.98759000000007
                   ],
                   [
                    -76.94107999999994,
                    38.98757000000006
                   ],
                   [
                    -76.94121999999999,
                    38.98756000000003
                   ],
                   [
                    -76.94145999999995,
                    38.987550000000056
                   ],
                   [
                    -76.94170999999994,
                    38.987540000000024
                   ],
                   [
                    -76.94216999999998,
                    38.987540000000024
                   ],
                   [
                    -76.94260999999995,
                    38.987540000000024
                   ],
                   [
                    -76.94319999999993,
                    38.98753000000005
                   ],
                   [
                    -76.94343999999995,
                    38.98753000000005
                   ],
                   [
                    -76.94388199999997,
                    38.98753000000005
                   ]
                  ]
                 ],
                 "spatialReference": {
                  "wkid": 4326
                 },
                 "type": "polyline"
                }
               }
              ],
              "geometryType": "esriGeometryPolyline"
             },
             "layerDefinition": {
              "drawingInfo": {
               "renderer": {
                "symbol": {
                 "color": [
                  0,
                  191,
                  255,
                  90
                 ],
                 "style": "esriSLSSolid",
                 "type": "esriSLS",
                 "width": 4
                },
                "type": "simple"
               }
              },
              "fields": [
               {
                "alias": "OBJECTID",
                "name": "OBJECTID",
                "sqlType": "sqlTypeOther",
                "type": "esriFieldTypeOID"
               }
              ],
              "geometryType": "esriGeometryPolyline",
              "name": "Notebook sketch layer",
              "objectIdField": "OBJECTID",
              "spatialReference": {
               "wkid": 4326
              },
              "type": "Feature Layer"
             },
             "popupInfo": {
              "description": null,
              "fieldInfos": [
               {
                "fieldName": "OBJECTID",
                "isEditable": true,
                "label": "OBJECTID",
                "visible": true
               }
              ],
              "mediaInfos": [],
              "showAttachments": true,
              "title": "Notebook sketch layer"
             }
            }
           ]
          },
          "id": "db559d00-996a-471e-830d-ceec30dc932a",
          "layerDefinition": {
           "definitionExpression": null
          },
          "layerType": "ArcGISFeatureLayer",
          "opacity": 1,
          "title": "Notebook sketch layer",
          "visibility": true
         },
         {
          "featureCollection": {
           "layers": [
            {
             "featureSet": {
              "features": [
               {
                "attributes": {
                 "OBJECTID": 1
                },
                "geometry": {
                 "spatialReference": {
                  "wkid": 4326
                 },
                 "type": "point",
                 "x": -76.94388199999997,
                 "y": 38.98743100000007
                }
               }
              ],
              "geometryType": "esriGeometryPoint"
             },
             "layerDefinition": {
              "drawingInfo": {
               "renderer": {
                "symbol": {
                 "angle": 0,
                 "contentType": "image/png",
                 "height": 24,
                 "type": "esriPMS",
                 "url": "https://esri.github.io/arcgis-python-api/notebooks/nbimages/pink.png",
                 "width": 24,
                 "xoffset": 0,
                 "yoffset": 12
                },
                "type": "simple"
               }
              },
              "fields": [
               {
                "alias": "OBJECTID",
                "name": "OBJECTID",
                "sqlType": "sqlTypeOther",
                "type": "esriFieldTypeOID"
               }
              ],
              "geometryType": "esriGeometryPoint",
              "name": "Notebook sketch layer",
              "objectIdField": "OBJECTID",
              "spatialReference": {
               "wkid": 4326
              },
              "type": "Feature Layer"
             },
             "popupInfo": {
              "description": null,
              "fieldInfos": [
               {
                "fieldName": "OBJECTID",
                "isEditable": true,
                "label": "OBJECTID",
                "visible": true
               }
              ],
              "mediaInfos": [],
              "showAttachments": true,
              "title": "Notebook sketch layer"
             }
            }
           ]
          },
          "id": "142a9870-9d0d-418f-9292-d15a236fac87",
          "layerDefinition": {
           "definitionExpression": null
          },
          "layerType": "ArcGISFeatureLayer",
          "opacity": 1,
          "title": "Notebook sketch layer",
          "visibility": true
         },
         {
          "featureCollection": {
           "layers": [
            {
             "featureSet": {
              "features": [
               {
                "attributes": {
                 "OBJECTID": 1
                },
                "geometry": {
                 "spatialReference": {
                  "wkid": 4326
                 },
                 "type": "point",
                 "x": -76.94535499999995,
                 "y": 38.98806700000006
                }
               }
              ],
              "geometryType": "esriGeometryPoint"
             },
             "layerDefinition": {
              "drawingInfo": {
               "renderer": {
                "symbol": {
                 "angle": 0,
                 "contentType": "image/png",
                 "height": 24,
                 "type": "esriPMS",
                 "url": "https://esri.github.io/arcgis-python-api/notebooks/nbimages/pink.png",
                 "width": 24,
                 "xoffset": 0,
                 "yoffset": 12
                },
                "type": "simple"
               }
              },
              "fields": [
               {
                "alias": "OBJECTID",
                "name": "OBJECTID",
                "sqlType": "sqlTypeOther",
                "type": "esriFieldTypeOID"
               }
              ],
              "geometryType": "esriGeometryPoint",
              "name": "Notebook sketch layer",
              "objectIdField": "OBJECTID",
              "spatialReference": {
               "wkid": 4326
              },
              "type": "Feature Layer"
             },
             "popupInfo": {
              "description": null,
              "fieldInfos": [
               {
                "fieldName": "OBJECTID",
                "isEditable": true,
                "label": "OBJECTID",
                "visible": true
               }
              ],
              "mediaInfos": [],
              "showAttachments": true,
              "title": "Notebook sketch layer"
             }
            }
           ]
          },
          "id": "f61facb1-0911-4f66-95b4-53cfe41183cb",
          "layerDefinition": {
           "definitionExpression": null
          },
          "layerType": "ArcGISFeatureLayer",
          "opacity": 1,
          "title": "Notebook sketch layer",
          "visibility": true
         },
         {
          "featureCollection": {
           "layers": [
            {
             "featureSet": {
              "features": [
               {
                "attributes": {
                 "OBJECTID": 1
                },
                "geometry": {
                 "spatialReference": {
                  "wkid": 4326
                 },
                 "type": "point",
                 "x": -76.94529299999994,
                 "y": 38.98869000000008
                }
               }
              ],
              "geometryType": "esriGeometryPoint"
             },
             "layerDefinition": {
              "drawingInfo": {
               "renderer": {
                "symbol": {
                 "angle": 0,
                 "contentType": "image/png",
                 "height": 24,
                 "type": "esriPMS",
                 "url": "https://esri.github.io/arcgis-python-api/notebooks/nbimages/pink.png",
                 "width": 24,
                 "xoffset": 0,
                 "yoffset": 12
                },
                "type": "simple"
               }
              },
              "fields": [
               {
                "alias": "OBJECTID",
                "name": "OBJECTID",
                "sqlType": "sqlTypeOther",
                "type": "esriFieldTypeOID"
               }
              ],
              "geometryType": "esriGeometryPoint",
              "name": "Notebook sketch layer",
              "objectIdField": "OBJECTID",
              "spatialReference": {
               "wkid": 4326
              },
              "type": "Feature Layer"
             },
             "popupInfo": {
              "description": null,
              "fieldInfos": [
               {
                "fieldName": "OBJECTID",
                "isEditable": true,
                "label": "OBJECTID",
                "visible": true
               }
              ],
              "mediaInfos": [],
              "showAttachments": true,
              "title": "Notebook sketch layer"
             }
            }
           ]
          },
          "id": "77c37068-4b28-45f5-96f6-f05c512cee23",
          "layerDefinition": {
           "definitionExpression": null
          },
          "layerType": "ArcGISFeatureLayer",
          "opacity": 1,
          "title": "Notebook sketch layer",
          "visibility": true
         },
         {
          "featureCollection": {
           "layers": [
            {
             "featureSet": {
              "features": [
               {
                "attributes": {
                 "OBJECTID": 1
                },
                "geometry": {
                 "spatialReference": {
                  "wkid": 4326
                 },
                 "type": "point",
                 "x": -76.94212699999997,
                 "y": 38.98925600000007
                }
               }
              ],
              "geometryType": "esriGeometryPoint"
             },
             "layerDefinition": {
              "drawingInfo": {
               "renderer": {
                "symbol": {
                 "angle": 0,
                 "contentType": "image/png",
                 "height": 24,
                 "type": "esriPMS",
                 "url": "https://esri.github.io/arcgis-python-api/notebooks/nbimages/pink.png",
                 "width": 24,
                 "xoffset": 0,
                 "yoffset": 12
                },
                "type": "simple"
               }
              },
              "fields": [
               {
                "alias": "OBJECTID",
                "name": "OBJECTID",
                "sqlType": "sqlTypeOther",
                "type": "esriFieldTypeOID"
               }
              ],
              "geometryType": "esriGeometryPoint",
              "name": "Notebook sketch layer",
              "objectIdField": "OBJECTID",
              "spatialReference": {
               "wkid": 4326
              },
              "type": "Feature Layer"
             },
             "popupInfo": {
              "description": null,
              "fieldInfos": [
               {
                "fieldName": "OBJECTID",
                "isEditable": true,
                "label": "OBJECTID",
                "visible": true
               }
              ],
              "mediaInfos": [],
              "showAttachments": true,
              "title": "Notebook sketch layer"
             }
            }
           ]
          },
          "id": "c84e551c-629e-47a1-a305-3f05175f519c",
          "layerDefinition": {
           "definitionExpression": null
          },
          "layerType": "ArcGISFeatureLayer",
          "opacity": 1,
          "title": "Notebook sketch layer",
          "visibility": true
         },
         {
          "featureCollection": {
           "layers": [
            {
             "featureSet": {
              "features": [
               {
                "attributes": {
                 "OBJECTID": 1
                },
                "geometry": {
                 "spatialReference": {
                  "wkid": 4326
                 },
                 "type": "point",
                 "x": -76.94023899999996,
                 "y": 38.98664900000006
                }
               }
              ],
              "geometryType": "esriGeometryPoint"
             },
             "layerDefinition": {
              "drawingInfo": {
               "renderer": {
                "symbol": {
                 "angle": 0,
                 "contentType": "image/png",
                 "height": 24,
                 "type": "esriPMS",
                 "url": "https://esri.github.io/arcgis-python-api/notebooks/nbimages/pink.png",
                 "width": 24,
                 "xoffset": 0,
                 "yoffset": 12
                },
                "type": "simple"
               }
              },
              "fields": [
               {
                "alias": "OBJECTID",
                "name": "OBJECTID",
                "sqlType": "sqlTypeOther",
                "type": "esriFieldTypeOID"
               }
              ],
              "geometryType": "esriGeometryPoint",
              "name": "Notebook sketch layer",
              "objectIdField": "OBJECTID",
              "spatialReference": {
               "wkid": 4326
              },
              "type": "Feature Layer"
             },
             "popupInfo": {
              "description": null,
              "fieldInfos": [
               {
                "fieldName": "OBJECTID",
                "isEditable": true,
                "label": "OBJECTID",
                "visible": true
               }
              ],
              "mediaInfos": [],
              "showAttachments": true,
              "title": "Notebook sketch layer"
             }
            }
           ]
          },
          "id": "b5495888-dea0-4e22-9d06-6d476d928673",
          "layerDefinition": {
           "definitionExpression": null
          },
          "layerType": "ArcGISFeatureLayer",
          "opacity": 1,
          "title": "Notebook sketch layer",
          "visibility": true
         },
         {
          "featureCollection": {
           "layers": [
            {
             "featureSet": {
              "features": [
               {
                "attributes": {
                 "OBJECTID": 1
                },
                "geometry": {
                 "spatialReference": {
                  "wkid": 4326
                 },
                 "type": "point",
                 "x": -76.94015599999994,
                 "y": 38.98492200000004
                }
               }
              ],
              "geometryType": "esriGeometryPoint"
             },
             "layerDefinition": {
              "drawingInfo": {
               "renderer": {
                "symbol": {
                 "angle": 0,
                 "contentType": "image/png",
                 "height": 24,
                 "type": "esriPMS",
                 "url": "https://esri.github.io/arcgis-python-api/notebooks/nbimages/pink.png",
                 "width": 24,
                 "xoffset": 0,
                 "yoffset": 12
                },
                "type": "simple"
               }
              },
              "fields": [
               {
                "alias": "OBJECTID",
                "name": "OBJECTID",
                "sqlType": "sqlTypeOther",
                "type": "esriFieldTypeOID"
               }
              ],
              "geometryType": "esriGeometryPoint",
              "name": "Notebook sketch layer",
              "objectIdField": "OBJECTID",
              "spatialReference": {
               "wkid": 4326
              },
              "type": "Feature Layer"
             },
             "popupInfo": {
              "description": null,
              "fieldInfos": [
               {
                "fieldName": "OBJECTID",
                "isEditable": true,
                "label": "OBJECTID",
                "visible": true
               }
              ],
              "mediaInfos": [],
              "showAttachments": true,
              "title": "Notebook sketch layer"
             }
            }
           ]
          },
          "id": "a0ca8a5b-6a5a-4d89-b3fd-273b2f74d9e2",
          "layerDefinition": {
           "definitionExpression": null
          },
          "layerType": "ArcGISFeatureLayer",
          "opacity": 1,
          "title": "Notebook sketch layer",
          "visibility": true
         },
         {
          "featureCollection": {
           "layers": [
            {
             "featureSet": {
              "features": [
               {
                "attributes": {
                 "OBJECTID": 1
                },
                "geometry": {
                 "spatialReference": {
                  "wkid": 4326
                 },
                 "type": "point",
                 "x": -76.93914899999999,
                 "y": 38.98242700000003
                }
               }
              ],
              "geometryType": "esriGeometryPoint"
             },
             "layerDefinition": {
              "drawingInfo": {
               "renderer": {
                "symbol": {
                 "angle": 0,
                 "contentType": "image/png",
                 "height": 24,
                 "type": "esriPMS",
                 "url": "https://esri.github.io/arcgis-python-api/notebooks/nbimages/pink.png",
                 "width": 24,
                 "xoffset": 0,
                 "yoffset": 12
                },
                "type": "simple"
               }
              },
              "fields": [
               {
                "alias": "OBJECTID",
                "name": "OBJECTID",
                "sqlType": "sqlTypeOther",
                "type": "esriFieldTypeOID"
               }
              ],
              "geometryType": "esriGeometryPoint",
              "name": "Notebook sketch layer",
              "objectIdField": "OBJECTID",
              "spatialReference": {
               "wkid": 4326
              },
              "type": "Feature Layer"
             },
             "popupInfo": {
              "description": null,
              "fieldInfos": [
               {
                "fieldName": "OBJECTID",
                "isEditable": true,
                "label": "OBJECTID",
                "visible": true
               }
              ],
              "mediaInfos": [],
              "showAttachments": true,
              "title": "Notebook sketch layer"
             }
            }
           ]
          },
          "id": "f476101c-f919-4657-a922-d2e30e2abb8d",
          "layerDefinition": {
           "definitionExpression": null
          },
          "layerType": "ArcGISFeatureLayer",
          "opacity": 1,
          "title": "Notebook sketch layer",
          "visibility": true
         },
         {
          "featureCollection": {
           "layers": [
            {
             "featureSet": {
              "features": [
               {
                "attributes": {
                 "OBJECTID": 1
                },
                "geometry": {
                 "spatialReference": {
                  "wkid": 4326
                 },
                 "type": "point",
                 "x": -76.93709099999995,
                 "y": 38.98527400000006
                }
               }
              ],
              "geometryType": "esriGeometryPoint"
             },
             "layerDefinition": {
              "drawingInfo": {
               "renderer": {
                "symbol": {
                 "angle": 0,
                 "contentType": "image/png",
                 "height": 24,
                 "type": "esriPMS",
                 "url": "https://esri.github.io/arcgis-python-api/notebooks/nbimages/pink.png",
                 "width": 24,
                 "xoffset": 0,
                 "yoffset": 12
                },
                "type": "simple"
               }
              },
              "fields": [
               {
                "alias": "OBJECTID",
                "name": "OBJECTID",
                "sqlType": "sqlTypeOther",
                "type": "esriFieldTypeOID"
               }
              ],
              "geometryType": "esriGeometryPoint",
              "name": "Notebook sketch layer",
              "objectIdField": "OBJECTID",
              "spatialReference": {
               "wkid": 4326
              },
              "type": "Feature Layer"
             },
             "popupInfo": {
              "description": null,
              "fieldInfos": [
               {
                "fieldName": "OBJECTID",
                "isEditable": true,
                "label": "OBJECTID",
                "visible": true
               }
              ],
              "mediaInfos": [],
              "showAttachments": true,
              "title": "Notebook sketch layer"
             }
            }
           ]
          },
          "id": "a3682c5d-a666-4bfc-afef-80220b1ee6f0",
          "layerDefinition": {
           "definitionExpression": null
          },
          "layerType": "ArcGISFeatureLayer",
          "opacity": 1,
          "title": "Notebook sketch layer",
          "visibility": true
         },
         {
          "featureCollection": {
           "layers": [
            {
             "featureSet": {
              "features": [
               {
                "attributes": {
                 "OBJECTID": 1
                },
                "geometry": {
                 "spatialReference": {
                  "wkid": 4326
                 },
                 "type": "point",
                 "x": -76.92971899999998,
                 "y": 38.990613100000076
                }
               }
              ],
              "geometryType": "esriGeometryPoint"
             },
             "layerDefinition": {
              "drawingInfo": {
               "renderer": {
                "symbol": {
                 "angle": 0,
                 "contentType": "image/png",
                 "height": 24,
                 "type": "esriPMS",
                 "url": "https://esri.github.io/arcgis-python-api/notebooks/nbimages/pink.png",
                 "width": 24,
                 "xoffset": 0,
                 "yoffset": 12
                },
                "type": "simple"
               }
              },
              "fields": [
               {
                "alias": "OBJECTID",
                "name": "OBJECTID",
                "sqlType": "sqlTypeOther",
                "type": "esriFieldTypeOID"
               }
              ],
              "geometryType": "esriGeometryPoint",
              "name": "Notebook sketch layer",
              "objectIdField": "OBJECTID",
              "spatialReference": {
               "wkid": 4326
              },
              "type": "Feature Layer"
             },
             "popupInfo": {
              "description": null,
              "fieldInfos": [
               {
                "fieldName": "OBJECTID",
                "isEditable": true,
                "label": "OBJECTID",
                "visible": true
               }
              ],
              "mediaInfos": [],
              "showAttachments": true,
              "title": "Notebook sketch layer"
             }
            }
           ]
          },
          "id": "83b79f61-e184-499b-a6c1-e44b2273d32c",
          "layerDefinition": {
           "definitionExpression": null
          },
          "layerType": "ArcGISFeatureLayer",
          "opacity": 1,
          "title": "Notebook sketch layer",
          "visibility": true
         },
         {
          "featureCollection": {
           "layers": [
            {
             "featureSet": {
              "features": [
               {
                "attributes": {
                 "OBJECTID": 1
                },
                "geometry": {
                 "spatialReference": {
                  "wkid": 4326
                 },
                 "type": "point",
                 "x": -76.93402249999997,
                 "y": 38.99235100000004
                }
               }
              ],
              "geometryType": "esriGeometryPoint"
             },
             "layerDefinition": {
              "drawingInfo": {
               "renderer": {
                "symbol": {
                 "angle": 0,
                 "contentType": "image/png",
                 "height": 24,
                 "type": "esriPMS",
                 "url": "https://esri.github.io/arcgis-python-api/notebooks/nbimages/pink.png",
                 "width": 24,
                 "xoffset": 0,
                 "yoffset": 12
                },
                "type": "simple"
               }
              },
              "fields": [
               {
                "alias": "OBJECTID",
                "name": "OBJECTID",
                "sqlType": "sqlTypeOther",
                "type": "esriFieldTypeOID"
               }
              ],
              "geometryType": "esriGeometryPoint",
              "name": "Notebook sketch layer",
              "objectIdField": "OBJECTID",
              "spatialReference": {
               "wkid": 4326
              },
              "type": "Feature Layer"
             },
             "popupInfo": {
              "description": null,
              "fieldInfos": [
               {
                "fieldName": "OBJECTID",
                "isEditable": true,
                "label": "OBJECTID",
                "visible": true
               }
              ],
              "mediaInfos": [],
              "showAttachments": true,
              "title": "Notebook sketch layer"
             }
            }
           ]
          },
          "id": "0c71833a-c874-46d9-84da-3d9fe8bf1cf4",
          "layerDefinition": {
           "definitionExpression": null
          },
          "layerType": "ArcGISFeatureLayer",
          "opacity": 1,
          "title": "Notebook sketch layer",
          "visibility": true
         },
         {
          "featureCollection": {
           "layers": [
            {
             "featureSet": {
              "features": [
               {
                "attributes": {
                 "OBJECTID": 1
                },
                "geometry": {
                 "spatialReference": {
                  "wkid": 4326
                 },
                 "type": "point",
                 "x": -76.93419409999996,
                 "y": 38.99052040000004
                }
               }
              ],
              "geometryType": "esriGeometryPoint"
             },
             "layerDefinition": {
              "drawingInfo": {
               "renderer": {
                "symbol": {
                 "angle": 0,
                 "contentType": "image/png",
                 "height": 24,
                 "type": "esriPMS",
                 "url": "https://esri.github.io/arcgis-python-api/notebooks/nbimages/pink.png",
                 "width": 24,
                 "xoffset": 0,
                 "yoffset": 12
                },
                "type": "simple"
               }
              },
              "fields": [
               {
                "alias": "OBJECTID",
                "name": "OBJECTID",
                "sqlType": "sqlTypeOther",
                "type": "esriFieldTypeOID"
               }
              ],
              "geometryType": "esriGeometryPoint",
              "name": "Notebook sketch layer",
              "objectIdField": "OBJECTID",
              "spatialReference": {
               "wkid": 4326
              },
              "type": "Feature Layer"
             },
             "popupInfo": {
              "description": null,
              "fieldInfos": [
               {
                "fieldName": "OBJECTID",
                "isEditable": true,
                "label": "OBJECTID",
                "visible": true
               }
              ],
              "mediaInfos": [],
              "showAttachments": true,
              "title": "Notebook sketch layer"
             }
            }
           ]
          },
          "id": "b64bff25-07d7-4ad5-8b16-e629dcf7bf45",
          "layerDefinition": {
           "definitionExpression": null
          },
          "layerType": "ArcGISFeatureLayer",
          "opacity": 1,
          "title": "Notebook sketch layer",
          "visibility": true
         },
         {
          "featureCollection": {
           "layers": [
            {
             "featureSet": {
              "features": [
               {
                "attributes": {
                 "OBJECTID": 1
                },
                "geometry": {
                 "spatialReference": {
                  "wkid": 4326
                 },
                 "type": "point",
                 "x": -76.93952399999995,
                 "y": 38.98773500000004
                }
               }
              ],
              "geometryType": "esriGeometryPoint"
             },
             "layerDefinition": {
              "drawingInfo": {
               "renderer": {
                "symbol": {
                 "angle": 0,
                 "contentType": "image/png",
                 "height": 24,
                 "type": "esriPMS",
                 "url": "https://esri.github.io/arcgis-python-api/notebooks/nbimages/pink.png",
                 "width": 24,
                 "xoffset": 0,
                 "yoffset": 12
                },
                "type": "simple"
               }
              },
              "fields": [
               {
                "alias": "OBJECTID",
                "name": "OBJECTID",
                "sqlType": "sqlTypeOther",
                "type": "esriFieldTypeOID"
               }
              ],
              "geometryType": "esriGeometryPoint",
              "name": "Notebook sketch layer",
              "objectIdField": "OBJECTID",
              "spatialReference": {
               "wkid": 4326
              },
              "type": "Feature Layer"
             },
             "popupInfo": {
              "description": null,
              "fieldInfos": [
               {
                "fieldName": "OBJECTID",
                "isEditable": true,
                "label": "OBJECTID",
                "visible": true
               }
              ],
              "mediaInfos": [],
              "showAttachments": true,
              "title": "Notebook sketch layer"
             }
            }
           ]
          },
          "id": "390ff079-ce9c-4bf2-ab67-939d80b44b56",
          "layerDefinition": {
           "definitionExpression": null
          },
          "layerType": "ArcGISFeatureLayer",
          "opacity": 1,
          "title": "Notebook sketch layer",
          "visibility": true
         },
         {
          "featureCollection": {
           "layers": [
            {
             "featureSet": {
              "features": [
               {
                "attributes": {
                 "OBJECTID": 1
                },
                "geometry": {
                 "spatialReference": {
                  "wkid": 4326
                 },
                 "type": "point",
                 "x": -76.94388199999997,
                 "y": 38.98743100000007
                }
               }
              ],
              "geometryType": "esriGeometryPoint"
             },
             "layerDefinition": {
              "drawingInfo": {
               "renderer": {
                "symbol": {
                 "angle": 0,
                 "contentType": "image/png",
                 "height": 24,
                 "type": "esriPMS",
                 "url": "https://esri.github.io/arcgis-python-api/notebooks/nbimages/pink.png",
                 "width": 24,
                 "xoffset": 0,
                 "yoffset": 12
                },
                "type": "simple"
               }
              },
              "fields": [
               {
                "alias": "OBJECTID",
                "name": "OBJECTID",
                "sqlType": "sqlTypeOther",
                "type": "esriFieldTypeOID"
               }
              ],
              "geometryType": "esriGeometryPoint",
              "name": "Notebook sketch layer",
              "objectIdField": "OBJECTID",
              "spatialReference": {
               "wkid": 4326
              },
              "type": "Feature Layer"
             },
             "popupInfo": {
              "description": null,
              "fieldInfos": [
               {
                "fieldName": "OBJECTID",
                "isEditable": true,
                "label": "OBJECTID",
                "visible": true
               }
              ],
              "mediaInfos": [],
              "showAttachments": true,
              "title": "Notebook sketch layer"
             }
            }
           ]
          },
          "id": "42aa93fe-23e9-4245-85b2-8479ff3b3302",
          "layerDefinition": {
           "definitionExpression": null
          },
          "layerType": "ArcGISFeatureLayer",
          "opacity": 1,
          "title": "Notebook sketch layer",
          "visibility": true
         }
        ],
        "spatialReference": {
         "latestWkid": 3857,
         "wkid": 102100
        },
        "version": "2.10"
       },
       "_writeonly_end_time": "1900-01-01T00:00:00.000000",
       "_writeonly_start_time": "1900-01-01T00:00:00.000000",
       "hide_mode_switch": true,
       "layout": "IPY_MODEL_f81d204ced374daea91ddfc44a23680a",
       "print_service_url": ""
      }
     },
     "5cdd8955eabf45ff81fb7827859c7c01": {
      "model_module": "arcgis-map-ipywidget",
      "model_module_version": "1.8.5",
      "model_name": "ArcGISMapIPyWidgetModel",
      "state": {
       "_add_this_graphic": {
        "attributes": null,
        "geometry": {
         "type": "point",
         "x": -76.94394499999999,
         "y": 38.987610000000075
        },
        "popupTemplate": {
         "content": "1100-1199 Campus Dr, College Park, Maryland, 20742",
         "title": "Stop 27"
        },
        "symbol": null
       },
       "_auth_mode": "tokenBased",
       "_basemap": "default",
       "_center": {
        "spatialReference": {
         "wkid": 4326
        },
        "x": -76.93889999999999,
        "y": 38.98785000000004
       },
       "_draw_these_graphics_on_widget_load": [
        {
         "attributes": null,
         "geometry": {
          "paths": [
           [
            [
             -76.94388199999997,
             38.98753000000005
            ],
            [
             -76.94421999999997,
             38.98753000000005
            ],
            [
             -76.94437999999997,
             38.98753000000005
            ],
            [
             -76.94537999999994,
             38.98742000000004
            ],
            [
             -76.94541999999996,
             38.987520000000075
            ],
            [
             -76.94541999999996,
             38.98767000000004
            ],
            [
             -76.94539999999995,
             38.988000000000056
            ],
            [
             -76.94539555799997,
             38.98806958900008
            ]
           ],
           [
            [
             -76.94539555799997,
             38.98806958900008
            ],
            [
             -76.94530829999997,
             38.98869510000003
            ]
           ],
           [
            [
             -76.94530829999997,
             38.98869510000003
            ],
            [
             -76.94526999999994,
             38.98881000000006
            ],
            [
             -76.94498999999996,
             38.988770000000045
            ],
            [
             -76.94455999999997,
             38.988620000000026
            ],
            [
             -76.94432999999998,
             38.98869000000008
            ],
            [
             -76.94408999999996,
             38.98879000000005
            ],
            [
             -76.94383999999997,
             38.98900000000003
            ],
            [
             -76.94381999999996,
             38.98907000000003
            ],
            [
             -76.94379999999995,
             38.98915000000005
            ],
            [
             -76.94371999999998,
             38.98926000000006
            ],
            [
             -76.94343999999995,
             38.98943000000003
            ],
            [
             -76.94228999999996,
             38.98943000000003
            ],
            [
             -76.94206999999994,
             38.989310000000046
            ],
            [
             -76.94206105399996,
             38.98929479200007
            ]
           ],
           [
            [
             -76.94206105399996,
             38.98929479200007
            ],
            [
             -76.94181999999995,
             38.98909000000003
            ],
            [
             -76.94069999999994,
             38.98905000000008
            ],
            [
             -76.94066999999995,
             38.98866000000004
            ],
            [
             -76.94066999999995,
             38.988510000000076
            ],
            [
             -76.94064999999995,
             38.98828000000003
            ],
            [
             -76.94062999999994,
             38.98812000000004
            ],
            [
             -76.94062999999994,
             38.98794000000004
            ],
            [
             -76.94048999999995,
             38.987640000000056
            ],
            [
             -76.94048999999995,
             38.98759000000007
            ],
            [
             -76.94045999999997,
             38.987540000000024
            ],
            [
             -76.94031999999999,
             38.987430000000074
            ],
            [
             -76.94013999999999,
             38.98678000000007
            ],
            [
             -76.94013999999999,
             38.98669000000007
            ],
            [
             -76.94013999999999,
             38.98664900000006
            ]
           ],
           [
            [
             -76.94013999999999,
             38.98664900000006
            ],
            [
             -76.94013999999999,
             38.98654000000005
            ],
            [
             -76.94013999999999,
             38.98648000000003
            ],
            [
             -76.94012999999995,
             38.98562000000004
            ],
            [
             -76.94010999999995,
             38.98553000000004
            ],
            [
             -76.94009999999997,
             38.98526000000004
            ],
            [
             -76.94010999999995,
             38.98493000000008
            ],
            [
             -76.94010976099997,
             38.98492377800005
            ]
           ],
           [
            [
             -76.94010976099997,
             38.98492377800005
            ],
            [
             -76.94009999999997,
             38.98467000000005
            ],
            [
             -76.94008999999994,
             38.98461000000003
            ],
            [
             -76.94012999999995,
             38.98442000000006
            ],
            [
             -76.94009999999997,
             38.984200000000044
            ],
            [
             -76.93998999999997,
             38.98335000000003
            ],
            [
             -76.93990999999994,
             38.98305000000005
            ],
            [
             -76.93980999999997,
             38.98288000000008
            ],
            [
             -76.93959999999998,
             38.98267000000004
            ],
            [
             -76.93913384699994,
             38.98246867200004
            ]
           ],
           [
            [
             -76.93913384699994,
             38.98246867200004
            ],
            [
             -76.93910999999997,
             38.98246000000006
            ],
            [
             -76.93885999999998,
             38.982380000000035
            ],
            [
             -76.93858999999998,
             38.98232000000007
            ],
            [
             -76.93798999999996,
             38.98215000000005
            ],
            [
             -76.93782999999996,
             38.982120000000066
            ],
            [
             -76.93782999999996,
             38.98277000000007
            ],
            [
             -76.93781999999999,
             38.98284000000007
            ],
            [
             -76.93777999999998,
             38.98311000000007
            ],
            [
             -76.93772999999999,
             38.98348000000004
            ],
            [
             -76.93765999999994,
             38.98380000000003
            ],
            [
             -76.93748999999997,
             38.98442000000006
            ],
            [
             -76.93725999999998,
             38.98502000000008
            ],
            [
             -76.93713648899995,
             38.98529447000004
            ]
           ],
           [
            [
             -76.93713648899995,
             38.98529447000004
            ],
            [
             -76.93707999999998,
             38.98542000000003
            ],
            [
             -76.93699999999995,
             38.98557000000005
            ],
            [
             -76.93665999999996,
             38.98617000000007
            ],
            [
             -76.93654999999995,
             38.986330000000066
            ],
            [
             -76.93632999999994,
             38.98666000000003
            ],
            [
             -76.93616999999995,
             38.98689000000007
            ],
            [
             -76.93583999999998,
             38.98738000000003
            ],
            [
             -76.93511999999998,
             38.98846000000003
            ],
            [
             -76.93509999999998,
             38.98849000000007
            ],
            [
             -76.93506999999994,
             38.988680000000045
            ],
            [
             -76.93503999999996,
             38.98873000000003
            ],
            [
             -76.93491999999998,
             38.98893000000004
            ],
            [
             -76.93475999999998,
             38.98920000000004
            ],
            [
             -76.93463999999994,
             38.98938000000004
            ],
            [
             -76.93452999999994,
             38.989540000000034
            ],
            [
             -76.93440999999996,
             38.98975000000007
            ],
            [
             -76.93433999999996,
             38.98989000000006
            ],
            [
             -76.93421999999998,
             38.98985000000005
            ],
            [
             -76.93380999999994,
             38.989720000000034
            ],
            [
             -76.93345999999997,
             38.989630000000034
            ],
            [
             -76.93335999999994,
             38.98961000000003
            ],
            [
             -76.93302999999997,
             38.98956000000004
            ],
            [
             -76.93287999999995,
             38.989550000000065
            ],
            [
             -76.93274999999994,
             38.989540000000034
            ],
            [
             -76.93263999999994,
             38.98953000000006
            ],
            [
             -76.93250999999998,
             38.98951000000005
            ],
            [
             -76.93230999999997,
             38.989490000000046
            ],
            [
             -76.93068999999997,
             38.98925000000003
            ],
            [
             -76.93049999999994,
             38.98923000000008
            ],
            [
             -76.93002999999999,
             38.98917000000006
            ],
            [
             -76.92934999999994,
             38.98908000000006
            ],
            [
             -76.92873999999995,
             38.98900000000003
            ],
            [
             -76.92859999999996,
             38.98932000000008
            ],
            [
             -76.92843999999997,
             38.98977000000008
            ],
            [
             -76.92973538899997,
             38.99058493900003
            ]
           ],
           [
            [
             -76.92973538899997,
             38.99058493900003
            ],
            [
             -76.92994999999996,
             38.990710000000036
            ],
            [
             -76.93024999999994,
             38.990890000000036
            ],
            [
             -76.93043999999998,
             38.99100000000004
            ],
            [
             -76.93114999999995,
             38.991480000000024
            ],
            [
             -76.93139999999994,
             38.991660000000024
            ],
            [
             -76.93175999999994,
             38.99188000000004
            ],
            [
             -76.93220999999994,
             38.99215000000004
            ],
            [
             -76.93257999999997,
             38.99237000000005
            ],
            [
             -76.93271999999996,
             38.992450000000076
            ],
            [
             -76.93313999999998,
             38.992650000000026
            ],
            [
             -76.93317999999994,
             38.992560000000026
            ],
            [
             -76.93335999999994,
             38.99215000000004
            ],
            [
             -76.93399999999997,
             38.99230000000006
            ],
            [
             -76.93403467899998,
             38.99231040400008
            ]
           ],
           [
            [
             -76.93403467899998,
             38.99231040400008
            ],
            [
             -76.93399999999997,
             38.99230000000006
            ],
            [
             -76.93335999999994,
             38.99215000000004
            ],
            [
             -76.93340999999998,
             38.99203000000006
            ],
            [
             -76.93349999999998,
             38.991840000000025
            ],
            [
             -76.93358999999998,
             38.991660000000024
            ],
            [
             -76.93365999999997,
             38.99150000000003
            ],
            [
             -76.93372999999997,
             38.99130000000008
            ],
            [
             -76.93379999999996,
             38.99114000000003
            ],
            [
             -76.93391999999994,
             38.99088000000006
            ],
            [
             -76.93397999999996,
             38.99073000000004
            ],
            [
             -76.93401999999998,
             38.99064000000004
            ],
            [
             -76.93409310499999,
             38.990475513000035
            ]
           ],
           [
            [
             -76.93409310499999,
             38.990475513000035
            ],
            [
             -76.93414999999999,
             38.99034000000006
            ],
            [
             -76.93440999999996,
             38.98975000000007
            ],
            [
             -76.93452999999994,
             38.989540000000034
            ],
            [
             -76.93463999999994,
             38.98938000000004
            ],
            [
             -76.93475999999998,
             38.98920000000004
            ],
            [
             -76.93491999999998,
             38.98893000000004
            ],
            [
             -76.93503999999996,
             38.98873000000003
            ],
            [
             -76.93506999999994,
             38.988680000000045
            ],
            [
             -76.93564999999995,
             38.988740000000064
            ],
            [
             -76.93606999999997,
             38.98873000000003
            ],
            [
             -76.93665999999996,
             38.988530000000026
            ],
            [
             -76.93753999999996,
             38.98829000000006
            ],
            [
             -76.93853999999999,
             38.98795000000007
            ],
            [
             -76.93874999999997,
             38.987880000000075
            ],
            [
             -76.93904999999995,
             38.987790000000075
            ],
            [
             -76.93941999999998,
             38.987700000000075
            ],
            [
             -76.93952399999995,
             38.987700000000075
            ]
           ],
           [
            [
             -76.93952399999995,
             38.987700000000075
            ],
            [
             -76.93972999999994,
             38.987720000000024
            ],
            [
             -76.93988999999993,
             38.987730000000056
            ],
            [
             -76.94024999999993,
             38.987810000000025
            ],
            [
             -76.94048999999995,
             38.987640000000056
            ],
            [
             -76.94048999999995,
             38.98759000000007
            ],
            [
             -76.94107999999994,
             38.98757000000006
            ],
            [
             -76.94121999999999,
             38.98756000000003
            ],
            [
             -76.94145999999995,
             38.987550000000056
            ],
            [
             -76.94170999999994,
             38.987540000000024
            ],
            [
             -76.94216999999998,
             38.987540000000024
            ],
            [
             -76.94260999999995,
             38.987540000000024
            ],
            [
             -76.94319999999993,
             38.98753000000005
            ],
            [
             -76.94343999999995,
             38.98753000000005
            ],
            [
             -76.94388199999997,
             38.98753000000005
            ]
           ]
          ],
          "type": "polyline"
         },
         "popupTemplate": {
          "content": "<style  type=\"text/css\" >\n    #T_cb11ecf0_9aa1_11eb_84b9_bc542f6978cc td {\n          padding: 2px;\n    }    #T_cb11ecf0_9aa1_11eb_84b9_bc542f6978cc .row_heading, .blank {\n          display: none;;\n    }    #T_cb11ecf0_9aa1_11eb_84b9_bc542f6978cc .col_heading, .blank {\n          display: none;;\n    }</style><table id=\"T_cb11ecf0_9aa1_11eb_84b9_bc542f6978cc\" ><thead>    <tr>        <th class=\"blank level0\" ></th>        <th class=\"col_heading level0 col0\" >0</th>        <th class=\"col_heading level0 col1\" >1</th>    </tr></thead><tbody>\n                <tr>\n                        <th id=\"T_cb11ecf0_9aa1_11eb_84b9_bc542f6978cclevel0_row0\" class=\"row_heading level0 row0\" >0</th>\n                        <td id=\"T_cb11ecf0_9aa1_11eb_84b9_bc542f6978ccrow0_col0\" class=\"data row0 col0\" >Number of stops</td>\n                        <td id=\"T_cb11ecf0_9aa1_11eb_84b9_bc542f6978ccrow0_col1\" class=\"data row0 col1\" >13</td>\n            </tr>\n            <tr>\n                        <th id=\"T_cb11ecf0_9aa1_11eb_84b9_bc542f6978cclevel0_row1\" class=\"row_heading level0 row1\" >1</th>\n                        <td id=\"T_cb11ecf0_9aa1_11eb_84b9_bc542f6978ccrow1_col0\" class=\"data row1 col0\" >Total travel time</td>\n                        <td id=\"T_cb11ecf0_9aa1_11eb_84b9_bc542f6978ccrow1_col1\" class=\"data row1 col1\" >15.03 min</td>\n            </tr>\n            <tr>\n                        <th id=\"T_cb11ecf0_9aa1_11eb_84b9_bc542f6978cclevel0_row2\" class=\"row_heading level0 row2\" >2</th>\n                        <td id=\"T_cb11ecf0_9aa1_11eb_84b9_bc542f6978ccrow2_col0\" class=\"data row2 col0\" >Total travel distance</td>\n                        <td id=\"T_cb11ecf0_9aa1_11eb_84b9_bc542f6978ccrow2_col1\" class=\"data row2 col1\" >3.15 mi</td>\n            </tr>\n    </tbody></table>",
          "title": "Route"
         },
         "symbol": {
          "color": [
           0,
           191,
           255,
           90
          ],
          "style": "esriSLSSolid",
          "type": "esriSLS",
          "width": 4
         }
        },
        {
         "attributes": null,
         "geometry": {
          "type": "point",
          "x": -76.94388199999997,
          "y": 38.98743100000007
         },
         "popupTemplate": {
          "content": "Campus Dr, College Park, Maryland, 20742",
          "title": "Stop 1"
         },
         "symbol": null
        },
        {
         "attributes": null,
         "geometry": {
          "type": "point",
          "x": -76.94535499999995,
          "y": 38.98806700000006
         },
         "popupTemplate": {
          "content": "Union Ln, College Park, Maryland, 20742",
          "title": "Stop 2"
         },
         "symbol": null
        },
        {
         "attributes": null,
         "geometry": {
          "type": "point",
          "x": -76.94529299999994,
          "y": 38.98869000000008
         },
         "popupTemplate": {
          "content": "Union Ln, College Park, Maryland, 20742",
          "title": "Stop 3"
         },
         "symbol": null
        },
        {
         "attributes": null,
         "geometry": {
          "type": "point",
          "x": -76.94212699999997,
          "y": 38.98925600000007
         },
         "popupTemplate": {
          "content": "4201-4299 Field House Dr, College Park, Maryland, 20742",
          "title": "Stop 4"
         },
         "symbol": null
        },
        {
         "attributes": null,
         "geometry": {
          "type": "point",
          "x": -76.94023899999996,
          "y": 38.98664900000006
         },
         "popupTemplate": {
          "content": "Regents Dr, College Park, Maryland, 20742",
          "title": "Stop 5"
         },
         "symbol": null
        },
        {
         "attributes": null,
         "geometry": {
          "type": "point",
          "x": -76.94015599999994,
          "y": 38.98492200000004
         },
         "popupTemplate": {
          "content": "Regents Dr, College Park, Maryland, 20742",
          "title": "Stop 6"
         },
         "symbol": null
        },
        {
         "attributes": null,
         "geometry": {
          "type": "point",
          "x": -76.93914899999999,
          "y": 38.98242700000003
         },
         "popupTemplate": {
          "content": "7570-7604 Regents Dr, College Park, Maryland, 20742",
          "title": "Stop 7"
         },
         "symbol": null
        },
        {
         "attributes": null,
         "geometry": {
          "type": "point",
          "x": -76.93709099999995,
          "y": 38.98527400000006
         },
         "popupTemplate": {
          "content": "7675 Baltimore Avenue, College Park, Maryland, 20742",
          "title": "Stop 8"
         },
         "symbol": null
        },
        {
         "attributes": null,
         "geometry": {
          "type": "point",
          "x": -76.92971899999998,
          "y": 38.990613100000076
         },
         "popupTemplate": {
          "content": "4800 Berwyn House Road, College Park, Maryland, 20740",
          "title": "Stop 9"
         },
         "symbol": null
        },
        {
         "attributes": null,
         "geometry": {
          "type": "point",
          "x": -76.93402249999997,
          "y": 38.99235100000004
         },
         "popupTemplate": {
          "content": "Peter's College Barber Shop",
          "title": "Stop 10"
         },
         "symbol": null
        },
        {
         "attributes": null,
         "geometry": {
          "type": "point",
          "x": -76.93419409999996,
          "y": 38.99052040000004
         },
         "popupTemplate": {
          "content": "8110-8114 Baltimore Ave, College Park, Maryland, 20740",
          "title": "Stop 11"
         },
         "symbol": null
        },
        {
         "attributes": null,
         "geometry": {
          "type": "point",
          "x": -76.93952399999995,
          "y": 38.98773500000004
         },
         "popupTemplate": {
          "content": "4132-4150 Campus Dr, College Park, Maryland, 20740",
          "title": "Stop 12"
         },
         "symbol": null
        },
        {
         "attributes": null,
         "geometry": {
          "type": "point",
          "x": -76.94388199999997,
          "y": 38.98743100000007
         },
         "popupTemplate": {
          "content": "Campus Dr, College Park, Maryland, 20742",
          "title": "Stop 13"
         },
         "symbol": null
        }
       ],
       "_draw_these_notype_layers_on_widget_load": [],
       "_gallery_basemaps": {
        "default": {
         "baseMapLayers": [
          {
           "layerType": "ArcGISTiledMapServiceLayer",
           "resourceInfo": {
            "capabilities": "Map,Tilemap,Query,Data",
            "currentVersion": 10.3,
            "exportTilesAllowed": false,
            "fullExtent": {
             "spatialReference": {
              "latestWkid": 3857,
              "wkid": 102100
             },
             "xmax": 20037507.067161843,
             "xmin": -20037507.067161843,
             "ymax": 19971868.88040863,
             "ymin": -19971868.880408604
            },
            "initialExtent": {
             "spatialReference": {
              "latestWkid": 3857,
              "wkid": 102100
             },
             "xmax": 28848255.049479112,
             "xmin": -28848255.049479112,
             "ymax": 16430757.376790084,
             "ymin": -2077452.082122866
            },
            "layers": [
             {
              "defaultVisibility": false,
              "id": 0,
              "maxScale": 0,
              "minScale": 0,
              "name": "Citations",
              "parentLayerId": -1,
              "subLayerIds": null
             }
            ],
            "mapName": "Layers",
            "maxImageHeight": 4096,
            "maxImageWidth": 4096,
            "maxRecordCount": 100,
            "maxScale": 70.5310735,
            "minScale": 591657527.591555,
            "singleFusedMapCache": true,
            "spatialReference": {
             "latestWkid": 3857,
             "wkid": 102100
            },
            "supportedExtensions": "KmlServer",
            "supportedImageFormatTypes": "PNG32,PNG24,PNG,JPG,DIB,TIFF,EMF,PS,PDF,GIF,SVG,SVGZ,BMP",
            "supportedQueryFormats": "JSON, AMF",
            "supportsDynamicLayers": false,
            "tables": [],
            "tileInfo": {
             "cols": 256,
             "compressionQuality": 90,
             "dpi": 96,
             "format": "JPEG",
             "lods": [
              {
               "level": 0,
               "resolution": 156543.03392800014,
               "scale": 591657527.591555
              },
              {
               "level": 1,
               "resolution": 78271.51696399994,
               "scale": 295828763.795777
              },
              {
               "level": 2,
               "resolution": 39135.75848200009,
               "scale": 147914381.897889
              },
              {
               "level": 3,
               "resolution": 19567.87924099992,
               "scale": 73957190.948944
              },
              {
               "level": 4,
               "resolution": 9783.93962049996,
               "scale": 36978595.474472
              },
              {
               "level": 5,
               "resolution": 4891.96981024998,
               "scale": 18489297.737236
              },
              {
               "level": 6,
               "resolution": 2445.98490512499,
               "scale": 9244648.868618
              },
              {
               "level": 7,
               "resolution": 1222.992452562495,
               "scale": 4622324.434309
              },
              {
               "level": 8,
               "resolution": 611.4962262813797,
               "scale": 2311162.217155
              },
              {
               "level": 9,
               "resolution": 305.74811314055756,
               "scale": 1155581.108577
              },
              {
               "level": 10,
               "resolution": 152.87405657041106,
               "scale": 577790.554289
              },
              {
               "level": 11,
               "resolution": 76.43702828507324,
               "scale": 288895.277144
              },
              {
               "level": 12,
               "resolution": 38.21851414253662,
               "scale": 144447.638572
              },
              {
               "level": 13,
               "resolution": 19.10925707126831,
               "scale": 72223.819286
              },
              {
               "level": 14,
               "resolution": 9.554628535634155,
               "scale": 36111.909643
              },
              {
               "level": 15,
               "resolution": 4.77731426794937,
               "scale": 18055.954822
              },
              {
               "level": 16,
               "resolution": 2.388657133974685,
               "scale": 9027.977411
              },
              {
               "level": 17,
               "resolution": 1.1943285668550503,
               "scale": 4513.988705
              },
              {
               "level": 18,
               "resolution": 0.5971642835598172,
               "scale": 2256.994353
              },
              {
               "level": 19,
               "resolution": 0.29858214164761665,
               "scale": 1128.497176
              },
              {
               "level": 20,
               "resolution": 0.14929107082380833,
               "scale": 564.248588
              },
              {
               "level": 21,
               "resolution": 0.07464553541190416,
               "scale": 282.124294
              },
              {
               "level": 22,
               "resolution": 0.03732276770595208,
               "scale": 141.062147
              },
              {
               "level": 23,
               "resolution": 0.01866138385297604,
               "scale": 70.5310735
              }
             ],
             "origin": {
              "x": -20037508.342787,
              "y": 20037508.342787
             },
             "rows": 256,
             "spatialReference": {
              "latestWkid": 3857,
              "wkid": 102100
             }
            },
            "units": "esriMeters"
           },
           "url": "https://services.arcgisonline.com/ArcGIS/rest/services/World_Topo_Map/MapServer"
          }
         ],
         "title": "Topographic"
        }
       },
       "_layers_to_remove": [
        "graphicsLayerId31195"
       ],
       "_overlay_these_images_on_widget_load": [],
       "_portal_sharing_rest_url": "https://ssbFmLCAQPoGBuDx.maps.arcgis.com/sharing/rest/",
       "_portal_url": "https://ssbFmLCAQPoGBuDx.maps.arcgis.com",
       "_readonly_center": {
        "spatialReference": {
         "latestWkid": 3857,
         "wkid": 102100
        },
        "x": -8565854.603917481,
        "y": 4719797.394705356
       },
       "_readonly_extent": {
        "spatialReference": {
         "latestWkid": 3857,
         "wkid": 102100
        },
        "xmax": -8565784.586405264,
        "xmin": -8565924.621429699,
        "ymax": 4719827.252919521,
        "ymin": 4719767.536491191
       },
       "_readonly_heading": 360,
       "_readonly_scale": 564.248588,
       "_readonly_webmap_from_js": {
        "basemap": {
         "baseMapLayers": [
          {
           "id": "178c0185fc4-layer-0",
           "layerType": "ArcGISTiledMapServiceLayer",
           "title": "World Topo Map",
           "url": "https://services.arcgisonline.com/ArcGIS/rest/services/World_Topo_Map/MapServer"
          }
         ],
         "title": "Topographic"
        },
        "ground": {
         "layers": [
          {
           "id": "worldElevation",
           "layerType": "ArcGISTiledElevationServiceLayer",
           "listMode": "show",
           "title": "Terrain3D",
           "url": "https://elevation3d.arcgis.com/arcgis/rest/services/WorldElevation3D/Terrain3D/ImageServer",
           "visibility": true
          }
         ],
         "transparency": 0
        },
        "layers": [
         {
          "graphics": [
           {
            "attributes": {},
            "geometry": {
             "paths": [
              [
               [
                -76.94388199999997,
                38.98753000000005
               ],
               [
                -76.94421999999997,
                38.98753000000005
               ],
               [
                -76.94437999999997,
                38.98753000000005
               ],
               [
                -76.94537999999994,
                38.98742000000004
               ],
               [
                -76.94541999999996,
                38.987520000000075
               ],
               [
                -76.94541999999996,
                38.98767000000004
               ],
               [
                -76.94539999999995,
                38.988000000000056
               ],
               [
                -76.94539555799997,
                38.98806958900008
               ]
              ],
              [
               [
                -76.94539555799997,
                38.98806958900008
               ],
               [
                -76.94530829999997,
                38.98869510000003
               ]
              ],
              [
               [
                -76.94530829999997,
                38.98869510000003
               ],
               [
                -76.94526999999994,
                38.98881000000006
               ],
               [
                -76.94498999999996,
                38.988770000000045
               ],
               [
                -76.94455999999997,
                38.988620000000026
               ],
               [
                -76.94432999999998,
                38.98869000000008
               ],
               [
                -76.94408999999996,
                38.98879000000005
               ],
               [
                -76.94383999999997,
                38.98900000000003
               ],
               [
                -76.94381999999996,
                38.98907000000003
               ],
               [
                -76.94379999999995,
                38.98915000000005
               ],
               [
                -76.94371999999998,
                38.98926000000006
               ],
               [
                -76.94343999999995,
                38.98943000000003
               ],
               [
                -76.94228999999996,
                38.98943000000003
               ],
               [
                -76.94206999999994,
                38.989310000000046
               ],
               [
                -76.94206105399996,
                38.98929479200007
               ]
              ],
              [
               [
                -76.94206105399996,
                38.98929479200007
               ],
               [
                -76.94181999999995,
                38.98909000000003
               ],
               [
                -76.94069999999994,
                38.98905000000008
               ],
               [
                -76.94066999999995,
                38.98866000000004
               ],
               [
                -76.94066999999995,
                38.988510000000076
               ],
               [
                -76.94064999999995,
                38.98828000000003
               ],
               [
                -76.94062999999994,
                38.98812000000004
               ],
               [
                -76.94062999999994,
                38.98794000000004
               ],
               [
                -76.94048999999995,
                38.987640000000056
               ],
               [
                -76.94048999999995,
                38.98759000000007
               ],
               [
                -76.94045999999997,
                38.987540000000024
               ],
               [
                -76.94031999999999,
                38.987430000000074
               ],
               [
                -76.94013999999999,
                38.98678000000007
               ],
               [
                -76.94013999999999,
                38.98669000000007
               ],
               [
                -76.94013999999999,
                38.98664900000006
               ]
              ],
              [
               [
                -76.94013999999999,
                38.98664900000006
               ],
               [
                -76.94013999999999,
                38.98654000000005
               ],
               [
                -76.94013999999999,
                38.98648000000003
               ],
               [
                -76.94012999999995,
                38.98562000000004
               ],
               [
                -76.94010999999995,
                38.98553000000004
               ],
               [
                -76.94009999999997,
                38.98526000000004
               ],
               [
                -76.94010999999995,
                38.98493000000008
               ],
               [
                -76.94010976099997,
                38.98492377800005
               ]
              ],
              [
               [
                -76.94010976099997,
                38.98492377800005
               ],
               [
                -76.94009999999997,
                38.98467000000005
               ],
               [
                -76.94008999999994,
                38.98461000000003
               ],
               [
                -76.94012999999995,
                38.98442000000006
               ],
               [
                -76.94009999999997,
                38.984200000000044
               ],
               [
                -76.93998999999997,
                38.98335000000003
               ],
               [
                -76.93990999999994,
                38.98305000000005
               ],
               [
                -76.93980999999997,
                38.98288000000008
               ],
               [
                -76.93959999999998,
                38.98267000000004
               ],
               [
                -76.93913384699994,
                38.98246867200004
               ]
              ],
              [
               [
                -76.93913384699994,
                38.98246867200004
               ],
               [
                -76.93910999999997,
                38.98246000000006
               ],
               [
                -76.93885999999998,
                38.982380000000035
               ],
               [
                -76.93858999999998,
                38.98232000000007
               ],
               [
                -76.93798999999996,
                38.98215000000005
               ],
               [
                -76.93782999999996,
                38.982120000000066
               ],
               [
                -76.93782999999996,
                38.98277000000007
               ],
               [
                -76.93781999999999,
                38.98284000000007
               ],
               [
                -76.93777999999998,
                38.98311000000007
               ],
               [
                -76.93772999999999,
                38.98348000000004
               ],
               [
                -76.93765999999994,
                38.98380000000003
               ],
               [
                -76.93748999999997,
                38.98442000000006
               ],
               [
                -76.93725999999998,
                38.98502000000008
               ],
               [
                -76.93713648899995,
                38.98529447000004
               ]
              ],
              [
               [
                -76.93713648899995,
                38.98529447000004
               ],
               [
                -76.93707999999998,
                38.98542000000003
               ],
               [
                -76.93699999999995,
                38.98557000000005
               ],
               [
                -76.93665999999996,
                38.98617000000007
               ],
               [
                -76.93654999999995,
                38.986330000000066
               ],
               [
                -76.93632999999994,
                38.98666000000003
               ],
               [
                -76.93616999999995,
                38.98689000000007
               ],
               [
                -76.93583999999998,
                38.98738000000003
               ],
               [
                -76.93511999999998,
                38.98846000000003
               ],
               [
                -76.93509999999998,
                38.98849000000007
               ],
               [
                -76.93506999999994,
                38.988680000000045
               ],
               [
                -76.93503999999996,
                38.98873000000003
               ],
               [
                -76.93491999999998,
                38.98893000000004
               ],
               [
                -76.93475999999998,
                38.98920000000004
               ],
               [
                -76.93463999999994,
                38.98938000000004
               ],
               [
                -76.93452999999994,
                38.989540000000034
               ],
               [
                -76.93440999999996,
                38.98975000000007
               ],
               [
                -76.93433999999996,
                38.98989000000006
               ],
               [
                -76.93421999999998,
                38.98985000000005
               ],
               [
                -76.93380999999994,
                38.989720000000034
               ],
               [
                -76.93345999999997,
                38.989630000000034
               ],
               [
                -76.93335999999994,
                38.98961000000003
               ],
               [
                -76.93302999999997,
                38.98956000000004
               ],
               [
                -76.93287999999995,
                38.989550000000065
               ],
               [
                -76.93274999999994,
                38.989540000000034
               ],
               [
                -76.93263999999994,
                38.98953000000006
               ],
               [
                -76.93250999999998,
                38.98951000000005
               ],
               [
                -76.93230999999997,
                38.989490000000046
               ],
               [
                -76.93068999999997,
                38.98925000000003
               ],
               [
                -76.93049999999994,
                38.98923000000008
               ],
               [
                -76.93002999999999,
                38.98917000000006
               ],
               [
                -76.92934999999994,
                38.98908000000006
               ],
               [
                -76.92873999999995,
                38.98900000000003
               ],
               [
                -76.92859999999996,
                38.98932000000008
               ],
               [
                -76.92843999999997,
                38.98977000000008
               ],
               [
                -76.92973538899997,
                38.99058493900003
               ]
              ],
              [
               [
                -76.92973538899997,
                38.99058493900003
               ],
               [
                -76.92994999999996,
                38.990710000000036
               ],
               [
                -76.93024999999994,
                38.990890000000036
               ],
               [
                -76.93043999999998,
                38.99100000000004
               ],
               [
                -76.93114999999995,
                38.991480000000024
               ],
               [
                -76.93139999999994,
                38.991660000000024
               ],
               [
                -76.93175999999994,
                38.99188000000004
               ],
               [
                -76.93220999999994,
                38.99215000000004
               ],
               [
                -76.93257999999997,
                38.99237000000005
               ],
               [
                -76.93271999999996,
                38.992450000000076
               ],
               [
                -76.93313999999998,
                38.992650000000026
               ],
               [
                -76.93317999999994,
                38.992560000000026
               ],
               [
                -76.93335999999994,
                38.99215000000004
               ],
               [
                -76.93399999999997,
                38.99230000000006
               ],
               [
                -76.93403467899998,
                38.99231040400008
               ]
              ],
              [
               [
                -76.93403467899998,
                38.99231040400008
               ],
               [
                -76.93399999999997,
                38.99230000000006
               ],
               [
                -76.93335999999994,
                38.99215000000004
               ],
               [
                -76.93340999999998,
                38.99203000000006
               ],
               [
                -76.93349999999998,
                38.991840000000025
               ],
               [
                -76.93358999999998,
                38.991660000000024
               ],
               [
                -76.93365999999997,
                38.99150000000003
               ],
               [
                -76.93372999999997,
                38.99130000000008
               ],
               [
                -76.93379999999996,
                38.99114000000003
               ],
               [
                -76.93391999999994,
                38.99088000000006
               ],
               [
                -76.93397999999996,
                38.99073000000004
               ],
               [
                -76.93401999999998,
                38.99064000000004
               ],
               [
                -76.93409310499999,
                38.990475513000035
               ]
              ],
              [
               [
                -76.93409310499999,
                38.990475513000035
               ],
               [
                -76.93414999999999,
                38.99034000000006
               ],
               [
                -76.93440999999996,
                38.98975000000007
               ],
               [
                -76.93452999999994,
                38.989540000000034
               ],
               [
                -76.93463999999994,
                38.98938000000004
               ],
               [
                -76.93475999999998,
                38.98920000000004
               ],
               [
                -76.93491999999998,
                38.98893000000004
               ],
               [
                -76.93503999999996,
                38.98873000000003
               ],
               [
                -76.93506999999994,
                38.988680000000045
               ],
               [
                -76.93564999999995,
                38.988740000000064
               ],
               [
                -76.93606999999997,
                38.98873000000003
               ],
               [
                -76.93665999999996,
                38.988530000000026
               ],
               [
                -76.93753999999996,
                38.98829000000006
               ],
               [
                -76.93853999999999,
                38.98795000000007
               ],
               [
                -76.93874999999997,
                38.987880000000075
               ],
               [
                -76.93904999999995,
                38.987790000000075
               ],
               [
                -76.93941999999998,
                38.987700000000075
               ],
               [
                -76.93952399999995,
                38.987700000000075
               ]
              ],
              [
               [
                -76.93952399999995,
                38.987700000000075
               ],
               [
                -76.93972999999994,
                38.987720000000024
               ],
               [
                -76.93988999999993,
                38.987730000000056
               ],
               [
                -76.94024999999993,
                38.987810000000025
               ],
               [
                -76.94048999999995,
                38.987640000000056
               ],
               [
                -76.94048999999995,
                38.98759000000007
               ],
               [
                -76.94107999999994,
                38.98757000000006
               ],
               [
                -76.94121999999999,
                38.98756000000003
               ],
               [
                -76.94145999999995,
                38.987550000000056
               ],
               [
                -76.94170999999994,
                38.987540000000024
               ],
               [
                -76.94216999999998,
                38.987540000000024
               ],
               [
                -76.94260999999995,
                38.987540000000024
               ],
               [
                -76.94319999999993,
                38.98753000000005
               ],
               [
                -76.94343999999995,
                38.98753000000005
               ],
               [
                -76.94388199999997,
                38.98753000000005
               ]
              ]
             ],
             "spatialReference": {
              "wkid": 4326
             }
            },
            "popupTemplate": {
             "description": "<style  type=\"text/css\" >\n    #T_cb11ecf0_9aa1_11eb_84b9_bc542f6978cc td {\n          padding: 2px;\n    }    #T_cb11ecf0_9aa1_11eb_84b9_bc542f6978cc .row_heading, .blank {\n          display: none;;\n    }    #T_cb11ecf0_9aa1_11eb_84b9_bc542f6978cc .col_heading, .blank {\n          display: none;;\n    }</style><table id=\"T_cb11ecf0_9aa1_11eb_84b9_bc542f6978cc\" ><thead>    <tr>        <th class=\"blank level0\" ></th>        <th class=\"col_heading level0 col0\" >0</th>        <th class=\"col_heading level0 col1\" >1</th>    </tr></thead><tbody>\n                <tr>\n                        <th id=\"T_cb11ecf0_9aa1_11eb_84b9_bc542f6978cclevel0_row0\" class=\"row_heading level0 row0\" >0</th>\n                        <td id=\"T_cb11ecf0_9aa1_11eb_84b9_bc542f6978ccrow0_col0\" class=\"data row0 col0\" >Number of stops</td>\n                        <td id=\"T_cb11ecf0_9aa1_11eb_84b9_bc542f6978ccrow0_col1\" class=\"data row0 col1\" >13</td>\n            </tr>\n            <tr>\n                        <th id=\"T_cb11ecf0_9aa1_11eb_84b9_bc542f6978cclevel0_row1\" class=\"row_heading level0 row1\" >1</th>\n                        <td id=\"T_cb11ecf0_9aa1_11eb_84b9_bc542f6978ccrow1_col0\" class=\"data row1 col0\" >Total travel time</td>\n                        <td id=\"T_cb11ecf0_9aa1_11eb_84b9_bc542f6978ccrow1_col1\" class=\"data row1 col1\" >15.03 min</td>\n            </tr>\n            <tr>\n                        <th id=\"T_cb11ecf0_9aa1_11eb_84b9_bc542f6978cclevel0_row2\" class=\"row_heading level0 row2\" >2</th>\n                        <td id=\"T_cb11ecf0_9aa1_11eb_84b9_bc542f6978ccrow2_col0\" class=\"data row2 col0\" >Total travel distance</td>\n                        <td id=\"T_cb11ecf0_9aa1_11eb_84b9_bc542f6978ccrow2_col1\" class=\"data row2 col1\" >3.15 mi</td>\n            </tr>\n    </tbody></table>",
             "title": "Route"
            },
            "symbol": {
             "color": [
              0,
              191,
              255,
              90
             ],
             "style": "esriSLSSolid",
             "type": "esriSLS",
             "width": 4
            }
           },
           {
            "attributes": {},
            "geometry": {
             "spatialReference": {
              "wkid": 4326
             },
             "x": -76.94388199999997,
             "y": 38.98743100000007
            },
            "popupTemplate": {
             "description": "Campus Dr, College Park, Maryland, 20742",
             "title": "Stop 1"
            },
            "symbol": {
             "angle": 0,
             "color": [
              255,
              255,
              255,
              64
             ],
             "outline": {
              "color": [
               0,
               0,
               0,
               255
              ],
              "style": "esriSLSSolid",
              "type": "esriSLS",
              "width": 0.75
             },
             "size": 12,
             "style": "esriSMSCircle",
             "type": "esriSMS",
             "xoffset": 0,
             "yoffset": 0
            }
           },
           {
            "attributes": {},
            "geometry": {
             "spatialReference": {
              "wkid": 4326
             },
             "x": -76.94535499999995,
             "y": 38.98806700000006
            },
            "popupTemplate": {
             "description": "Union Ln, College Park, Maryland, 20742",
             "title": "Stop 2"
            },
            "symbol": {
             "angle": 0,
             "color": [
              255,
              255,
              255,
              64
             ],
             "outline": {
              "color": [
               0,
               0,
               0,
               255
              ],
              "style": "esriSLSSolid",
              "type": "esriSLS",
              "width": 0.75
             },
             "size": 12,
             "style": "esriSMSCircle",
             "type": "esriSMS",
             "xoffset": 0,
             "yoffset": 0
            }
           },
           {
            "attributes": {},
            "geometry": {
             "spatialReference": {
              "wkid": 4326
             },
             "x": -76.94529299999994,
             "y": 38.98869000000008
            },
            "popupTemplate": {
             "description": "Union Ln, College Park, Maryland, 20742",
             "title": "Stop 3"
            },
            "symbol": {
             "angle": 0,
             "color": [
              255,
              255,
              255,
              64
             ],
             "outline": {
              "color": [
               0,
               0,
               0,
               255
              ],
              "style": "esriSLSSolid",
              "type": "esriSLS",
              "width": 0.75
             },
             "size": 12,
             "style": "esriSMSCircle",
             "type": "esriSMS",
             "xoffset": 0,
             "yoffset": 0
            }
           },
           {
            "attributes": {},
            "geometry": {
             "spatialReference": {
              "wkid": 4326
             },
             "x": -76.94212699999997,
             "y": 38.98925600000007
            },
            "popupTemplate": {
             "description": "4201-4299 Field House Dr, College Park, Maryland, 20742",
             "title": "Stop 4"
            },
            "symbol": {
             "angle": 0,
             "color": [
              255,
              255,
              255,
              64
             ],
             "outline": {
              "color": [
               0,
               0,
               0,
               255
              ],
              "style": "esriSLSSolid",
              "type": "esriSLS",
              "width": 0.75
             },
             "size": 12,
             "style": "esriSMSCircle",
             "type": "esriSMS",
             "xoffset": 0,
             "yoffset": 0
            }
           },
           {
            "attributes": {},
            "geometry": {
             "spatialReference": {
              "wkid": 4326
             },
             "x": -76.94023899999996,
             "y": 38.98664900000006
            },
            "popupTemplate": {
             "description": "Regents Dr, College Park, Maryland, 20742",
             "title": "Stop 5"
            },
            "symbol": {
             "angle": 0,
             "color": [
              255,
              255,
              255,
              64
             ],
             "outline": {
              "color": [
               0,
               0,
               0,
               255
              ],
              "style": "esriSLSSolid",
              "type": "esriSLS",
              "width": 0.75
             },
             "size": 12,
             "style": "esriSMSCircle",
             "type": "esriSMS",
             "xoffset": 0,
             "yoffset": 0
            }
           },
           {
            "attributes": {},
            "geometry": {
             "spatialReference": {
              "wkid": 4326
             },
             "x": -76.94015599999994,
             "y": 38.98492200000004
            },
            "popupTemplate": {
             "description": "Regents Dr, College Park, Maryland, 20742",
             "title": "Stop 6"
            },
            "symbol": {
             "angle": 0,
             "color": [
              255,
              255,
              255,
              64
             ],
             "outline": {
              "color": [
               0,
               0,
               0,
               255
              ],
              "style": "esriSLSSolid",
              "type": "esriSLS",
              "width": 0.75
             },
             "size": 12,
             "style": "esriSMSCircle",
             "type": "esriSMS",
             "xoffset": 0,
             "yoffset": 0
            }
           },
           {
            "attributes": {},
            "geometry": {
             "spatialReference": {
              "wkid": 4326
             },
             "x": -76.93914899999999,
             "y": 38.98242700000003
            },
            "popupTemplate": {
             "description": "7570-7604 Regents Dr, College Park, Maryland, 20742",
             "title": "Stop 7"
            },
            "symbol": {
             "angle": 0,
             "color": [
              255,
              255,
              255,
              64
             ],
             "outline": {
              "color": [
               0,
               0,
               0,
               255
              ],
              "style": "esriSLSSolid",
              "type": "esriSLS",
              "width": 0.75
             },
             "size": 12,
             "style": "esriSMSCircle",
             "type": "esriSMS",
             "xoffset": 0,
             "yoffset": 0
            }
           },
           {
            "attributes": {},
            "geometry": {
             "spatialReference": {
              "wkid": 4326
             },
             "x": -76.93709099999995,
             "y": 38.98527400000006
            },
            "popupTemplate": {
             "description": "7675 Baltimore Avenue, College Park, Maryland, 20742",
             "title": "Stop 8"
            },
            "symbol": {
             "angle": 0,
             "color": [
              255,
              255,
              255,
              64
             ],
             "outline": {
              "color": [
               0,
               0,
               0,
               255
              ],
              "style": "esriSLSSolid",
              "type": "esriSLS",
              "width": 0.75
             },
             "size": 12,
             "style": "esriSMSCircle",
             "type": "esriSMS",
             "xoffset": 0,
             "yoffset": 0
            }
           },
           {
            "attributes": {},
            "geometry": {
             "spatialReference": {
              "wkid": 4326
             },
             "x": -76.92971899999998,
             "y": 38.990613100000076
            },
            "popupTemplate": {
             "description": "4800 Berwyn House Road, College Park, Maryland, 20740",
             "title": "Stop 9"
            },
            "symbol": {
             "angle": 0,
             "color": [
              255,
              255,
              255,
              64
             ],
             "outline": {
              "color": [
               0,
               0,
               0,
               255
              ],
              "style": "esriSLSSolid",
              "type": "esriSLS",
              "width": 0.75
             },
             "size": 12,
             "style": "esriSMSCircle",
             "type": "esriSMS",
             "xoffset": 0,
             "yoffset": 0
            }
           },
           {
            "attributes": {},
            "geometry": {
             "spatialReference": {
              "wkid": 4326
             },
             "x": -76.93402249999997,
             "y": 38.99235100000004
            },
            "popupTemplate": {
             "description": "Peter's College Barber Shop",
             "title": "Stop 10"
            },
            "symbol": {
             "angle": 0,
             "color": [
              255,
              255,
              255,
              64
             ],
             "outline": {
              "color": [
               0,
               0,
               0,
               255
              ],
              "style": "esriSLSSolid",
              "type": "esriSLS",
              "width": 0.75
             },
             "size": 12,
             "style": "esriSMSCircle",
             "type": "esriSMS",
             "xoffset": 0,
             "yoffset": 0
            }
           },
           {
            "attributes": {},
            "geometry": {
             "spatialReference": {
              "wkid": 4326
             },
             "x": -76.93419409999996,
             "y": 38.99052040000004
            },
            "popupTemplate": {
             "description": "8110-8114 Baltimore Ave, College Park, Maryland, 20740",
             "title": "Stop 11"
            },
            "symbol": {
             "angle": 0,
             "color": [
              255,
              255,
              255,
              64
             ],
             "outline": {
              "color": [
               0,
               0,
               0,
               255
              ],
              "style": "esriSLSSolid",
              "type": "esriSLS",
              "width": 0.75
             },
             "size": 12,
             "style": "esriSMSCircle",
             "type": "esriSMS",
             "xoffset": 0,
             "yoffset": 0
            }
           },
           {
            "attributes": {},
            "geometry": {
             "spatialReference": {
              "wkid": 4326
             },
             "x": -76.93952399999995,
             "y": 38.98773500000004
            },
            "popupTemplate": {
             "description": "4132-4150 Campus Dr, College Park, Maryland, 20740",
             "title": "Stop 12"
            },
            "symbol": {
             "angle": 0,
             "color": [
              255,
              255,
              255,
              64
             ],
             "outline": {
              "color": [
               0,
               0,
               0,
               255
              ],
              "style": "esriSLSSolid",
              "type": "esriSLS",
              "width": 0.75
             },
             "size": 12,
             "style": "esriSMSCircle",
             "type": "esriSMS",
             "xoffset": 0,
             "yoffset": 0
            }
           },
           {
            "attributes": {},
            "geometry": {
             "spatialReference": {
              "wkid": 4326
             },
             "x": -76.94388199999997,
             "y": 38.98743100000007
            },
            "popupTemplate": {
             "description": "Campus Dr, College Park, Maryland, 20742",
             "title": "Stop 13"
            },
            "symbol": {
             "angle": 0,
             "color": [
              255,
              255,
              255,
              64
             ],
             "outline": {
              "color": [
               0,
               0,
               0,
               255
              ],
              "style": "esriSLSSolid",
              "type": "esriSLS",
              "width": 0.75
             },
             "size": 12,
             "style": "esriSMSCircle",
             "type": "esriSMS",
             "xoffset": 0,
             "yoffset": 0
            }
           }
          ],
          "id": "graphicsLayerId31195",
          "url": null
         }
        ]
       },
       "_readonly_zoom": 20,
       "_username": "sshete",
       "_uuid": "2e85b964-4137-47e4-a76e-4e2d6b806168",
       "_writeonly_end_time": "1900-01-01T00:00:00.000000",
       "_writeonly_start_time": "1900-01-01T00:00:00.000000",
       "_zoom": 15,
       "jupyter_target": "notebook",
       "layout": "IPY_MODEL_5ef13004761d4adc9cc884a9efdf4eff",
       "print_service_url": "",
       "ready": true,
       "tilt": 0
      }
     },
     "5ef13004761d4adc9cc884a9efdf4eff": {
      "model_module": "@jupyter-widgets/base",
      "model_module_version": "1.2.0",
      "model_name": "LayoutModel",
      "state": {
       "height": "400px",
       "width": "100%"
      }
     },
     "87b02991166d4eb3a7ed3e4c55c76f9b": {
      "model_module": "arcgis-map-ipywidget",
      "model_module_version": "1.8.5",
      "model_name": "ArcGISMapIPyWidgetModel",
      "state": {
       "_auth_mode": "tokenBased",
       "_basemap": "default",
       "_draw_these_graphics_on_widget_load": [],
       "_draw_these_notype_layers_on_widget_load": [],
       "_gallery_basemaps": {
        "default": {
         "baseMapLayers": [
          {
           "layerType": "ArcGISTiledMapServiceLayer",
           "resourceInfo": {
            "capabilities": "Map,Tilemap,Query,Data",
            "currentVersion": 10.3,
            "exportTilesAllowed": false,
            "fullExtent": {
             "spatialReference": {
              "latestWkid": 3857,
              "wkid": 102100
             },
             "xmax": 20037507.067161843,
             "xmin": -20037507.067161843,
             "ymax": 19971868.88040863,
             "ymin": -19971868.880408604
            },
            "initialExtent": {
             "spatialReference": {
              "latestWkid": 3857,
              "wkid": 102100
             },
             "xmax": 28848255.049479112,
             "xmin": -28848255.049479112,
             "ymax": 16430757.376790084,
             "ymin": -2077452.082122866
            },
            "layers": [
             {
              "defaultVisibility": false,
              "id": 0,
              "maxScale": 0,
              "minScale": 0,
              "name": "Citations",
              "parentLayerId": -1,
              "subLayerIds": null
             }
            ],
            "mapName": "Layers",
            "maxImageHeight": 4096,
            "maxImageWidth": 4096,
            "maxRecordCount": 100,
            "maxScale": 70.5310735,
            "minScale": 591657527.591555,
            "singleFusedMapCache": true,
            "spatialReference": {
             "latestWkid": 3857,
             "wkid": 102100
            },
            "supportedExtensions": "KmlServer",
            "supportedImageFormatTypes": "PNG32,PNG24,PNG,JPG,DIB,TIFF,EMF,PS,PDF,GIF,SVG,SVGZ,BMP",
            "supportedQueryFormats": "JSON, AMF",
            "supportsDynamicLayers": false,
            "tables": [],
            "tileInfo": {
             "cols": 256,
             "compressionQuality": 90,
             "dpi": 96,
             "format": "JPEG",
             "lods": [
              {
               "level": 0,
               "resolution": 156543.03392800014,
               "scale": 591657527.591555
              },
              {
               "level": 1,
               "resolution": 78271.51696399994,
               "scale": 295828763.795777
              },
              {
               "level": 2,
               "resolution": 39135.75848200009,
               "scale": 147914381.897889
              },
              {
               "level": 3,
               "resolution": 19567.87924099992,
               "scale": 73957190.948944
              },
              {
               "level": 4,
               "resolution": 9783.93962049996,
               "scale": 36978595.474472
              },
              {
               "level": 5,
               "resolution": 4891.96981024998,
               "scale": 18489297.737236
              },
              {
               "level": 6,
               "resolution": 2445.98490512499,
               "scale": 9244648.868618
              },
              {
               "level": 7,
               "resolution": 1222.992452562495,
               "scale": 4622324.434309
              },
              {
               "level": 8,
               "resolution": 611.4962262813797,
               "scale": 2311162.217155
              },
              {
               "level": 9,
               "resolution": 305.74811314055756,
               "scale": 1155581.108577
              },
              {
               "level": 10,
               "resolution": 152.87405657041106,
               "scale": 577790.554289
              },
              {
               "level": 11,
               "resolution": 76.43702828507324,
               "scale": 288895.277144
              },
              {
               "level": 12,
               "resolution": 38.21851414253662,
               "scale": 144447.638572
              },
              {
               "level": 13,
               "resolution": 19.10925707126831,
               "scale": 72223.819286
              },
              {
               "level": 14,
               "resolution": 9.554628535634155,
               "scale": 36111.909643
              },
              {
               "level": 15,
               "resolution": 4.77731426794937,
               "scale": 18055.954822
              },
              {
               "level": 16,
               "resolution": 2.388657133974685,
               "scale": 9027.977411
              },
              {
               "level": 17,
               "resolution": 1.1943285668550503,
               "scale": 4513.988705
              },
              {
               "level": 18,
               "resolution": 0.5971642835598172,
               "scale": 2256.994353
              },
              {
               "level": 19,
               "resolution": 0.29858214164761665,
               "scale": 1128.497176
              },
              {
               "level": 20,
               "resolution": 0.14929107082380833,
               "scale": 564.248588
              },
              {
               "level": 21,
               "resolution": 0.07464553541190416,
               "scale": 282.124294
              },
              {
               "level": 22,
               "resolution": 0.03732276770595208,
               "scale": 141.062147
              },
              {
               "level": 23,
               "resolution": 0.01866138385297604,
               "scale": 70.5310735
              }
             ],
             "origin": {
              "x": -20037508.342787,
              "y": 20037508.342787
             },
             "rows": 256,
             "spatialReference": {
              "latestWkid": 3857,
              "wkid": 102100
             }
            },
            "units": "esriMeters"
           },
           "url": "https://services.arcgisonline.com/ArcGIS/rest/services/World_Topo_Map/MapServer"
          }
         ],
         "title": "Topographic"
        }
       },
       "_overlay_these_images_on_widget_load": [],
       "_portal_sharing_rest_url": "https://ssbFmLCAQPoGBuDx.maps.arcgis.com/sharing/rest/",
       "_portal_token": "LvycSQmNPvHkVfDbQnc3xg5caHKynGdMkcyk6Sal7Aqkfs0HVgmuFQLcF2NCbvwtTLWGW6YGuCoe0E6xt_C6P58tx4HMtwjDiTBINB0B_3FgCNoDMbvdlD1Fhnez3gPsuV7WDohCCL7_Oirwz8lsOQ..",
       "_portal_url": "https://ssbFmLCAQPoGBuDx.maps.arcgis.com",
       "_username": "sshete",
       "_uuid": "8f0fcb47-2c37-487e-9526-97eda288f1c6",
       "_webmap": {
        "authoringApp": "ArcGISPythonAPI",
        "authoringAppVersion": "1.8.5",
        "baseMap": {
         "baseMapLayers": [
          {
           "layerType": "ArcGISTiledMapServiceLayer",
           "resourceInfo": {
            "capabilities": "Map,Tilemap,Query,Data",
            "currentVersion": 10.3,
            "exportTilesAllowed": false,
            "fullExtent": {
             "spatialReference": {
              "latestWkid": 3857,
              "wkid": 102100
             },
             "xmax": 20037507.067161843,
             "xmin": -20037507.067161843,
             "ymax": 19971868.88040863,
             "ymin": -19971868.880408604
            },
            "initialExtent": {
             "spatialReference": {
              "latestWkid": 3857,
              "wkid": 102100
             },
             "xmax": 28848255.049479112,
             "xmin": -28848255.049479112,
             "ymax": 16430757.376790084,
             "ymin": -2077452.082122866
            },
            "layers": [
             {
              "defaultVisibility": false,
              "id": 0,
              "maxScale": 0,
              "minScale": 0,
              "name": "Citations",
              "parentLayerId": -1,
              "subLayerIds": null
             }
            ],
            "mapName": "Layers",
            "maxImageHeight": 4096,
            "maxImageWidth": 4096,
            "maxRecordCount": 100,
            "maxScale": 70.5310735,
            "minScale": 591657527.591555,
            "singleFusedMapCache": true,
            "spatialReference": {
             "latestWkid": 3857,
             "wkid": 102100
            },
            "supportedExtensions": "KmlServer",
            "supportedImageFormatTypes": "PNG32,PNG24,PNG,JPG,DIB,TIFF,EMF,PS,PDF,GIF,SVG,SVGZ,BMP",
            "supportedQueryFormats": "JSON, AMF",
            "supportsDynamicLayers": false,
            "tables": [],
            "tileInfo": {
             "cols": 256,
             "compressionQuality": 90,
             "dpi": 96,
             "format": "JPEG",
             "lods": [
              {
               "level": 0,
               "resolution": 156543.03392800014,
               "scale": 591657527.591555
              },
              {
               "level": 1,
               "resolution": 78271.51696399994,
               "scale": 295828763.795777
              },
              {
               "level": 2,
               "resolution": 39135.75848200009,
               "scale": 147914381.897889
              },
              {
               "level": 3,
               "resolution": 19567.87924099992,
               "scale": 73957190.948944
              },
              {
               "level": 4,
               "resolution": 9783.93962049996,
               "scale": 36978595.474472
              },
              {
               "level": 5,
               "resolution": 4891.96981024998,
               "scale": 18489297.737236
              },
              {
               "level": 6,
               "resolution": 2445.98490512499,
               "scale": 9244648.868618
              },
              {
               "level": 7,
               "resolution": 1222.992452562495,
               "scale": 4622324.434309
              },
              {
               "level": 8,
               "resolution": 611.4962262813797,
               "scale": 2311162.217155
              },
              {
               "level": 9,
               "resolution": 305.74811314055756,
               "scale": 1155581.108577
              },
              {
               "level": 10,
               "resolution": 152.87405657041106,
               "scale": 577790.554289
              },
              {
               "level": 11,
               "resolution": 76.43702828507324,
               "scale": 288895.277144
              },
              {
               "level": 12,
               "resolution": 38.21851414253662,
               "scale": 144447.638572
              },
              {
               "level": 13,
               "resolution": 19.10925707126831,
               "scale": 72223.819286
              },
              {
               "level": 14,
               "resolution": 9.554628535634155,
               "scale": 36111.909643
              },
              {
               "level": 15,
               "resolution": 4.77731426794937,
               "scale": 18055.954822
              },
              {
               "level": 16,
               "resolution": 2.388657133974685,
               "scale": 9027.977411
              },
              {
               "level": 17,
               "resolution": 1.1943285668550503,
               "scale": 4513.988705
              },
              {
               "level": 18,
               "resolution": 0.5971642835598172,
               "scale": 2256.994353
              },
              {
               "level": 19,
               "resolution": 0.29858214164761665,
               "scale": 1128.497176
              },
              {
               "level": 20,
               "resolution": 0.14929107082380833,
               "scale": 564.248588
              },
              {
               "level": 21,
               "resolution": 0.07464553541190416,
               "scale": 282.124294
              },
              {
               "level": 22,
               "resolution": 0.03732276770595208,
               "scale": 141.062147
              },
              {
               "level": 23,
               "resolution": 0.01866138385297604,
               "scale": 70.5310735
              }
             ],
             "origin": {
              "x": -20037508.342787,
              "y": 20037508.342787
             },
             "rows": 256,
             "spatialReference": {
              "latestWkid": 3857,
              "wkid": 102100
             }
            },
            "units": "esriMeters"
           },
           "url": "https://services.arcgisonline.com/ArcGIS/rest/services/World_Topo_Map/MapServer"
          }
         ],
         "title": "Topographic"
        },
        "operationalLayers": [
         {
          "featureCollection": {
           "layers": [
            {
             "featureSet": {
              "features": [
               {
                "attributes": {
                 "OBJECTID": 1
                },
                "geometry": {
                 "paths": [
                  [
                   [
                    -76.94388199999997,
                    38.98753000000005
                   ],
                   [
                    -76.94421999999997,
                    38.98753000000005
                   ],
                   [
                    -76.94437999999997,
                    38.98753000000005
                   ],
                   [
                    -76.94537999999994,
                    38.98742000000004
                   ],
                   [
                    -76.94541999999996,
                    38.987520000000075
                   ],
                   [
                    -76.94541999999996,
                    38.98767000000004
                   ],
                   [
                    -76.94539999999995,
                    38.988000000000056
                   ],
                   [
                    -76.94539555799997,
                    38.98806958900008
                   ]
                  ],
                  [
                   [
                    -76.94539555799997,
                    38.98806958900008
                   ],
                   [
                    -76.94530829999997,
                    38.98869510000003
                   ]
                  ],
                  [
                   [
                    -76.94530829999997,
                    38.98869510000003
                   ],
                   [
                    -76.94526999999994,
                    38.98881000000006
                   ],
                   [
                    -76.94498999999996,
                    38.988770000000045
                   ],
                   [
                    -76.94455999999997,
                    38.988620000000026
                   ],
                   [
                    -76.94432999999998,
                    38.98869000000008
                   ],
                   [
                    -76.94408999999996,
                    38.98879000000005
                   ],
                   [
                    -76.94383999999997,
                    38.98900000000003
                   ],
                   [
                    -76.94381999999996,
                    38.98907000000003
                   ],
                   [
                    -76.94379999999995,
                    38.98915000000005
                   ],
                   [
                    -76.94371999999998,
                    38.98926000000006
                   ],
                   [
                    -76.94343999999995,
                    38.98943000000003
                   ],
                   [
                    -76.94228999999996,
                    38.98943000000003
                   ],
                   [
                    -76.94206999999994,
                    38.989310000000046
                   ],
                   [
                    -76.94206105399996,
                    38.98929479200007
                   ]
                  ],
                  [
                   [
                    -76.94206105399996,
                    38.98929479200007
                   ],
                   [
                    -76.94181999999995,
                    38.98909000000003
                   ],
                   [
                    -76.94069999999994,
                    38.98905000000008
                   ],
                   [
                    -76.94066999999995,
                    38.98866000000004
                   ],
                   [
                    -76.94066999999995,
                    38.988510000000076
                   ],
                   [
                    -76.94064999999995,
                    38.98828000000003
                   ],
                   [
                    -76.94062999999994,
                    38.98812000000004
                   ],
                   [
                    -76.94062999999994,
                    38.98794000000004
                   ],
                   [
                    -76.94048999999995,
                    38.987640000000056
                   ],
                   [
                    -76.94048999999995,
                    38.98759000000007
                   ],
                   [
                    -76.94045999999997,
                    38.987540000000024
                   ],
                   [
                    -76.94031999999999,
                    38.987430000000074
                   ],
                   [
                    -76.94013999999999,
                    38.98678000000007
                   ],
                   [
                    -76.94013999999999,
                    38.98669000000007
                   ],
                   [
                    -76.94013999999999,
                    38.98664900000006
                   ]
                  ],
                  [
                   [
                    -76.94013999999999,
                    38.98664900000006
                   ],
                   [
                    -76.94013999999999,
                    38.98654000000005
                   ],
                   [
                    -76.94013999999999,
                    38.98648000000003
                   ],
                   [
                    -76.94012999999995,
                    38.98562000000004
                   ],
                   [
                    -76.94010999999995,
                    38.98553000000004
                   ],
                   [
                    -76.94009999999997,
                    38.98526000000004
                   ],
                   [
                    -76.94010999999995,
                    38.98493000000008
                   ],
                   [
                    -76.94010976099997,
                    38.98492377800005
                   ]
                  ],
                  [
                   [
                    -76.94010976099997,
                    38.98492377800005
                   ],
                   [
                    -76.94009999999997,
                    38.98467000000005
                   ],
                   [
                    -76.94008999999994,
                    38.98461000000003
                   ],
                   [
                    -76.94012999999995,
                    38.98442000000006
                   ],
                   [
                    -76.94009999999997,
                    38.984200000000044
                   ],
                   [
                    -76.93998999999997,
                    38.98335000000003
                   ],
                   [
                    -76.93990999999994,
                    38.98305000000005
                   ],
                   [
                    -76.93980999999997,
                    38.98288000000008
                   ],
                   [
                    -76.93959999999998,
                    38.98267000000004
                   ],
                   [
                    -76.93913384699994,
                    38.98246867200004
                   ]
                  ],
                  [
                   [
                    -76.93913384699994,
                    38.98246867200004
                   ],
                   [
                    -76.93910999999997,
                    38.98246000000006
                   ],
                   [
                    -76.93885999999998,
                    38.982380000000035
                   ],
                   [
                    -76.93858999999998,
                    38.98232000000007
                   ],
                   [
                    -76.93798999999996,
                    38.98215000000005
                   ],
                   [
                    -76.93782999999996,
                    38.982120000000066
                   ],
                   [
                    -76.93782999999996,
                    38.98277000000007
                   ],
                   [
                    -76.93781999999999,
                    38.98284000000007
                   ],
                   [
                    -76.93777999999998,
                    38.98311000000007
                   ],
                   [
                    -76.93772999999999,
                    38.98348000000004
                   ],
                   [
                    -76.93765999999994,
                    38.98380000000003
                   ],
                   [
                    -76.93748999999997,
                    38.98442000000006
                   ],
                   [
                    -76.93725999999998,
                    38.98502000000008
                   ],
                   [
                    -76.93713648899995,
                    38.98529447000004
                   ]
                  ],
                  [
                   [
                    -76.93713648899995,
                    38.98529447000004
                   ],
                   [
                    -76.93707999999998,
                    38.98542000000003
                   ],
                   [
                    -76.93699999999995,
                    38.98557000000005
                   ],
                   [
                    -76.93665999999996,
                    38.98617000000007
                   ],
                   [
                    -76.93654999999995,
                    38.986330000000066
                   ],
                   [
                    -76.93632999999994,
                    38.98666000000003
                   ],
                   [
                    -76.93616999999995,
                    38.98689000000007
                   ],
                   [
                    -76.93583999999998,
                    38.98738000000003
                   ],
                   [
                    -76.93511999999998,
                    38.98846000000003
                   ],
                   [
                    -76.93509999999998,
                    38.98849000000007
                   ],
                   [
                    -76.93506999999994,
                    38.988680000000045
                   ],
                   [
                    -76.93503999999996,
                    38.98873000000003
                   ],
                   [
                    -76.93491999999998,
                    38.98893000000004
                   ],
                   [
                    -76.93475999999998,
                    38.98920000000004
                   ],
                   [
                    -76.93463999999994,
                    38.98938000000004
                   ],
                   [
                    -76.93452999999994,
                    38.989540000000034
                   ],
                   [
                    -76.93440999999996,
                    38.98975000000007
                   ],
                   [
                    -76.93433999999996,
                    38.98989000000006
                   ],
                   [
                    -76.93421999999998,
                    38.98985000000005
                   ],
                   [
                    -76.93380999999994,
                    38.989720000000034
                   ],
                   [
                    -76.93345999999997,
                    38.989630000000034
                   ],
                   [
                    -76.93335999999994,
                    38.98961000000003
                   ],
                   [
                    -76.93302999999997,
                    38.98956000000004
                   ],
                   [
                    -76.93287999999995,
                    38.989550000000065
                   ],
                   [
                    -76.93274999999994,
                    38.989540000000034
                   ],
                   [
                    -76.93263999999994,
                    38.98953000000006
                   ],
                   [
                    -76.93250999999998,
                    38.98951000000005
                   ],
                   [
                    -76.93230999999997,
                    38.989490000000046
                   ],
                   [
                    -76.93068999999997,
                    38.98925000000003
                   ],
                   [
                    -76.93049999999994,
                    38.98923000000008
                   ],
                   [
                    -76.93002999999999,
                    38.98917000000006
                   ],
                   [
                    -76.92934999999994,
                    38.98908000000006
                   ],
                   [
                    -76.92873999999995,
                    38.98900000000003
                   ],
                   [
                    -76.92859999999996,
                    38.98932000000008
                   ],
                   [
                    -76.92843999999997,
                    38.98977000000008
                   ],
                   [
                    -76.92973538899997,
                    38.99058493900003
                   ]
                  ],
                  [
                   [
                    -76.92973538899997,
                    38.99058493900003
                   ],
                   [
                    -76.92994999999996,
                    38.990710000000036
                   ],
                   [
                    -76.93024999999994,
                    38.990890000000036
                   ],
                   [
                    -76.93043999999998,
                    38.99100000000004
                   ],
                   [
                    -76.93114999999995,
                    38.991480000000024
                   ],
                   [
                    -76.93139999999994,
                    38.991660000000024
                   ],
                   [
                    -76.93175999999994,
                    38.99188000000004
                   ],
                   [
                    -76.93220999999994,
                    38.99215000000004
                   ],
                   [
                    -76.93257999999997,
                    38.99237000000005
                   ],
                   [
                    -76.93271999999996,
                    38.992450000000076
                   ],
                   [
                    -76.93313999999998,
                    38.992650000000026
                   ],
                   [
                    -76.93317999999994,
                    38.992560000000026
                   ],
                   [
                    -76.93335999999994,
                    38.99215000000004
                   ],
                   [
                    -76.93399999999997,
                    38.99230000000006
                   ],
                   [
                    -76.93403467899998,
                    38.99231040400008
                   ]
                  ],
                  [
                   [
                    -76.93403467899998,
                    38.99231040400008
                   ],
                   [
                    -76.93399999999997,
                    38.99230000000006
                   ],
                   [
                    -76.93335999999994,
                    38.99215000000004
                   ],
                   [
                    -76.93340999999998,
                    38.99203000000006
                   ],
                   [
                    -76.93349999999998,
                    38.991840000000025
                   ],
                   [
                    -76.93358999999998,
                    38.991660000000024
                   ],
                   [
                    -76.93365999999997,
                    38.99150000000003
                   ],
                   [
                    -76.93372999999997,
                    38.99130000000008
                   ],
                   [
                    -76.93379999999996,
                    38.99114000000003
                   ],
                   [
                    -76.93391999999994,
                    38.99088000000006
                   ],
                   [
                    -76.93397999999996,
                    38.99073000000004
                   ],
                   [
                    -76.93401999999998,
                    38.99064000000004
                   ],
                   [
                    -76.93409310499999,
                    38.990475513000035
                   ]
                  ],
                  [
                   [
                    -76.93409310499999,
                    38.990475513000035
                   ],
                   [
                    -76.93414999999999,
                    38.99034000000006
                   ],
                   [
                    -76.93440999999996,
                    38.98975000000007
                   ],
                   [
                    -76.93452999999994,
                    38.989540000000034
                   ],
                   [
                    -76.93463999999994,
                    38.98938000000004
                   ],
                   [
                    -76.93475999999998,
                    38.98920000000004
                   ],
                   [
                    -76.93491999999998,
                    38.98893000000004
                   ],
                   [
                    -76.93503999999996,
                    38.98873000000003
                   ],
                   [
                    -76.93506999999994,
                    38.988680000000045
                   ],
                   [
                    -76.93564999999995,
                    38.988740000000064
                   ],
                   [
                    -76.93606999999997,
                    38.98873000000003
                   ],
                   [
                    -76.93665999999996,
                    38.988530000000026
                   ],
                   [
                    -76.93753999999996,
                    38.98829000000006
                   ],
                   [
                    -76.93853999999999,
                    38.98795000000007
                   ],
                   [
                    -76.93874999999997,
                    38.987880000000075
                   ],
                   [
                    -76.93904999999995,
                    38.987790000000075
                   ],
                   [
                    -76.93941999999998,
                    38.987700000000075
                   ],
                   [
                    -76.93952399999995,
                    38.987700000000075
                   ]
                  ],
                  [
                   [
                    -76.93952399999995,
                    38.987700000000075
                   ],
                   [
                    -76.93972999999994,
                    38.987720000000024
                   ],
                   [
                    -76.93988999999993,
                    38.987730000000056
                   ],
                   [
                    -76.94024999999993,
                    38.987810000000025
                   ],
                   [
                    -76.94048999999995,
                    38.987640000000056
                   ],
                   [
                    -76.94048999999995,
                    38.98759000000007
                   ],
                   [
                    -76.94107999999994,
                    38.98757000000006
                   ],
                   [
                    -76.94121999999999,
                    38.98756000000003
                   ],
                   [
                    -76.94145999999995,
                    38.987550000000056
                   ],
                   [
                    -76.94170999999994,
                    38.987540000000024
                   ],
                   [
                    -76.94216999999998,
                    38.987540000000024
                   ],
                   [
                    -76.94260999999995,
                    38.987540000000024
                   ],
                   [
                    -76.94319999999993,
                    38.98753000000005
                   ],
                   [
                    -76.94343999999995,
                    38.98753000000005
                   ],
                   [
                    -76.94388199999997,
                    38.98753000000005
                   ]
                  ]
                 ],
                 "spatialReference": {
                  "wkid": 4326
                 },
                 "type": "polyline"
                }
               }
              ],
              "geometryType": "esriGeometryPolyline"
             },
             "layerDefinition": {
              "drawingInfo": {
               "renderer": {
                "symbol": {
                 "color": [
                  0,
                  191,
                  255,
                  90
                 ],
                 "style": "esriSLSSolid",
                 "type": "esriSLS",
                 "width": 4
                },
                "type": "simple"
               }
              },
              "fields": [
               {
                "alias": "OBJECTID",
                "name": "OBJECTID",
                "sqlType": "sqlTypeOther",
                "type": "esriFieldTypeOID"
               }
              ],
              "geometryType": "esriGeometryPolyline",
              "name": "Notebook sketch layer",
              "objectIdField": "OBJECTID",
              "spatialReference": {
               "wkid": 4326
              },
              "type": "Feature Layer"
             },
             "popupInfo": {
              "description": null,
              "fieldInfos": [
               {
                "fieldName": "OBJECTID",
                "isEditable": true,
                "label": "OBJECTID",
                "visible": true
               }
              ],
              "mediaInfos": [],
              "showAttachments": true,
              "title": "Notebook sketch layer"
             }
            }
           ]
          },
          "id": "2a39aa41-35a4-4483-b495-4bf1451564be",
          "layerDefinition": {
           "definitionExpression": null
          },
          "layerType": "ArcGISFeatureLayer",
          "opacity": 1,
          "title": "Notebook sketch layer",
          "visibility": true
         },
         {
          "featureCollection": {
           "layers": [
            {
             "featureSet": {
              "features": [
               {
                "attributes": {
                 "OBJECTID": 1
                },
                "geometry": {
                 "spatialReference": {
                  "wkid": 4326
                 },
                 "type": "point",
                 "x": -76.94388199999997,
                 "y": 38.98743100000007
                }
               }
              ],
              "geometryType": "esriGeometryPoint"
             },
             "layerDefinition": {
              "drawingInfo": {
               "renderer": {
                "symbol": {
                 "angle": 0,
                 "contentType": "image/png",
                 "height": 24,
                 "type": "esriPMS",
                 "url": "https://esri.github.io/arcgis-python-api/notebooks/nbimages/pink.png",
                 "width": 24,
                 "xoffset": 0,
                 "yoffset": 12
                },
                "type": "simple"
               }
              },
              "fields": [
               {
                "alias": "OBJECTID",
                "name": "OBJECTID",
                "sqlType": "sqlTypeOther",
                "type": "esriFieldTypeOID"
               }
              ],
              "geometryType": "esriGeometryPoint",
              "name": "Notebook sketch layer",
              "objectIdField": "OBJECTID",
              "spatialReference": {
               "wkid": 4326
              },
              "type": "Feature Layer"
             },
             "popupInfo": {
              "description": null,
              "fieldInfos": [
               {
                "fieldName": "OBJECTID",
                "isEditable": true,
                "label": "OBJECTID",
                "visible": true
               }
              ],
              "mediaInfos": [],
              "showAttachments": true,
              "title": "Notebook sketch layer"
             }
            }
           ]
          },
          "id": "cbd041ee-a3f3-4759-9e9c-203db2191b7c",
          "layerDefinition": {
           "definitionExpression": null
          },
          "layerType": "ArcGISFeatureLayer",
          "opacity": 1,
          "title": "Notebook sketch layer",
          "visibility": true
         },
         {
          "featureCollection": {
           "layers": [
            {
             "featureSet": {
              "features": [
               {
                "attributes": {
                 "OBJECTID": 1
                },
                "geometry": {
                 "spatialReference": {
                  "wkid": 4326
                 },
                 "type": "point",
                 "x": -76.94535499999995,
                 "y": 38.98806700000006
                }
               }
              ],
              "geometryType": "esriGeometryPoint"
             },
             "layerDefinition": {
              "drawingInfo": {
               "renderer": {
                "symbol": {
                 "angle": 0,
                 "contentType": "image/png",
                 "height": 24,
                 "type": "esriPMS",
                 "url": "https://esri.github.io/arcgis-python-api/notebooks/nbimages/pink.png",
                 "width": 24,
                 "xoffset": 0,
                 "yoffset": 12
                },
                "type": "simple"
               }
              },
              "fields": [
               {
                "alias": "OBJECTID",
                "name": "OBJECTID",
                "sqlType": "sqlTypeOther",
                "type": "esriFieldTypeOID"
               }
              ],
              "geometryType": "esriGeometryPoint",
              "name": "Notebook sketch layer",
              "objectIdField": "OBJECTID",
              "spatialReference": {
               "wkid": 4326
              },
              "type": "Feature Layer"
             },
             "popupInfo": {
              "description": null,
              "fieldInfos": [
               {
                "fieldName": "OBJECTID",
                "isEditable": true,
                "label": "OBJECTID",
                "visible": true
               }
              ],
              "mediaInfos": [],
              "showAttachments": true,
              "title": "Notebook sketch layer"
             }
            }
           ]
          },
          "id": "dbc3d85e-b43a-4cc2-872e-f75d550d2445",
          "layerDefinition": {
           "definitionExpression": null
          },
          "layerType": "ArcGISFeatureLayer",
          "opacity": 1,
          "title": "Notebook sketch layer",
          "visibility": true
         },
         {
          "featureCollection": {
           "layers": [
            {
             "featureSet": {
              "features": [
               {
                "attributes": {
                 "OBJECTID": 1
                },
                "geometry": {
                 "spatialReference": {
                  "wkid": 4326
                 },
                 "type": "point",
                 "x": -76.94529299999994,
                 "y": 38.98869000000008
                }
               }
              ],
              "geometryType": "esriGeometryPoint"
             },
             "layerDefinition": {
              "drawingInfo": {
               "renderer": {
                "symbol": {
                 "angle": 0,
                 "contentType": "image/png",
                 "height": 24,
                 "type": "esriPMS",
                 "url": "https://esri.github.io/arcgis-python-api/notebooks/nbimages/pink.png",
                 "width": 24,
                 "xoffset": 0,
                 "yoffset": 12
                },
                "type": "simple"
               }
              },
              "fields": [
               {
                "alias": "OBJECTID",
                "name": "OBJECTID",
                "sqlType": "sqlTypeOther",
                "type": "esriFieldTypeOID"
               }
              ],
              "geometryType": "esriGeometryPoint",
              "name": "Notebook sketch layer",
              "objectIdField": "OBJECTID",
              "spatialReference": {
               "wkid": 4326
              },
              "type": "Feature Layer"
             },
             "popupInfo": {
              "description": null,
              "fieldInfos": [
               {
                "fieldName": "OBJECTID",
                "isEditable": true,
                "label": "OBJECTID",
                "visible": true
               }
              ],
              "mediaInfos": [],
              "showAttachments": true,
              "title": "Notebook sketch layer"
             }
            }
           ]
          },
          "id": "17429037-2d7e-4b0a-b1c5-ee2629ceab40",
          "layerDefinition": {
           "definitionExpression": null
          },
          "layerType": "ArcGISFeatureLayer",
          "opacity": 1,
          "title": "Notebook sketch layer",
          "visibility": true
         },
         {
          "featureCollection": {
           "layers": [
            {
             "featureSet": {
              "features": [
               {
                "attributes": {
                 "OBJECTID": 1
                },
                "geometry": {
                 "spatialReference": {
                  "wkid": 4326
                 },
                 "type": "point",
                 "x": -76.94212699999997,
                 "y": 38.98925600000007
                }
               }
              ],
              "geometryType": "esriGeometryPoint"
             },
             "layerDefinition": {
              "drawingInfo": {
               "renderer": {
                "symbol": {
                 "angle": 0,
                 "contentType": "image/png",
                 "height": 24,
                 "type": "esriPMS",
                 "url": "https://esri.github.io/arcgis-python-api/notebooks/nbimages/pink.png",
                 "width": 24,
                 "xoffset": 0,
                 "yoffset": 12
                },
                "type": "simple"
               }
              },
              "fields": [
               {
                "alias": "OBJECTID",
                "name": "OBJECTID",
                "sqlType": "sqlTypeOther",
                "type": "esriFieldTypeOID"
               }
              ],
              "geometryType": "esriGeometryPoint",
              "name": "Notebook sketch layer",
              "objectIdField": "OBJECTID",
              "spatialReference": {
               "wkid": 4326
              },
              "type": "Feature Layer"
             },
             "popupInfo": {
              "description": null,
              "fieldInfos": [
               {
                "fieldName": "OBJECTID",
                "isEditable": true,
                "label": "OBJECTID",
                "visible": true
               }
              ],
              "mediaInfos": [],
              "showAttachments": true,
              "title": "Notebook sketch layer"
             }
            }
           ]
          },
          "id": "fa286210-b9e2-4233-a4e7-5121fb74f293",
          "layerDefinition": {
           "definitionExpression": null
          },
          "layerType": "ArcGISFeatureLayer",
          "opacity": 1,
          "title": "Notebook sketch layer",
          "visibility": true
         },
         {
          "featureCollection": {
           "layers": [
            {
             "featureSet": {
              "features": [
               {
                "attributes": {
                 "OBJECTID": 1
                },
                "geometry": {
                 "spatialReference": {
                  "wkid": 4326
                 },
                 "type": "point",
                 "x": -76.94023899999996,
                 "y": 38.98664900000006
                }
               }
              ],
              "geometryType": "esriGeometryPoint"
             },
             "layerDefinition": {
              "drawingInfo": {
               "renderer": {
                "symbol": {
                 "angle": 0,
                 "contentType": "image/png",
                 "height": 24,
                 "type": "esriPMS",
                 "url": "https://esri.github.io/arcgis-python-api/notebooks/nbimages/pink.png",
                 "width": 24,
                 "xoffset": 0,
                 "yoffset": 12
                },
                "type": "simple"
               }
              },
              "fields": [
               {
                "alias": "OBJECTID",
                "name": "OBJECTID",
                "sqlType": "sqlTypeOther",
                "type": "esriFieldTypeOID"
               }
              ],
              "geometryType": "esriGeometryPoint",
              "name": "Notebook sketch layer",
              "objectIdField": "OBJECTID",
              "spatialReference": {
               "wkid": 4326
              },
              "type": "Feature Layer"
             },
             "popupInfo": {
              "description": null,
              "fieldInfos": [
               {
                "fieldName": "OBJECTID",
                "isEditable": true,
                "label": "OBJECTID",
                "visible": true
               }
              ],
              "mediaInfos": [],
              "showAttachments": true,
              "title": "Notebook sketch layer"
             }
            }
           ]
          },
          "id": "4f514834-a8db-424a-adcf-2b575805eab0",
          "layerDefinition": {
           "definitionExpression": null
          },
          "layerType": "ArcGISFeatureLayer",
          "opacity": 1,
          "title": "Notebook sketch layer",
          "visibility": true
         },
         {
          "featureCollection": {
           "layers": [
            {
             "featureSet": {
              "features": [
               {
                "attributes": {
                 "OBJECTID": 1
                },
                "geometry": {
                 "spatialReference": {
                  "wkid": 4326
                 },
                 "type": "point",
                 "x": -76.94015599999994,
                 "y": 38.98492200000004
                }
               }
              ],
              "geometryType": "esriGeometryPoint"
             },
             "layerDefinition": {
              "drawingInfo": {
               "renderer": {
                "symbol": {
                 "angle": 0,
                 "contentType": "image/png",
                 "height": 24,
                 "type": "esriPMS",
                 "url": "https://esri.github.io/arcgis-python-api/notebooks/nbimages/pink.png",
                 "width": 24,
                 "xoffset": 0,
                 "yoffset": 12
                },
                "type": "simple"
               }
              },
              "fields": [
               {
                "alias": "OBJECTID",
                "name": "OBJECTID",
                "sqlType": "sqlTypeOther",
                "type": "esriFieldTypeOID"
               }
              ],
              "geometryType": "esriGeometryPoint",
              "name": "Notebook sketch layer",
              "objectIdField": "OBJECTID",
              "spatialReference": {
               "wkid": 4326
              },
              "type": "Feature Layer"
             },
             "popupInfo": {
              "description": null,
              "fieldInfos": [
               {
                "fieldName": "OBJECTID",
                "isEditable": true,
                "label": "OBJECTID",
                "visible": true
               }
              ],
              "mediaInfos": [],
              "showAttachments": true,
              "title": "Notebook sketch layer"
             }
            }
           ]
          },
          "id": "d6084261-fb9f-4b57-81a9-38d51ccf6770",
          "layerDefinition": {
           "definitionExpression": null
          },
          "layerType": "ArcGISFeatureLayer",
          "opacity": 1,
          "title": "Notebook sketch layer",
          "visibility": true
         },
         {
          "featureCollection": {
           "layers": [
            {
             "featureSet": {
              "features": [
               {
                "attributes": {
                 "OBJECTID": 1
                },
                "geometry": {
                 "spatialReference": {
                  "wkid": 4326
                 },
                 "type": "point",
                 "x": -76.93914899999999,
                 "y": 38.98242700000003
                }
               }
              ],
              "geometryType": "esriGeometryPoint"
             },
             "layerDefinition": {
              "drawingInfo": {
               "renderer": {
                "symbol": {
                 "angle": 0,
                 "contentType": "image/png",
                 "height": 24,
                 "type": "esriPMS",
                 "url": "https://esri.github.io/arcgis-python-api/notebooks/nbimages/pink.png",
                 "width": 24,
                 "xoffset": 0,
                 "yoffset": 12
                },
                "type": "simple"
               }
              },
              "fields": [
               {
                "alias": "OBJECTID",
                "name": "OBJECTID",
                "sqlType": "sqlTypeOther",
                "type": "esriFieldTypeOID"
               }
              ],
              "geometryType": "esriGeometryPoint",
              "name": "Notebook sketch layer",
              "objectIdField": "OBJECTID",
              "spatialReference": {
               "wkid": 4326
              },
              "type": "Feature Layer"
             },
             "popupInfo": {
              "description": null,
              "fieldInfos": [
               {
                "fieldName": "OBJECTID",
                "isEditable": true,
                "label": "OBJECTID",
                "visible": true
               }
              ],
              "mediaInfos": [],
              "showAttachments": true,
              "title": "Notebook sketch layer"
             }
            }
           ]
          },
          "id": "060b269b-4540-41ed-a60c-bde92e283143",
          "layerDefinition": {
           "definitionExpression": null
          },
          "layerType": "ArcGISFeatureLayer",
          "opacity": 1,
          "title": "Notebook sketch layer",
          "visibility": true
         },
         {
          "featureCollection": {
           "layers": [
            {
             "featureSet": {
              "features": [
               {
                "attributes": {
                 "OBJECTID": 1
                },
                "geometry": {
                 "spatialReference": {
                  "wkid": 4326
                 },
                 "type": "point",
                 "x": -76.93709099999995,
                 "y": 38.98527400000006
                }
               }
              ],
              "geometryType": "esriGeometryPoint"
             },
             "layerDefinition": {
              "drawingInfo": {
               "renderer": {
                "symbol": {
                 "angle": 0,
                 "contentType": "image/png",
                 "height": 24,
                 "type": "esriPMS",
                 "url": "https://esri.github.io/arcgis-python-api/notebooks/nbimages/pink.png",
                 "width": 24,
                 "xoffset": 0,
                 "yoffset": 12
                },
                "type": "simple"
               }
              },
              "fields": [
               {
                "alias": "OBJECTID",
                "name": "OBJECTID",
                "sqlType": "sqlTypeOther",
                "type": "esriFieldTypeOID"
               }
              ],
              "geometryType": "esriGeometryPoint",
              "name": "Notebook sketch layer",
              "objectIdField": "OBJECTID",
              "spatialReference": {
               "wkid": 4326
              },
              "type": "Feature Layer"
             },
             "popupInfo": {
              "description": null,
              "fieldInfos": [
               {
                "fieldName": "OBJECTID",
                "isEditable": true,
                "label": "OBJECTID",
                "visible": true
               }
              ],
              "mediaInfos": [],
              "showAttachments": true,
              "title": "Notebook sketch layer"
             }
            }
           ]
          },
          "id": "f65d665c-bf70-4d40-901c-69a4dc203f7c",
          "layerDefinition": {
           "definitionExpression": null
          },
          "layerType": "ArcGISFeatureLayer",
          "opacity": 1,
          "title": "Notebook sketch layer",
          "visibility": true
         },
         {
          "featureCollection": {
           "layers": [
            {
             "featureSet": {
              "features": [
               {
                "attributes": {
                 "OBJECTID": 1
                },
                "geometry": {
                 "spatialReference": {
                  "wkid": 4326
                 },
                 "type": "point",
                 "x": -76.92971899999998,
                 "y": 38.990613100000076
                }
               }
              ],
              "geometryType": "esriGeometryPoint"
             },
             "layerDefinition": {
              "drawingInfo": {
               "renderer": {
                "symbol": {
                 "angle": 0,
                 "contentType": "image/png",
                 "height": 24,
                 "type": "esriPMS",
                 "url": "https://esri.github.io/arcgis-python-api/notebooks/nbimages/pink.png",
                 "width": 24,
                 "xoffset": 0,
                 "yoffset": 12
                },
                "type": "simple"
               }
              },
              "fields": [
               {
                "alias": "OBJECTID",
                "name": "OBJECTID",
                "sqlType": "sqlTypeOther",
                "type": "esriFieldTypeOID"
               }
              ],
              "geometryType": "esriGeometryPoint",
              "name": "Notebook sketch layer",
              "objectIdField": "OBJECTID",
              "spatialReference": {
               "wkid": 4326
              },
              "type": "Feature Layer"
             },
             "popupInfo": {
              "description": null,
              "fieldInfos": [
               {
                "fieldName": "OBJECTID",
                "isEditable": true,
                "label": "OBJECTID",
                "visible": true
               }
              ],
              "mediaInfos": [],
              "showAttachments": true,
              "title": "Notebook sketch layer"
             }
            }
           ]
          },
          "id": "44aec749-aef6-49d1-ab43-93a4e08c05b7",
          "layerDefinition": {
           "definitionExpression": null
          },
          "layerType": "ArcGISFeatureLayer",
          "opacity": 1,
          "title": "Notebook sketch layer",
          "visibility": true
         },
         {
          "featureCollection": {
           "layers": [
            {
             "featureSet": {
              "features": [
               {
                "attributes": {
                 "OBJECTID": 1
                },
                "geometry": {
                 "spatialReference": {
                  "wkid": 4326
                 },
                 "type": "point",
                 "x": -76.93402249999997,
                 "y": 38.99235100000004
                }
               }
              ],
              "geometryType": "esriGeometryPoint"
             },
             "layerDefinition": {
              "drawingInfo": {
               "renderer": {
                "symbol": {
                 "angle": 0,
                 "contentType": "image/png",
                 "height": 24,
                 "type": "esriPMS",
                 "url": "https://esri.github.io/arcgis-python-api/notebooks/nbimages/pink.png",
                 "width": 24,
                 "xoffset": 0,
                 "yoffset": 12
                },
                "type": "simple"
               }
              },
              "fields": [
               {
                "alias": "OBJECTID",
                "name": "OBJECTID",
                "sqlType": "sqlTypeOther",
                "type": "esriFieldTypeOID"
               }
              ],
              "geometryType": "esriGeometryPoint",
              "name": "Notebook sketch layer",
              "objectIdField": "OBJECTID",
              "spatialReference": {
               "wkid": 4326
              },
              "type": "Feature Layer"
             },
             "popupInfo": {
              "description": null,
              "fieldInfos": [
               {
                "fieldName": "OBJECTID",
                "isEditable": true,
                "label": "OBJECTID",
                "visible": true
               }
              ],
              "mediaInfos": [],
              "showAttachments": true,
              "title": "Notebook sketch layer"
             }
            }
           ]
          },
          "id": "a40fe87f-c352-4894-817a-36b7a948c154",
          "layerDefinition": {
           "definitionExpression": null
          },
          "layerType": "ArcGISFeatureLayer",
          "opacity": 1,
          "title": "Notebook sketch layer",
          "visibility": true
         },
         {
          "featureCollection": {
           "layers": [
            {
             "featureSet": {
              "features": [
               {
                "attributes": {
                 "OBJECTID": 1
                },
                "geometry": {
                 "spatialReference": {
                  "wkid": 4326
                 },
                 "type": "point",
                 "x": -76.93419409999996,
                 "y": 38.99052040000004
                }
               }
              ],
              "geometryType": "esriGeometryPoint"
             },
             "layerDefinition": {
              "drawingInfo": {
               "renderer": {
                "symbol": {
                 "angle": 0,
                 "contentType": "image/png",
                 "height": 24,
                 "type": "esriPMS",
                 "url": "https://esri.github.io/arcgis-python-api/notebooks/nbimages/pink.png",
                 "width": 24,
                 "xoffset": 0,
                 "yoffset": 12
                },
                "type": "simple"
               }
              },
              "fields": [
               {
                "alias": "OBJECTID",
                "name": "OBJECTID",
                "sqlType": "sqlTypeOther",
                "type": "esriFieldTypeOID"
               }
              ],
              "geometryType": "esriGeometryPoint",
              "name": "Notebook sketch layer",
              "objectIdField": "OBJECTID",
              "spatialReference": {
               "wkid": 4326
              },
              "type": "Feature Layer"
             },
             "popupInfo": {
              "description": null,
              "fieldInfos": [
               {
                "fieldName": "OBJECTID",
                "isEditable": true,
                "label": "OBJECTID",
                "visible": true
               }
              ],
              "mediaInfos": [],
              "showAttachments": true,
              "title": "Notebook sketch layer"
             }
            }
           ]
          },
          "id": "1fb660a8-1d60-4d8a-be4d-2b3f27ef359d",
          "layerDefinition": {
           "definitionExpression": null
          },
          "layerType": "ArcGISFeatureLayer",
          "opacity": 1,
          "title": "Notebook sketch layer",
          "visibility": true
         },
         {
          "featureCollection": {
           "layers": [
            {
             "featureSet": {
              "features": [
               {
                "attributes": {
                 "OBJECTID": 1
                },
                "geometry": {
                 "spatialReference": {
                  "wkid": 4326
                 },
                 "type": "point",
                 "x": -76.93952399999995,
                 "y": 38.98773500000004
                }
               }
              ],
              "geometryType": "esriGeometryPoint"
             },
             "layerDefinition": {
              "drawingInfo": {
               "renderer": {
                "symbol": {
                 "angle": 0,
                 "contentType": "image/png",
                 "height": 24,
                 "type": "esriPMS",
                 "url": "https://esri.github.io/arcgis-python-api/notebooks/nbimages/pink.png",
                 "width": 24,
                 "xoffset": 0,
                 "yoffset": 12
                },
                "type": "simple"
               }
              },
              "fields": [
               {
                "alias": "OBJECTID",
                "name": "OBJECTID",
                "sqlType": "sqlTypeOther",
                "type": "esriFieldTypeOID"
               }
              ],
              "geometryType": "esriGeometryPoint",
              "name": "Notebook sketch layer",
              "objectIdField": "OBJECTID",
              "spatialReference": {
               "wkid": 4326
              },
              "type": "Feature Layer"
             },
             "popupInfo": {
              "description": null,
              "fieldInfos": [
               {
                "fieldName": "OBJECTID",
                "isEditable": true,
                "label": "OBJECTID",
                "visible": true
               }
              ],
              "mediaInfos": [],
              "showAttachments": true,
              "title": "Notebook sketch layer"
             }
            }
           ]
          },
          "id": "1598ea69-7e80-43af-a886-77a8744b4142",
          "layerDefinition": {
           "definitionExpression": null
          },
          "layerType": "ArcGISFeatureLayer",
          "opacity": 1,
          "title": "Notebook sketch layer",
          "visibility": true
         },
         {
          "featureCollection": {
           "layers": [
            {
             "featureSet": {
              "features": [
               {
                "attributes": {
                 "OBJECTID": 1
                },
                "geometry": {
                 "spatialReference": {
                  "wkid": 4326
                 },
                 "type": "point",
                 "x": -76.94388199999997,
                 "y": 38.98743100000007
                }
               }
              ],
              "geometryType": "esriGeometryPoint"
             },
             "layerDefinition": {
              "drawingInfo": {
               "renderer": {
                "symbol": {
                 "angle": 0,
                 "contentType": "image/png",
                 "height": 24,
                 "type": "esriPMS",
                 "url": "https://esri.github.io/arcgis-python-api/notebooks/nbimages/pink.png",
                 "width": 24,
                 "xoffset": 0,
                 "yoffset": 12
                },
                "type": "simple"
               }
              },
              "fields": [
               {
                "alias": "OBJECTID",
                "name": "OBJECTID",
                "sqlType": "sqlTypeOther",
                "type": "esriFieldTypeOID"
               }
              ],
              "geometryType": "esriGeometryPoint",
              "name": "Notebook sketch layer",
              "objectIdField": "OBJECTID",
              "spatialReference": {
               "wkid": 4326
              },
              "type": "Feature Layer"
             },
             "popupInfo": {
              "description": null,
              "fieldInfos": [
               {
                "fieldName": "OBJECTID",
                "isEditable": true,
                "label": "OBJECTID",
                "visible": true
               }
              ],
              "mediaInfos": [],
              "showAttachments": true,
              "title": "Notebook sketch layer"
             }
            }
           ]
          },
          "id": "16592c93-8826-48cf-9110-81d42d988a96",
          "layerDefinition": {
           "definitionExpression": null
          },
          "layerType": "ArcGISFeatureLayer",
          "opacity": 1,
          "title": "Notebook sketch layer",
          "visibility": true
         },
         {
          "featureCollection": {
           "layers": [
            {
             "featureSet": {
              "features": [
               {
                "attributes": {
                 "OBJECTID": 1
                },
                "geometry": {
                 "paths": [
                  [
                   [
                    -76.94394499999999,
                    38.98753000000005
                   ],
                   [
                    -76.94421999999997,
                    38.98753000000005
                   ],
                   [
                    -76.94437999999997,
                    38.98753000000005
                   ],
                   [
                    -76.94537999999994,
                    38.98742000000004
                   ],
                   [
                    -76.94567999999998,
                    38.98733000000004
                   ],
                   [
                    -76.94608999999997,
                    38.98715000000004
                   ],
                   [
                    -76.94655999999998,
                    38.986860000000036
                   ],
                   [
                    -76.94695999999993,
                    38.98627000000005
                   ],
                   [
                    -76.94698999999997,
                    38.98612000000003
                   ],
                   [
                    -76.94697999999994,
                    38.98574000000008
                   ],
                   [
                    -76.94687999999996,
                    38.98548000000005
                   ],
                   [
                    -76.94675098399995,
                    38.98530118000008
                   ]
                  ],
                  [
                   [
                    -76.94675098399995,
                    38.98530118000008
                   ],
                   [
                    -76.94661999999994,
                    38.98518000000007
                   ],
                   [
                    -76.94623999999999,
                    38.98496000000006
                   ],
                   [
                    -76.94593999999995,
                    38.98479000000003
                   ],
                   [
                    -76.94577999999996,
                    38.98470000000003
                   ],
                   [
                    -76.94550999999996,
                    38.98453000000006
                   ],
                   [
                    -76.94538999999997,
                    38.98445000000004
                   ],
                   [
                    -76.94522999999998,
                    38.984320000000025
                   ],
                   [
                    -76.94517999999994,
                    38.984140000000025
                   ],
                   [
                    -76.94512999999995,
                    38.983880000000056
                   ],
                   [
                    -76.94513959399995,
                    38.98374568500003
                   ]
                  ],
                  [
                   [
                    -76.94513959399995,
                    38.98374568500003
                   ],
                   [
                    -76.94513999999998,
                    38.98374000000007
                   ],
                   [
                    -76.94515999999999,
                    38.983600000000024
                   ],
                   [
                    -76.94505999999996,
                    38.983400000000074
                   ],
                   [
                    -76.94488999999999,
                    38.983010000000036
                   ],
                   [
                    -76.94488999999999,
                    38.98259000000007
                   ],
                   [
                    -76.94488999999999,
                    38.982470000000035
                   ],
                   [
                    -76.94487999999996,
                    38.98237000000006
                   ],
                   [
                    -76.94494095899995,
                    38.98236857100005
                   ]
                  ],
                  [
                   [
                    -76.94494095899995,
                    38.98236857100005
                   ],
                   [
                    -76.94487999999996,
                    38.98237000000006
                   ],
                   [
                    -76.94484999999997,
                    38.98191000000003
                   ],
                   [
                    -76.94488999999999,
                    38.98128000000003
                   ],
                   [
                    -76.94455999999997,
                    38.98118000000005
                   ],
                   [
                    -76.94409999999993,
                    38.98099000000008
                   ],
                   [
                    -76.94421999999997,
                    38.980810000000076
                   ],
                   [
                    -76.94283999999999,
                    38.97987000000006
                   ],
                   [
                    -76.94246999999996,
                    38.97968000000003
                   ],
                   [
                    -76.94163999999995,
                    38.979310000000055
                   ],
                   [
                    -76.94116999999994,
                    38.979220000000055
                   ],
                   [
                    -76.94010999999995,
                    38.97893000000005
                   ],
                   [
                    -76.93994999999995,
                    38.97882000000004
                   ],
                   [
                    -76.93980999999997,
                    38.978680000000054
                   ],
                   [
                    -76.93944703799997,
                    38.97819313200006
                   ]
                  ],
                  [
                   [
                    -76.93944703799997,
                    38.97819313200006
                   ],
                   [
                    -76.93937999999997,
                    38.97812000000005
                   ],
                   [
                    -76.93893999999995,
                    38.97786000000008
                   ],
                   [
                    -76.93870999999996,
                    38.977760000000046
                   ],
                   [
                    -76.93844999999999,
                    38.977640000000065
                   ],
                   [
                    -76.93805999999995,
                    38.977550000000065
                   ],
                   [
                    -76.93790999999999,
                    38.97759000000008
                   ],
                   [
                    -76.93785999999994,
                    38.97774000000004
                   ],
                   [
                    -76.93784999999997,
                    38.97784000000007
                   ],
                   [
                    -76.93784999999997,
                    38.97807000000006
                   ],
                   [
                    -76.93784999999997,
                    38.978270000000066
                   ],
                   [
                    -76.93784999999997,
                    38.978440000000035
                   ],
                   [
                    -76.93784999999997,
                    38.97864000000004
                   ],
                   [
                    -76.93784999999997,
                    38.97899000000007
                   ],
                   [
                    -76.93784999999997,
                    38.979280000000074
                   ],
                   [
                    -76.93784999999997,
                    38.97946200000007
                   ]
                  ],
                  [
                   [
                    -76.93784999999997,
                    38.97946200000007
                   ],
                   [
                    -76.93784999999997,
                    38.97961000000004
                   ],
                   [
                    -76.93783999999994,
                    38.98013000000003
                   ],
                   [
                    -76.93783999999994,
                    38.98041000000006
                   ],
                   [
                    -76.93783999999994,
                    38.98073000000005
                   ],
                   [
                    -76.93783999999994,
                    38.98182000000003
                   ],
                   [
                    -76.93782999999996,
                    38.982120000000066
                   ],
                   [
                    -76.93798999999996,
                    38.98215000000005
                   ],
                   [
                    -76.93858999999998,
                    38.98232000000007
                   ],
                   [
                    -76.93885999999998,
                    38.982380000000035
                   ],
                   [
                    -76.93910999999997,
                    38.98246000000006
                   ],
                   [
                    -76.93912991199994,
                    38.98246724100005
                   ]
                  ],
                  [
                   [
                    -76.93912991199994,
                    38.98246724100005
                   ],
                   [
                    -76.93959999999998,
                    38.98267000000004
                   ],
                   [
                    -76.93980999999997,
                    38.98288000000008
                   ],
                   [
                    -76.93990999999994,
                    38.98305000000005
                   ],
                   [
                    -76.93998999999997,
                    38.98335000000003
                   ],
                   [
                    -76.94009999999997,
                    38.984200000000044
                   ],
                   [
                    -76.94012999999995,
                    38.98442000000006
                   ],
                   [
                    -76.94010237099997,
                    38.98455123600007
                   ]
                  ],
                  [
                   [
                    -76.94010237099997,
                    38.98455123600007
                   ],
                   [
                    -76.94008999999994,
                    38.98461000000003
                   ],
                   [
                    -76.94009999999997,
                    38.98467000000005
                   ],
                   [
                    -76.94010999999995,
                    38.98493000000008
                   ],
                   [
                    -76.94009999999997,
                    38.98526000000004
                   ],
                   [
                    -76.94010999999995,
                    38.98553000000004
                   ],
                   [
                    -76.94012999999995,
                    38.98562000000004
                   ],
                   [
                    -76.94013875199994,
                    38.98637268900006
                   ]
                  ],
                  [
                   [
                    -76.94013875199994,
                    38.98637268900006
                   ],
                   [
                    -76.94013999999999,
                    38.98648000000003
                   ],
                   [
                    -76.94013999999999,
                    38.98654000000005
                   ],
                   [
                    -76.94013999999999,
                    38.98669000000007
                   ],
                   [
                    -76.94013999999999,
                    38.98678000000007
                   ],
                   [
                    -76.94010999999995,
                    38.986950000000036
                   ],
                   [
                    -76.93991999999997,
                    38.987450000000024
                   ],
                   [
                    -76.93988999999993,
                    38.98748000000006
                   ],
                   [
                    -76.93988999999993,
                    38.987730000000056
                   ],
                   [
                    -76.94024999999993,
                    38.987810000000025
                   ],
                   [
                    -76.94045999999997,
                    38.987900000000025
                   ],
                   [
                    -76.94062999999994,
                    38.98812000000004
                   ],
                   [
                    -76.94064999999995,
                    38.98828000000003
                   ],
                   [
                    -76.94066999999995,
                    38.988510000000076
                   ],
                   [
                    -76.94066999999995,
                    38.98866000000004
                   ],
                   [
                    -76.94069999999994,
                    38.98905000000008
                   ],
                   [
                    -76.94069999999994,
                    38.98935000000006
                   ],
                   [
                    -76.94070999999997,
                    38.98978000000005
                   ],
                   [
                    -76.94071999999994,
                    38.99019000000004
                   ],
                   [
                    -76.94070962199999,
                    38.990387191000025
                   ]
                  ],
                  [
                   [
                    -76.94070962199999,
                    38.990387191000025
                   ],
                   [
                    -76.94069999999994,
                    38.99057000000005
                   ],
                   [
                    -76.94068999999996,
                    38.99064000000004
                   ],
                   [
                    -76.94068999999996,
                    38.99088000000006
                   ],
                   [
                    -76.94073999999995,
                    38.99142000000006
                   ],
                   [
                    -76.94072437599993,
                    38.99149030600006
                   ]
                  ],
                  [
                   [
                    -76.94072437599993,
                    38.99149030600006
                   ],
                   [
                    -76.94071999999994,
                    38.99151000000006
                   ],
                   [
                    -76.94065999999998,
                    38.99160000000006
                   ],
                   [
                    -76.93991999999997,
                    38.99273000000005
                   ],
                   [
                    -76.93984999999998,
                    38.99317000000008
                   ],
                   [
                    -76.93988999999993,
                    38.99327000000005
                   ],
                   [
                    -76.93992999999995,
                    38.99339000000003
                   ],
                   [
                    -76.93996999999996,
                    38.993570000000034
                   ],
                   [
                    -76.93991999999997,
                    38.99365000000006
                   ],
                   [
                    -76.93983444599996,
                    38.993658279000044
                   ]
                  ],
                  [
                   [
                    -76.93983444599996,
                    38.993658279000044
                   ],
                   [
                    -76.93960999999996,
                    38.99368000000004
                   ],
                   [
                    -76.93898999999999,
                    38.99369000000007
                   ],
                   [
                    -76.93782999999996,
                    38.99371000000008
                   ],
                   [
                    -76.93771499999997,
                    38.99371000000008
                   ]
                  ],
                  [
                   [
                    -76.93771499999997,
                    38.99371000000008
                   ],
                   [
                    -76.93730999999997,
                    38.993670000000066
                   ],
                   [
                    -76.93730999999997,
                    38.994020000000035
                   ],
                   [
                    -76.93730999999997,
                    38.99422000000004
                   ],
                   [
                    -76.93730999999997,
                    38.99469000000005
                   ],
                   [
                    -76.93731999999994,
                    38.99476000000004
                   ],
                   [
                    -76.93733999999995,
                    38.99487000000005
                   ],
                   [
                    -76.93739999999997,
                    38.99503000000004
                   ],
                   [
                    -76.93756999999994,
                    38.99535000000003
                   ],
                   [
                    -76.93758024099998,
                    38.99536934300005
                   ]
                  ],
                  [
                   [
                    -76.93758024099998,
                    38.99536934300005
                   ],
                   [
                    -76.93778999999995,
                    38.99571000000003
                   ],
                   [
                    -76.93834999999996,
                    38.99631000000005
                   ],
                   [
                    -76.93923999999998,
                    38.99694000000005
                   ],
                   [
                    -76.93978999999996,
                    38.99735000000004
                   ],
                   [
                    -76.94005999999996,
                    38.99756000000008
                   ],
                   [
                    -76.94045950399999,
                    38.997873543000026
                   ]
                  ],
                  [
                   [
                    -76.94045950399999,
                    38.997873543000026
                   ],
                   [
                    -76.94058999999999,
                    38.99798000000004
                   ],
                   [
                    -76.94120999999996,
                    38.99844000000007
                   ],
                   [
                    -76.94153999999997,
                    38.99878000000007
                   ],
                   [
                    -76.94181999999995,
                    38.99917000000005
                   ],
                   [
                    -76.94201999999996,
                    38.999450000000024
                   ],
                   [
                    -76.94223999999997,
                    38.99974000000003
                   ],
                   [
                    -76.94288999999998,
                    39.000230000000045
                   ],
                   [
                    -76.94312999999994,
                    39.000410000000045
                   ],
                   [
                    -76.94383999999997,
                    39.00076000000007
                   ],
                   [
                    -76.94456999999994,
                    39.00088000000005
                   ],
                   [
                    -76.94472999999994,
                    39.00091000000003
                   ],
                   [
                    -76.94468297199995,
                    39.00106049100003
                   ]
                  ],
                  [
                   [
                    -76.94468297199995,
                    39.00106049100003
                   ],
                   [
                    -76.94411999999994,
                    39.001450000000034
                   ],
                   [
                    -76.94352999999995,
                    39.00210000000004
                   ],
                   [
                    -76.94334596199997,
                    39.00267013900003
                   ]
                  ],
                  [
                   [
                    -76.94334596199997,
                    39.00267013900003
                   ],
                   [
                    -76.94300999999996,
                    39.003660000000025
                   ],
                   [
                    -76.94248999999996,
                    39.003540000000044
                   ],
                   [
                    -76.94256500899996,
                    39.00309055900004
                   ]
                  ],
                  [
                   [
                    -76.94256500899996,
                    39.00309055900004
                   ],
                   [
                    -76.94248999999996,
                    39.003540000000044
                   ],
                   [
                    -76.94300999999996,
                    39.003660000000025
                   ],
                   [
                    -76.94352999999995,
                    39.00210000000004
                   ]
                  ],
                  [
                   [
                    -76.94352999999995,
                    39.00210000000004
                   ],
                   [
                    -76.94411999999994,
                    39.001450000000034
                   ],
                   [
                    -76.94468297199995,
                    39.00106049100003
                   ]
                  ],
                  [
                   [
                    -76.94468297199995,
                    39.00106049100003
                   ],
                   [
                    -76.94472999999994,
                    39.00091000000003
                   ],
                   [
                    -76.94456999999994,
                    39.00088000000005
                   ],
                   [
                    -76.94383999999997,
                    39.00076000000007
                   ],
                   [
                    -76.94312999999994,
                    39.000410000000045
                   ],
                   [
                    -76.94288999999998,
                    39.000230000000045
                   ],
                   [
                    -76.94223999999997,
                    38.99974000000003
                   ],
                   [
                    -76.94201999999996,
                    38.999450000000024
                   ],
                   [
                    -76.94181999999995,
                    38.99917000000005
                   ],
                   [
                    -76.94153999999997,
                    38.99878000000007
                   ],
                   [
                    -76.94120999999996,
                    38.99844000000007
                   ],
                   [
                    -76.94058999999999,
                    38.99798000000004
                   ],
                   [
                    -76.94044605799996,
                    38.99786257400007
                   ]
                  ],
                  [
                   [
                    -76.94044605799996,
                    38.99786257400007
                   ],
                   [
                    -76.94005999999996,
                    38.99756000000008
                   ],
                   [
                    -76.93978999999996,
                    38.99735000000004
                   ],
                   [
                    -76.93923999999998,
                    38.99694000000005
                   ],
                   [
                    -76.93834999999996,
                    38.99631000000005
                   ],
                   [
                    -76.93778999999995,
                    38.99571000000003
                   ],
                   [
                    -76.93756999999994,
                    38.99535000000003
                   ],
                   [
                    -76.93746205799994,
                    38.99535780300005
                   ]
                  ],
                  [
                   [
                    -76.93746205799994,
                    38.99535780300005
                   ],
                   [
                    -76.93673999999999,
                    38.99541000000005
                   ],
                   [
                    -76.93677999999994,
                    38.99577000000005
                   ],
                   [
                    -76.93778999999995,
                    38.99571000000003
                   ],
                   [
                    -76.93756999999994,
                    38.99535000000003
                   ],
                   [
                    -76.93739999999997,
                    38.99503000000004
                   ],
                   [
                    -76.93733999999995,
                    38.99487000000005
                   ],
                   [
                    -76.93731999999994,
                    38.99476000000004
                   ],
                   [
                    -76.93730999999997,
                    38.99469000000005
                   ],
                   [
                    -76.93730999999997,
                    38.99422000000004
                   ],
                   [
                    -76.93730999999997,
                    38.994020000000035
                   ],
                   [
                    -76.93730999999997,
                    38.993670000000066
                   ],
                   [
                    -76.93747899999994,
                    38.99371000000008
                   ]
                  ],
                  [
                   [
                    -76.93747899999994,
                    38.99371000000008
                   ],
                   [
                    -76.93782999999996,
                    38.99371000000008
                   ],
                   [
                    -76.93898999999999,
                    38.99369000000007
                   ],
                   [
                    -76.93960999999996,
                    38.99368000000004
                   ],
                   [
                    -76.93991999999997,
                    38.99365000000006
                   ],
                   [
                    -76.93996999999996,
                    38.993570000000034
                   ],
                   [
                    -76.93994978799998,
                    38.99347904700005
                   ]
                  ],
                  [
                   [
                    -76.93994978799998,
                    38.99347904700005
                   ],
                   [
                    -76.93992999999995,
                    38.99339000000003
                   ],
                   [
                    -76.93988999999993,
                    38.99327000000005
                   ],
                   [
                    -76.93984999999998,
                    38.99317000000008
                   ],
                   [
                    -76.93991999999997,
                    38.99273000000005
                   ],
                   [
                    -76.94065999999998,
                    38.99160000000006
                   ],
                   [
                    -76.94071999999994,
                    38.99151000000006
                   ],
                   [
                    -76.94073999999995,
                    38.99142000000006
                   ],
                   [
                    -76.94072580599999,
                    38.991266703000065
                   ]
                  ],
                  [
                   [
                    -76.94072580599999,
                    38.991266703000065
                   ],
                   [
                    -76.94068999999996,
                    38.99088000000006
                   ],
                   [
                    -76.94068999999996,
                    38.99064000000004
                   ],
                   [
                    -76.94069999999994,
                    38.99057000000005
                   ],
                   [
                    -76.94071999999994,
                    38.99019000000004
                   ],
                   [
                    -76.94070999999997,
                    38.98978000000005
                   ],
                   [
                    -76.94070403699999,
                    38.98952358100007
                   ]
                  ],
                  [
                   [
                    -76.94070403699999,
                    38.98952358100007
                   ],
                   [
                    -76.94069999999994,
                    38.98935000000006
                   ],
                   [
                    -76.94069999999994,
                    38.98905000000008
                   ],
                   [
                    -76.94066999999995,
                    38.98866000000004
                   ],
                   [
                    -76.94066999999995,
                    38.988510000000076
                   ],
                   [
                    -76.94064999999995,
                    38.98828000000003
                   ],
                   [
                    -76.94062999999994,
                    38.98812000000004
                   ],
                   [
                    -76.94062999999994,
                    38.98794000000004
                   ],
                   [
                    -76.94048999999995,
                    38.987640000000056
                   ],
                   [
                    -76.94048999999995,
                    38.98759000000007
                   ],
                   [
                    -76.94107999999994,
                    38.98757000000006
                   ],
                   [
                    -76.94121999999999,
                    38.98756000000003
                   ],
                   [
                    -76.94145999999995,
                    38.987550000000056
                   ],
                   [
                    -76.94170999999994,
                    38.987540000000024
                   ],
                   [
                    -76.94216999999998,
                    38.987540000000024
                   ],
                   [
                    -76.94260999999995,
                    38.987540000000024
                   ],
                   [
                    -76.94319999999993,
                    38.98753000000005
                   ],
                   [
                    -76.94343999999995,
                    38.98753000000005
                   ],
                   [
                    -76.94394499999999,
                    38.98753000000005
                   ]
                  ]
                 ],
                 "spatialReference": {
                  "wkid": 4326
                 },
                 "type": "polyline"
                }
               }
              ],
              "geometryType": "esriGeometryPolyline"
             },
             "layerDefinition": {
              "drawingInfo": {
               "renderer": {
                "symbol": {
                 "color": [
                  128,
                  0,
                  128,
                  90
                 ],
                 "style": "esriSLSSolid",
                 "type": "esriSLS",
                 "width": 4
                },
                "type": "simple"
               }
              },
              "fields": [
               {
                "alias": "OBJECTID",
                "name": "OBJECTID",
                "sqlType": "sqlTypeOther",
                "type": "esriFieldTypeOID"
               }
              ],
              "geometryType": "esriGeometryPolyline",
              "name": "Notebook sketch layer",
              "objectIdField": "OBJECTID",
              "spatialReference": {
               "wkid": 4326
              },
              "type": "Feature Layer"
             },
             "popupInfo": {
              "description": null,
              "fieldInfos": [
               {
                "fieldName": "OBJECTID",
                "isEditable": true,
                "label": "OBJECTID",
                "visible": true
               }
              ],
              "mediaInfos": [],
              "showAttachments": true,
              "title": "Notebook sketch layer"
             }
            }
           ]
          },
          "id": "a707062a-57b4-4efe-93ca-fbb2a068cdf4",
          "layerDefinition": {
           "definitionExpression": null
          },
          "layerType": "ArcGISFeatureLayer",
          "opacity": 1,
          "title": "Notebook sketch layer",
          "visibility": true
         },
         {
          "featureCollection": {
           "layers": [
            {
             "featureSet": {
              "features": [
               {
                "attributes": {
                 "OBJECTID": 1
                },
                "geometry": {
                 "spatialReference": {
                  "wkid": 4326
                 },
                 "type": "point",
                 "x": -76.94394499999999,
                 "y": 38.987610000000075
                }
               }
              ],
              "geometryType": "esriGeometryPoint"
             },
             "layerDefinition": {
              "drawingInfo": {
               "renderer": {
                "symbol": {
                 "angle": 0,
                 "contentType": "image/png",
                 "height": 24,
                 "type": "esriPMS",
                 "url": "https://esri.github.io/arcgis-python-api/notebooks/nbimages/pink.png",
                 "width": 24,
                 "xoffset": 0,
                 "yoffset": 12
                },
                "type": "simple"
               }
              },
              "fields": [
               {
                "alias": "OBJECTID",
                "name": "OBJECTID",
                "sqlType": "sqlTypeOther",
                "type": "esriFieldTypeOID"
               }
              ],
              "geometryType": "esriGeometryPoint",
              "name": "Notebook sketch layer",
              "objectIdField": "OBJECTID",
              "spatialReference": {
               "wkid": 4326
              },
              "type": "Feature Layer"
             },
             "popupInfo": {
              "description": null,
              "fieldInfos": [
               {
                "fieldName": "OBJECTID",
                "isEditable": true,
                "label": "OBJECTID",
                "visible": true
               }
              ],
              "mediaInfos": [],
              "showAttachments": true,
              "title": "Notebook sketch layer"
             }
            }
           ]
          },
          "id": "0227472d-218f-450c-9144-97933c3f64be",
          "layerDefinition": {
           "definitionExpression": null
          },
          "layerType": "ArcGISFeatureLayer",
          "opacity": 1,
          "title": "Notebook sketch layer",
          "visibility": true
         },
         {
          "featureCollection": {
           "layers": [
            {
             "featureSet": {
              "features": [
               {
                "attributes": {
                 "OBJECTID": 1
                },
                "geometry": {
                 "spatialReference": {
                  "wkid": 4326
                 },
                 "type": "point",
                 "x": -76.94677999999999,
                 "y": 38.98527700000005
                }
               }
              ],
              "geometryType": "esriGeometryPoint"
             },
             "layerDefinition": {
              "drawingInfo": {
               "renderer": {
                "symbol": {
                 "angle": 0,
                 "contentType": "image/png",
                 "height": 24,
                 "type": "esriPMS",
                 "url": "https://esri.github.io/arcgis-python-api/notebooks/nbimages/pink.png",
                 "width": 24,
                 "xoffset": 0,
                 "yoffset": 12
                },
                "type": "simple"
               }
              },
              "fields": [
               {
                "alias": "OBJECTID",
                "name": "OBJECTID",
                "sqlType": "sqlTypeOther",
                "type": "esriFieldTypeOID"
               }
              ],
              "geometryType": "esriGeometryPoint",
              "name": "Notebook sketch layer",
              "objectIdField": "OBJECTID",
              "spatialReference": {
               "wkid": 4326
              },
              "type": "Feature Layer"
             },
             "popupInfo": {
              "description": null,
              "fieldInfos": [
               {
                "fieldName": "OBJECTID",
                "isEditable": true,
                "label": "OBJECTID",
                "visible": true
               }
              ],
              "mediaInfos": [],
              "showAttachments": true,
              "title": "Notebook sketch layer"
             }
            }
           ]
          },
          "id": "c823e6ff-6871-4d0d-86dc-ab6443ac03f0",
          "layerDefinition": {
           "definitionExpression": null
          },
          "layerType": "ArcGISFeatureLayer",
          "opacity": 1,
          "title": "Notebook sketch layer",
          "visibility": true
         },
         {
          "featureCollection": {
           "layers": [
            {
             "featureSet": {
              "features": [
               {
                "attributes": {
                 "OBJECTID": 1
                },
                "geometry": {
                 "spatialReference": {
                  "wkid": 4326
                 },
                 "type": "point",
                 "x": -76.94518599999998,
                 "y": 38.983749000000046
                }
               }
              ],
              "geometryType": "esriGeometryPoint"
             },
             "layerDefinition": {
              "drawingInfo": {
               "renderer": {
                "symbol": {
                 "angle": 0,
                 "contentType": "image/png",
                 "height": 24,
                 "type": "esriPMS",
                 "url": "https://esri.github.io/arcgis-python-api/notebooks/nbimages/pink.png",
                 "width": 24,
                 "xoffset": 0,
                 "yoffset": 12
                },
                "type": "simple"
               }
              },
              "fields": [
               {
                "alias": "OBJECTID",
                "name": "OBJECTID",
                "sqlType": "sqlTypeOther",
                "type": "esriFieldTypeOID"
               }
              ],
              "geometryType": "esriGeometryPoint",
              "name": "Notebook sketch layer",
              "objectIdField": "OBJECTID",
              "spatialReference": {
               "wkid": 4326
              },
              "type": "Feature Layer"
             },
             "popupInfo": {
              "description": null,
              "fieldInfos": [
               {
                "fieldName": "OBJECTID",
                "isEditable": true,
                "label": "OBJECTID",
                "visible": true
               }
              ],
              "mediaInfos": [],
              "showAttachments": true,
              "title": "Notebook sketch layer"
             }
            }
           ]
          },
          "id": "69ebc24a-e2e9-46b1-9ce8-ea8f42e81921",
          "layerDefinition": {
           "definitionExpression": null
          },
          "layerType": "ArcGISFeatureLayer",
          "opacity": 1,
          "title": "Notebook sketch layer",
          "visibility": true
         },
         {
          "featureCollection": {
           "layers": [
            {
             "featureSet": {
              "features": [
               {
                "attributes": {
                 "OBJECTID": 1
                },
                "geometry": {
                 "spatialReference": {
                  "wkid": 4326
                 },
                 "type": "point",
                 "x": -76.94494199999997,
                 "y": 38.982413000000065
                }
               }
              ],
              "geometryType": "esriGeometryPoint"
             },
             "layerDefinition": {
              "drawingInfo": {
               "renderer": {
                "symbol": {
                 "angle": 0,
                 "contentType": "image/png",
                 "height": 24,
                 "type": "esriPMS",
                 "url": "https://esri.github.io/arcgis-python-api/notebooks/nbimages/pink.png",
                 "width": 24,
                 "xoffset": 0,
                 "yoffset": 12
                },
                "type": "simple"
               }
              },
              "fields": [
               {
                "alias": "OBJECTID",
                "name": "OBJECTID",
                "sqlType": "sqlTypeOther",
                "type": "esriFieldTypeOID"
               }
              ],
              "geometryType": "esriGeometryPoint",
              "name": "Notebook sketch layer",
              "objectIdField": "OBJECTID",
              "spatialReference": {
               "wkid": 4326
              },
              "type": "Feature Layer"
             },
             "popupInfo": {
              "description": null,
              "fieldInfos": [
               {
                "fieldName": "OBJECTID",
                "isEditable": true,
                "label": "OBJECTID",
                "visible": true
               }
              ],
              "mediaInfos": [],
              "showAttachments": true,
              "title": "Notebook sketch layer"
             }
            }
           ]
          },
          "id": "326da355-1c47-4592-8406-3b4b813e26aa",
          "layerDefinition": {
           "definitionExpression": null
          },
          "layerType": "ArcGISFeatureLayer",
          "opacity": 1,
          "title": "Notebook sketch layer",
          "visibility": true
         },
         {
          "featureCollection": {
           "layers": [
            {
             "featureSet": {
              "features": [
               {
                "attributes": {
                 "OBJECTID": 1
                },
                "geometry": {
                 "spatialReference": {
                  "wkid": 4326
                 },
                 "type": "point",
                 "x": -76.93948099999994,
                 "y": 38.978162000000054
                }
               }
              ],
              "geometryType": "esriGeometryPoint"
             },
             "layerDefinition": {
              "drawingInfo": {
               "renderer": {
                "symbol": {
                 "angle": 0,
                 "contentType": "image/png",
                 "height": 24,
                 "type": "esriPMS",
                 "url": "https://esri.github.io/arcgis-python-api/notebooks/nbimages/pink.png",
                 "width": 24,
                 "xoffset": 0,
                 "yoffset": 12
                },
                "type": "simple"
               }
              },
              "fields": [
               {
                "alias": "OBJECTID",
                "name": "OBJECTID",
                "sqlType": "sqlTypeOther",
                "type": "esriFieldTypeOID"
               }
              ],
              "geometryType": "esriGeometryPoint",
              "name": "Notebook sketch layer",
              "objectIdField": "OBJECTID",
              "spatialReference": {
               "wkid": 4326
              },
              "type": "Feature Layer"
             },
             "popupInfo": {
              "description": null,
              "fieldInfos": [
               {
                "fieldName": "OBJECTID",
                "isEditable": true,
                "label": "OBJECTID",
                "visible": true
               }
              ],
              "mediaInfos": [],
              "showAttachments": true,
              "title": "Notebook sketch layer"
             }
            }
           ]
          },
          "id": "87c6704c-5b6c-4044-bbaf-a29b05e1f619",
          "layerDefinition": {
           "definitionExpression": null
          },
          "layerType": "ArcGISFeatureLayer",
          "opacity": 1,
          "title": "Notebook sketch layer",
          "visibility": true
         },
         {
          "featureCollection": {
           "layers": [
            {
             "featureSet": {
              "features": [
               {
                "attributes": {
                 "OBJECTID": 1
                },
                "geometry": {
                 "spatialReference": {
                  "wkid": 4326
                 },
                 "type": "point",
                 "x": -76.93777099999994,
                 "y": 38.97946200000007
                }
               }
              ],
              "geometryType": "esriGeometryPoint"
             },
             "layerDefinition": {
              "drawingInfo": {
               "renderer": {
                "symbol": {
                 "angle": 0,
                 "contentType": "image/png",
                 "height": 24,
                 "type": "esriPMS",
                 "url": "https://esri.github.io/arcgis-python-api/notebooks/nbimages/pink.png",
                 "width": 24,
                 "xoffset": 0,
                 "yoffset": 12
                },
                "type": "simple"
               }
              },
              "fields": [
               {
                "alias": "OBJECTID",
                "name": "OBJECTID",
                "sqlType": "sqlTypeOther",
                "type": "esriFieldTypeOID"
               }
              ],
              "geometryType": "esriGeometryPoint",
              "name": "Notebook sketch layer",
              "objectIdField": "OBJECTID",
              "spatialReference": {
               "wkid": 4326
              },
              "type": "Feature Layer"
             },
             "popupInfo": {
              "description": null,
              "fieldInfos": [
               {
                "fieldName": "OBJECTID",
                "isEditable": true,
                "label": "OBJECTID",
                "visible": true
               }
              ],
              "mediaInfos": [],
              "showAttachments": true,
              "title": "Notebook sketch layer"
             }
            }
           ]
          },
          "id": "01e8b079-9ce7-47d3-a14b-1e164187f1fa",
          "layerDefinition": {
           "definitionExpression": null
          },
          "layerType": "ArcGISFeatureLayer",
          "opacity": 1,
          "title": "Notebook sketch layer",
          "visibility": true
         },
         {
          "featureCollection": {
           "layers": [
            {
             "featureSet": {
              "features": [
               {
                "attributes": {
                 "OBJECTID": 1
                },
                "geometry": {
                 "spatialReference": {
                  "wkid": 4326
                 },
                 "type": "point",
                 "x": -76.93911399999996,
                 "y": 38.982511000000045
                }
               }
              ],
              "geometryType": "esriGeometryPoint"
             },
             "layerDefinition": {
              "drawingInfo": {
               "renderer": {
                "symbol": {
                 "angle": 0,
                 "contentType": "image/png",
                 "height": 24,
                 "type": "esriPMS",
                 "url": "https://esri.github.io/arcgis-python-api/notebooks/nbimages/pink.png",
                 "width": 24,
                 "xoffset": 0,
                 "yoffset": 12
                },
                "type": "simple"
               }
              },
              "fields": [
               {
                "alias": "OBJECTID",
                "name": "OBJECTID",
                "sqlType": "sqlTypeOther",
                "type": "esriFieldTypeOID"
               }
              ],
              "geometryType": "esriGeometryPoint",
              "name": "Notebook sketch layer",
              "objectIdField": "OBJECTID",
              "spatialReference": {
               "wkid": 4326
              },
              "type": "Feature Layer"
             },
             "popupInfo": {
              "description": null,
              "fieldInfos": [
               {
                "fieldName": "OBJECTID",
                "isEditable": true,
                "label": "OBJECTID",
                "visible": true
               }
              ],
              "mediaInfos": [],
              "showAttachments": true,
              "title": "Notebook sketch layer"
             }
            }
           ]
          },
          "id": "07f0ddf9-8084-41ea-8173-21149e2b2ac4",
          "layerDefinition": {
           "definitionExpression": null
          },
          "layerType": "ArcGISFeatureLayer",
          "opacity": 1,
          "title": "Notebook sketch layer",
          "visibility": true
         },
         {
          "featureCollection": {
           "layers": [
            {
             "featureSet": {
              "features": [
               {
                "attributes": {
                 "OBJECTID": 1
                },
                "geometry": {
                 "spatialReference": {
                  "wkid": 4326
                 },
                 "type": "point",
                 "x": -76.94004899999999,
                 "y": 38.98454000000004
                }
               }
              ],
              "geometryType": "esriGeometryPoint"
             },
             "layerDefinition": {
              "drawingInfo": {
               "renderer": {
                "symbol": {
                 "angle": 0,
                 "contentType": "image/png",
                 "height": 24,
                 "type": "esriPMS",
                 "url": "https://esri.github.io/arcgis-python-api/notebooks/nbimages/pink.png",
                 "width": 24,
                 "xoffset": 0,
                 "yoffset": 12
                },
                "type": "simple"
               }
              },
              "fields": [
               {
                "alias": "OBJECTID",
                "name": "OBJECTID",
                "sqlType": "sqlTypeOther",
                "type": "esriFieldTypeOID"
               }
              ],
              "geometryType": "esriGeometryPoint",
              "name": "Notebook sketch layer",
              "objectIdField": "OBJECTID",
              "spatialReference": {
               "wkid": 4326
              },
              "type": "Feature Layer"
             },
             "popupInfo": {
              "description": null,
              "fieldInfos": [
               {
                "fieldName": "OBJECTID",
                "isEditable": true,
                "label": "OBJECTID",
                "visible": true
               }
              ],
              "mediaInfos": [],
              "showAttachments": true,
              "title": "Notebook sketch layer"
             }
            }
           ]
          },
          "id": "b3ca695c-cfea-4e0e-86f8-a6afce668469",
          "layerDefinition": {
           "definitionExpression": null
          },
          "layerType": "ArcGISFeatureLayer",
          "opacity": 1,
          "title": "Notebook sketch layer",
          "visibility": true
         },
         {
          "featureCollection": {
           "layers": [
            {
             "featureSet": {
              "features": [
               {
                "attributes": {
                 "OBJECTID": 1
                },
                "geometry": {
                 "spatialReference": {
                  "wkid": 4326
                 },
                 "type": "point",
                 "x": -76.94011199999994,
                 "y": 38.98637300000007
                }
               }
              ],
              "geometryType": "esriGeometryPoint"
             },
             "layerDefinition": {
              "drawingInfo": {
               "renderer": {
                "symbol": {
                 "angle": 0,
                 "contentType": "image/png",
                 "height": 24,
                 "type": "esriPMS",
                 "url": "https://esri.github.io/arcgis-python-api/notebooks/nbimages/pink.png",
                 "width": 24,
                 "xoffset": 0,
                 "yoffset": 12
                },
                "type": "simple"
               }
              },
              "fields": [
               {
                "alias": "OBJECTID",
                "name": "OBJECTID",
                "sqlType": "sqlTypeOther",
                "type": "esriFieldTypeOID"
               }
              ],
              "geometryType": "esriGeometryPoint",
              "name": "Notebook sketch layer",
              "objectIdField": "OBJECTID",
              "spatialReference": {
               "wkid": 4326
              },
              "type": "Feature Layer"
             },
             "popupInfo": {
              "description": null,
              "fieldInfos": [
               {
                "fieldName": "OBJECTID",
                "isEditable": true,
                "label": "OBJECTID",
                "visible": true
               }
              ],
              "mediaInfos": [],
              "showAttachments": true,
              "title": "Notebook sketch layer"
             }
            }
           ]
          },
          "id": "71b5f86b-fe11-49b3-a771-2d185953626b",
          "layerDefinition": {
           "definitionExpression": null
          },
          "layerType": "ArcGISFeatureLayer",
          "opacity": 1,
          "title": "Notebook sketch layer",
          "visibility": true
         },
         {
          "featureCollection": {
           "layers": [
            {
             "featureSet": {
              "features": [
               {
                "attributes": {
                 "OBJECTID": 1
                },
                "geometry": {
                 "spatialReference": {
                  "wkid": 4326
                 },
                 "type": "point",
                 "x": -76.94060719999999,
                 "y": 38.99038180000008
                }
               }
              ],
              "geometryType": "esriGeometryPoint"
             },
             "layerDefinition": {
              "drawingInfo": {
               "renderer": {
                "symbol": {
                 "angle": 0,
                 "contentType": "image/png",
                 "height": 24,
                 "type": "esriPMS",
                 "url": "https://esri.github.io/arcgis-python-api/notebooks/nbimages/pink.png",
                 "width": 24,
                 "xoffset": 0,
                 "yoffset": 12
                },
                "type": "simple"
               }
              },
              "fields": [
               {
                "alias": "OBJECTID",
                "name": "OBJECTID",
                "sqlType": "sqlTypeOther",
                "type": "esriFieldTypeOID"
               }
              ],
              "geometryType": "esriGeometryPoint",
              "name": "Notebook sketch layer",
              "objectIdField": "OBJECTID",
              "spatialReference": {
               "wkid": 4326
              },
              "type": "Feature Layer"
             },
             "popupInfo": {
              "description": null,
              "fieldInfos": [
               {
                "fieldName": "OBJECTID",
                "isEditable": true,
                "label": "OBJECTID",
                "visible": true
               }
              ],
              "mediaInfos": [],
              "showAttachments": true,
              "title": "Notebook sketch layer"
             }
            }
           ]
          },
          "id": "b302919c-8f80-4e70-a1b1-6361214efed4",
          "layerDefinition": {
           "definitionExpression": null
          },
          "layerType": "ArcGISFeatureLayer",
          "opacity": 1,
          "title": "Notebook sketch layer",
          "visibility": true
         },
         {
          "featureCollection": {
           "layers": [
            {
             "featureSet": {
              "features": [
               {
                "attributes": {
                 "OBJECTID": 1
                },
                "geometry": {
                 "spatialReference": {
                  "wkid": 4326
                 },
                 "type": "point",
                 "x": -76.94073199999997,
                 "y": 38.99149200000005
                }
               }
              ],
              "geometryType": "esriGeometryPoint"
             },
             "layerDefinition": {
              "drawingInfo": {
               "renderer": {
                "symbol": {
                 "angle": 0,
                 "contentType": "image/png",
                 "height": 24,
                 "type": "esriPMS",
                 "url": "https://esri.github.io/arcgis-python-api/notebooks/nbimages/pink.png",
                 "width": 24,
                 "xoffset": 0,
                 "yoffset": 12
                },
                "type": "simple"
               }
              },
              "fields": [
               {
                "alias": "OBJECTID",
                "name": "OBJECTID",
                "sqlType": "sqlTypeOther",
                "type": "esriFieldTypeOID"
               }
              ],
              "geometryType": "esriGeometryPoint",
              "name": "Notebook sketch layer",
              "objectIdField": "OBJECTID",
              "spatialReference": {
               "wkid": 4326
              },
              "type": "Feature Layer"
             },
             "popupInfo": {
              "description": null,
              "fieldInfos": [
               {
                "fieldName": "OBJECTID",
                "isEditable": true,
                "label": "OBJECTID",
                "visible": true
               }
              ],
              "mediaInfos": [],
              "showAttachments": true,
              "title": "Notebook sketch layer"
             }
            }
           ]
          },
          "id": "057d8046-199a-43de-8f0c-2f96004b151e",
          "layerDefinition": {
           "definitionExpression": null
          },
          "layerType": "ArcGISFeatureLayer",
          "opacity": 1,
          "title": "Notebook sketch layer",
          "visibility": true
         },
         {
          "featureCollection": {
           "layers": [
            {
             "featureSet": {
              "features": [
               {
                "attributes": {
                 "OBJECTID": 1
                },
                "geometry": {
                 "spatialReference": {
                  "wkid": 4326
                 },
                 "type": "point",
                 "x": -76.93983499999996,
                 "y": 38.99366400000008
                }
               }
              ],
              "geometryType": "esriGeometryPoint"
             },
             "layerDefinition": {
              "drawingInfo": {
               "renderer": {
                "symbol": {
                 "angle": 0,
                 "contentType": "image/png",
                 "height": 24,
                 "type": "esriPMS",
                 "url": "https://esri.github.io/arcgis-python-api/notebooks/nbimages/pink.png",
                 "width": 24,
                 "xoffset": 0,
                 "yoffset": 12
                },
                "type": "simple"
               }
              },
              "fields": [
               {
                "alias": "OBJECTID",
                "name": "OBJECTID",
                "sqlType": "sqlTypeOther",
                "type": "esriFieldTypeOID"
               }
              ],
              "geometryType": "esriGeometryPoint",
              "name": "Notebook sketch layer",
              "objectIdField": "OBJECTID",
              "spatialReference": {
               "wkid": 4326
              },
              "type": "Feature Layer"
             },
             "popupInfo": {
              "description": null,
              "fieldInfos": [
               {
                "fieldName": "OBJECTID",
                "isEditable": true,
                "label": "OBJECTID",
                "visible": true
               }
              ],
              "mediaInfos": [],
              "showAttachments": true,
              "title": "Notebook sketch layer"
             }
            }
           ]
          },
          "id": "ebc500d9-3f8f-4152-a390-80d316b177c5",
          "layerDefinition": {
           "definitionExpression": null
          },
          "layerType": "ArcGISFeatureLayer",
          "opacity": 1,
          "title": "Notebook sketch layer",
          "visibility": true
         },
         {
          "featureCollection": {
           "layers": [
            {
             "featureSet": {
              "features": [
               {
                "attributes": {
                 "OBJECTID": 1
                },
                "geometry": {
                 "spatialReference": {
                  "wkid": 4326
                 },
                 "type": "point",
                 "x": -76.93771499999997,
                 "y": 38.99370200000004
                }
               }
              ],
              "geometryType": "esriGeometryPoint"
             },
             "layerDefinition": {
              "drawingInfo": {
               "renderer": {
                "symbol": {
                 "angle": 0,
                 "contentType": "image/png",
                 "height": 24,
                 "type": "esriPMS",
                 "url": "https://esri.github.io/arcgis-python-api/notebooks/nbimages/pink.png",
                 "width": 24,
                 "xoffset": 0,
                 "yoffset": 12
                },
                "type": "simple"
               }
              },
              "fields": [
               {
                "alias": "OBJECTID",
                "name": "OBJECTID",
                "sqlType": "sqlTypeOther",
                "type": "esriFieldTypeOID"
               }
              ],
              "geometryType": "esriGeometryPoint",
              "name": "Notebook sketch layer",
              "objectIdField": "OBJECTID",
              "spatialReference": {
               "wkid": 4326
              },
              "type": "Feature Layer"
             },
             "popupInfo": {
              "description": null,
              "fieldInfos": [
               {
                "fieldName": "OBJECTID",
                "isEditable": true,
                "label": "OBJECTID",
                "visible": true
               }
              ],
              "mediaInfos": [],
              "showAttachments": true,
              "title": "Notebook sketch layer"
             }
            }
           ]
          },
          "id": "20ae22bd-9f1e-4628-a529-1781c95e3211",
          "layerDefinition": {
           "definitionExpression": null
          },
          "layerType": "ArcGISFeatureLayer",
          "opacity": 1,
          "title": "Notebook sketch layer",
          "visibility": true
         },
         {
          "featureCollection": {
           "layers": [
            {
             "featureSet": {
              "features": [
               {
                "attributes": {
                 "OBJECTID": 1
                },
                "geometry": {
                 "spatialReference": {
                  "wkid": 4326
                 },
                 "type": "point",
                 "x": -76.93764699999997,
                 "y": 38.99533400000007
                }
               }
              ],
              "geometryType": "esriGeometryPoint"
             },
             "layerDefinition": {
              "drawingInfo": {
               "renderer": {
                "symbol": {
                 "angle": 0,
                 "contentType": "image/png",
                 "height": 24,
                 "type": "esriPMS",
                 "url": "https://esri.github.io/arcgis-python-api/notebooks/nbimages/pink.png",
                 "width": 24,
                 "xoffset": 0,
                 "yoffset": 12
                },
                "type": "simple"
               }
              },
              "fields": [
               {
                "alias": "OBJECTID",
                "name": "OBJECTID",
                "sqlType": "sqlTypeOther",
                "type": "esriFieldTypeOID"
               }
              ],
              "geometryType": "esriGeometryPoint",
              "name": "Notebook sketch layer",
              "objectIdField": "OBJECTID",
              "spatialReference": {
               "wkid": 4326
              },
              "type": "Feature Layer"
             },
             "popupInfo": {
              "description": null,
              "fieldInfos": [
               {
                "fieldName": "OBJECTID",
                "isEditable": true,
                "label": "OBJECTID",
                "visible": true
               }
              ],
              "mediaInfos": [],
              "showAttachments": true,
              "title": "Notebook sketch layer"
             }
            }
           ]
          },
          "id": "b2742a0d-823d-4c9a-9161-5e4ba54a655a",
          "layerDefinition": {
           "definitionExpression": null
          },
          "layerType": "ArcGISFeatureLayer",
          "opacity": 1,
          "title": "Notebook sketch layer",
          "visibility": true
         },
         {
          "featureCollection": {
           "layers": [
            {
             "featureSet": {
              "features": [
               {
                "attributes": {
                 "OBJECTID": 1
                },
                "geometry": {
                 "spatialReference": {
                  "wkid": 4326
                 },
                 "type": "point",
                 "x": -76.94050399999998,
                 "y": 38.99781900000005
                }
               }
              ],
              "geometryType": "esriGeometryPoint"
             },
             "layerDefinition": {
              "drawingInfo": {
               "renderer": {
                "symbol": {
                 "angle": 0,
                 "contentType": "image/png",
                 "height": 24,
                 "type": "esriPMS",
                 "url": "https://esri.github.io/arcgis-python-api/notebooks/nbimages/pink.png",
                 "width": 24,
                 "xoffset": 0,
                 "yoffset": 12
                },
                "type": "simple"
               }
              },
              "fields": [
               {
                "alias": "OBJECTID",
                "name": "OBJECTID",
                "sqlType": "sqlTypeOther",
                "type": "esriFieldTypeOID"
               }
              ],
              "geometryType": "esriGeometryPoint",
              "name": "Notebook sketch layer",
              "objectIdField": "OBJECTID",
              "spatialReference": {
               "wkid": 4326
              },
              "type": "Feature Layer"
             },
             "popupInfo": {
              "description": null,
              "fieldInfos": [
               {
                "fieldName": "OBJECTID",
                "isEditable": true,
                "label": "OBJECTID",
                "visible": true
               }
              ],
              "mediaInfos": [],
              "showAttachments": true,
              "title": "Notebook sketch layer"
             }
            }
           ]
          },
          "id": "3738bbdf-e81b-4f99-b255-c4fbe55c7f81",
          "layerDefinition": {
           "definitionExpression": null
          },
          "layerType": "ArcGISFeatureLayer",
          "opacity": 1,
          "title": "Notebook sketch layer",
          "visibility": true
         },
         {
          "featureCollection": {
           "layers": [
            {
             "featureSet": {
              "features": [
               {
                "attributes": {
                 "OBJECTID": 1
                },
                "geometry": {
                 "spatialReference": {
                  "wkid": 4326
                 },
                 "type": "point",
                 "x": -76.94472299999995,
                 "y": 39.001073000000076
                }
               }
              ],
              "geometryType": "esriGeometryPoint"
             },
             "layerDefinition": {
              "drawingInfo": {
               "renderer": {
                "symbol": {
                 "angle": 0,
                 "contentType": "image/png",
                 "height": 24,
                 "type": "esriPMS",
                 "url": "https://esri.github.io/arcgis-python-api/notebooks/nbimages/pink.png",
                 "width": 24,
                 "xoffset": 0,
                 "yoffset": 12
                },
                "type": "simple"
               }
              },
              "fields": [
               {
                "alias": "OBJECTID",
                "name": "OBJECTID",
                "sqlType": "sqlTypeOther",
                "type": "esriFieldTypeOID"
               }
              ],
              "geometryType": "esriGeometryPoint",
              "name": "Notebook sketch layer",
              "objectIdField": "OBJECTID",
              "spatialReference": {
               "wkid": 4326
              },
              "type": "Feature Layer"
             },
             "popupInfo": {
              "description": null,
              "fieldInfos": [
               {
                "fieldName": "OBJECTID",
                "isEditable": true,
                "label": "OBJECTID",
                "visible": true
               }
              ],
              "mediaInfos": [],
              "showAttachments": true,
              "title": "Notebook sketch layer"
             }
            }
           ]
          },
          "id": "ce7c36ea-fe86-4bf9-80cb-922bf88ec798",
          "layerDefinition": {
           "definitionExpression": null
          },
          "layerType": "ArcGISFeatureLayer",
          "opacity": 1,
          "title": "Notebook sketch layer",
          "visibility": true
         },
         {
          "featureCollection": {
           "layers": [
            {
             "featureSet": {
              "features": [
               {
                "attributes": {
                 "OBJECTID": 1
                },
                "geometry": {
                 "spatialReference": {
                  "wkid": 4326
                 },
                 "type": "point",
                 "x": -76.94339999999994,
                 "y": 39.00268500000004
                }
               }
              ],
              "geometryType": "esriGeometryPoint"
             },
             "layerDefinition": {
              "drawingInfo": {
               "renderer": {
                "symbol": {
                 "angle": 0,
                 "contentType": "image/png",
                 "height": 24,
                 "type": "esriPMS",
                 "url": "https://esri.github.io/arcgis-python-api/notebooks/nbimages/pink.png",
                 "width": 24,
                 "xoffset": 0,
                 "yoffset": 12
                },
                "type": "simple"
               }
              },
              "fields": [
               {
                "alias": "OBJECTID",
                "name": "OBJECTID",
                "sqlType": "sqlTypeOther",
                "type": "esriFieldTypeOID"
               }
              ],
              "geometryType": "esriGeometryPoint",
              "name": "Notebook sketch layer",
              "objectIdField": "OBJECTID",
              "spatialReference": {
               "wkid": 4326
              },
              "type": "Feature Layer"
             },
             "popupInfo": {
              "description": null,
              "fieldInfos": [
               {
                "fieldName": "OBJECTID",
                "isEditable": true,
                "label": "OBJECTID",
                "visible": true
               }
              ],
              "mediaInfos": [],
              "showAttachments": true,
              "title": "Notebook sketch layer"
             }
            }
           ]
          },
          "id": "af1568cf-782b-4db4-af53-904cf8623f6c",
          "layerDefinition": {
           "definitionExpression": null
          },
          "layerType": "ArcGISFeatureLayer",
          "opacity": 1,
          "title": "Notebook sketch layer",
          "visibility": true
         },
         {
          "featureCollection": {
           "layers": [
            {
             "featureSet": {
              "features": [
               {
                "attributes": {
                 "OBJECTID": 1
                },
                "geometry": {
                 "spatialReference": {
                  "wkid": 4326
                 },
                 "type": "point",
                 "x": -76.94254099999995,
                 "y": 39.00308300000006
                }
               }
              ],
              "geometryType": "esriGeometryPoint"
             },
             "layerDefinition": {
              "drawingInfo": {
               "renderer": {
                "symbol": {
                 "angle": 0,
                 "contentType": "image/png",
                 "height": 24,
                 "type": "esriPMS",
                 "url": "https://esri.github.io/arcgis-python-api/notebooks/nbimages/pink.png",
                 "width": 24,
                 "xoffset": 0,
                 "yoffset": 12
                },
                "type": "simple"
               }
              },
              "fields": [
               {
                "alias": "OBJECTID",
                "name": "OBJECTID",
                "sqlType": "sqlTypeOther",
                "type": "esriFieldTypeOID"
               }
              ],
              "geometryType": "esriGeometryPoint",
              "name": "Notebook sketch layer",
              "objectIdField": "OBJECTID",
              "spatialReference": {
               "wkid": 4326
              },
              "type": "Feature Layer"
             },
             "popupInfo": {
              "description": null,
              "fieldInfos": [
               {
                "fieldName": "OBJECTID",
                "isEditable": true,
                "label": "OBJECTID",
                "visible": true
               }
              ],
              "mediaInfos": [],
              "showAttachments": true,
              "title": "Notebook sketch layer"
             }
            }
           ]
          },
          "id": "7ad369ab-e344-4da0-8741-79688546481f",
          "layerDefinition": {
           "definitionExpression": null
          },
          "layerType": "ArcGISFeatureLayer",
          "opacity": 1,
          "title": "Notebook sketch layer",
          "visibility": true
         },
         {
          "featureCollection": {
           "layers": [
            {
             "featureSet": {
              "features": [
               {
                "attributes": {
                 "OBJECTID": 1
                },
                "geometry": {
                 "spatialReference": {
                  "wkid": 4326
                 },
                 "type": "point",
                 "x": -76.94342999999998,
                 "y": 39.00205600000004
                }
               }
              ],
              "geometryType": "esriGeometryPoint"
             },
             "layerDefinition": {
              "drawingInfo": {
               "renderer": {
                "symbol": {
                 "angle": 0,
                 "contentType": "image/png",
                 "height": 24,
                 "type": "esriPMS",
                 "url": "https://esri.github.io/arcgis-python-api/notebooks/nbimages/pink.png",
                 "width": 24,
                 "xoffset": 0,
                 "yoffset": 12
                },
                "type": "simple"
               }
              },
              "fields": [
               {
                "alias": "OBJECTID",
                "name": "OBJECTID",
                "sqlType": "sqlTypeOther",
                "type": "esriFieldTypeOID"
               }
              ],
              "geometryType": "esriGeometryPoint",
              "name": "Notebook sketch layer",
              "objectIdField": "OBJECTID",
              "spatialReference": {
               "wkid": 4326
              },
              "type": "Feature Layer"
             },
             "popupInfo": {
              "description": null,
              "fieldInfos": [
               {
                "fieldName": "OBJECTID",
                "isEditable": true,
                "label": "OBJECTID",
                "visible": true
               }
              ],
              "mediaInfos": [],
              "showAttachments": true,
              "title": "Notebook sketch layer"
             }
            }
           ]
          },
          "id": "dbd105ff-94cf-4a7a-822e-151ea206d0c1",
          "layerDefinition": {
           "definitionExpression": null
          },
          "layerType": "ArcGISFeatureLayer",
          "opacity": 1,
          "title": "Notebook sketch layer",
          "visibility": true
         },
         {
          "featureCollection": {
           "layers": [
            {
             "featureSet": {
              "features": [
               {
                "attributes": {
                 "OBJECTID": 1
                },
                "geometry": {
                 "spatialReference": {
                  "wkid": 4326
                 },
                 "type": "point",
                 "x": -76.94472299999995,
                 "y": 39.001073000000076
                }
               }
              ],
              "geometryType": "esriGeometryPoint"
             },
             "layerDefinition": {
              "drawingInfo": {
               "renderer": {
                "symbol": {
                 "angle": 0,
                 "contentType": "image/png",
                 "height": 24,
                 "type": "esriPMS",
                 "url": "https://esri.github.io/arcgis-python-api/notebooks/nbimages/pink.png",
                 "width": 24,
                 "xoffset": 0,
                 "yoffset": 12
                },
                "type": "simple"
               }
              },
              "fields": [
               {
                "alias": "OBJECTID",
                "name": "OBJECTID",
                "sqlType": "sqlTypeOther",
                "type": "esriFieldTypeOID"
               }
              ],
              "geometryType": "esriGeometryPoint",
              "name": "Notebook sketch layer",
              "objectIdField": "OBJECTID",
              "spatialReference": {
               "wkid": 4326
              },
              "type": "Feature Layer"
             },
             "popupInfo": {
              "description": null,
              "fieldInfos": [
               {
                "fieldName": "OBJECTID",
                "isEditable": true,
                "label": "OBJECTID",
                "visible": true
               }
              ],
              "mediaInfos": [],
              "showAttachments": true,
              "title": "Notebook sketch layer"
             }
            }
           ]
          },
          "id": "77f49cc8-1785-49f7-b3e9-96547819ef88",
          "layerDefinition": {
           "definitionExpression": null
          },
          "layerType": "ArcGISFeatureLayer",
          "opacity": 1,
          "title": "Notebook sketch layer",
          "visibility": true
         },
         {
          "featureCollection": {
           "layers": [
            {
             "featureSet": {
              "features": [
               {
                "attributes": {
                 "OBJECTID": 1
                },
                "geometry": {
                 "spatialReference": {
                  "wkid": 4326
                 },
                 "type": "point",
                 "x": -76.94040899999999,
                 "y": 38.99790800000005
                }
               }
              ],
              "geometryType": "esriGeometryPoint"
             },
             "layerDefinition": {
              "drawingInfo": {
               "renderer": {
                "symbol": {
                 "angle": 0,
                 "contentType": "image/png",
                 "height": 24,
                 "type": "esriPMS",
                 "url": "https://esri.github.io/arcgis-python-api/notebooks/nbimages/pink.png",
                 "width": 24,
                 "xoffset": 0,
                 "yoffset": 12
                },
                "type": "simple"
               }
              },
              "fields": [
               {
                "alias": "OBJECTID",
                "name": "OBJECTID",
                "sqlType": "sqlTypeOther",
                "type": "esriFieldTypeOID"
               }
              ],
              "geometryType": "esriGeometryPoint",
              "name": "Notebook sketch layer",
              "objectIdField": "OBJECTID",
              "spatialReference": {
               "wkid": 4326
              },
              "type": "Feature Layer"
             },
             "popupInfo": {
              "description": null,
              "fieldInfos": [
               {
                "fieldName": "OBJECTID",
                "isEditable": true,
                "label": "OBJECTID",
                "visible": true
               }
              ],
              "mediaInfos": [],
              "showAttachments": true,
              "title": "Notebook sketch layer"
             }
            }
           ]
          },
          "id": "fca84e33-b880-4b0a-a25d-f0b2998bb759",
          "layerDefinition": {
           "definitionExpression": null
          },
          "layerType": "ArcGISFeatureLayer",
          "opacity": 1,
          "title": "Notebook sketch layer",
          "visibility": true
         },
         {
          "featureCollection": {
           "layers": [
            {
             "featureSet": {
              "features": [
               {
                "attributes": {
                 "OBJECTID": 1
                },
                "geometry": {
                 "spatialReference": {
                  "wkid": 4326
                 },
                 "type": "point",
                 "x": -76.93746199999998,
                 "y": 38.99535700000007
                }
               }
              ],
              "geometryType": "esriGeometryPoint"
             },
             "layerDefinition": {
              "drawingInfo": {
               "renderer": {
                "symbol": {
                 "angle": 0,
                 "contentType": "image/png",
                 "height": 24,
                 "type": "esriPMS",
                 "url": "https://esri.github.io/arcgis-python-api/notebooks/nbimages/pink.png",
                 "width": 24,
                 "xoffset": 0,
                 "yoffset": 12
                },
                "type": "simple"
               }
              },
              "fields": [
               {
                "alias": "OBJECTID",
                "name": "OBJECTID",
                "sqlType": "sqlTypeOther",
                "type": "esriFieldTypeOID"
               }
              ],
              "geometryType": "esriGeometryPoint",
              "name": "Notebook sketch layer",
              "objectIdField": "OBJECTID",
              "spatialReference": {
               "wkid": 4326
              },
              "type": "Feature Layer"
             },
             "popupInfo": {
              "description": null,
              "fieldInfos": [
               {
                "fieldName": "OBJECTID",
                "isEditable": true,
                "label": "OBJECTID",
                "visible": true
               }
              ],
              "mediaInfos": [],
              "showAttachments": true,
              "title": "Notebook sketch layer"
             }
            }
           ]
          },
          "id": "3519806c-321e-4ed3-bf48-66fbb57f42ef",
          "layerDefinition": {
           "definitionExpression": null
          },
          "layerType": "ArcGISFeatureLayer",
          "opacity": 1,
          "title": "Notebook sketch layer",
          "visibility": true
         },
         {
          "featureCollection": {
           "layers": [
            {
             "featureSet": {
              "features": [
               {
                "attributes": {
                 "OBJECTID": 1
                },
                "geometry": {
                 "spatialReference": {
                  "wkid": 4326
                 },
                 "type": "point",
                 "x": -76.93747899999994,
                 "y": 38.99362800000006
                }
               }
              ],
              "geometryType": "esriGeometryPoint"
             },
             "layerDefinition": {
              "drawingInfo": {
               "renderer": {
                "symbol": {
                 "angle": 0,
                 "contentType": "image/png",
                 "height": 24,
                 "type": "esriPMS",
                 "url": "https://esri.github.io/arcgis-python-api/notebooks/nbimages/pink.png",
                 "width": 24,
                 "xoffset": 0,
                 "yoffset": 12
                },
                "type": "simple"
               }
              },
              "fields": [
               {
                "alias": "OBJECTID",
                "name": "OBJECTID",
                "sqlType": "sqlTypeOther",
                "type": "esriFieldTypeOID"
               }
              ],
              "geometryType": "esriGeometryPoint",
              "name": "Notebook sketch layer",
              "objectIdField": "OBJECTID",
              "spatialReference": {
               "wkid": 4326
              },
              "type": "Feature Layer"
             },
             "popupInfo": {
              "description": null,
              "fieldInfos": [
               {
                "fieldName": "OBJECTID",
                "isEditable": true,
                "label": "OBJECTID",
                "visible": true
               }
              ],
              "mediaInfos": [],
              "showAttachments": true,
              "title": "Notebook sketch layer"
             }
            }
           ]
          },
          "id": "1b9b7f9a-fa8a-444f-971a-c54410e6763f",
          "layerDefinition": {
           "definitionExpression": null
          },
          "layerType": "ArcGISFeatureLayer",
          "opacity": 1,
          "title": "Notebook sketch layer",
          "visibility": true
         },
         {
          "featureCollection": {
           "layers": [
            {
             "featureSet": {
              "features": [
               {
                "attributes": {
                 "OBJECTID": 1
                },
                "geometry": {
                 "spatialReference": {
                  "wkid": 4326
                 },
                 "type": "point",
                 "x": -76.93993199999994,
                 "y": 38.993483000000026
                }
               }
              ],
              "geometryType": "esriGeometryPoint"
             },
             "layerDefinition": {
              "drawingInfo": {
               "renderer": {
                "symbol": {
                 "angle": 0,
                 "contentType": "image/png",
                 "height": 24,
                 "type": "esriPMS",
                 "url": "https://esri.github.io/arcgis-python-api/notebooks/nbimages/pink.png",
                 "width": 24,
                 "xoffset": 0,
                 "yoffset": 12
                },
                "type": "simple"
               }
              },
              "fields": [
               {
                "alias": "OBJECTID",
                "name": "OBJECTID",
                "sqlType": "sqlTypeOther",
                "type": "esriFieldTypeOID"
               }
              ],
              "geometryType": "esriGeometryPoint",
              "name": "Notebook sketch layer",
              "objectIdField": "OBJECTID",
              "spatialReference": {
               "wkid": 4326
              },
              "type": "Feature Layer"
             },
             "popupInfo": {
              "description": null,
              "fieldInfos": [
               {
                "fieldName": "OBJECTID",
                "isEditable": true,
                "label": "OBJECTID",
                "visible": true
               }
              ],
              "mediaInfos": [],
              "showAttachments": true,
              "title": "Notebook sketch layer"
             }
            }
           ]
          },
          "id": "49aa46f5-b8b3-4b1b-8d1e-cb189e8b36d4",
          "layerDefinition": {
           "definitionExpression": null
          },
          "layerType": "ArcGISFeatureLayer",
          "opacity": 1,
          "title": "Notebook sketch layer",
          "visibility": true
         },
         {
          "featureCollection": {
           "layers": [
            {
             "featureSet": {
              "features": [
               {
                "attributes": {
                 "OBJECTID": 1
                },
                "geometry": {
                 "spatialReference": {
                  "wkid": 4326
                 },
                 "type": "point",
                 "x": -76.94064699999996,
                 "y": 38.99127400000003
                }
               }
              ],
              "geometryType": "esriGeometryPoint"
             },
             "layerDefinition": {
              "drawingInfo": {
               "renderer": {
                "symbol": {
                 "angle": 0,
                 "contentType": "image/png",
                 "height": 24,
                 "type": "esriPMS",
                 "url": "https://esri.github.io/arcgis-python-api/notebooks/nbimages/pink.png",
                 "width": 24,
                 "xoffset": 0,
                 "yoffset": 12
                },
                "type": "simple"
               }
              },
              "fields": [
               {
                "alias": "OBJECTID",
                "name": "OBJECTID",
                "sqlType": "sqlTypeOther",
                "type": "esriFieldTypeOID"
               }
              ],
              "geometryType": "esriGeometryPoint",
              "name": "Notebook sketch layer",
              "objectIdField": "OBJECTID",
              "spatialReference": {
               "wkid": 4326
              },
              "type": "Feature Layer"
             },
             "popupInfo": {
              "description": null,
              "fieldInfos": [
               {
                "fieldName": "OBJECTID",
                "isEditable": true,
                "label": "OBJECTID",
                "visible": true
               }
              ],
              "mediaInfos": [],
              "showAttachments": true,
              "title": "Notebook sketch layer"
             }
            }
           ]
          },
          "id": "603add88-571e-454b-9f6f-c5329f297b87",
          "layerDefinition": {
           "definitionExpression": null
          },
          "layerType": "ArcGISFeatureLayer",
          "opacity": 1,
          "title": "Notebook sketch layer",
          "visibility": true
         },
         {
          "featureCollection": {
           "layers": [
            {
             "featureSet": {
              "features": [
               {
                "attributes": {
                 "OBJECTID": 1
                },
                "geometry": {
                 "spatialReference": {
                  "wkid": 4326
                 },
                 "type": "point",
                 "x": -76.94077199999998,
                 "y": 38.98952200000008
                }
               }
              ],
              "geometryType": "esriGeometryPoint"
             },
             "layerDefinition": {
              "drawingInfo": {
               "renderer": {
                "symbol": {
                 "angle": 0,
                 "contentType": "image/png",
                 "height": 24,
                 "type": "esriPMS",
                 "url": "https://esri.github.io/arcgis-python-api/notebooks/nbimages/pink.png",
                 "width": 24,
                 "xoffset": 0,
                 "yoffset": 12
                },
                "type": "simple"
               }
              },
              "fields": [
               {
                "alias": "OBJECTID",
                "name": "OBJECTID",
                "sqlType": "sqlTypeOther",
                "type": "esriFieldTypeOID"
               }
              ],
              "geometryType": "esriGeometryPoint",
              "name": "Notebook sketch layer",
              "objectIdField": "OBJECTID",
              "spatialReference": {
               "wkid": 4326
              },
              "type": "Feature Layer"
             },
             "popupInfo": {
              "description": null,
              "fieldInfos": [
               {
                "fieldName": "OBJECTID",
                "isEditable": true,
                "label": "OBJECTID",
                "visible": true
               }
              ],
              "mediaInfos": [],
              "showAttachments": true,
              "title": "Notebook sketch layer"
             }
            }
           ]
          },
          "id": "85531f16-e5c7-44c8-956c-d8a7a4615e64",
          "layerDefinition": {
           "definitionExpression": null
          },
          "layerType": "ArcGISFeatureLayer",
          "opacity": 1,
          "title": "Notebook sketch layer",
          "visibility": true
         },
         {
          "featureCollection": {
           "layers": [
            {
             "featureSet": {
              "features": [
               {
                "attributes": {
                 "OBJECTID": 1
                },
                "geometry": {
                 "spatialReference": {
                  "wkid": 4326
                 },
                 "type": "point",
                 "x": -76.94394499999999,
                 "y": 38.987610000000075
                }
               }
              ],
              "geometryType": "esriGeometryPoint"
             },
             "layerDefinition": {
              "drawingInfo": {
               "renderer": {
                "symbol": {
                 "angle": 0,
                 "contentType": "image/png",
                 "height": 24,
                 "type": "esriPMS",
                 "url": "https://esri.github.io/arcgis-python-api/notebooks/nbimages/pink.png",
                 "width": 24,
                 "xoffset": 0,
                 "yoffset": 12
                },
                "type": "simple"
               }
              },
              "fields": [
               {
                "alias": "OBJECTID",
                "name": "OBJECTID",
                "sqlType": "sqlTypeOther",
                "type": "esriFieldTypeOID"
               }
              ],
              "geometryType": "esriGeometryPoint",
              "name": "Notebook sketch layer",
              "objectIdField": "OBJECTID",
              "spatialReference": {
               "wkid": 4326
              },
              "type": "Feature Layer"
             },
             "popupInfo": {
              "description": null,
              "fieldInfos": [
               {
                "fieldName": "OBJECTID",
                "isEditable": true,
                "label": "OBJECTID",
                "visible": true
               }
              ],
              "mediaInfos": [],
              "showAttachments": true,
              "title": "Notebook sketch layer"
             }
            }
           ]
          },
          "id": "355e3f7f-240e-4e91-a595-3028a44ea1a4",
          "layerDefinition": {
           "definitionExpression": null
          },
          "layerType": "ArcGISFeatureLayer",
          "opacity": 1,
          "title": "Notebook sketch layer",
          "visibility": true
         }
        ],
        "spatialReference": {
         "latestWkid": 3857,
         "wkid": 102100
        },
        "version": "2.10"
       },
       "_writeonly_end_time": "1900-01-01T00:00:00.000000",
       "_writeonly_start_time": "1900-01-01T00:00:00.000000",
       "hide_mode_switch": true,
       "layout": "IPY_MODEL_3813f35de80a43638b625620b29bca39",
       "print_service_url": ""
      }
     },
     "b54fe88e1f4c49bba114c765c59b7245": {
      "model_module": "arcgis-map-ipywidget",
      "model_module_version": "1.8.5",
      "model_name": "ArcGISMapIPyWidgetModel",
      "state": {
       "_add_this_graphic": {
        "attributes": null,
        "geometry": {
         "type": "point",
         "x": -76.94388199999997,
         "y": 38.98743100000007
        },
        "popupTemplate": {
         "content": "Campus Dr, College Park, Maryland, 20742",
         "title": "Stop 13"
        },
        "symbol": null
       },
       "_auth_mode": "tokenBased",
       "_basemap": "default",
       "_center": {
        "spatialReference": {
         "wkid": 4326
        },
        "x": -76.93889999999999,
        "y": 38.98785000000004
       },
       "_draw_these_graphics_on_widget_load": [],
       "_draw_these_notype_layers_on_widget_load": [],
       "_gallery_basemaps": {
        "default": {
         "baseMapLayers": [
          {
           "layerType": "ArcGISTiledMapServiceLayer",
           "resourceInfo": {
            "capabilities": "Map,Tilemap,Query,Data",
            "currentVersion": 10.3,
            "exportTilesAllowed": false,
            "fullExtent": {
             "spatialReference": {
              "latestWkid": 3857,
              "wkid": 102100
             },
             "xmax": 20037507.067161843,
             "xmin": -20037507.067161843,
             "ymax": 19971868.88040863,
             "ymin": -19971868.880408604
            },
            "initialExtent": {
             "spatialReference": {
              "latestWkid": 3857,
              "wkid": 102100
             },
             "xmax": 28848255.049479112,
             "xmin": -28848255.049479112,
             "ymax": 16430757.376790084,
             "ymin": -2077452.082122866
            },
            "layers": [
             {
              "defaultVisibility": false,
              "id": 0,
              "maxScale": 0,
              "minScale": 0,
              "name": "Citations",
              "parentLayerId": -1,
              "subLayerIds": null
             }
            ],
            "mapName": "Layers",
            "maxImageHeight": 4096,
            "maxImageWidth": 4096,
            "maxRecordCount": 100,
            "maxScale": 70.5310735,
            "minScale": 591657527.591555,
            "singleFusedMapCache": true,
            "spatialReference": {
             "latestWkid": 3857,
             "wkid": 102100
            },
            "supportedExtensions": "KmlServer",
            "supportedImageFormatTypes": "PNG32,PNG24,PNG,JPG,DIB,TIFF,EMF,PS,PDF,GIF,SVG,SVGZ,BMP",
            "supportedQueryFormats": "JSON, AMF",
            "supportsDynamicLayers": false,
            "tables": [],
            "tileInfo": {
             "cols": 256,
             "compressionQuality": 90,
             "dpi": 96,
             "format": "JPEG",
             "lods": [
              {
               "level": 0,
               "resolution": 156543.03392800014,
               "scale": 591657527.591555
              },
              {
               "level": 1,
               "resolution": 78271.51696399994,
               "scale": 295828763.795777
              },
              {
               "level": 2,
               "resolution": 39135.75848200009,
               "scale": 147914381.897889
              },
              {
               "level": 3,
               "resolution": 19567.87924099992,
               "scale": 73957190.948944
              },
              {
               "level": 4,
               "resolution": 9783.93962049996,
               "scale": 36978595.474472
              },
              {
               "level": 5,
               "resolution": 4891.96981024998,
               "scale": 18489297.737236
              },
              {
               "level": 6,
               "resolution": 2445.98490512499,
               "scale": 9244648.868618
              },
              {
               "level": 7,
               "resolution": 1222.992452562495,
               "scale": 4622324.434309
              },
              {
               "level": 8,
               "resolution": 611.4962262813797,
               "scale": 2311162.217155
              },
              {
               "level": 9,
               "resolution": 305.74811314055756,
               "scale": 1155581.108577
              },
              {
               "level": 10,
               "resolution": 152.87405657041106,
               "scale": 577790.554289
              },
              {
               "level": 11,
               "resolution": 76.43702828507324,
               "scale": 288895.277144
              },
              {
               "level": 12,
               "resolution": 38.21851414253662,
               "scale": 144447.638572
              },
              {
               "level": 13,
               "resolution": 19.10925707126831,
               "scale": 72223.819286
              },
              {
               "level": 14,
               "resolution": 9.554628535634155,
               "scale": 36111.909643
              },
              {
               "level": 15,
               "resolution": 4.77731426794937,
               "scale": 18055.954822
              },
              {
               "level": 16,
               "resolution": 2.388657133974685,
               "scale": 9027.977411
              },
              {
               "level": 17,
               "resolution": 1.1943285668550503,
               "scale": 4513.988705
              },
              {
               "level": 18,
               "resolution": 0.5971642835598172,
               "scale": 2256.994353
              },
              {
               "level": 19,
               "resolution": 0.29858214164761665,
               "scale": 1128.497176
              },
              {
               "level": 20,
               "resolution": 0.14929107082380833,
               "scale": 564.248588
              },
              {
               "level": 21,
               "resolution": 0.07464553541190416,
               "scale": 282.124294
              },
              {
               "level": 22,
               "resolution": 0.03732276770595208,
               "scale": 141.062147
              },
              {
               "level": 23,
               "resolution": 0.01866138385297604,
               "scale": 70.5310735
              }
             ],
             "origin": {
              "x": -20037508.342787,
              "y": 20037508.342787
             },
             "rows": 256,
             "spatialReference": {
              "latestWkid": 3857,
              "wkid": 102100
             }
            },
            "units": "esriMeters"
           },
           "url": "https://services.arcgisonline.com/ArcGIS/rest/services/World_Topo_Map/MapServer"
          }
         ],
         "title": "Topographic"
        }
       },
       "_layers_to_remove": [
        "graphicsLayerId31195"
       ],
       "_overlay_these_images_on_widget_load": [],
       "_portal_sharing_rest_url": "https://ssbFmLCAQPoGBuDx.maps.arcgis.com/sharing/rest/",
       "_portal_url": "https://ssbFmLCAQPoGBuDx.maps.arcgis.com",
       "_readonly_center": {
        "spatialReference": {
         "latestWkid": 3857,
         "wkid": 102100
        },
        "x": -8569151.69166378,
        "y": 4721911.006612155
       },
       "_readonly_extent": {
        "spatialReference": {
         "latestWkid": 3857,
         "wkid": 102100
        },
        "xmax": -8568031.411467945,
        "xmin": -8570271.971859613,
        "ymax": 4722388.73803895,
        "ymin": 4721433.27518536
       },
       "_readonly_heading": 360,
       "_readonly_scale": 9027.977411,
       "_readonly_tilt": 0.4997424533625535,
       "_readonly_webmap_from_js": {
        "basemap": {
         "baseMapLayers": [
          {
           "id": "178c043d260-layer-1",
           "layerType": "ArcGISTiledMapServiceLayer",
           "title": "World Topo Map",
           "url": "https://services.arcgisonline.com/ArcGIS/rest/services/World_Topo_Map/MapServer"
          }
         ],
         "title": "Topographic"
        },
        "ground": {
         "layers": [
          {
           "id": "worldElevation",
           "layerType": "ArcGISTiledElevationServiceLayer",
           "listMode": "show",
           "title": "Terrain3D",
           "url": "https://elevation3d.arcgis.com/arcgis/rest/services/WorldElevation3D/Terrain3D/ImageServer",
           "visibility": true
          }
         ],
         "transparency": 0
        },
        "layers": [
         {
          "graphics": [
           {
            "attributes": {},
            "geometry": {
             "paths": [
              [
               [
                -76.94388199999997,
                38.98753000000005
               ],
               [
                -76.94421999999997,
                38.98753000000005
               ],
               [
                -76.94437999999997,
                38.98753000000005
               ],
               [
                -76.94537999999994,
                38.98742000000004
               ],
               [
                -76.94541999999996,
                38.987520000000075
               ],
               [
                -76.94541999999996,
                38.98767000000004
               ],
               [
                -76.94539999999995,
                38.988000000000056
               ],
               [
                -76.94539555799997,
                38.98806958900008
               ]
              ],
              [
               [
                -76.94539555799997,
                38.98806958900008
               ],
               [
                -76.94530829999997,
                38.98869510000003
               ]
              ],
              [
               [
                -76.94530829999997,
                38.98869510000003
               ],
               [
                -76.94526999999994,
                38.98881000000006
               ],
               [
                -76.94498999999996,
                38.988770000000045
               ],
               [
                -76.94455999999997,
                38.988620000000026
               ],
               [
                -76.94432999999998,
                38.98869000000008
               ],
               [
                -76.94408999999996,
                38.98879000000005
               ],
               [
                -76.94383999999997,
                38.98900000000003
               ],
               [
                -76.94381999999996,
                38.98907000000003
               ],
               [
                -76.94379999999995,
                38.98915000000005
               ],
               [
                -76.94371999999998,
                38.98926000000006
               ],
               [
                -76.94343999999995,
                38.98943000000003
               ],
               [
                -76.94228999999996,
                38.98943000000003
               ],
               [
                -76.94206999999994,
                38.989310000000046
               ],
               [
                -76.94206105399996,
                38.98929479200007
               ]
              ],
              [
               [
                -76.94206105399996,
                38.98929479200007
               ],
               [
                -76.94181999999995,
                38.98909000000003
               ],
               [
                -76.94069999999994,
                38.98905000000008
               ],
               [
                -76.94066999999995,
                38.98866000000004
               ],
               [
                -76.94066999999995,
                38.988510000000076
               ],
               [
                -76.94064999999995,
                38.98828000000003
               ],
               [
                -76.94062999999994,
                38.98812000000004
               ],
               [
                -76.94062999999994,
                38.98794000000004
               ],
               [
                -76.94048999999995,
                38.987640000000056
               ],
               [
                -76.94048999999995,
                38.98759000000007
               ],
               [
                -76.94045999999997,
                38.987540000000024
               ],
               [
                -76.94031999999999,
                38.987430000000074
               ],
               [
                -76.94013999999999,
                38.98678000000007
               ],
               [
                -76.94013999999999,
                38.98669000000007
               ],
               [
                -76.94013999999999,
                38.98664900000006
               ]
              ],
              [
               [
                -76.94013999999999,
                38.98664900000006
               ],
               [
                -76.94013999999999,
                38.98654000000005
               ],
               [
                -76.94013999999999,
                38.98648000000003
               ],
               [
                -76.94012999999995,
                38.98562000000004
               ],
               [
                -76.94010999999995,
                38.98553000000004
               ],
               [
                -76.94009999999997,
                38.98526000000004
               ],
               [
                -76.94010999999995,
                38.98493000000008
               ],
               [
                -76.94010976099997,
                38.98492377800005
               ]
              ],
              [
               [
                -76.94010976099997,
                38.98492377800005
               ],
               [
                -76.94009999999997,
                38.98467000000005
               ],
               [
                -76.94008999999994,
                38.98461000000003
               ],
               [
                -76.94012999999995,
                38.98442000000006
               ],
               [
                -76.94009999999997,
                38.984200000000044
               ],
               [
                -76.93998999999997,
                38.98335000000003
               ],
               [
                -76.93990999999994,
                38.98305000000005
               ],
               [
                -76.93980999999997,
                38.98288000000008
               ],
               [
                -76.93959999999998,
                38.98267000000004
               ],
               [
                -76.93913384699994,
                38.98246867200004
               ]
              ],
              [
               [
                -76.93913384699994,
                38.98246867200004
               ],
               [
                -76.93910999999997,
                38.98246000000006
               ],
               [
                -76.93885999999998,
                38.982380000000035
               ],
               [
                -76.93858999999998,
                38.98232000000007
               ],
               [
                -76.93798999999996,
                38.98215000000005
               ],
               [
                -76.93782999999996,
                38.982120000000066
               ],
               [
                -76.93782999999996,
                38.98277000000007
               ],
               [
                -76.93781999999999,
                38.98284000000007
               ],
               [
                -76.93777999999998,
                38.98311000000007
               ],
               [
                -76.93772999999999,
                38.98348000000004
               ],
               [
                -76.93765999999994,
                38.98380000000003
               ],
               [
                -76.93748999999997,
                38.98442000000006
               ],
               [
                -76.93725999999998,
                38.98502000000008
               ],
               [
                -76.93713648899995,
                38.98529447000004
               ]
              ],
              [
               [
                -76.93713648899995,
                38.98529447000004
               ],
               [
                -76.93707999999998,
                38.98542000000003
               ],
               [
                -76.93699999999995,
                38.98557000000005
               ],
               [
                -76.93665999999996,
                38.98617000000007
               ],
               [
                -76.93654999999995,
                38.986330000000066
               ],
               [
                -76.93632999999994,
                38.98666000000003
               ],
               [
                -76.93616999999995,
                38.98689000000007
               ],
               [
                -76.93583999999998,
                38.98738000000003
               ],
               [
                -76.93511999999998,
                38.98846000000003
               ],
               [
                -76.93509999999998,
                38.98849000000007
               ],
               [
                -76.93506999999994,
                38.988680000000045
               ],
               [
                -76.93503999999996,
                38.98873000000003
               ],
               [
                -76.93491999999998,
                38.98893000000004
               ],
               [
                -76.93475999999998,
                38.98920000000004
               ],
               [
                -76.93463999999994,
                38.98938000000004
               ],
               [
                -76.93452999999994,
                38.989540000000034
               ],
               [
                -76.93440999999996,
                38.98975000000007
               ],
               [
                -76.93433999999996,
                38.98989000000006
               ],
               [
                -76.93421999999998,
                38.98985000000005
               ],
               [
                -76.93380999999994,
                38.989720000000034
               ],
               [
                -76.93345999999997,
                38.989630000000034
               ],
               [
                -76.93335999999994,
                38.98961000000003
               ],
               [
                -76.93302999999997,
                38.98956000000004
               ],
               [
                -76.93287999999995,
                38.989550000000065
               ],
               [
                -76.93274999999994,
                38.989540000000034
               ],
               [
                -76.93263999999994,
                38.98953000000006
               ],
               [
                -76.93250999999998,
                38.98951000000005
               ],
               [
                -76.93230999999997,
                38.989490000000046
               ],
               [
                -76.93068999999997,
                38.98925000000003
               ],
               [
                -76.93049999999994,
                38.98923000000008
               ],
               [
                -76.93002999999999,
                38.98917000000006
               ],
               [
                -76.92934999999994,
                38.98908000000006
               ],
               [
                -76.92873999999995,
                38.98900000000003
               ],
               [
                -76.92859999999996,
                38.98932000000008
               ],
               [
                -76.92843999999997,
                38.98977000000008
               ],
               [
                -76.92973538899997,
                38.99058493900003
               ]
              ],
              [
               [
                -76.92973538899997,
                38.99058493900003
               ],
               [
                -76.92994999999996,
                38.990710000000036
               ],
               [
                -76.93024999999994,
                38.990890000000036
               ],
               [
                -76.93043999999998,
                38.99100000000004
               ],
               [
                -76.93114999999995,
                38.991480000000024
               ],
               [
                -76.93139999999994,
                38.991660000000024
               ],
               [
                -76.93175999999994,
                38.99188000000004
               ],
               [
                -76.93220999999994,
                38.99215000000004
               ],
               [
                -76.93257999999997,
                38.99237000000005
               ],
               [
                -76.93271999999996,
                38.992450000000076
               ],
               [
                -76.93313999999998,
                38.992650000000026
               ],
               [
                -76.93317999999994,
                38.992560000000026
               ],
               [
                -76.93335999999994,
                38.99215000000004
               ],
               [
                -76.93399999999997,
                38.99230000000006
               ],
               [
                -76.93403467899998,
                38.99231040400008
               ]
              ],
              [
               [
                -76.93403467899998,
                38.99231040400008
               ],
               [
                -76.93399999999997,
                38.99230000000006
               ],
               [
                -76.93335999999994,
                38.99215000000004
               ],
               [
                -76.93340999999998,
                38.99203000000006
               ],
               [
                -76.93349999999998,
                38.991840000000025
               ],
               [
                -76.93358999999998,
                38.991660000000024
               ],
               [
                -76.93365999999997,
                38.99150000000003
               ],
               [
                -76.93372999999997,
                38.99130000000008
               ],
               [
                -76.93379999999996,
                38.99114000000003
               ],
               [
                -76.93391999999994,
                38.99088000000006
               ],
               [
                -76.93397999999996,
                38.99073000000004
               ],
               [
                -76.93401999999998,
                38.99064000000004
               ],
               [
                -76.93409310499999,
                38.990475513000035
               ]
              ],
              [
               [
                -76.93409310499999,
                38.990475513000035
               ],
               [
                -76.93414999999999,
                38.99034000000006
               ],
               [
                -76.93440999999996,
                38.98975000000007
               ],
               [
                -76.93452999999994,
                38.989540000000034
               ],
               [
                -76.93463999999994,
                38.98938000000004
               ],
               [
                -76.93475999999998,
                38.98920000000004
               ],
               [
                -76.93491999999998,
                38.98893000000004
               ],
               [
                -76.93503999999996,
                38.98873000000003
               ],
               [
                -76.93506999999994,
                38.988680000000045
               ],
               [
                -76.93564999999995,
                38.988740000000064
               ],
               [
                -76.93606999999997,
                38.98873000000003
               ],
               [
                -76.93665999999996,
                38.988530000000026
               ],
               [
                -76.93753999999996,
                38.98829000000006
               ],
               [
                -76.93853999999999,
                38.98795000000007
               ],
               [
                -76.93874999999997,
                38.987880000000075
               ],
               [
                -76.93904999999995,
                38.987790000000075
               ],
               [
                -76.93941999999998,
                38.987700000000075
               ],
               [
                -76.93952399999995,
                38.987700000000075
               ]
              ],
              [
               [
                -76.93952399999995,
                38.987700000000075
               ],
               [
                -76.93972999999994,
                38.987720000000024
               ],
               [
                -76.93988999999993,
                38.987730000000056
               ],
               [
                -76.94024999999993,
                38.987810000000025
               ],
               [
                -76.94048999999995,
                38.987640000000056
               ],
               [
                -76.94048999999995,
                38.98759000000007
               ],
               [
                -76.94107999999994,
                38.98757000000006
               ],
               [
                -76.94121999999999,
                38.98756000000003
               ],
               [
                -76.94145999999995,
                38.987550000000056
               ],
               [
                -76.94170999999994,
                38.987540000000024
               ],
               [
                -76.94216999999998,
                38.987540000000024
               ],
               [
                -76.94260999999995,
                38.987540000000024
               ],
               [
                -76.94319999999993,
                38.98753000000005
               ],
               [
                -76.94343999999995,
                38.98753000000005
               ],
               [
                -76.94388199999997,
                38.98753000000005
               ]
              ]
             ],
             "spatialReference": {
              "wkid": 4326
             }
            },
            "popupTemplate": {
             "description": "<style  type=\"text/css\" >\n    #T_6d5056aa_9aa8_11eb_bf58_bc542f6978cc td {\n          padding: 2px;\n    }    #T_6d5056aa_9aa8_11eb_bf58_bc542f6978cc .row_heading, .blank {\n          display: none;;\n    }    #T_6d5056aa_9aa8_11eb_bf58_bc542f6978cc .col_heading, .blank {\n          display: none;;\n    }</style><table id=\"T_6d5056aa_9aa8_11eb_bf58_bc542f6978cc\" ><thead>    <tr>        <th class=\"blank level0\" ></th>        <th class=\"col_heading level0 col0\" >0</th>        <th class=\"col_heading level0 col1\" >1</th>    </tr></thead><tbody>\n                <tr>\n                        <th id=\"T_6d5056aa_9aa8_11eb_bf58_bc542f6978cclevel0_row0\" class=\"row_heading level0 row0\" >0</th>\n                        <td id=\"T_6d5056aa_9aa8_11eb_bf58_bc542f6978ccrow0_col0\" class=\"data row0 col0\" >Number of stops</td>\n                        <td id=\"T_6d5056aa_9aa8_11eb_bf58_bc542f6978ccrow0_col1\" class=\"data row0 col1\" >13</td>\n            </tr>\n            <tr>\n                        <th id=\"T_6d5056aa_9aa8_11eb_bf58_bc542f6978cclevel0_row1\" class=\"row_heading level0 row1\" >1</th>\n                        <td id=\"T_6d5056aa_9aa8_11eb_bf58_bc542f6978ccrow1_col0\" class=\"data row1 col0\" >Total travel time</td>\n                        <td id=\"T_6d5056aa_9aa8_11eb_bf58_bc542f6978ccrow1_col1\" class=\"data row1 col1\" >15.03 min</td>\n            </tr>\n            <tr>\n                        <th id=\"T_6d5056aa_9aa8_11eb_bf58_bc542f6978cclevel0_row2\" class=\"row_heading level0 row2\" >2</th>\n                        <td id=\"T_6d5056aa_9aa8_11eb_bf58_bc542f6978ccrow2_col0\" class=\"data row2 col0\" >Total travel distance</td>\n                        <td id=\"T_6d5056aa_9aa8_11eb_bf58_bc542f6978ccrow2_col1\" class=\"data row2 col1\" >3.15 mi</td>\n            </tr>\n    </tbody></table>",
             "title": "Route"
            },
            "symbol": {
             "color": [
              0,
              191,
              255,
              90
             ],
             "style": "esriSLSSolid",
             "type": "esriSLS",
             "width": 4
            }
           },
           {
            "attributes": {},
            "geometry": {
             "spatialReference": {
              "wkid": 4326
             },
             "x": -76.94388199999997,
             "y": 38.98743100000007
            },
            "popupTemplate": {
             "description": "Campus Dr, College Park, Maryland, 20742",
             "title": "Stop 1"
            },
            "symbol": {
             "angle": 0,
             "color": [
              255,
              255,
              255,
              64
             ],
             "outline": {
              "color": [
               0,
               0,
               0,
               255
              ],
              "style": "esriSLSSolid",
              "type": "esriSLS",
              "width": 0.75
             },
             "size": 12,
             "style": "esriSMSCircle",
             "type": "esriSMS",
             "xoffset": 0,
             "yoffset": 0
            }
           },
           {
            "attributes": {},
            "geometry": {
             "spatialReference": {
              "wkid": 4326
             },
             "x": -76.94535499999995,
             "y": 38.98806700000006
            },
            "popupTemplate": {
             "description": "Union Ln, College Park, Maryland, 20742",
             "title": "Stop 2"
            },
            "symbol": {
             "angle": 0,
             "color": [
              255,
              255,
              255,
              64
             ],
             "outline": {
              "color": [
               0,
               0,
               0,
               255
              ],
              "style": "esriSLSSolid",
              "type": "esriSLS",
              "width": 0.75
             },
             "size": 12,
             "style": "esriSMSCircle",
             "type": "esriSMS",
             "xoffset": 0,
             "yoffset": 0
            }
           },
           {
            "attributes": {},
            "geometry": {
             "spatialReference": {
              "wkid": 4326
             },
             "x": -76.94529299999994,
             "y": 38.98869000000008
            },
            "popupTemplate": {
             "description": "Union Ln, College Park, Maryland, 20742",
             "title": "Stop 3"
            },
            "symbol": {
             "angle": 0,
             "color": [
              255,
              255,
              255,
              64
             ],
             "outline": {
              "color": [
               0,
               0,
               0,
               255
              ],
              "style": "esriSLSSolid",
              "type": "esriSLS",
              "width": 0.75
             },
             "size": 12,
             "style": "esriSMSCircle",
             "type": "esriSMS",
             "xoffset": 0,
             "yoffset": 0
            }
           },
           {
            "attributes": {},
            "geometry": {
             "spatialReference": {
              "wkid": 4326
             },
             "x": -76.94212699999997,
             "y": 38.98925600000007
            },
            "popupTemplate": {
             "description": "4201-4299 Field House Dr, College Park, Maryland, 20742",
             "title": "Stop 4"
            },
            "symbol": {
             "angle": 0,
             "color": [
              255,
              255,
              255,
              64
             ],
             "outline": {
              "color": [
               0,
               0,
               0,
               255
              ],
              "style": "esriSLSSolid",
              "type": "esriSLS",
              "width": 0.75
             },
             "size": 12,
             "style": "esriSMSCircle",
             "type": "esriSMS",
             "xoffset": 0,
             "yoffset": 0
            }
           },
           {
            "attributes": {},
            "geometry": {
             "spatialReference": {
              "wkid": 4326
             },
             "x": -76.94023899999996,
             "y": 38.98664900000006
            },
            "popupTemplate": {
             "description": "Regents Dr, College Park, Maryland, 20742",
             "title": "Stop 5"
            },
            "symbol": {
             "angle": 0,
             "color": [
              255,
              255,
              255,
              64
             ],
             "outline": {
              "color": [
               0,
               0,
               0,
               255
              ],
              "style": "esriSLSSolid",
              "type": "esriSLS",
              "width": 0.75
             },
             "size": 12,
             "style": "esriSMSCircle",
             "type": "esriSMS",
             "xoffset": 0,
             "yoffset": 0
            }
           },
           {
            "attributes": {},
            "geometry": {
             "spatialReference": {
              "wkid": 4326
             },
             "x": -76.94015599999994,
             "y": 38.98492200000004
            },
            "popupTemplate": {
             "description": "Regents Dr, College Park, Maryland, 20742",
             "title": "Stop 6"
            },
            "symbol": {
             "angle": 0,
             "color": [
              255,
              255,
              255,
              64
             ],
             "outline": {
              "color": [
               0,
               0,
               0,
               255
              ],
              "style": "esriSLSSolid",
              "type": "esriSLS",
              "width": 0.75
             },
             "size": 12,
             "style": "esriSMSCircle",
             "type": "esriSMS",
             "xoffset": 0,
             "yoffset": 0
            }
           },
           {
            "attributes": {},
            "geometry": {
             "spatialReference": {
              "wkid": 4326
             },
             "x": -76.93914899999999,
             "y": 38.98242700000003
            },
            "popupTemplate": {
             "description": "7570-7604 Regents Dr, College Park, Maryland, 20742",
             "title": "Stop 7"
            },
            "symbol": {
             "angle": 0,
             "color": [
              255,
              255,
              255,
              64
             ],
             "outline": {
              "color": [
               0,
               0,
               0,
               255
              ],
              "style": "esriSLSSolid",
              "type": "esriSLS",
              "width": 0.75
             },
             "size": 12,
             "style": "esriSMSCircle",
             "type": "esriSMS",
             "xoffset": 0,
             "yoffset": 0
            }
           },
           {
            "attributes": {},
            "geometry": {
             "spatialReference": {
              "wkid": 4326
             },
             "x": -76.93709099999995,
             "y": 38.98527400000006
            },
            "popupTemplate": {
             "description": "7675 Baltimore Avenue, College Park, Maryland, 20742",
             "title": "Stop 8"
            },
            "symbol": {
             "angle": 0,
             "color": [
              255,
              255,
              255,
              64
             ],
             "outline": {
              "color": [
               0,
               0,
               0,
               255
              ],
              "style": "esriSLSSolid",
              "type": "esriSLS",
              "width": 0.75
             },
             "size": 12,
             "style": "esriSMSCircle",
             "type": "esriSMS",
             "xoffset": 0,
             "yoffset": 0
            }
           },
           {
            "attributes": {},
            "geometry": {
             "spatialReference": {
              "wkid": 4326
             },
             "x": -76.92971899999998,
             "y": 38.990613100000076
            },
            "popupTemplate": {
             "description": "4800 Berwyn House Road, College Park, Maryland, 20740",
             "title": "Stop 9"
            },
            "symbol": {
             "angle": 0,
             "color": [
              255,
              255,
              255,
              64
             ],
             "outline": {
              "color": [
               0,
               0,
               0,
               255
              ],
              "style": "esriSLSSolid",
              "type": "esriSLS",
              "width": 0.75
             },
             "size": 12,
             "style": "esriSMSCircle",
             "type": "esriSMS",
             "xoffset": 0,
             "yoffset": 0
            }
           },
           {
            "attributes": {},
            "geometry": {
             "spatialReference": {
              "wkid": 4326
             },
             "x": -76.93402249999997,
             "y": 38.99235100000004
            },
            "popupTemplate": {
             "description": "Peter's College Barber Shop",
             "title": "Stop 10"
            },
            "symbol": {
             "angle": 0,
             "color": [
              255,
              255,
              255,
              64
             ],
             "outline": {
              "color": [
               0,
               0,
               0,
               255
              ],
              "style": "esriSLSSolid",
              "type": "esriSLS",
              "width": 0.75
             },
             "size": 12,
             "style": "esriSMSCircle",
             "type": "esriSMS",
             "xoffset": 0,
             "yoffset": 0
            }
           },
           {
            "attributes": {},
            "geometry": {
             "spatialReference": {
              "wkid": 4326
             },
             "x": -76.93419409999996,
             "y": 38.99052040000004
            },
            "popupTemplate": {
             "description": "8110-8114 Baltimore Ave, College Park, Maryland, 20740",
             "title": "Stop 11"
            },
            "symbol": {
             "angle": 0,
             "color": [
              255,
              255,
              255,
              64
             ],
             "outline": {
              "color": [
               0,
               0,
               0,
               255
              ],
              "style": "esriSLSSolid",
              "type": "esriSLS",
              "width": 0.75
             },
             "size": 12,
             "style": "esriSMSCircle",
             "type": "esriSMS",
             "xoffset": 0,
             "yoffset": 0
            }
           },
           {
            "attributes": {},
            "geometry": {
             "spatialReference": {
              "wkid": 4326
             },
             "x": -76.93952399999995,
             "y": 38.98773500000004
            },
            "popupTemplate": {
             "description": "4132-4150 Campus Dr, College Park, Maryland, 20740",
             "title": "Stop 12"
            },
            "symbol": {
             "angle": 0,
             "color": [
              255,
              255,
              255,
              64
             ],
             "outline": {
              "color": [
               0,
               0,
               0,
               255
              ],
              "style": "esriSLSSolid",
              "type": "esriSLS",
              "width": 0.75
             },
             "size": 12,
             "style": "esriSMSCircle",
             "type": "esriSMS",
             "xoffset": 0,
             "yoffset": 0
            }
           },
           {
            "attributes": {},
            "geometry": {
             "spatialReference": {
              "wkid": 4326
             },
             "x": -76.94388199999997,
             "y": 38.98743100000007
            },
            "popupTemplate": {
             "description": "Campus Dr, College Park, Maryland, 20742",
             "title": "Stop 13"
            },
            "symbol": {
             "angle": 0,
             "color": [
              255,
              255,
              255,
              64
             ],
             "outline": {
              "color": [
               0,
               0,
               0,
               255
              ],
              "style": "esriSLSSolid",
              "type": "esriSLS",
              "width": 0.75
             },
             "size": 12,
             "style": "esriSMSCircle",
             "type": "esriSMS",
             "xoffset": 0,
             "yoffset": 0
            }
           }
          ],
          "id": "graphicsLayerId31195",
          "url": null
         }
        ]
       },
       "_readonly_zoom": 16,
       "_username": "sshete",
       "_uuid": "09bff43c-a89c-4327-be1a-43fc399bcef0",
       "_writeonly_end_time": "1900-01-01T00:00:00.000000",
       "_writeonly_start_time": "1900-01-01T00:00:00.000000",
       "_zoom": 15,
       "jupyter_target": "notebook",
       "layout": "IPY_MODEL_da3e0a86bc124d2dbb8a4f2554021571",
       "print_service_url": "",
       "ready": true,
       "tilt": 0
      }
     },
     "b81c3c878a3446f5b1117ea7af673e7f": {
      "model_module": "arcgis-map-ipywidget",
      "model_module_version": "1.8.5",
      "model_name": "ArcGISMapIPyWidgetModel",
      "state": {
       "_add_this_graphic": {
        "attributes": null,
        "geometry": {
         "spatialReference": {
          "wkid": 4326
         },
         "type": "point",
         "x": -76.94394499999999,
         "y": 38.987610000000075
        },
        "popupTemplate": {
         "content": "1100-1199 Campus Dr, College Park, Maryland, 20742",
         "title": "Stop 27"
        },
        "symbol": null
       },
       "_auth_mode": "tokenBased",
       "_basemap": "default",
       "_center": {
        "spatialReference": {
         "wkid": 4326
        },
        "x": -76.93889999999999,
        "y": 38.98785000000004
       },
       "_draw_these_graphics_on_widget_load": [],
       "_draw_these_notype_layers_on_widget_load": [],
       "_gallery_basemaps": {
        "default": {
         "baseMapLayers": [
          {
           "layerType": "ArcGISTiledMapServiceLayer",
           "resourceInfo": {
            "capabilities": "Map,Tilemap,Query,Data",
            "currentVersion": 10.3,
            "exportTilesAllowed": false,
            "fullExtent": {
             "spatialReference": {
              "latestWkid": 3857,
              "wkid": 102100
             },
             "xmax": 20037507.067161843,
             "xmin": -20037507.067161843,
             "ymax": 19971868.88040863,
             "ymin": -19971868.880408604
            },
            "initialExtent": {
             "spatialReference": {
              "latestWkid": 3857,
              "wkid": 102100
             },
             "xmax": 28848255.049479112,
             "xmin": -28848255.049479112,
             "ymax": 16430757.376790084,
             "ymin": -2077452.082122866
            },
            "layers": [
             {
              "defaultVisibility": false,
              "id": 0,
              "maxScale": 0,
              "minScale": 0,
              "name": "Citations",
              "parentLayerId": -1,
              "subLayerIds": null
             }
            ],
            "mapName": "Layers",
            "maxImageHeight": 4096,
            "maxImageWidth": 4096,
            "maxRecordCount": 100,
            "maxScale": 70.5310735,
            "minScale": 591657527.591555,
            "singleFusedMapCache": true,
            "spatialReference": {
             "latestWkid": 3857,
             "wkid": 102100
            },
            "supportedExtensions": "KmlServer",
            "supportedImageFormatTypes": "PNG32,PNG24,PNG,JPG,DIB,TIFF,EMF,PS,PDF,GIF,SVG,SVGZ,BMP",
            "supportedQueryFormats": "JSON, AMF",
            "supportsDynamicLayers": false,
            "tables": [],
            "tileInfo": {
             "cols": 256,
             "compressionQuality": 90,
             "dpi": 96,
             "format": "JPEG",
             "lods": [
              {
               "level": 0,
               "resolution": 156543.03392800014,
               "scale": 591657527.591555
              },
              {
               "level": 1,
               "resolution": 78271.51696399994,
               "scale": 295828763.795777
              },
              {
               "level": 2,
               "resolution": 39135.75848200009,
               "scale": 147914381.897889
              },
              {
               "level": 3,
               "resolution": 19567.87924099992,
               "scale": 73957190.948944
              },
              {
               "level": 4,
               "resolution": 9783.93962049996,
               "scale": 36978595.474472
              },
              {
               "level": 5,
               "resolution": 4891.96981024998,
               "scale": 18489297.737236
              },
              {
               "level": 6,
               "resolution": 2445.98490512499,
               "scale": 9244648.868618
              },
              {
               "level": 7,
               "resolution": 1222.992452562495,
               "scale": 4622324.434309
              },
              {
               "level": 8,
               "resolution": 611.4962262813797,
               "scale": 2311162.217155
              },
              {
               "level": 9,
               "resolution": 305.74811314055756,
               "scale": 1155581.108577
              },
              {
               "level": 10,
               "resolution": 152.87405657041106,
               "scale": 577790.554289
              },
              {
               "level": 11,
               "resolution": 76.43702828507324,
               "scale": 288895.277144
              },
              {
               "level": 12,
               "resolution": 38.21851414253662,
               "scale": 144447.638572
              },
              {
               "level": 13,
               "resolution": 19.10925707126831,
               "scale": 72223.819286
              },
              {
               "level": 14,
               "resolution": 9.554628535634155,
               "scale": 36111.909643
              },
              {
               "level": 15,
               "resolution": 4.77731426794937,
               "scale": 18055.954822
              },
              {
               "level": 16,
               "resolution": 2.388657133974685,
               "scale": 9027.977411
              },
              {
               "level": 17,
               "resolution": 1.1943285668550503,
               "scale": 4513.988705
              },
              {
               "level": 18,
               "resolution": 0.5971642835598172,
               "scale": 2256.994353
              },
              {
               "level": 19,
               "resolution": 0.29858214164761665,
               "scale": 1128.497176
              },
              {
               "level": 20,
               "resolution": 0.14929107082380833,
               "scale": 564.248588
              },
              {
               "level": 21,
               "resolution": 0.07464553541190416,
               "scale": 282.124294
              },
              {
               "level": 22,
               "resolution": 0.03732276770595208,
               "scale": 141.062147
              },
              {
               "level": 23,
               "resolution": 0.01866138385297604,
               "scale": 70.5310735
              }
             ],
             "origin": {
              "x": -20037508.342787,
              "y": 20037508.342787
             },
             "rows": 256,
             "spatialReference": {
              "latestWkid": 3857,
              "wkid": 102100
             }
            },
            "units": "esriMeters"
           },
           "url": "https://services.arcgisonline.com/ArcGIS/rest/services/World_Topo_Map/MapServer"
          }
         ],
         "title": "Topographic"
        }
       },
       "_layers_to_remove": [
        "graphicsLayerId31195"
       ],
       "_overlay_these_images_on_widget_load": [],
       "_portal_sharing_rest_url": "https://ssbFmLCAQPoGBuDx.maps.arcgis.com/sharing/rest/",
       "_portal_url": "https://ssbFmLCAQPoGBuDx.maps.arcgis.com",
       "_readonly_center": {
        "spatialReference": {
         "latestWkid": 3857,
         "wkid": 102100
        },
        "x": -8563939.880021857,
        "y": 4719397.234835632
       },
       "_readonly_extent": {
        "spatialReference": {
         "latestWkid": 3857,
         "wkid": 102100
        },
        "xmax": -8561658.71245891,
        "xmin": -8566221.047584804,
        "ymax": 4720352.697689222,
        "ymin": 4718441.771982042
       },
       "_readonly_heading": 360,
       "_readonly_scale": 18055.954822,
       "_readonly_webmap_from_js": {
        "basemap": {
         "baseMapLayers": [
          {
           "id": "178c0573100-layer-2",
           "layerType": "ArcGISTiledMapServiceLayer",
           "title": "World Topo Map",
           "url": "https://services.arcgisonline.com/ArcGIS/rest/services/World_Topo_Map/MapServer"
          }
         ],
         "title": "Topographic"
        },
        "ground": {
         "layers": [
          {
           "id": "worldElevation",
           "layerType": "ArcGISTiledElevationServiceLayer",
           "listMode": "show",
           "title": "Terrain3D",
           "url": "https://elevation3d.arcgis.com/arcgis/rest/services/WorldElevation3D/Terrain3D/ImageServer",
           "visibility": true
          }
         ],
         "transparency": 0
        },
        "layers": [
         {
          "graphics": [
           {
            "attributes": {},
            "geometry": {
             "paths": [
              [
               [
                -76.94388199999997,
                38.98753000000005
               ],
               [
                -76.94421999999997,
                38.98753000000005
               ],
               [
                -76.94437999999997,
                38.98753000000005
               ],
               [
                -76.94537999999994,
                38.98742000000004
               ],
               [
                -76.94541999999996,
                38.987520000000075
               ],
               [
                -76.94541999999996,
                38.98767000000004
               ],
               [
                -76.94539999999995,
                38.988000000000056
               ],
               [
                -76.94539555799997,
                38.98806958900008
               ]
              ],
              [
               [
                -76.94539555799997,
                38.98806958900008
               ],
               [
                -76.94530829999997,
                38.98869510000003
               ]
              ],
              [
               [
                -76.94530829999997,
                38.98869510000003
               ],
               [
                -76.94526999999994,
                38.98881000000006
               ],
               [
                -76.94498999999996,
                38.988770000000045
               ],
               [
                -76.94455999999997,
                38.988620000000026
               ],
               [
                -76.94432999999998,
                38.98869000000008
               ],
               [
                -76.94408999999996,
                38.98879000000005
               ],
               [
                -76.94383999999997,
                38.98900000000003
               ],
               [
                -76.94381999999996,
                38.98907000000003
               ],
               [
                -76.94379999999995,
                38.98915000000005
               ],
               [
                -76.94371999999998,
                38.98926000000006
               ],
               [
                -76.94343999999995,
                38.98943000000003
               ],
               [
                -76.94228999999996,
                38.98943000000003
               ],
               [
                -76.94206999999994,
                38.989310000000046
               ],
               [
                -76.94206105399996,
                38.98929479200007
               ]
              ],
              [
               [
                -76.94206105399996,
                38.98929479200007
               ],
               [
                -76.94181999999995,
                38.98909000000003
               ],
               [
                -76.94069999999994,
                38.98905000000008
               ],
               [
                -76.94066999999995,
                38.98866000000004
               ],
               [
                -76.94066999999995,
                38.988510000000076
               ],
               [
                -76.94064999999995,
                38.98828000000003
               ],
               [
                -76.94062999999994,
                38.98812000000004
               ],
               [
                -76.94062999999994,
                38.98794000000004
               ],
               [
                -76.94048999999995,
                38.987640000000056
               ],
               [
                -76.94048999999995,
                38.98759000000007
               ],
               [
                -76.94045999999997,
                38.987540000000024
               ],
               [
                -76.94031999999999,
                38.987430000000074
               ],
               [
                -76.94013999999999,
                38.98678000000007
               ],
               [
                -76.94013999999999,
                38.98669000000007
               ],
               [
                -76.94013999999999,
                38.98664900000006
               ]
              ],
              [
               [
                -76.94013999999999,
                38.98664900000006
               ],
               [
                -76.94013999999999,
                38.98654000000005
               ],
               [
                -76.94013999999999,
                38.98648000000003
               ],
               [
                -76.94012999999995,
                38.98562000000004
               ],
               [
                -76.94010999999995,
                38.98553000000004
               ],
               [
                -76.94009999999997,
                38.98526000000004
               ],
               [
                -76.94010999999995,
                38.98493000000008
               ],
               [
                -76.94010976099997,
                38.98492377800005
               ]
              ],
              [
               [
                -76.94010976099997,
                38.98492377800005
               ],
               [
                -76.94009999999997,
                38.98467000000005
               ],
               [
                -76.94008999999994,
                38.98461000000003
               ],
               [
                -76.94012999999995,
                38.98442000000006
               ],
               [
                -76.94009999999997,
                38.984200000000044
               ],
               [
                -76.93998999999997,
                38.98335000000003
               ],
               [
                -76.93990999999994,
                38.98305000000005
               ],
               [
                -76.93980999999997,
                38.98288000000008
               ],
               [
                -76.93959999999998,
                38.98267000000004
               ],
               [
                -76.93913384699994,
                38.98246867200004
               ]
              ],
              [
               [
                -76.93913384699994,
                38.98246867200004
               ],
               [
                -76.93910999999997,
                38.98246000000006
               ],
               [
                -76.93885999999998,
                38.982380000000035
               ],
               [
                -76.93858999999998,
                38.98232000000007
               ],
               [
                -76.93798999999996,
                38.98215000000005
               ],
               [
                -76.93782999999996,
                38.982120000000066
               ],
               [
                -76.93782999999996,
                38.98277000000007
               ],
               [
                -76.93781999999999,
                38.98284000000007
               ],
               [
                -76.93777999999998,
                38.98311000000007
               ],
               [
                -76.93772999999999,
                38.98348000000004
               ],
               [
                -76.93765999999994,
                38.98380000000003
               ],
               [
                -76.93748999999997,
                38.98442000000006
               ],
               [
                -76.93725999999998,
                38.98502000000008
               ],
               [
                -76.93713648899995,
                38.98529447000004
               ]
              ],
              [
               [
                -76.93713648899995,
                38.98529447000004
               ],
               [
                -76.93707999999998,
                38.98542000000003
               ],
               [
                -76.93699999999995,
                38.98557000000005
               ],
               [
                -76.93665999999996,
                38.98617000000007
               ],
               [
                -76.93654999999995,
                38.986330000000066
               ],
               [
                -76.93632999999994,
                38.98666000000003
               ],
               [
                -76.93616999999995,
                38.98689000000007
               ],
               [
                -76.93583999999998,
                38.98738000000003
               ],
               [
                -76.93511999999998,
                38.98846000000003
               ],
               [
                -76.93509999999998,
                38.98849000000007
               ],
               [
                -76.93506999999994,
                38.988680000000045
               ],
               [
                -76.93503999999996,
                38.98873000000003
               ],
               [
                -76.93491999999998,
                38.98893000000004
               ],
               [
                -76.93475999999998,
                38.98920000000004
               ],
               [
                -76.93463999999994,
                38.98938000000004
               ],
               [
                -76.93452999999994,
                38.989540000000034
               ],
               [
                -76.93440999999996,
                38.98975000000007
               ],
               [
                -76.93433999999996,
                38.98989000000006
               ],
               [
                -76.93421999999998,
                38.98985000000005
               ],
               [
                -76.93380999999994,
                38.989720000000034
               ],
               [
                -76.93345999999997,
                38.989630000000034
               ],
               [
                -76.93335999999994,
                38.98961000000003
               ],
               [
                -76.93302999999997,
                38.98956000000004
               ],
               [
                -76.93287999999995,
                38.989550000000065
               ],
               [
                -76.93274999999994,
                38.989540000000034
               ],
               [
                -76.93263999999994,
                38.98953000000006
               ],
               [
                -76.93250999999998,
                38.98951000000005
               ],
               [
                -76.93230999999997,
                38.989490000000046
               ],
               [
                -76.93068999999997,
                38.98925000000003
               ],
               [
                -76.93049999999994,
                38.98923000000008
               ],
               [
                -76.93002999999999,
                38.98917000000006
               ],
               [
                -76.92934999999994,
                38.98908000000006
               ],
               [
                -76.92873999999995,
                38.98900000000003
               ],
               [
                -76.92859999999996,
                38.98932000000008
               ],
               [
                -76.92843999999997,
                38.98977000000008
               ],
               [
                -76.92973538899997,
                38.99058493900003
               ]
              ],
              [
               [
                -76.92973538899997,
                38.99058493900003
               ],
               [
                -76.92994999999996,
                38.990710000000036
               ],
               [
                -76.93024999999994,
                38.990890000000036
               ],
               [
                -76.93043999999998,
                38.99100000000004
               ],
               [
                -76.93114999999995,
                38.991480000000024
               ],
               [
                -76.93139999999994,
                38.991660000000024
               ],
               [
                -76.93175999999994,
                38.99188000000004
               ],
               [
                -76.93220999999994,
                38.99215000000004
               ],
               [
                -76.93257999999997,
                38.99237000000005
               ],
               [
                -76.93271999999996,
                38.992450000000076
               ],
               [
                -76.93313999999998,
                38.992650000000026
               ],
               [
                -76.93317999999994,
                38.992560000000026
               ],
               [
                -76.93335999999994,
                38.99215000000004
               ],
               [
                -76.93399999999997,
                38.99230000000006
               ],
               [
                -76.93403467899998,
                38.99231040400008
               ]
              ],
              [
               [
                -76.93403467899998,
                38.99231040400008
               ],
               [
                -76.93399999999997,
                38.99230000000006
               ],
               [
                -76.93335999999994,
                38.99215000000004
               ],
               [
                -76.93340999999998,
                38.99203000000006
               ],
               [
                -76.93349999999998,
                38.991840000000025
               ],
               [
                -76.93358999999998,
                38.991660000000024
               ],
               [
                -76.93365999999997,
                38.99150000000003
               ],
               [
                -76.93372999999997,
                38.99130000000008
               ],
               [
                -76.93379999999996,
                38.99114000000003
               ],
               [
                -76.93391999999994,
                38.99088000000006
               ],
               [
                -76.93397999999996,
                38.99073000000004
               ],
               [
                -76.93401999999998,
                38.99064000000004
               ],
               [
                -76.93409310499999,
                38.990475513000035
               ]
              ],
              [
               [
                -76.93409310499999,
                38.990475513000035
               ],
               [
                -76.93414999999999,
                38.99034000000006
               ],
               [
                -76.93440999999996,
                38.98975000000007
               ],
               [
                -76.93452999999994,
                38.989540000000034
               ],
               [
                -76.93463999999994,
                38.98938000000004
               ],
               [
                -76.93475999999998,
                38.98920000000004
               ],
               [
                -76.93491999999998,
                38.98893000000004
               ],
               [
                -76.93503999999996,
                38.98873000000003
               ],
               [
                -76.93506999999994,
                38.988680000000045
               ],
               [
                -76.93564999999995,
                38.988740000000064
               ],
               [
                -76.93606999999997,
                38.98873000000003
               ],
               [
                -76.93665999999996,
                38.988530000000026
               ],
               [
                -76.93753999999996,
                38.98829000000006
               ],
               [
                -76.93853999999999,
                38.98795000000007
               ],
               [
                -76.93874999999997,
                38.987880000000075
               ],
               [
                -76.93904999999995,
                38.987790000000075
               ],
               [
                -76.93941999999998,
                38.987700000000075
               ],
               [
                -76.93952399999995,
                38.987700000000075
               ]
              ],
              [
               [
                -76.93952399999995,
                38.987700000000075
               ],
               [
                -76.93972999999994,
                38.987720000000024
               ],
               [
                -76.93988999999993,
                38.987730000000056
               ],
               [
                -76.94024999999993,
                38.987810000000025
               ],
               [
                -76.94048999999995,
                38.987640000000056
               ],
               [
                -76.94048999999995,
                38.98759000000007
               ],
               [
                -76.94107999999994,
                38.98757000000006
               ],
               [
                -76.94121999999999,
                38.98756000000003
               ],
               [
                -76.94145999999995,
                38.987550000000056
               ],
               [
                -76.94170999999994,
                38.987540000000024
               ],
               [
                -76.94216999999998,
                38.987540000000024
               ],
               [
                -76.94260999999995,
                38.987540000000024
               ],
               [
                -76.94319999999993,
                38.98753000000005
               ],
               [
                -76.94343999999995,
                38.98753000000005
               ],
               [
                -76.94388199999997,
                38.98753000000005
               ]
              ]
             ],
             "spatialReference": {
              "wkid": 4326
             }
            },
            "popupTemplate": {
             "description": "<style  type=\"text/css\" >\n    #T_6d2930b8_9aab_11eb_84e6_bc542f6978cc td {\n          padding: 2px;\n    }    #T_6d2930b8_9aab_11eb_84e6_bc542f6978cc .row_heading, .blank {\n          display: none;;\n    }    #T_6d2930b8_9aab_11eb_84e6_bc542f6978cc .col_heading, .blank {\n          display: none;;\n    }</style><table id=\"T_6d2930b8_9aab_11eb_84e6_bc542f6978cc\" ><thead>    <tr>        <th class=\"blank level0\" ></th>        <th class=\"col_heading level0 col0\" >0</th>        <th class=\"col_heading level0 col1\" >1</th>    </tr></thead><tbody>\n                <tr>\n                        <th id=\"T_6d2930b8_9aab_11eb_84e6_bc542f6978cclevel0_row0\" class=\"row_heading level0 row0\" >0</th>\n                        <td id=\"T_6d2930b8_9aab_11eb_84e6_bc542f6978ccrow0_col0\" class=\"data row0 col0\" >Number of stops</td>\n                        <td id=\"T_6d2930b8_9aab_11eb_84e6_bc542f6978ccrow0_col1\" class=\"data row0 col1\" >13</td>\n            </tr>\n            <tr>\n                        <th id=\"T_6d2930b8_9aab_11eb_84e6_bc542f6978cclevel0_row1\" class=\"row_heading level0 row1\" >1</th>\n                        <td id=\"T_6d2930b8_9aab_11eb_84e6_bc542f6978ccrow1_col0\" class=\"data row1 col0\" >Total travel time</td>\n                        <td id=\"T_6d2930b8_9aab_11eb_84e6_bc542f6978ccrow1_col1\" class=\"data row1 col1\" >15.03 min</td>\n            </tr>\n            <tr>\n                        <th id=\"T_6d2930b8_9aab_11eb_84e6_bc542f6978cclevel0_row2\" class=\"row_heading level0 row2\" >2</th>\n                        <td id=\"T_6d2930b8_9aab_11eb_84e6_bc542f6978ccrow2_col0\" class=\"data row2 col0\" >Total travel distance</td>\n                        <td id=\"T_6d2930b8_9aab_11eb_84e6_bc542f6978ccrow2_col1\" class=\"data row2 col1\" >3.15 mi</td>\n            </tr>\n    </tbody></table>",
             "title": "Route"
            },
            "symbol": {
             "color": [
              0,
              191,
              255,
              90
             ],
             "style": "esriSLSSolid",
             "type": "esriSLS",
             "width": 4
            }
           }
          ],
          "id": "graphicsLayerId31195",
          "url": null
         }
        ]
       },
       "_readonly_zoom": 15,
       "_username": "sshete",
       "_uuid": "acf63070-9c79-4bea-b754-188339755695",
       "_writeonly_end_time": "1900-01-01T00:00:00.000000",
       "_writeonly_start_time": "1900-01-01T00:00:00.000000",
       "_zoom": 15,
       "jupyter_target": "notebook",
       "layout": "IPY_MODEL_00657e71e32847e1a966ae990817f485",
       "print_service_url": "",
       "ready": true,
       "tilt": 0
      }
     },
     "bb26dc75f6234869a8967f22211acf3c": {
      "model_module": "@jupyter-widgets/base",
      "model_module_version": "1.2.0",
      "model_name": "LayoutModel",
      "state": {
       "height": "400px",
       "width": "100%"
      }
     },
     "cc12572931f34a4aa8882b1b26bd80ee": {
      "model_module": "arcgis-map-ipywidget",
      "model_module_version": "1.8.5",
      "model_name": "ArcGISMapIPyWidgetModel",
      "state": {
       "_auth_mode": "tokenBased",
       "_basemap": "default",
       "_draw_these_graphics_on_widget_load": [],
       "_draw_these_notype_layers_on_widget_load": [],
       "_gallery_basemaps": {
        "default": {
         "baseMapLayers": [
          {
           "layerType": "ArcGISTiledMapServiceLayer",
           "resourceInfo": {
            "capabilities": "Map,Tilemap,Query,Data",
            "currentVersion": 10.3,
            "exportTilesAllowed": false,
            "fullExtent": {
             "spatialReference": {
              "latestWkid": 3857,
              "wkid": 102100
             },
             "xmax": 20037507.067161843,
             "xmin": -20037507.067161843,
             "ymax": 19971868.88040863,
             "ymin": -19971868.880408604
            },
            "initialExtent": {
             "spatialReference": {
              "latestWkid": 3857,
              "wkid": 102100
             },
             "xmax": 28848255.049479112,
             "xmin": -28848255.049479112,
             "ymax": 16430757.376790084,
             "ymin": -2077452.082122866
            },
            "layers": [
             {
              "defaultVisibility": false,
              "id": 0,
              "maxScale": 0,
              "minScale": 0,
              "name": "Citations",
              "parentLayerId": -1,
              "subLayerIds": null
             }
            ],
            "mapName": "Layers",
            "maxImageHeight": 4096,
            "maxImageWidth": 4096,
            "maxRecordCount": 100,
            "maxScale": 70.5310735,
            "minScale": 591657527.591555,
            "singleFusedMapCache": true,
            "spatialReference": {
             "latestWkid": 3857,
             "wkid": 102100
            },
            "supportedExtensions": "KmlServer",
            "supportedImageFormatTypes": "PNG32,PNG24,PNG,JPG,DIB,TIFF,EMF,PS,PDF,GIF,SVG,SVGZ,BMP",
            "supportedQueryFormats": "JSON, AMF",
            "supportsDynamicLayers": false,
            "tables": [],
            "tileInfo": {
             "cols": 256,
             "compressionQuality": 90,
             "dpi": 96,
             "format": "JPEG",
             "lods": [
              {
               "level": 0,
               "resolution": 156543.03392800014,
               "scale": 591657527.591555
              },
              {
               "level": 1,
               "resolution": 78271.51696399994,
               "scale": 295828763.795777
              },
              {
               "level": 2,
               "resolution": 39135.75848200009,
               "scale": 147914381.897889
              },
              {
               "level": 3,
               "resolution": 19567.87924099992,
               "scale": 73957190.948944
              },
              {
               "level": 4,
               "resolution": 9783.93962049996,
               "scale": 36978595.474472
              },
              {
               "level": 5,
               "resolution": 4891.96981024998,
               "scale": 18489297.737236
              },
              {
               "level": 6,
               "resolution": 2445.98490512499,
               "scale": 9244648.868618
              },
              {
               "level": 7,
               "resolution": 1222.992452562495,
               "scale": 4622324.434309
              },
              {
               "level": 8,
               "resolution": 611.4962262813797,
               "scale": 2311162.217155
              },
              {
               "level": 9,
               "resolution": 305.74811314055756,
               "scale": 1155581.108577
              },
              {
               "level": 10,
               "resolution": 152.87405657041106,
               "scale": 577790.554289
              },
              {
               "level": 11,
               "resolution": 76.43702828507324,
               "scale": 288895.277144
              },
              {
               "level": 12,
               "resolution": 38.21851414253662,
               "scale": 144447.638572
              },
              {
               "level": 13,
               "resolution": 19.10925707126831,
               "scale": 72223.819286
              },
              {
               "level": 14,
               "resolution": 9.554628535634155,
               "scale": 36111.909643
              },
              {
               "level": 15,
               "resolution": 4.77731426794937,
               "scale": 18055.954822
              },
              {
               "level": 16,
               "resolution": 2.388657133974685,
               "scale": 9027.977411
              },
              {
               "level": 17,
               "resolution": 1.1943285668550503,
               "scale": 4513.988705
              },
              {
               "level": 18,
               "resolution": 0.5971642835598172,
               "scale": 2256.994353
              },
              {
               "level": 19,
               "resolution": 0.29858214164761665,
               "scale": 1128.497176
              },
              {
               "level": 20,
               "resolution": 0.14929107082380833,
               "scale": 564.248588
              },
              {
               "level": 21,
               "resolution": 0.07464553541190416,
               "scale": 282.124294
              },
              {
               "level": 22,
               "resolution": 0.03732276770595208,
               "scale": 141.062147
              },
              {
               "level": 23,
               "resolution": 0.01866138385297604,
               "scale": 70.5310735
              }
             ],
             "origin": {
              "x": -20037508.342787,
              "y": 20037508.342787
             },
             "rows": 256,
             "spatialReference": {
              "latestWkid": 3857,
              "wkid": 102100
             }
            },
            "units": "esriMeters"
           },
           "url": "https://services.arcgisonline.com/ArcGIS/rest/services/World_Topo_Map/MapServer"
          }
         ],
         "title": "Topographic"
        }
       },
       "_overlay_these_images_on_widget_load": [],
       "_portal_sharing_rest_url": "https://ssbFmLCAQPoGBuDx.maps.arcgis.com/sharing/rest/",
       "_portal_token": "zfYI61WrtC4TGqTvO3hIJ6PBeIsnoGvPnR6DZhP8zqQyhOetyVi9owDh8WQNuwao33DDa7fJXTYizXkWNGnhAn2tghC-4ds1HjE-Lwa27FvhyAABEfHatNY3kI1KCwOWEV2tx7txdkBRcHPONKWgVQ..",
       "_portal_url": "https://ssbFmLCAQPoGBuDx.maps.arcgis.com",
       "_username": "sshete",
       "_uuid": "5c863f76-9c83-40bb-a1cd-4c2318ca3bad",
       "_webmap": {
        "authoringApp": "ArcGISPythonAPI",
        "authoringAppVersion": "1.8.5",
        "baseMap": {
         "baseMapLayers": [
          {
           "layerType": "ArcGISTiledMapServiceLayer",
           "resourceInfo": {
            "capabilities": "Map,Tilemap,Query,Data",
            "currentVersion": 10.3,
            "exportTilesAllowed": false,
            "fullExtent": {
             "spatialReference": {
              "latestWkid": 3857,
              "wkid": 102100
             },
             "xmax": 20037507.067161843,
             "xmin": -20037507.067161843,
             "ymax": 19971868.88040863,
             "ymin": -19971868.880408604
            },
            "initialExtent": {
             "spatialReference": {
              "latestWkid": 3857,
              "wkid": 102100
             },
             "xmax": 28848255.049479112,
             "xmin": -28848255.049479112,
             "ymax": 16430757.376790084,
             "ymin": -2077452.082122866
            },
            "layers": [
             {
              "defaultVisibility": false,
              "id": 0,
              "maxScale": 0,
              "minScale": 0,
              "name": "Citations",
              "parentLayerId": -1,
              "subLayerIds": null
             }
            ],
            "mapName": "Layers",
            "maxImageHeight": 4096,
            "maxImageWidth": 4096,
            "maxRecordCount": 100,
            "maxScale": 70.5310735,
            "minScale": 591657527.591555,
            "singleFusedMapCache": true,
            "spatialReference": {
             "latestWkid": 3857,
             "wkid": 102100
            },
            "supportedExtensions": "KmlServer",
            "supportedImageFormatTypes": "PNG32,PNG24,PNG,JPG,DIB,TIFF,EMF,PS,PDF,GIF,SVG,SVGZ,BMP",
            "supportedQueryFormats": "JSON, AMF",
            "supportsDynamicLayers": false,
            "tables": [],
            "tileInfo": {
             "cols": 256,
             "compressionQuality": 90,
             "dpi": 96,
             "format": "JPEG",
             "lods": [
              {
               "level": 0,
               "resolution": 156543.03392800014,
               "scale": 591657527.591555
              },
              {
               "level": 1,
               "resolution": 78271.51696399994,
               "scale": 295828763.795777
              },
              {
               "level": 2,
               "resolution": 39135.75848200009,
               "scale": 147914381.897889
              },
              {
               "level": 3,
               "resolution": 19567.87924099992,
               "scale": 73957190.948944
              },
              {
               "level": 4,
               "resolution": 9783.93962049996,
               "scale": 36978595.474472
              },
              {
               "level": 5,
               "resolution": 4891.96981024998,
               "scale": 18489297.737236
              },
              {
               "level": 6,
               "resolution": 2445.98490512499,
               "scale": 9244648.868618
              },
              {
               "level": 7,
               "resolution": 1222.992452562495,
               "scale": 4622324.434309
              },
              {
               "level": 8,
               "resolution": 611.4962262813797,
               "scale": 2311162.217155
              },
              {
               "level": 9,
               "resolution": 305.74811314055756,
               "scale": 1155581.108577
              },
              {
               "level": 10,
               "resolution": 152.87405657041106,
               "scale": 577790.554289
              },
              {
               "level": 11,
               "resolution": 76.43702828507324,
               "scale": 288895.277144
              },
              {
               "level": 12,
               "resolution": 38.21851414253662,
               "scale": 144447.638572
              },
              {
               "level": 13,
               "resolution": 19.10925707126831,
               "scale": 72223.819286
              },
              {
               "level": 14,
               "resolution": 9.554628535634155,
               "scale": 36111.909643
              },
              {
               "level": 15,
               "resolution": 4.77731426794937,
               "scale": 18055.954822
              },
              {
               "level": 16,
               "resolution": 2.388657133974685,
               "scale": 9027.977411
              },
              {
               "level": 17,
               "resolution": 1.1943285668550503,
               "scale": 4513.988705
              },
              {
               "level": 18,
               "resolution": 0.5971642835598172,
               "scale": 2256.994353
              },
              {
               "level": 19,
               "resolution": 0.29858214164761665,
               "scale": 1128.497176
              },
              {
               "level": 20,
               "resolution": 0.14929107082380833,
               "scale": 564.248588
              },
              {
               "level": 21,
               "resolution": 0.07464553541190416,
               "scale": 282.124294
              },
              {
               "level": 22,
               "resolution": 0.03732276770595208,
               "scale": 141.062147
              },
              {
               "level": 23,
               "resolution": 0.01866138385297604,
               "scale": 70.5310735
              }
             ],
             "origin": {
              "x": -20037508.342787,
              "y": 20037508.342787
             },
             "rows": 256,
             "spatialReference": {
              "latestWkid": 3857,
              "wkid": 102100
             }
            },
            "units": "esriMeters"
           },
           "url": "https://services.arcgisonline.com/ArcGIS/rest/services/World_Topo_Map/MapServer"
          }
         ],
         "title": "Topographic"
        },
        "operationalLayers": [
         {
          "featureCollection": {
           "layers": [
            {
             "featureSet": {
              "features": [
               {
                "attributes": {
                 "OBJECTID": 1
                },
                "geometry": {
                 "paths": [
                  [
                   [
                    -76.94394499999999,
                    38.98753000000005
                   ],
                   [
                    -76.94421999999997,
                    38.98753000000005
                   ],
                   [
                    -76.94437999999997,
                    38.98753000000005
                   ],
                   [
                    -76.94537999999994,
                    38.98742000000004
                   ],
                   [
                    -76.94567999999998,
                    38.98733000000004
                   ],
                   [
                    -76.94608999999997,
                    38.98715000000004
                   ],
                   [
                    -76.94655999999998,
                    38.986860000000036
                   ],
                   [
                    -76.94695999999993,
                    38.98627000000005
                   ],
                   [
                    -76.94698999999997,
                    38.98612000000003
                   ],
                   [
                    -76.94697999999994,
                    38.98574000000008
                   ],
                   [
                    -76.94687999999996,
                    38.98548000000005
                   ],
                   [
                    -76.94675098399995,
                    38.98530118000008
                   ]
                  ],
                  [
                   [
                    -76.94675098399995,
                    38.98530118000008
                   ],
                   [
                    -76.94661999999994,
                    38.98518000000007
                   ],
                   [
                    -76.94623999999999,
                    38.98496000000006
                   ],
                   [
                    -76.94593999999995,
                    38.98479000000003
                   ],
                   [
                    -76.94577999999996,
                    38.98470000000003
                   ],
                   [
                    -76.94550999999996,
                    38.98453000000006
                   ],
                   [
                    -76.94538999999997,
                    38.98445000000004
                   ],
                   [
                    -76.94522999999998,
                    38.984320000000025
                   ],
                   [
                    -76.94517999999994,
                    38.984140000000025
                   ],
                   [
                    -76.94512999999995,
                    38.983880000000056
                   ],
                   [
                    -76.94513959399995,
                    38.98374568500003
                   ]
                  ],
                  [
                   [
                    -76.94513959399995,
                    38.98374568500003
                   ],
                   [
                    -76.94513999999998,
                    38.98374000000007
                   ],
                   [
                    -76.94515999999999,
                    38.983600000000024
                   ],
                   [
                    -76.94505999999996,
                    38.983400000000074
                   ],
                   [
                    -76.94488999999999,
                    38.983010000000036
                   ],
                   [
                    -76.94488999999999,
                    38.98259000000007
                   ],
                   [
                    -76.94488999999999,
                    38.982470000000035
                   ],
                   [
                    -76.94487999999996,
                    38.98237000000006
                   ],
                   [
                    -76.94494095899995,
                    38.98236857100005
                   ]
                  ],
                  [
                   [
                    -76.94494095899995,
                    38.98236857100005
                   ],
                   [
                    -76.94487999999996,
                    38.98237000000006
                   ],
                   [
                    -76.94484999999997,
                    38.98191000000003
                   ],
                   [
                    -76.94488999999999,
                    38.98128000000003
                   ],
                   [
                    -76.94455999999997,
                    38.98118000000005
                   ],
                   [
                    -76.94409999999993,
                    38.98099000000008
                   ],
                   [
                    -76.94421999999997,
                    38.980810000000076
                   ],
                   [
                    -76.94283999999999,
                    38.97987000000006
                   ],
                   [
                    -76.94246999999996,
                    38.97968000000003
                   ],
                   [
                    -76.94163999999995,
                    38.979310000000055
                   ],
                   [
                    -76.94116999999994,
                    38.979220000000055
                   ],
                   [
                    -76.94010999999995,
                    38.97893000000005
                   ],
                   [
                    -76.93994999999995,
                    38.97882000000004
                   ],
                   [
                    -76.93980999999997,
                    38.978680000000054
                   ],
                   [
                    -76.93944703799997,
                    38.97819313200006
                   ]
                  ],
                  [
                   [
                    -76.93944703799997,
                    38.97819313200006
                   ],
                   [
                    -76.93937999999997,
                    38.97812000000005
                   ],
                   [
                    -76.93893999999995,
                    38.97786000000008
                   ],
                   [
                    -76.93870999999996,
                    38.977760000000046
                   ],
                   [
                    -76.93844999999999,
                    38.977640000000065
                   ],
                   [
                    -76.93805999999995,
                    38.977550000000065
                   ],
                   [
                    -76.93790999999999,
                    38.97759000000008
                   ],
                   [
                    -76.93785999999994,
                    38.97774000000004
                   ],
                   [
                    -76.93784999999997,
                    38.97784000000007
                   ],
                   [
                    -76.93784999999997,
                    38.97807000000006
                   ],
                   [
                    -76.93784999999997,
                    38.978270000000066
                   ],
                   [
                    -76.93784999999997,
                    38.978440000000035
                   ],
                   [
                    -76.93784999999997,
                    38.97864000000004
                   ],
                   [
                    -76.93784999999997,
                    38.97899000000007
                   ],
                   [
                    -76.93784999999997,
                    38.979280000000074
                   ],
                   [
                    -76.93784999999997,
                    38.97946200000007
                   ]
                  ],
                  [
                   [
                    -76.93784999999997,
                    38.97946200000007
                   ],
                   [
                    -76.93784999999997,
                    38.97961000000004
                   ],
                   [
                    -76.93783999999994,
                    38.98013000000003
                   ],
                   [
                    -76.93783999999994,
                    38.98041000000006
                   ],
                   [
                    -76.93783999999994,
                    38.98073000000005
                   ],
                   [
                    -76.93783999999994,
                    38.98182000000003
                   ],
                   [
                    -76.93782999999996,
                    38.982120000000066
                   ],
                   [
                    -76.93798999999996,
                    38.98215000000005
                   ],
                   [
                    -76.93858999999998,
                    38.98232000000007
                   ],
                   [
                    -76.93885999999998,
                    38.982380000000035
                   ],
                   [
                    -76.93910999999997,
                    38.98246000000006
                   ],
                   [
                    -76.93912991199994,
                    38.98246724100005
                   ]
                  ],
                  [
                   [
                    -76.93912991199994,
                    38.98246724100005
                   ],
                   [
                    -76.93959999999998,
                    38.98267000000004
                   ],
                   [
                    -76.93980999999997,
                    38.98288000000008
                   ],
                   [
                    -76.93990999999994,
                    38.98305000000005
                   ],
                   [
                    -76.93998999999997,
                    38.98335000000003
                   ],
                   [
                    -76.94009999999997,
                    38.984200000000044
                   ],
                   [
                    -76.94012999999995,
                    38.98442000000006
                   ],
                   [
                    -76.94010237099997,
                    38.98455123600007
                   ]
                  ],
                  [
                   [
                    -76.94010237099997,
                    38.98455123600007
                   ],
                   [
                    -76.94008999999994,
                    38.98461000000003
                   ],
                   [
                    -76.94009999999997,
                    38.98467000000005
                   ],
                   [
                    -76.94010999999995,
                    38.98493000000008
                   ],
                   [
                    -76.94009999999997,
                    38.98526000000004
                   ],
                   [
                    -76.94010999999995,
                    38.98553000000004
                   ],
                   [
                    -76.94012999999995,
                    38.98562000000004
                   ],
                   [
                    -76.94013875199994,
                    38.98637268900006
                   ]
                  ],
                  [
                   [
                    -76.94013875199994,
                    38.98637268900006
                   ],
                   [
                    -76.94013999999999,
                    38.98648000000003
                   ],
                   [
                    -76.94013999999999,
                    38.98654000000005
                   ],
                   [
                    -76.94013999999999,
                    38.98669000000007
                   ],
                   [
                    -76.94013999999999,
                    38.98678000000007
                   ],
                   [
                    -76.94010999999995,
                    38.986950000000036
                   ],
                   [
                    -76.93991999999997,
                    38.987450000000024
                   ],
                   [
                    -76.93988999999993,
                    38.98748000000006
                   ],
                   [
                    -76.93988999999993,
                    38.987730000000056
                   ],
                   [
                    -76.94024999999993,
                    38.987810000000025
                   ],
                   [
                    -76.94045999999997,
                    38.987900000000025
                   ],
                   [
                    -76.94062999999994,
                    38.98812000000004
                   ],
                   [
                    -76.94064999999995,
                    38.98828000000003
                   ],
                   [
                    -76.94066999999995,
                    38.988510000000076
                   ],
                   [
                    -76.94066999999995,
                    38.98866000000004
                   ],
                   [
                    -76.94069999999994,
                    38.98905000000008
                   ],
                   [
                    -76.94069999999994,
                    38.98935000000006
                   ],
                   [
                    -76.94070999999997,
                    38.98978000000005
                   ],
                   [
                    -76.94071999999994,
                    38.99019000000004
                   ],
                   [
                    -76.94070962199999,
                    38.990387191000025
                   ]
                  ],
                  [
                   [
                    -76.94070962199999,
                    38.990387191000025
                   ],
                   [
                    -76.94069999999994,
                    38.99057000000005
                   ],
                   [
                    -76.94068999999996,
                    38.99064000000004
                   ],
                   [
                    -76.94068999999996,
                    38.99088000000006
                   ],
                   [
                    -76.94073999999995,
                    38.99142000000006
                   ],
                   [
                    -76.94072437599993,
                    38.99149030600006
                   ]
                  ],
                  [
                   [
                    -76.94072437599993,
                    38.99149030600006
                   ],
                   [
                    -76.94071999999994,
                    38.99151000000006
                   ],
                   [
                    -76.94065999999998,
                    38.99160000000006
                   ],
                   [
                    -76.93991999999997,
                    38.99273000000005
                   ],
                   [
                    -76.93984999999998,
                    38.99317000000008
                   ],
                   [
                    -76.93988999999993,
                    38.99327000000005
                   ],
                   [
                    -76.93992999999995,
                    38.99339000000003
                   ],
                   [
                    -76.93996999999996,
                    38.993570000000034
                   ],
                   [
                    -76.93991999999997,
                    38.99365000000006
                   ],
                   [
                    -76.93983444599996,
                    38.993658279000044
                   ]
                  ],
                  [
                   [
                    -76.93983444599996,
                    38.993658279000044
                   ],
                   [
                    -76.93960999999996,
                    38.99368000000004
                   ],
                   [
                    -76.93898999999999,
                    38.99369000000007
                   ],
                   [
                    -76.93782999999996,
                    38.99371000000008
                   ],
                   [
                    -76.93771499999997,
                    38.99371000000008
                   ]
                  ],
                  [
                   [
                    -76.93771499999997,
                    38.99371000000008
                   ],
                   [
                    -76.93730999999997,
                    38.993670000000066
                   ],
                   [
                    -76.93730999999997,
                    38.994020000000035
                   ],
                   [
                    -76.93730999999997,
                    38.99422000000004
                   ],
                   [
                    -76.93730999999997,
                    38.99469000000005
                   ],
                   [
                    -76.93731999999994,
                    38.99476000000004
                   ],
                   [
                    -76.93733999999995,
                    38.99487000000005
                   ],
                   [
                    -76.93739999999997,
                    38.99503000000004
                   ],
                   [
                    -76.93756999999994,
                    38.99535000000003
                   ],
                   [
                    -76.93758024099998,
                    38.99536934300005
                   ]
                  ],
                  [
                   [
                    -76.93758024099998,
                    38.99536934300005
                   ],
                   [
                    -76.93778999999995,
                    38.99571000000003
                   ],
                   [
                    -76.93834999999996,
                    38.99631000000005
                   ],
                   [
                    -76.93923999999998,
                    38.99694000000005
                   ],
                   [
                    -76.93978999999996,
                    38.99735000000004
                   ],
                   [
                    -76.94005999999996,
                    38.99756000000008
                   ],
                   [
                    -76.94045950399999,
                    38.997873543000026
                   ]
                  ],
                  [
                   [
                    -76.94045950399999,
                    38.997873543000026
                   ],
                   [
                    -76.94058999999999,
                    38.99798000000004
                   ],
                   [
                    -76.94120999999996,
                    38.99844000000007
                   ],
                   [
                    -76.94153999999997,
                    38.99878000000007
                   ],
                   [
                    -76.94181999999995,
                    38.99917000000005
                   ],
                   [
                    -76.94201999999996,
                    38.999450000000024
                   ],
                   [
                    -76.94223999999997,
                    38.99974000000003
                   ],
                   [
                    -76.94288999999998,
                    39.000230000000045
                   ],
                   [
                    -76.94312999999994,
                    39.000410000000045
                   ],
                   [
                    -76.94383999999997,
                    39.00076000000007
                   ],
                   [
                    -76.94456999999994,
                    39.00088000000005
                   ],
                   [
                    -76.94472999999994,
                    39.00091000000003
                   ],
                   [
                    -76.94468297199995,
                    39.00106049100003
                   ]
                  ],
                  [
                   [
                    -76.94468297199995,
                    39.00106049100003
                   ],
                   [
                    -76.94411999999994,
                    39.001450000000034
                   ],
                   [
                    -76.94352999999995,
                    39.00210000000004
                   ],
                   [
                    -76.94334596199997,
                    39.00267013900003
                   ]
                  ],
                  [
                   [
                    -76.94334596199997,
                    39.00267013900003
                   ],
                   [
                    -76.94300999999996,
                    39.003660000000025
                   ],
                   [
                    -76.94248999999996,
                    39.003540000000044
                   ],
                   [
                    -76.94256500899996,
                    39.00309055900004
                   ]
                  ],
                  [
                   [
                    -76.94256500899996,
                    39.00309055900004
                   ],
                   [
                    -76.94248999999996,
                    39.003540000000044
                   ],
                   [
                    -76.94300999999996,
                    39.003660000000025
                   ],
                   [
                    -76.94352999999995,
                    39.00210000000004
                   ]
                  ],
                  [
                   [
                    -76.94352999999995,
                    39.00210000000004
                   ],
                   [
                    -76.94411999999994,
                    39.001450000000034
                   ],
                   [
                    -76.94468297199995,
                    39.00106049100003
                   ]
                  ],
                  [
                   [
                    -76.94468297199995,
                    39.00106049100003
                   ],
                   [
                    -76.94472999999994,
                    39.00091000000003
                   ],
                   [
                    -76.94456999999994,
                    39.00088000000005
                   ],
                   [
                    -76.94383999999997,
                    39.00076000000007
                   ],
                   [
                    -76.94312999999994,
                    39.000410000000045
                   ],
                   [
                    -76.94288999999998,
                    39.000230000000045
                   ],
                   [
                    -76.94223999999997,
                    38.99974000000003
                   ],
                   [
                    -76.94201999999996,
                    38.999450000000024
                   ],
                   [
                    -76.94181999999995,
                    38.99917000000005
                   ],
                   [
                    -76.94153999999997,
                    38.99878000000007
                   ],
                   [
                    -76.94120999999996,
                    38.99844000000007
                   ],
                   [
                    -76.94058999999999,
                    38.99798000000004
                   ],
                   [
                    -76.94044605799996,
                    38.99786257400007
                   ]
                  ],
                  [
                   [
                    -76.94044605799996,
                    38.99786257400007
                   ],
                   [
                    -76.94005999999996,
                    38.99756000000008
                   ],
                   [
                    -76.93978999999996,
                    38.99735000000004
                   ],
                   [
                    -76.93923999999998,
                    38.99694000000005
                   ],
                   [
                    -76.93834999999996,
                    38.99631000000005
                   ],
                   [
                    -76.93778999999995,
                    38.99571000000003
                   ],
                   [
                    -76.93756999999994,
                    38.99535000000003
                   ],
                   [
                    -76.93746205799994,
                    38.99535780300005
                   ]
                  ],
                  [
                   [
                    -76.93746205799994,
                    38.99535780300005
                   ],
                   [
                    -76.93673999999999,
                    38.99541000000005
                   ],
                   [
                    -76.93677999999994,
                    38.99577000000005
                   ],
                   [
                    -76.93778999999995,
                    38.99571000000003
                   ],
                   [
                    -76.93756999999994,
                    38.99535000000003
                   ],
                   [
                    -76.93739999999997,
                    38.99503000000004
                   ],
                   [
                    -76.93733999999995,
                    38.99487000000005
                   ],
                   [
                    -76.93731999999994,
                    38.99476000000004
                   ],
                   [
                    -76.93730999999997,
                    38.99469000000005
                   ],
                   [
                    -76.93730999999997,
                    38.99422000000004
                   ],
                   [
                    -76.93730999999997,
                    38.994020000000035
                   ],
                   [
                    -76.93730999999997,
                    38.993670000000066
                   ],
                   [
                    -76.93747899999994,
                    38.99371000000008
                   ]
                  ],
                  [
                   [
                    -76.93747899999994,
                    38.99371000000008
                   ],
                   [
                    -76.93782999999996,
                    38.99371000000008
                   ],
                   [
                    -76.93898999999999,
                    38.99369000000007
                   ],
                   [
                    -76.93960999999996,
                    38.99368000000004
                   ],
                   [
                    -76.93991999999997,
                    38.99365000000006
                   ],
                   [
                    -76.93996999999996,
                    38.993570000000034
                   ],
                   [
                    -76.93994978799998,
                    38.99347904700005
                   ]
                  ],
                  [
                   [
                    -76.93994978799998,
                    38.99347904700005
                   ],
                   [
                    -76.93992999999995,
                    38.99339000000003
                   ],
                   [
                    -76.93988999999993,
                    38.99327000000005
                   ],
                   [
                    -76.93984999999998,
                    38.99317000000008
                   ],
                   [
                    -76.93991999999997,
                    38.99273000000005
                   ],
                   [
                    -76.94065999999998,
                    38.99160000000006
                   ],
                   [
                    -76.94071999999994,
                    38.99151000000006
                   ],
                   [
                    -76.94073999999995,
                    38.99142000000006
                   ],
                   [
                    -76.94072580599999,
                    38.991266703000065
                   ]
                  ],
                  [
                   [
                    -76.94072580599999,
                    38.991266703000065
                   ],
                   [
                    -76.94068999999996,
                    38.99088000000006
                   ],
                   [
                    -76.94068999999996,
                    38.99064000000004
                   ],
                   [
                    -76.94069999999994,
                    38.99057000000005
                   ],
                   [
                    -76.94071999999994,
                    38.99019000000004
                   ],
                   [
                    -76.94070999999997,
                    38.98978000000005
                   ],
                   [
                    -76.94070403699999,
                    38.98952358100007
                   ]
                  ],
                  [
                   [
                    -76.94070403699999,
                    38.98952358100007
                   ],
                   [
                    -76.94069999999994,
                    38.98935000000006
                   ],
                   [
                    -76.94069999999994,
                    38.98905000000008
                   ],
                   [
                    -76.94066999999995,
                    38.98866000000004
                   ],
                   [
                    -76.94066999999995,
                    38.988510000000076
                   ],
                   [
                    -76.94064999999995,
                    38.98828000000003
                   ],
                   [
                    -76.94062999999994,
                    38.98812000000004
                   ],
                   [
                    -76.94062999999994,
                    38.98794000000004
                   ],
                   [
                    -76.94048999999995,
                    38.987640000000056
                   ],
                   [
                    -76.94048999999995,
                    38.98759000000007
                   ],
                   [
                    -76.94107999999994,
                    38.98757000000006
                   ],
                   [
                    -76.94121999999999,
                    38.98756000000003
                   ],
                   [
                    -76.94145999999995,
                    38.987550000000056
                   ],
                   [
                    -76.94170999999994,
                    38.987540000000024
                   ],
                   [
                    -76.94216999999998,
                    38.987540000000024
                   ],
                   [
                    -76.94260999999995,
                    38.987540000000024
                   ],
                   [
                    -76.94319999999993,
                    38.98753000000005
                   ],
                   [
                    -76.94343999999995,
                    38.98753000000005
                   ],
                   [
                    -76.94394499999999,
                    38.98753000000005
                   ]
                  ]
                 ],
                 "spatialReference": {
                  "wkid": 4326
                 },
                 "type": "polyline"
                }
               }
              ],
              "geometryType": "esriGeometryPolyline"
             },
             "layerDefinition": {
              "drawingInfo": {
               "renderer": {
                "symbol": {
                 "color": [
                  128,
                  0,
                  128,
                  90
                 ],
                 "style": "esriSLSSolid",
                 "type": "esriSLS",
                 "width": 4
                },
                "type": "simple"
               }
              },
              "fields": [
               {
                "alias": "OBJECTID",
                "name": "OBJECTID",
                "sqlType": "sqlTypeOther",
                "type": "esriFieldTypeOID"
               }
              ],
              "geometryType": "esriGeometryPolyline",
              "name": "Notebook sketch layer",
              "objectIdField": "OBJECTID",
              "spatialReference": {
               "wkid": 4326
              },
              "type": "Feature Layer"
             },
             "popupInfo": {
              "description": null,
              "fieldInfos": [
               {
                "fieldName": "OBJECTID",
                "isEditable": true,
                "label": "OBJECTID",
                "visible": true
               }
              ],
              "mediaInfos": [],
              "showAttachments": true,
              "title": "Notebook sketch layer"
             }
            }
           ]
          },
          "id": "babf60b6-5460-4b5d-bc61-96d4414754d9",
          "layerDefinition": {
           "definitionExpression": null
          },
          "layerType": "ArcGISFeatureLayer",
          "opacity": 1,
          "title": "Notebook sketch layer",
          "visibility": true
         },
         {
          "featureCollection": {
           "layers": [
            {
             "featureSet": {
              "features": [
               {
                "attributes": {
                 "OBJECTID": 1
                },
                "geometry": {
                 "spatialReference": {
                  "wkid": 4326
                 },
                 "type": "point",
                 "x": -76.94394499999999,
                 "y": 38.987610000000075
                }
               }
              ],
              "geometryType": "esriGeometryPoint"
             },
             "layerDefinition": {
              "drawingInfo": {
               "renderer": {
                "symbol": {
                 "angle": 0,
                 "contentType": "image/png",
                 "height": 24,
                 "type": "esriPMS",
                 "url": "https://esri.github.io/arcgis-python-api/notebooks/nbimages/pink.png",
                 "width": 24,
                 "xoffset": 0,
                 "yoffset": 12
                },
                "type": "simple"
               }
              },
              "fields": [
               {
                "alias": "OBJECTID",
                "name": "OBJECTID",
                "sqlType": "sqlTypeOther",
                "type": "esriFieldTypeOID"
               }
              ],
              "geometryType": "esriGeometryPoint",
              "name": "Notebook sketch layer",
              "objectIdField": "OBJECTID",
              "spatialReference": {
               "wkid": 4326
              },
              "type": "Feature Layer"
             },
             "popupInfo": {
              "description": null,
              "fieldInfos": [
               {
                "fieldName": "OBJECTID",
                "isEditable": true,
                "label": "OBJECTID",
                "visible": true
               }
              ],
              "mediaInfos": [],
              "showAttachments": true,
              "title": "Notebook sketch layer"
             }
            }
           ]
          },
          "id": "2cb9e7e3-e044-4a24-9f26-e42fbd5dd558",
          "layerDefinition": {
           "definitionExpression": null
          },
          "layerType": "ArcGISFeatureLayer",
          "opacity": 1,
          "title": "Notebook sketch layer",
          "visibility": true
         },
         {
          "featureCollection": {
           "layers": [
            {
             "featureSet": {
              "features": [
               {
                "attributes": {
                 "OBJECTID": 1
                },
                "geometry": {
                 "spatialReference": {
                  "wkid": 4326
                 },
                 "type": "point",
                 "x": -76.94677999999999,
                 "y": 38.98527700000005
                }
               }
              ],
              "geometryType": "esriGeometryPoint"
             },
             "layerDefinition": {
              "drawingInfo": {
               "renderer": {
                "symbol": {
                 "angle": 0,
                 "contentType": "image/png",
                 "height": 24,
                 "type": "esriPMS",
                 "url": "https://esri.github.io/arcgis-python-api/notebooks/nbimages/pink.png",
                 "width": 24,
                 "xoffset": 0,
                 "yoffset": 12
                },
                "type": "simple"
               }
              },
              "fields": [
               {
                "alias": "OBJECTID",
                "name": "OBJECTID",
                "sqlType": "sqlTypeOther",
                "type": "esriFieldTypeOID"
               }
              ],
              "geometryType": "esriGeometryPoint",
              "name": "Notebook sketch layer",
              "objectIdField": "OBJECTID",
              "spatialReference": {
               "wkid": 4326
              },
              "type": "Feature Layer"
             },
             "popupInfo": {
              "description": null,
              "fieldInfos": [
               {
                "fieldName": "OBJECTID",
                "isEditable": true,
                "label": "OBJECTID",
                "visible": true
               }
              ],
              "mediaInfos": [],
              "showAttachments": true,
              "title": "Notebook sketch layer"
             }
            }
           ]
          },
          "id": "4633360f-c241-4a8f-9fe8-bcb0c5062e9d",
          "layerDefinition": {
           "definitionExpression": null
          },
          "layerType": "ArcGISFeatureLayer",
          "opacity": 1,
          "title": "Notebook sketch layer",
          "visibility": true
         },
         {
          "featureCollection": {
           "layers": [
            {
             "featureSet": {
              "features": [
               {
                "attributes": {
                 "OBJECTID": 1
                },
                "geometry": {
                 "spatialReference": {
                  "wkid": 4326
                 },
                 "type": "point",
                 "x": -76.94518599999998,
                 "y": 38.983749000000046
                }
               }
              ],
              "geometryType": "esriGeometryPoint"
             },
             "layerDefinition": {
              "drawingInfo": {
               "renderer": {
                "symbol": {
                 "angle": 0,
                 "contentType": "image/png",
                 "height": 24,
                 "type": "esriPMS",
                 "url": "https://esri.github.io/arcgis-python-api/notebooks/nbimages/pink.png",
                 "width": 24,
                 "xoffset": 0,
                 "yoffset": 12
                },
                "type": "simple"
               }
              },
              "fields": [
               {
                "alias": "OBJECTID",
                "name": "OBJECTID",
                "sqlType": "sqlTypeOther",
                "type": "esriFieldTypeOID"
               }
              ],
              "geometryType": "esriGeometryPoint",
              "name": "Notebook sketch layer",
              "objectIdField": "OBJECTID",
              "spatialReference": {
               "wkid": 4326
              },
              "type": "Feature Layer"
             },
             "popupInfo": {
              "description": null,
              "fieldInfos": [
               {
                "fieldName": "OBJECTID",
                "isEditable": true,
                "label": "OBJECTID",
                "visible": true
               }
              ],
              "mediaInfos": [],
              "showAttachments": true,
              "title": "Notebook sketch layer"
             }
            }
           ]
          },
          "id": "b2bfaa0f-3030-443a-a407-9d0318eb1c7c",
          "layerDefinition": {
           "definitionExpression": null
          },
          "layerType": "ArcGISFeatureLayer",
          "opacity": 1,
          "title": "Notebook sketch layer",
          "visibility": true
         },
         {
          "featureCollection": {
           "layers": [
            {
             "featureSet": {
              "features": [
               {
                "attributes": {
                 "OBJECTID": 1
                },
                "geometry": {
                 "spatialReference": {
                  "wkid": 4326
                 },
                 "type": "point",
                 "x": -76.94494199999997,
                 "y": 38.982413000000065
                }
               }
              ],
              "geometryType": "esriGeometryPoint"
             },
             "layerDefinition": {
              "drawingInfo": {
               "renderer": {
                "symbol": {
                 "angle": 0,
                 "contentType": "image/png",
                 "height": 24,
                 "type": "esriPMS",
                 "url": "https://esri.github.io/arcgis-python-api/notebooks/nbimages/pink.png",
                 "width": 24,
                 "xoffset": 0,
                 "yoffset": 12
                },
                "type": "simple"
               }
              },
              "fields": [
               {
                "alias": "OBJECTID",
                "name": "OBJECTID",
                "sqlType": "sqlTypeOther",
                "type": "esriFieldTypeOID"
               }
              ],
              "geometryType": "esriGeometryPoint",
              "name": "Notebook sketch layer",
              "objectIdField": "OBJECTID",
              "spatialReference": {
               "wkid": 4326
              },
              "type": "Feature Layer"
             },
             "popupInfo": {
              "description": null,
              "fieldInfos": [
               {
                "fieldName": "OBJECTID",
                "isEditable": true,
                "label": "OBJECTID",
                "visible": true
               }
              ],
              "mediaInfos": [],
              "showAttachments": true,
              "title": "Notebook sketch layer"
             }
            }
           ]
          },
          "id": "0b16a496-878f-4e9b-a252-1c878ea839c3",
          "layerDefinition": {
           "definitionExpression": null
          },
          "layerType": "ArcGISFeatureLayer",
          "opacity": 1,
          "title": "Notebook sketch layer",
          "visibility": true
         },
         {
          "featureCollection": {
           "layers": [
            {
             "featureSet": {
              "features": [
               {
                "attributes": {
                 "OBJECTID": 1
                },
                "geometry": {
                 "spatialReference": {
                  "wkid": 4326
                 },
                 "type": "point",
                 "x": -76.93948099999994,
                 "y": 38.978162000000054
                }
               }
              ],
              "geometryType": "esriGeometryPoint"
             },
             "layerDefinition": {
              "drawingInfo": {
               "renderer": {
                "symbol": {
                 "angle": 0,
                 "contentType": "image/png",
                 "height": 24,
                 "type": "esriPMS",
                 "url": "https://esri.github.io/arcgis-python-api/notebooks/nbimages/pink.png",
                 "width": 24,
                 "xoffset": 0,
                 "yoffset": 12
                },
                "type": "simple"
               }
              },
              "fields": [
               {
                "alias": "OBJECTID",
                "name": "OBJECTID",
                "sqlType": "sqlTypeOther",
                "type": "esriFieldTypeOID"
               }
              ],
              "geometryType": "esriGeometryPoint",
              "name": "Notebook sketch layer",
              "objectIdField": "OBJECTID",
              "spatialReference": {
               "wkid": 4326
              },
              "type": "Feature Layer"
             },
             "popupInfo": {
              "description": null,
              "fieldInfos": [
               {
                "fieldName": "OBJECTID",
                "isEditable": true,
                "label": "OBJECTID",
                "visible": true
               }
              ],
              "mediaInfos": [],
              "showAttachments": true,
              "title": "Notebook sketch layer"
             }
            }
           ]
          },
          "id": "6bb426c7-c254-4b8e-afcd-3ed04680b9de",
          "layerDefinition": {
           "definitionExpression": null
          },
          "layerType": "ArcGISFeatureLayer",
          "opacity": 1,
          "title": "Notebook sketch layer",
          "visibility": true
         },
         {
          "featureCollection": {
           "layers": [
            {
             "featureSet": {
              "features": [
               {
                "attributes": {
                 "OBJECTID": 1
                },
                "geometry": {
                 "spatialReference": {
                  "wkid": 4326
                 },
                 "type": "point",
                 "x": -76.93777099999994,
                 "y": 38.97946200000007
                }
               }
              ],
              "geometryType": "esriGeometryPoint"
             },
             "layerDefinition": {
              "drawingInfo": {
               "renderer": {
                "symbol": {
                 "angle": 0,
                 "contentType": "image/png",
                 "height": 24,
                 "type": "esriPMS",
                 "url": "https://esri.github.io/arcgis-python-api/notebooks/nbimages/pink.png",
                 "width": 24,
                 "xoffset": 0,
                 "yoffset": 12
                },
                "type": "simple"
               }
              },
              "fields": [
               {
                "alias": "OBJECTID",
                "name": "OBJECTID",
                "sqlType": "sqlTypeOther",
                "type": "esriFieldTypeOID"
               }
              ],
              "geometryType": "esriGeometryPoint",
              "name": "Notebook sketch layer",
              "objectIdField": "OBJECTID",
              "spatialReference": {
               "wkid": 4326
              },
              "type": "Feature Layer"
             },
             "popupInfo": {
              "description": null,
              "fieldInfos": [
               {
                "fieldName": "OBJECTID",
                "isEditable": true,
                "label": "OBJECTID",
                "visible": true
               }
              ],
              "mediaInfos": [],
              "showAttachments": true,
              "title": "Notebook sketch layer"
             }
            }
           ]
          },
          "id": "9d55ac2a-09a9-4f80-9697-eb9ce8378115",
          "layerDefinition": {
           "definitionExpression": null
          },
          "layerType": "ArcGISFeatureLayer",
          "opacity": 1,
          "title": "Notebook sketch layer",
          "visibility": true
         },
         {
          "featureCollection": {
           "layers": [
            {
             "featureSet": {
              "features": [
               {
                "attributes": {
                 "OBJECTID": 1
                },
                "geometry": {
                 "spatialReference": {
                  "wkid": 4326
                 },
                 "type": "point",
                 "x": -76.93911399999996,
                 "y": 38.982511000000045
                }
               }
              ],
              "geometryType": "esriGeometryPoint"
             },
             "layerDefinition": {
              "drawingInfo": {
               "renderer": {
                "symbol": {
                 "angle": 0,
                 "contentType": "image/png",
                 "height": 24,
                 "type": "esriPMS",
                 "url": "https://esri.github.io/arcgis-python-api/notebooks/nbimages/pink.png",
                 "width": 24,
                 "xoffset": 0,
                 "yoffset": 12
                },
                "type": "simple"
               }
              },
              "fields": [
               {
                "alias": "OBJECTID",
                "name": "OBJECTID",
                "sqlType": "sqlTypeOther",
                "type": "esriFieldTypeOID"
               }
              ],
              "geometryType": "esriGeometryPoint",
              "name": "Notebook sketch layer",
              "objectIdField": "OBJECTID",
              "spatialReference": {
               "wkid": 4326
              },
              "type": "Feature Layer"
             },
             "popupInfo": {
              "description": null,
              "fieldInfos": [
               {
                "fieldName": "OBJECTID",
                "isEditable": true,
                "label": "OBJECTID",
                "visible": true
               }
              ],
              "mediaInfos": [],
              "showAttachments": true,
              "title": "Notebook sketch layer"
             }
            }
           ]
          },
          "id": "46c621a7-4e61-4653-972f-81af613aef09",
          "layerDefinition": {
           "definitionExpression": null
          },
          "layerType": "ArcGISFeatureLayer",
          "opacity": 1,
          "title": "Notebook sketch layer",
          "visibility": true
         },
         {
          "featureCollection": {
           "layers": [
            {
             "featureSet": {
              "features": [
               {
                "attributes": {
                 "OBJECTID": 1
                },
                "geometry": {
                 "spatialReference": {
                  "wkid": 4326
                 },
                 "type": "point",
                 "x": -76.94004899999999,
                 "y": 38.98454000000004
                }
               }
              ],
              "geometryType": "esriGeometryPoint"
             },
             "layerDefinition": {
              "drawingInfo": {
               "renderer": {
                "symbol": {
                 "angle": 0,
                 "contentType": "image/png",
                 "height": 24,
                 "type": "esriPMS",
                 "url": "https://esri.github.io/arcgis-python-api/notebooks/nbimages/pink.png",
                 "width": 24,
                 "xoffset": 0,
                 "yoffset": 12
                },
                "type": "simple"
               }
              },
              "fields": [
               {
                "alias": "OBJECTID",
                "name": "OBJECTID",
                "sqlType": "sqlTypeOther",
                "type": "esriFieldTypeOID"
               }
              ],
              "geometryType": "esriGeometryPoint",
              "name": "Notebook sketch layer",
              "objectIdField": "OBJECTID",
              "spatialReference": {
               "wkid": 4326
              },
              "type": "Feature Layer"
             },
             "popupInfo": {
              "description": null,
              "fieldInfos": [
               {
                "fieldName": "OBJECTID",
                "isEditable": true,
                "label": "OBJECTID",
                "visible": true
               }
              ],
              "mediaInfos": [],
              "showAttachments": true,
              "title": "Notebook sketch layer"
             }
            }
           ]
          },
          "id": "8488e23c-7947-44ec-8a0c-e9d8936ec13f",
          "layerDefinition": {
           "definitionExpression": null
          },
          "layerType": "ArcGISFeatureLayer",
          "opacity": 1,
          "title": "Notebook sketch layer",
          "visibility": true
         },
         {
          "featureCollection": {
           "layers": [
            {
             "featureSet": {
              "features": [
               {
                "attributes": {
                 "OBJECTID": 1
                },
                "geometry": {
                 "spatialReference": {
                  "wkid": 4326
                 },
                 "type": "point",
                 "x": -76.94011199999994,
                 "y": 38.98637300000007
                }
               }
              ],
              "geometryType": "esriGeometryPoint"
             },
             "layerDefinition": {
              "drawingInfo": {
               "renderer": {
                "symbol": {
                 "angle": 0,
                 "contentType": "image/png",
                 "height": 24,
                 "type": "esriPMS",
                 "url": "https://esri.github.io/arcgis-python-api/notebooks/nbimages/pink.png",
                 "width": 24,
                 "xoffset": 0,
                 "yoffset": 12
                },
                "type": "simple"
               }
              },
              "fields": [
               {
                "alias": "OBJECTID",
                "name": "OBJECTID",
                "sqlType": "sqlTypeOther",
                "type": "esriFieldTypeOID"
               }
              ],
              "geometryType": "esriGeometryPoint",
              "name": "Notebook sketch layer",
              "objectIdField": "OBJECTID",
              "spatialReference": {
               "wkid": 4326
              },
              "type": "Feature Layer"
             },
             "popupInfo": {
              "description": null,
              "fieldInfos": [
               {
                "fieldName": "OBJECTID",
                "isEditable": true,
                "label": "OBJECTID",
                "visible": true
               }
              ],
              "mediaInfos": [],
              "showAttachments": true,
              "title": "Notebook sketch layer"
             }
            }
           ]
          },
          "id": "b6ecb21c-e83d-4596-aa94-7c4cdce7898a",
          "layerDefinition": {
           "definitionExpression": null
          },
          "layerType": "ArcGISFeatureLayer",
          "opacity": 1,
          "title": "Notebook sketch layer",
          "visibility": true
         },
         {
          "featureCollection": {
           "layers": [
            {
             "featureSet": {
              "features": [
               {
                "attributes": {
                 "OBJECTID": 1
                },
                "geometry": {
                 "spatialReference": {
                  "wkid": 4326
                 },
                 "type": "point",
                 "x": -76.94060719999999,
                 "y": 38.99038180000008
                }
               }
              ],
              "geometryType": "esriGeometryPoint"
             },
             "layerDefinition": {
              "drawingInfo": {
               "renderer": {
                "symbol": {
                 "angle": 0,
                 "contentType": "image/png",
                 "height": 24,
                 "type": "esriPMS",
                 "url": "https://esri.github.io/arcgis-python-api/notebooks/nbimages/pink.png",
                 "width": 24,
                 "xoffset": 0,
                 "yoffset": 12
                },
                "type": "simple"
               }
              },
              "fields": [
               {
                "alias": "OBJECTID",
                "name": "OBJECTID",
                "sqlType": "sqlTypeOther",
                "type": "esriFieldTypeOID"
               }
              ],
              "geometryType": "esriGeometryPoint",
              "name": "Notebook sketch layer",
              "objectIdField": "OBJECTID",
              "spatialReference": {
               "wkid": 4326
              },
              "type": "Feature Layer"
             },
             "popupInfo": {
              "description": null,
              "fieldInfos": [
               {
                "fieldName": "OBJECTID",
                "isEditable": true,
                "label": "OBJECTID",
                "visible": true
               }
              ],
              "mediaInfos": [],
              "showAttachments": true,
              "title": "Notebook sketch layer"
             }
            }
           ]
          },
          "id": "ab29ddc8-e1bf-4504-95a9-950b55e51286",
          "layerDefinition": {
           "definitionExpression": null
          },
          "layerType": "ArcGISFeatureLayer",
          "opacity": 1,
          "title": "Notebook sketch layer",
          "visibility": true
         },
         {
          "featureCollection": {
           "layers": [
            {
             "featureSet": {
              "features": [
               {
                "attributes": {
                 "OBJECTID": 1
                },
                "geometry": {
                 "spatialReference": {
                  "wkid": 4326
                 },
                 "type": "point",
                 "x": -76.94073199999997,
                 "y": 38.99149200000005
                }
               }
              ],
              "geometryType": "esriGeometryPoint"
             },
             "layerDefinition": {
              "drawingInfo": {
               "renderer": {
                "symbol": {
                 "angle": 0,
                 "contentType": "image/png",
                 "height": 24,
                 "type": "esriPMS",
                 "url": "https://esri.github.io/arcgis-python-api/notebooks/nbimages/pink.png",
                 "width": 24,
                 "xoffset": 0,
                 "yoffset": 12
                },
                "type": "simple"
               }
              },
              "fields": [
               {
                "alias": "OBJECTID",
                "name": "OBJECTID",
                "sqlType": "sqlTypeOther",
                "type": "esriFieldTypeOID"
               }
              ],
              "geometryType": "esriGeometryPoint",
              "name": "Notebook sketch layer",
              "objectIdField": "OBJECTID",
              "spatialReference": {
               "wkid": 4326
              },
              "type": "Feature Layer"
             },
             "popupInfo": {
              "description": null,
              "fieldInfos": [
               {
                "fieldName": "OBJECTID",
                "isEditable": true,
                "label": "OBJECTID",
                "visible": true
               }
              ],
              "mediaInfos": [],
              "showAttachments": true,
              "title": "Notebook sketch layer"
             }
            }
           ]
          },
          "id": "979339fb-ca0d-4c31-bfdf-c82359e9c6a7",
          "layerDefinition": {
           "definitionExpression": null
          },
          "layerType": "ArcGISFeatureLayer",
          "opacity": 1,
          "title": "Notebook sketch layer",
          "visibility": true
         },
         {
          "featureCollection": {
           "layers": [
            {
             "featureSet": {
              "features": [
               {
                "attributes": {
                 "OBJECTID": 1
                },
                "geometry": {
                 "spatialReference": {
                  "wkid": 4326
                 },
                 "type": "point",
                 "x": -76.93983499999996,
                 "y": 38.99366400000008
                }
               }
              ],
              "geometryType": "esriGeometryPoint"
             },
             "layerDefinition": {
              "drawingInfo": {
               "renderer": {
                "symbol": {
                 "angle": 0,
                 "contentType": "image/png",
                 "height": 24,
                 "type": "esriPMS",
                 "url": "https://esri.github.io/arcgis-python-api/notebooks/nbimages/pink.png",
                 "width": 24,
                 "xoffset": 0,
                 "yoffset": 12
                },
                "type": "simple"
               }
              },
              "fields": [
               {
                "alias": "OBJECTID",
                "name": "OBJECTID",
                "sqlType": "sqlTypeOther",
                "type": "esriFieldTypeOID"
               }
              ],
              "geometryType": "esriGeometryPoint",
              "name": "Notebook sketch layer",
              "objectIdField": "OBJECTID",
              "spatialReference": {
               "wkid": 4326
              },
              "type": "Feature Layer"
             },
             "popupInfo": {
              "description": null,
              "fieldInfos": [
               {
                "fieldName": "OBJECTID",
                "isEditable": true,
                "label": "OBJECTID",
                "visible": true
               }
              ],
              "mediaInfos": [],
              "showAttachments": true,
              "title": "Notebook sketch layer"
             }
            }
           ]
          },
          "id": "2ca1a228-4e14-4237-93e5-f560edd9371b",
          "layerDefinition": {
           "definitionExpression": null
          },
          "layerType": "ArcGISFeatureLayer",
          "opacity": 1,
          "title": "Notebook sketch layer",
          "visibility": true
         },
         {
          "featureCollection": {
           "layers": [
            {
             "featureSet": {
              "features": [
               {
                "attributes": {
                 "OBJECTID": 1
                },
                "geometry": {
                 "spatialReference": {
                  "wkid": 4326
                 },
                 "type": "point",
                 "x": -76.93771499999997,
                 "y": 38.99370200000004
                }
               }
              ],
              "geometryType": "esriGeometryPoint"
             },
             "layerDefinition": {
              "drawingInfo": {
               "renderer": {
                "symbol": {
                 "angle": 0,
                 "contentType": "image/png",
                 "height": 24,
                 "type": "esriPMS",
                 "url": "https://esri.github.io/arcgis-python-api/notebooks/nbimages/pink.png",
                 "width": 24,
                 "xoffset": 0,
                 "yoffset": 12
                },
                "type": "simple"
               }
              },
              "fields": [
               {
                "alias": "OBJECTID",
                "name": "OBJECTID",
                "sqlType": "sqlTypeOther",
                "type": "esriFieldTypeOID"
               }
              ],
              "geometryType": "esriGeometryPoint",
              "name": "Notebook sketch layer",
              "objectIdField": "OBJECTID",
              "spatialReference": {
               "wkid": 4326
              },
              "type": "Feature Layer"
             },
             "popupInfo": {
              "description": null,
              "fieldInfos": [
               {
                "fieldName": "OBJECTID",
                "isEditable": true,
                "label": "OBJECTID",
                "visible": true
               }
              ],
              "mediaInfos": [],
              "showAttachments": true,
              "title": "Notebook sketch layer"
             }
            }
           ]
          },
          "id": "e7cb1042-7f14-45ee-b329-d484048c2df0",
          "layerDefinition": {
           "definitionExpression": null
          },
          "layerType": "ArcGISFeatureLayer",
          "opacity": 1,
          "title": "Notebook sketch layer",
          "visibility": true
         },
         {
          "featureCollection": {
           "layers": [
            {
             "featureSet": {
              "features": [
               {
                "attributes": {
                 "OBJECTID": 1
                },
                "geometry": {
                 "spatialReference": {
                  "wkid": 4326
                 },
                 "type": "point",
                 "x": -76.93764699999997,
                 "y": 38.99533400000007
                }
               }
              ],
              "geometryType": "esriGeometryPoint"
             },
             "layerDefinition": {
              "drawingInfo": {
               "renderer": {
                "symbol": {
                 "angle": 0,
                 "contentType": "image/png",
                 "height": 24,
                 "type": "esriPMS",
                 "url": "https://esri.github.io/arcgis-python-api/notebooks/nbimages/pink.png",
                 "width": 24,
                 "xoffset": 0,
                 "yoffset": 12
                },
                "type": "simple"
               }
              },
              "fields": [
               {
                "alias": "OBJECTID",
                "name": "OBJECTID",
                "sqlType": "sqlTypeOther",
                "type": "esriFieldTypeOID"
               }
              ],
              "geometryType": "esriGeometryPoint",
              "name": "Notebook sketch layer",
              "objectIdField": "OBJECTID",
              "spatialReference": {
               "wkid": 4326
              },
              "type": "Feature Layer"
             },
             "popupInfo": {
              "description": null,
              "fieldInfos": [
               {
                "fieldName": "OBJECTID",
                "isEditable": true,
                "label": "OBJECTID",
                "visible": true
               }
              ],
              "mediaInfos": [],
              "showAttachments": true,
              "title": "Notebook sketch layer"
             }
            }
           ]
          },
          "id": "141f4541-9061-42e5-8bfd-d434185cb942",
          "layerDefinition": {
           "definitionExpression": null
          },
          "layerType": "ArcGISFeatureLayer",
          "opacity": 1,
          "title": "Notebook sketch layer",
          "visibility": true
         },
         {
          "featureCollection": {
           "layers": [
            {
             "featureSet": {
              "features": [
               {
                "attributes": {
                 "OBJECTID": 1
                },
                "geometry": {
                 "spatialReference": {
                  "wkid": 4326
                 },
                 "type": "point",
                 "x": -76.94050399999998,
                 "y": 38.99781900000005
                }
               }
              ],
              "geometryType": "esriGeometryPoint"
             },
             "layerDefinition": {
              "drawingInfo": {
               "renderer": {
                "symbol": {
                 "angle": 0,
                 "contentType": "image/png",
                 "height": 24,
                 "type": "esriPMS",
                 "url": "https://esri.github.io/arcgis-python-api/notebooks/nbimages/pink.png",
                 "width": 24,
                 "xoffset": 0,
                 "yoffset": 12
                },
                "type": "simple"
               }
              },
              "fields": [
               {
                "alias": "OBJECTID",
                "name": "OBJECTID",
                "sqlType": "sqlTypeOther",
                "type": "esriFieldTypeOID"
               }
              ],
              "geometryType": "esriGeometryPoint",
              "name": "Notebook sketch layer",
              "objectIdField": "OBJECTID",
              "spatialReference": {
               "wkid": 4326
              },
              "type": "Feature Layer"
             },
             "popupInfo": {
              "description": null,
              "fieldInfos": [
               {
                "fieldName": "OBJECTID",
                "isEditable": true,
                "label": "OBJECTID",
                "visible": true
               }
              ],
              "mediaInfos": [],
              "showAttachments": true,
              "title": "Notebook sketch layer"
             }
            }
           ]
          },
          "id": "22a9f74a-eb0e-4425-a1c6-332d6b251c5a",
          "layerDefinition": {
           "definitionExpression": null
          },
          "layerType": "ArcGISFeatureLayer",
          "opacity": 1,
          "title": "Notebook sketch layer",
          "visibility": true
         },
         {
          "featureCollection": {
           "layers": [
            {
             "featureSet": {
              "features": [
               {
                "attributes": {
                 "OBJECTID": 1
                },
                "geometry": {
                 "spatialReference": {
                  "wkid": 4326
                 },
                 "type": "point",
                 "x": -76.94472299999995,
                 "y": 39.001073000000076
                }
               }
              ],
              "geometryType": "esriGeometryPoint"
             },
             "layerDefinition": {
              "drawingInfo": {
               "renderer": {
                "symbol": {
                 "angle": 0,
                 "contentType": "image/png",
                 "height": 24,
                 "type": "esriPMS",
                 "url": "https://esri.github.io/arcgis-python-api/notebooks/nbimages/pink.png",
                 "width": 24,
                 "xoffset": 0,
                 "yoffset": 12
                },
                "type": "simple"
               }
              },
              "fields": [
               {
                "alias": "OBJECTID",
                "name": "OBJECTID",
                "sqlType": "sqlTypeOther",
                "type": "esriFieldTypeOID"
               }
              ],
              "geometryType": "esriGeometryPoint",
              "name": "Notebook sketch layer",
              "objectIdField": "OBJECTID",
              "spatialReference": {
               "wkid": 4326
              },
              "type": "Feature Layer"
             },
             "popupInfo": {
              "description": null,
              "fieldInfos": [
               {
                "fieldName": "OBJECTID",
                "isEditable": true,
                "label": "OBJECTID",
                "visible": true
               }
              ],
              "mediaInfos": [],
              "showAttachments": true,
              "title": "Notebook sketch layer"
             }
            }
           ]
          },
          "id": "4ba95fa6-51e5-42c9-b442-6931ed62f397",
          "layerDefinition": {
           "definitionExpression": null
          },
          "layerType": "ArcGISFeatureLayer",
          "opacity": 1,
          "title": "Notebook sketch layer",
          "visibility": true
         },
         {
          "featureCollection": {
           "layers": [
            {
             "featureSet": {
              "features": [
               {
                "attributes": {
                 "OBJECTID": 1
                },
                "geometry": {
                 "spatialReference": {
                  "wkid": 4326
                 },
                 "type": "point",
                 "x": -76.94339999999994,
                 "y": 39.00268500000004
                }
               }
              ],
              "geometryType": "esriGeometryPoint"
             },
             "layerDefinition": {
              "drawingInfo": {
               "renderer": {
                "symbol": {
                 "angle": 0,
                 "contentType": "image/png",
                 "height": 24,
                 "type": "esriPMS",
                 "url": "https://esri.github.io/arcgis-python-api/notebooks/nbimages/pink.png",
                 "width": 24,
                 "xoffset": 0,
                 "yoffset": 12
                },
                "type": "simple"
               }
              },
              "fields": [
               {
                "alias": "OBJECTID",
                "name": "OBJECTID",
                "sqlType": "sqlTypeOther",
                "type": "esriFieldTypeOID"
               }
              ],
              "geometryType": "esriGeometryPoint",
              "name": "Notebook sketch layer",
              "objectIdField": "OBJECTID",
              "spatialReference": {
               "wkid": 4326
              },
              "type": "Feature Layer"
             },
             "popupInfo": {
              "description": null,
              "fieldInfos": [
               {
                "fieldName": "OBJECTID",
                "isEditable": true,
                "label": "OBJECTID",
                "visible": true
               }
              ],
              "mediaInfos": [],
              "showAttachments": true,
              "title": "Notebook sketch layer"
             }
            }
           ]
          },
          "id": "147d4afa-363f-40eb-a764-76e0083f3a54",
          "layerDefinition": {
           "definitionExpression": null
          },
          "layerType": "ArcGISFeatureLayer",
          "opacity": 1,
          "title": "Notebook sketch layer",
          "visibility": true
         },
         {
          "featureCollection": {
           "layers": [
            {
             "featureSet": {
              "features": [
               {
                "attributes": {
                 "OBJECTID": 1
                },
                "geometry": {
                 "spatialReference": {
                  "wkid": 4326
                 },
                 "type": "point",
                 "x": -76.94254099999995,
                 "y": 39.00308300000006
                }
               }
              ],
              "geometryType": "esriGeometryPoint"
             },
             "layerDefinition": {
              "drawingInfo": {
               "renderer": {
                "symbol": {
                 "angle": 0,
                 "contentType": "image/png",
                 "height": 24,
                 "type": "esriPMS",
                 "url": "https://esri.github.io/arcgis-python-api/notebooks/nbimages/pink.png",
                 "width": 24,
                 "xoffset": 0,
                 "yoffset": 12
                },
                "type": "simple"
               }
              },
              "fields": [
               {
                "alias": "OBJECTID",
                "name": "OBJECTID",
                "sqlType": "sqlTypeOther",
                "type": "esriFieldTypeOID"
               }
              ],
              "geometryType": "esriGeometryPoint",
              "name": "Notebook sketch layer",
              "objectIdField": "OBJECTID",
              "spatialReference": {
               "wkid": 4326
              },
              "type": "Feature Layer"
             },
             "popupInfo": {
              "description": null,
              "fieldInfos": [
               {
                "fieldName": "OBJECTID",
                "isEditable": true,
                "label": "OBJECTID",
                "visible": true
               }
              ],
              "mediaInfos": [],
              "showAttachments": true,
              "title": "Notebook sketch layer"
             }
            }
           ]
          },
          "id": "5f4a8a89-2e19-4160-b6e2-f0048d72d435",
          "layerDefinition": {
           "definitionExpression": null
          },
          "layerType": "ArcGISFeatureLayer",
          "opacity": 1,
          "title": "Notebook sketch layer",
          "visibility": true
         },
         {
          "featureCollection": {
           "layers": [
            {
             "featureSet": {
              "features": [
               {
                "attributes": {
                 "OBJECTID": 1
                },
                "geometry": {
                 "spatialReference": {
                  "wkid": 4326
                 },
                 "type": "point",
                 "x": -76.94342999999998,
                 "y": 39.00205600000004
                }
               }
              ],
              "geometryType": "esriGeometryPoint"
             },
             "layerDefinition": {
              "drawingInfo": {
               "renderer": {
                "symbol": {
                 "angle": 0,
                 "contentType": "image/png",
                 "height": 24,
                 "type": "esriPMS",
                 "url": "https://esri.github.io/arcgis-python-api/notebooks/nbimages/pink.png",
                 "width": 24,
                 "xoffset": 0,
                 "yoffset": 12
                },
                "type": "simple"
               }
              },
              "fields": [
               {
                "alias": "OBJECTID",
                "name": "OBJECTID",
                "sqlType": "sqlTypeOther",
                "type": "esriFieldTypeOID"
               }
              ],
              "geometryType": "esriGeometryPoint",
              "name": "Notebook sketch layer",
              "objectIdField": "OBJECTID",
              "spatialReference": {
               "wkid": 4326
              },
              "type": "Feature Layer"
             },
             "popupInfo": {
              "description": null,
              "fieldInfos": [
               {
                "fieldName": "OBJECTID",
                "isEditable": true,
                "label": "OBJECTID",
                "visible": true
               }
              ],
              "mediaInfos": [],
              "showAttachments": true,
              "title": "Notebook sketch layer"
             }
            }
           ]
          },
          "id": "ac899a48-ce1a-465e-8b59-13ece1f519e2",
          "layerDefinition": {
           "definitionExpression": null
          },
          "layerType": "ArcGISFeatureLayer",
          "opacity": 1,
          "title": "Notebook sketch layer",
          "visibility": true
         },
         {
          "featureCollection": {
           "layers": [
            {
             "featureSet": {
              "features": [
               {
                "attributes": {
                 "OBJECTID": 1
                },
                "geometry": {
                 "spatialReference": {
                  "wkid": 4326
                 },
                 "type": "point",
                 "x": -76.94472299999995,
                 "y": 39.001073000000076
                }
               }
              ],
              "geometryType": "esriGeometryPoint"
             },
             "layerDefinition": {
              "drawingInfo": {
               "renderer": {
                "symbol": {
                 "angle": 0,
                 "contentType": "image/png",
                 "height": 24,
                 "type": "esriPMS",
                 "url": "https://esri.github.io/arcgis-python-api/notebooks/nbimages/pink.png",
                 "width": 24,
                 "xoffset": 0,
                 "yoffset": 12
                },
                "type": "simple"
               }
              },
              "fields": [
               {
                "alias": "OBJECTID",
                "name": "OBJECTID",
                "sqlType": "sqlTypeOther",
                "type": "esriFieldTypeOID"
               }
              ],
              "geometryType": "esriGeometryPoint",
              "name": "Notebook sketch layer",
              "objectIdField": "OBJECTID",
              "spatialReference": {
               "wkid": 4326
              },
              "type": "Feature Layer"
             },
             "popupInfo": {
              "description": null,
              "fieldInfos": [
               {
                "fieldName": "OBJECTID",
                "isEditable": true,
                "label": "OBJECTID",
                "visible": true
               }
              ],
              "mediaInfos": [],
              "showAttachments": true,
              "title": "Notebook sketch layer"
             }
            }
           ]
          },
          "id": "74016128-8216-4962-b1de-cddbf65921ff",
          "layerDefinition": {
           "definitionExpression": null
          },
          "layerType": "ArcGISFeatureLayer",
          "opacity": 1,
          "title": "Notebook sketch layer",
          "visibility": true
         },
         {
          "featureCollection": {
           "layers": [
            {
             "featureSet": {
              "features": [
               {
                "attributes": {
                 "OBJECTID": 1
                },
                "geometry": {
                 "spatialReference": {
                  "wkid": 4326
                 },
                 "type": "point",
                 "x": -76.94040899999999,
                 "y": 38.99790800000005
                }
               }
              ],
              "geometryType": "esriGeometryPoint"
             },
             "layerDefinition": {
              "drawingInfo": {
               "renderer": {
                "symbol": {
                 "angle": 0,
                 "contentType": "image/png",
                 "height": 24,
                 "type": "esriPMS",
                 "url": "https://esri.github.io/arcgis-python-api/notebooks/nbimages/pink.png",
                 "width": 24,
                 "xoffset": 0,
                 "yoffset": 12
                },
                "type": "simple"
               }
              },
              "fields": [
               {
                "alias": "OBJECTID",
                "name": "OBJECTID",
                "sqlType": "sqlTypeOther",
                "type": "esriFieldTypeOID"
               }
              ],
              "geometryType": "esriGeometryPoint",
              "name": "Notebook sketch layer",
              "objectIdField": "OBJECTID",
              "spatialReference": {
               "wkid": 4326
              },
              "type": "Feature Layer"
             },
             "popupInfo": {
              "description": null,
              "fieldInfos": [
               {
                "fieldName": "OBJECTID",
                "isEditable": true,
                "label": "OBJECTID",
                "visible": true
               }
              ],
              "mediaInfos": [],
              "showAttachments": true,
              "title": "Notebook sketch layer"
             }
            }
           ]
          },
          "id": "d5e78541-c836-48bf-8a43-e0d41204c814",
          "layerDefinition": {
           "definitionExpression": null
          },
          "layerType": "ArcGISFeatureLayer",
          "opacity": 1,
          "title": "Notebook sketch layer",
          "visibility": true
         },
         {
          "featureCollection": {
           "layers": [
            {
             "featureSet": {
              "features": [
               {
                "attributes": {
                 "OBJECTID": 1
                },
                "geometry": {
                 "spatialReference": {
                  "wkid": 4326
                 },
                 "type": "point",
                 "x": -76.93746199999998,
                 "y": 38.99535700000007
                }
               }
              ],
              "geometryType": "esriGeometryPoint"
             },
             "layerDefinition": {
              "drawingInfo": {
               "renderer": {
                "symbol": {
                 "angle": 0,
                 "contentType": "image/png",
                 "height": 24,
                 "type": "esriPMS",
                 "url": "https://esri.github.io/arcgis-python-api/notebooks/nbimages/pink.png",
                 "width": 24,
                 "xoffset": 0,
                 "yoffset": 12
                },
                "type": "simple"
               }
              },
              "fields": [
               {
                "alias": "OBJECTID",
                "name": "OBJECTID",
                "sqlType": "sqlTypeOther",
                "type": "esriFieldTypeOID"
               }
              ],
              "geometryType": "esriGeometryPoint",
              "name": "Notebook sketch layer",
              "objectIdField": "OBJECTID",
              "spatialReference": {
               "wkid": 4326
              },
              "type": "Feature Layer"
             },
             "popupInfo": {
              "description": null,
              "fieldInfos": [
               {
                "fieldName": "OBJECTID",
                "isEditable": true,
                "label": "OBJECTID",
                "visible": true
               }
              ],
              "mediaInfos": [],
              "showAttachments": true,
              "title": "Notebook sketch layer"
             }
            }
           ]
          },
          "id": "c2a1337a-dbe9-4943-9847-4d5c6bc01bb9",
          "layerDefinition": {
           "definitionExpression": null
          },
          "layerType": "ArcGISFeatureLayer",
          "opacity": 1,
          "title": "Notebook sketch layer",
          "visibility": true
         },
         {
          "featureCollection": {
           "layers": [
            {
             "featureSet": {
              "features": [
               {
                "attributes": {
                 "OBJECTID": 1
                },
                "geometry": {
                 "spatialReference": {
                  "wkid": 4326
                 },
                 "type": "point",
                 "x": -76.93747899999994,
                 "y": 38.99362800000006
                }
               }
              ],
              "geometryType": "esriGeometryPoint"
             },
             "layerDefinition": {
              "drawingInfo": {
               "renderer": {
                "symbol": {
                 "angle": 0,
                 "contentType": "image/png",
                 "height": 24,
                 "type": "esriPMS",
                 "url": "https://esri.github.io/arcgis-python-api/notebooks/nbimages/pink.png",
                 "width": 24,
                 "xoffset": 0,
                 "yoffset": 12
                },
                "type": "simple"
               }
              },
              "fields": [
               {
                "alias": "OBJECTID",
                "name": "OBJECTID",
                "sqlType": "sqlTypeOther",
                "type": "esriFieldTypeOID"
               }
              ],
              "geometryType": "esriGeometryPoint",
              "name": "Notebook sketch layer",
              "objectIdField": "OBJECTID",
              "spatialReference": {
               "wkid": 4326
              },
              "type": "Feature Layer"
             },
             "popupInfo": {
              "description": null,
              "fieldInfos": [
               {
                "fieldName": "OBJECTID",
                "isEditable": true,
                "label": "OBJECTID",
                "visible": true
               }
              ],
              "mediaInfos": [],
              "showAttachments": true,
              "title": "Notebook sketch layer"
             }
            }
           ]
          },
          "id": "596566d1-77d8-4aeb-a37d-01da42f7af3c",
          "layerDefinition": {
           "definitionExpression": null
          },
          "layerType": "ArcGISFeatureLayer",
          "opacity": 1,
          "title": "Notebook sketch layer",
          "visibility": true
         },
         {
          "featureCollection": {
           "layers": [
            {
             "featureSet": {
              "features": [
               {
                "attributes": {
                 "OBJECTID": 1
                },
                "geometry": {
                 "spatialReference": {
                  "wkid": 4326
                 },
                 "type": "point",
                 "x": -76.93993199999994,
                 "y": 38.993483000000026
                }
               }
              ],
              "geometryType": "esriGeometryPoint"
             },
             "layerDefinition": {
              "drawingInfo": {
               "renderer": {
                "symbol": {
                 "angle": 0,
                 "contentType": "image/png",
                 "height": 24,
                 "type": "esriPMS",
                 "url": "https://esri.github.io/arcgis-python-api/notebooks/nbimages/pink.png",
                 "width": 24,
                 "xoffset": 0,
                 "yoffset": 12
                },
                "type": "simple"
               }
              },
              "fields": [
               {
                "alias": "OBJECTID",
                "name": "OBJECTID",
                "sqlType": "sqlTypeOther",
                "type": "esriFieldTypeOID"
               }
              ],
              "geometryType": "esriGeometryPoint",
              "name": "Notebook sketch layer",
              "objectIdField": "OBJECTID",
              "spatialReference": {
               "wkid": 4326
              },
              "type": "Feature Layer"
             },
             "popupInfo": {
              "description": null,
              "fieldInfos": [
               {
                "fieldName": "OBJECTID",
                "isEditable": true,
                "label": "OBJECTID",
                "visible": true
               }
              ],
              "mediaInfos": [],
              "showAttachments": true,
              "title": "Notebook sketch layer"
             }
            }
           ]
          },
          "id": "66da686a-49b5-4a51-b9a0-33af2f12388c",
          "layerDefinition": {
           "definitionExpression": null
          },
          "layerType": "ArcGISFeatureLayer",
          "opacity": 1,
          "title": "Notebook sketch layer",
          "visibility": true
         },
         {
          "featureCollection": {
           "layers": [
            {
             "featureSet": {
              "features": [
               {
                "attributes": {
                 "OBJECTID": 1
                },
                "geometry": {
                 "spatialReference": {
                  "wkid": 4326
                 },
                 "type": "point",
                 "x": -76.94064699999996,
                 "y": 38.99127400000003
                }
               }
              ],
              "geometryType": "esriGeometryPoint"
             },
             "layerDefinition": {
              "drawingInfo": {
               "renderer": {
                "symbol": {
                 "angle": 0,
                 "contentType": "image/png",
                 "height": 24,
                 "type": "esriPMS",
                 "url": "https://esri.github.io/arcgis-python-api/notebooks/nbimages/pink.png",
                 "width": 24,
                 "xoffset": 0,
                 "yoffset": 12
                },
                "type": "simple"
               }
              },
              "fields": [
               {
                "alias": "OBJECTID",
                "name": "OBJECTID",
                "sqlType": "sqlTypeOther",
                "type": "esriFieldTypeOID"
               }
              ],
              "geometryType": "esriGeometryPoint",
              "name": "Notebook sketch layer",
              "objectIdField": "OBJECTID",
              "spatialReference": {
               "wkid": 4326
              },
              "type": "Feature Layer"
             },
             "popupInfo": {
              "description": null,
              "fieldInfos": [
               {
                "fieldName": "OBJECTID",
                "isEditable": true,
                "label": "OBJECTID",
                "visible": true
               }
              ],
              "mediaInfos": [],
              "showAttachments": true,
              "title": "Notebook sketch layer"
             }
            }
           ]
          },
          "id": "948a3a00-1c31-4636-84b9-8cf773ff4ac6",
          "layerDefinition": {
           "definitionExpression": null
          },
          "layerType": "ArcGISFeatureLayer",
          "opacity": 1,
          "title": "Notebook sketch layer",
          "visibility": true
         },
         {
          "featureCollection": {
           "layers": [
            {
             "featureSet": {
              "features": [
               {
                "attributes": {
                 "OBJECTID": 1
                },
                "geometry": {
                 "spatialReference": {
                  "wkid": 4326
                 },
                 "type": "point",
                 "x": -76.94077199999998,
                 "y": 38.98952200000008
                }
               }
              ],
              "geometryType": "esriGeometryPoint"
             },
             "layerDefinition": {
              "drawingInfo": {
               "renderer": {
                "symbol": {
                 "angle": 0,
                 "contentType": "image/png",
                 "height": 24,
                 "type": "esriPMS",
                 "url": "https://esri.github.io/arcgis-python-api/notebooks/nbimages/pink.png",
                 "width": 24,
                 "xoffset": 0,
                 "yoffset": 12
                },
                "type": "simple"
               }
              },
              "fields": [
               {
                "alias": "OBJECTID",
                "name": "OBJECTID",
                "sqlType": "sqlTypeOther",
                "type": "esriFieldTypeOID"
               }
              ],
              "geometryType": "esriGeometryPoint",
              "name": "Notebook sketch layer",
              "objectIdField": "OBJECTID",
              "spatialReference": {
               "wkid": 4326
              },
              "type": "Feature Layer"
             },
             "popupInfo": {
              "description": null,
              "fieldInfos": [
               {
                "fieldName": "OBJECTID",
                "isEditable": true,
                "label": "OBJECTID",
                "visible": true
               }
              ],
              "mediaInfos": [],
              "showAttachments": true,
              "title": "Notebook sketch layer"
             }
            }
           ]
          },
          "id": "d3740726-ce38-49c1-8ed8-a1e3c84c9cce",
          "layerDefinition": {
           "definitionExpression": null
          },
          "layerType": "ArcGISFeatureLayer",
          "opacity": 1,
          "title": "Notebook sketch layer",
          "visibility": true
         },
         {
          "featureCollection": {
           "layers": [
            {
             "featureSet": {
              "features": [
               {
                "attributes": {
                 "OBJECTID": 1
                },
                "geometry": {
                 "spatialReference": {
                  "wkid": 4326
                 },
                 "type": "point",
                 "x": -76.94394499999999,
                 "y": 38.987610000000075
                }
               }
              ],
              "geometryType": "esriGeometryPoint"
             },
             "layerDefinition": {
              "drawingInfo": {
               "renderer": {
                "symbol": {
                 "angle": 0,
                 "contentType": "image/png",
                 "height": 24,
                 "type": "esriPMS",
                 "url": "https://esri.github.io/arcgis-python-api/notebooks/nbimages/pink.png",
                 "width": 24,
                 "xoffset": 0,
                 "yoffset": 12
                },
                "type": "simple"
               }
              },
              "fields": [
               {
                "alias": "OBJECTID",
                "name": "OBJECTID",
                "sqlType": "sqlTypeOther",
                "type": "esriFieldTypeOID"
               }
              ],
              "geometryType": "esriGeometryPoint",
              "name": "Notebook sketch layer",
              "objectIdField": "OBJECTID",
              "spatialReference": {
               "wkid": 4326
              },
              "type": "Feature Layer"
             },
             "popupInfo": {
              "description": null,
              "fieldInfos": [
               {
                "fieldName": "OBJECTID",
                "isEditable": true,
                "label": "OBJECTID",
                "visible": true
               }
              ],
              "mediaInfos": [],
              "showAttachments": true,
              "title": "Notebook sketch layer"
             }
            }
           ]
          },
          "id": "893b0f7c-fa27-4e25-9e35-870dbf85f4d8",
          "layerDefinition": {
           "definitionExpression": null
          },
          "layerType": "ArcGISFeatureLayer",
          "opacity": 1,
          "title": "Notebook sketch layer",
          "visibility": true
         },
         {
          "featureCollection": {
           "layers": [
            {
             "featureSet": {
              "features": [
               {
                "attributes": {
                 "OBJECTID": 1
                },
                "geometry": {
                 "paths": [
                  [
                   [
                    -76.94388199999997,
                    38.98753000000005
                   ],
                   [
                    -76.94421999999997,
                    38.98753000000005
                   ],
                   [
                    -76.94437999999997,
                    38.98753000000005
                   ],
                   [
                    -76.94537999999994,
                    38.98742000000004
                   ],
                   [
                    -76.94541999999996,
                    38.987520000000075
                   ],
                   [
                    -76.94541999999996,
                    38.98767000000004
                   ],
                   [
                    -76.94539999999995,
                    38.988000000000056
                   ],
                   [
                    -76.94539555799997,
                    38.98806958900008
                   ]
                  ],
                  [
                   [
                    -76.94539555799997,
                    38.98806958900008
                   ],
                   [
                    -76.94530829999997,
                    38.98869510000003
                   ]
                  ],
                  [
                   [
                    -76.94530829999997,
                    38.98869510000003
                   ],
                   [
                    -76.94526999999994,
                    38.98881000000006
                   ],
                   [
                    -76.94498999999996,
                    38.988770000000045
                   ],
                   [
                    -76.94455999999997,
                    38.988620000000026
                   ],
                   [
                    -76.94432999999998,
                    38.98869000000008
                   ],
                   [
                    -76.94408999999996,
                    38.98879000000005
                   ],
                   [
                    -76.94383999999997,
                    38.98900000000003
                   ],
                   [
                    -76.94381999999996,
                    38.98907000000003
                   ],
                   [
                    -76.94379999999995,
                    38.98915000000005
                   ],
                   [
                    -76.94371999999998,
                    38.98926000000006
                   ],
                   [
                    -76.94343999999995,
                    38.98943000000003
                   ],
                   [
                    -76.94228999999996,
                    38.98943000000003
                   ],
                   [
                    -76.94206999999994,
                    38.989310000000046
                   ],
                   [
                    -76.94206105399996,
                    38.98929479200007
                   ]
                  ],
                  [
                   [
                    -76.94206105399996,
                    38.98929479200007
                   ],
                   [
                    -76.94181999999995,
                    38.98909000000003
                   ],
                   [
                    -76.94069999999994,
                    38.98905000000008
                   ],
                   [
                    -76.94066999999995,
                    38.98866000000004
                   ],
                   [
                    -76.94066999999995,
                    38.988510000000076
                   ],
                   [
                    -76.94064999999995,
                    38.98828000000003
                   ],
                   [
                    -76.94062999999994,
                    38.98812000000004
                   ],
                   [
                    -76.94062999999994,
                    38.98794000000004
                   ],
                   [
                    -76.94048999999995,
                    38.987640000000056
                   ],
                   [
                    -76.94048999999995,
                    38.98759000000007
                   ],
                   [
                    -76.94045999999997,
                    38.987540000000024
                   ],
                   [
                    -76.94031999999999,
                    38.987430000000074
                   ],
                   [
                    -76.94013999999999,
                    38.98678000000007
                   ],
                   [
                    -76.94013999999999,
                    38.98669000000007
                   ],
                   [
                    -76.94013999999999,
                    38.98664900000006
                   ]
                  ],
                  [
                   [
                    -76.94013999999999,
                    38.98664900000006
                   ],
                   [
                    -76.94013999999999,
                    38.98654000000005
                   ],
                   [
                    -76.94013999999999,
                    38.98648000000003
                   ],
                   [
                    -76.94012999999995,
                    38.98562000000004
                   ],
                   [
                    -76.94010999999995,
                    38.98553000000004
                   ],
                   [
                    -76.94009999999997,
                    38.98526000000004
                   ],
                   [
                    -76.94010999999995,
                    38.98493000000008
                   ],
                   [
                    -76.94010976099997,
                    38.98492377800005
                   ]
                  ],
                  [
                   [
                    -76.94010976099997,
                    38.98492377800005
                   ],
                   [
                    -76.94009999999997,
                    38.98467000000005
                   ],
                   [
                    -76.94008999999994,
                    38.98461000000003
                   ],
                   [
                    -76.94012999999995,
                    38.98442000000006
                   ],
                   [
                    -76.94009999999997,
                    38.984200000000044
                   ],
                   [
                    -76.93998999999997,
                    38.98335000000003
                   ],
                   [
                    -76.93990999999994,
                    38.98305000000005
                   ],
                   [
                    -76.93980999999997,
                    38.98288000000008
                   ],
                   [
                    -76.93959999999998,
                    38.98267000000004
                   ],
                   [
                    -76.93913384699994,
                    38.98246867200004
                   ]
                  ],
                  [
                   [
                    -76.93913384699994,
                    38.98246867200004
                   ],
                   [
                    -76.93910999999997,
                    38.98246000000006
                   ],
                   [
                    -76.93885999999998,
                    38.982380000000035
                   ],
                   [
                    -76.93858999999998,
                    38.98232000000007
                   ],
                   [
                    -76.93798999999996,
                    38.98215000000005
                   ],
                   [
                    -76.93782999999996,
                    38.982120000000066
                   ],
                   [
                    -76.93782999999996,
                    38.98277000000007
                   ],
                   [
                    -76.93781999999999,
                    38.98284000000007
                   ],
                   [
                    -76.93777999999998,
                    38.98311000000007
                   ],
                   [
                    -76.93772999999999,
                    38.98348000000004
                   ],
                   [
                    -76.93765999999994,
                    38.98380000000003
                   ],
                   [
                    -76.93748999999997,
                    38.98442000000006
                   ],
                   [
                    -76.93725999999998,
                    38.98502000000008
                   ],
                   [
                    -76.93713648899995,
                    38.98529447000004
                   ]
                  ],
                  [
                   [
                    -76.93713648899995,
                    38.98529447000004
                   ],
                   [
                    -76.93707999999998,
                    38.98542000000003
                   ],
                   [
                    -76.93699999999995,
                    38.98557000000005
                   ],
                   [
                    -76.93665999999996,
                    38.98617000000007
                   ],
                   [
                    -76.93654999999995,
                    38.986330000000066
                   ],
                   [
                    -76.93632999999994,
                    38.98666000000003
                   ],
                   [
                    -76.93616999999995,
                    38.98689000000007
                   ],
                   [
                    -76.93583999999998,
                    38.98738000000003
                   ],
                   [
                    -76.93511999999998,
                    38.98846000000003
                   ],
                   [
                    -76.93509999999998,
                    38.98849000000007
                   ],
                   [
                    -76.93506999999994,
                    38.988680000000045
                   ],
                   [
                    -76.93503999999996,
                    38.98873000000003
                   ],
                   [
                    -76.93491999999998,
                    38.98893000000004
                   ],
                   [
                    -76.93475999999998,
                    38.98920000000004
                   ],
                   [
                    -76.93463999999994,
                    38.98938000000004
                   ],
                   [
                    -76.93452999999994,
                    38.989540000000034
                   ],
                   [
                    -76.93440999999996,
                    38.98975000000007
                   ],
                   [
                    -76.93433999999996,
                    38.98989000000006
                   ],
                   [
                    -76.93421999999998,
                    38.98985000000005
                   ],
                   [
                    -76.93380999999994,
                    38.989720000000034
                   ],
                   [
                    -76.93345999999997,
                    38.989630000000034
                   ],
                   [
                    -76.93335999999994,
                    38.98961000000003
                   ],
                   [
                    -76.93302999999997,
                    38.98956000000004
                   ],
                   [
                    -76.93287999999995,
                    38.989550000000065
                   ],
                   [
                    -76.93274999999994,
                    38.989540000000034
                   ],
                   [
                    -76.93263999999994,
                    38.98953000000006
                   ],
                   [
                    -76.93250999999998,
                    38.98951000000005
                   ],
                   [
                    -76.93230999999997,
                    38.989490000000046
                   ],
                   [
                    -76.93068999999997,
                    38.98925000000003
                   ],
                   [
                    -76.93049999999994,
                    38.98923000000008
                   ],
                   [
                    -76.93002999999999,
                    38.98917000000006
                   ],
                   [
                    -76.92934999999994,
                    38.98908000000006
                   ],
                   [
                    -76.92873999999995,
                    38.98900000000003
                   ],
                   [
                    -76.92859999999996,
                    38.98932000000008
                   ],
                   [
                    -76.92843999999997,
                    38.98977000000008
                   ],
                   [
                    -76.92973538899997,
                    38.99058493900003
                   ]
                  ],
                  [
                   [
                    -76.92973538899997,
                    38.99058493900003
                   ],
                   [
                    -76.92994999999996,
                    38.990710000000036
                   ],
                   [
                    -76.93024999999994,
                    38.990890000000036
                   ],
                   [
                    -76.93043999999998,
                    38.99100000000004
                   ],
                   [
                    -76.93114999999995,
                    38.991480000000024
                   ],
                   [
                    -76.93139999999994,
                    38.991660000000024
                   ],
                   [
                    -76.93175999999994,
                    38.99188000000004
                   ],
                   [
                    -76.93220999999994,
                    38.99215000000004
                   ],
                   [
                    -76.93257999999997,
                    38.99237000000005
                   ],
                   [
                    -76.93271999999996,
                    38.992450000000076
                   ],
                   [
                    -76.93313999999998,
                    38.992650000000026
                   ],
                   [
                    -76.93317999999994,
                    38.992560000000026
                   ],
                   [
                    -76.93335999999994,
                    38.99215000000004
                   ],
                   [
                    -76.93399999999997,
                    38.99230000000006
                   ],
                   [
                    -76.93403467899998,
                    38.99231040400008
                   ]
                  ],
                  [
                   [
                    -76.93403467899998,
                    38.99231040400008
                   ],
                   [
                    -76.93399999999997,
                    38.99230000000006
                   ],
                   [
                    -76.93335999999994,
                    38.99215000000004
                   ],
                   [
                    -76.93340999999998,
                    38.99203000000006
                   ],
                   [
                    -76.93349999999998,
                    38.991840000000025
                   ],
                   [
                    -76.93358999999998,
                    38.991660000000024
                   ],
                   [
                    -76.93365999999997,
                    38.99150000000003
                   ],
                   [
                    -76.93372999999997,
                    38.99130000000008
                   ],
                   [
                    -76.93379999999996,
                    38.99114000000003
                   ],
                   [
                    -76.93391999999994,
                    38.99088000000006
                   ],
                   [
                    -76.93397999999996,
                    38.99073000000004
                   ],
                   [
                    -76.93401999999998,
                    38.99064000000004
                   ],
                   [
                    -76.93409310499999,
                    38.990475513000035
                   ]
                  ],
                  [
                   [
                    -76.93409310499999,
                    38.990475513000035
                   ],
                   [
                    -76.93414999999999,
                    38.99034000000006
                   ],
                   [
                    -76.93440999999996,
                    38.98975000000007
                   ],
                   [
                    -76.93452999999994,
                    38.989540000000034
                   ],
                   [
                    -76.93463999999994,
                    38.98938000000004
                   ],
                   [
                    -76.93475999999998,
                    38.98920000000004
                   ],
                   [
                    -76.93491999999998,
                    38.98893000000004
                   ],
                   [
                    -76.93503999999996,
                    38.98873000000003
                   ],
                   [
                    -76.93506999999994,
                    38.988680000000045
                   ],
                   [
                    -76.93564999999995,
                    38.988740000000064
                   ],
                   [
                    -76.93606999999997,
                    38.98873000000003
                   ],
                   [
                    -76.93665999999996,
                    38.988530000000026
                   ],
                   [
                    -76.93753999999996,
                    38.98829000000006
                   ],
                   [
                    -76.93853999999999,
                    38.98795000000007
                   ],
                   [
                    -76.93874999999997,
                    38.987880000000075
                   ],
                   [
                    -76.93904999999995,
                    38.987790000000075
                   ],
                   [
                    -76.93941999999998,
                    38.987700000000075
                   ],
                   [
                    -76.93952399999995,
                    38.987700000000075
                   ]
                  ],
                  [
                   [
                    -76.93952399999995,
                    38.987700000000075
                   ],
                   [
                    -76.93972999999994,
                    38.987720000000024
                   ],
                   [
                    -76.93988999999993,
                    38.987730000000056
                   ],
                   [
                    -76.94024999999993,
                    38.987810000000025
                   ],
                   [
                    -76.94048999999995,
                    38.987640000000056
                   ],
                   [
                    -76.94048999999995,
                    38.98759000000007
                   ],
                   [
                    -76.94107999999994,
                    38.98757000000006
                   ],
                   [
                    -76.94121999999999,
                    38.98756000000003
                   ],
                   [
                    -76.94145999999995,
                    38.987550000000056
                   ],
                   [
                    -76.94170999999994,
                    38.987540000000024
                   ],
                   [
                    -76.94216999999998,
                    38.987540000000024
                   ],
                   [
                    -76.94260999999995,
                    38.987540000000024
                   ],
                   [
                    -76.94319999999993,
                    38.98753000000005
                   ],
                   [
                    -76.94343999999995,
                    38.98753000000005
                   ],
                   [
                    -76.94388199999997,
                    38.98753000000005
                   ]
                  ]
                 ],
                 "spatialReference": {
                  "wkid": 4326
                 },
                 "type": "polyline"
                }
               }
              ],
              "geometryType": "esriGeometryPolyline"
             },
             "layerDefinition": {
              "drawingInfo": {
               "renderer": {
                "symbol": {
                 "color": [
                  0,
                  191,
                  255,
                  90
                 ],
                 "style": "esriSLSSolid",
                 "type": "esriSLS",
                 "width": 4
                },
                "type": "simple"
               }
              },
              "fields": [
               {
                "alias": "OBJECTID",
                "name": "OBJECTID",
                "sqlType": "sqlTypeOther",
                "type": "esriFieldTypeOID"
               }
              ],
              "geometryType": "esriGeometryPolyline",
              "name": "Notebook sketch layer",
              "objectIdField": "OBJECTID",
              "spatialReference": {
               "wkid": 4326
              },
              "type": "Feature Layer"
             },
             "popupInfo": {
              "description": null,
              "fieldInfos": [
               {
                "fieldName": "OBJECTID",
                "isEditable": true,
                "label": "OBJECTID",
                "visible": true
               }
              ],
              "mediaInfos": [],
              "showAttachments": true,
              "title": "Notebook sketch layer"
             }
            }
           ]
          },
          "id": "994a02ef-2307-4ea9-89b6-5ae888708c04",
          "layerDefinition": {
           "definitionExpression": null
          },
          "layerType": "ArcGISFeatureLayer",
          "opacity": 1,
          "title": "Notebook sketch layer",
          "visibility": true
         },
         {
          "featureCollection": {
           "layers": [
            {
             "featureSet": {
              "features": [
               {
                "attributes": {
                 "OBJECTID": 1
                },
                "geometry": {
                 "spatialReference": {
                  "wkid": 4326
                 },
                 "type": "point",
                 "x": -76.94388199999997,
                 "y": 38.98743100000007
                }
               }
              ],
              "geometryType": "esriGeometryPoint"
             },
             "layerDefinition": {
              "drawingInfo": {
               "renderer": {
                "symbol": {
                 "angle": 0,
                 "contentType": "image/png",
                 "height": 24,
                 "type": "esriPMS",
                 "url": "https://esri.github.io/arcgis-python-api/notebooks/nbimages/pink.png",
                 "width": 24,
                 "xoffset": 0,
                 "yoffset": 12
                },
                "type": "simple"
               }
              },
              "fields": [
               {
                "alias": "OBJECTID",
                "name": "OBJECTID",
                "sqlType": "sqlTypeOther",
                "type": "esriFieldTypeOID"
               }
              ],
              "geometryType": "esriGeometryPoint",
              "name": "Notebook sketch layer",
              "objectIdField": "OBJECTID",
              "spatialReference": {
               "wkid": 4326
              },
              "type": "Feature Layer"
             },
             "popupInfo": {
              "description": null,
              "fieldInfos": [
               {
                "fieldName": "OBJECTID",
                "isEditable": true,
                "label": "OBJECTID",
                "visible": true
               }
              ],
              "mediaInfos": [],
              "showAttachments": true,
              "title": "Notebook sketch layer"
             }
            }
           ]
          },
          "id": "477e023b-9bc7-4d91-a33f-4375cd0c550e",
          "layerDefinition": {
           "definitionExpression": null
          },
          "layerType": "ArcGISFeatureLayer",
          "opacity": 1,
          "title": "Notebook sketch layer",
          "visibility": true
         },
         {
          "featureCollection": {
           "layers": [
            {
             "featureSet": {
              "features": [
               {
                "attributes": {
                 "OBJECTID": 1
                },
                "geometry": {
                 "spatialReference": {
                  "wkid": 4326
                 },
                 "type": "point",
                 "x": -76.94535499999995,
                 "y": 38.98806700000006
                }
               }
              ],
              "geometryType": "esriGeometryPoint"
             },
             "layerDefinition": {
              "drawingInfo": {
               "renderer": {
                "symbol": {
                 "angle": 0,
                 "contentType": "image/png",
                 "height": 24,
                 "type": "esriPMS",
                 "url": "https://esri.github.io/arcgis-python-api/notebooks/nbimages/pink.png",
                 "width": 24,
                 "xoffset": 0,
                 "yoffset": 12
                },
                "type": "simple"
               }
              },
              "fields": [
               {
                "alias": "OBJECTID",
                "name": "OBJECTID",
                "sqlType": "sqlTypeOther",
                "type": "esriFieldTypeOID"
               }
              ],
              "geometryType": "esriGeometryPoint",
              "name": "Notebook sketch layer",
              "objectIdField": "OBJECTID",
              "spatialReference": {
               "wkid": 4326
              },
              "type": "Feature Layer"
             },
             "popupInfo": {
              "description": null,
              "fieldInfos": [
               {
                "fieldName": "OBJECTID",
                "isEditable": true,
                "label": "OBJECTID",
                "visible": true
               }
              ],
              "mediaInfos": [],
              "showAttachments": true,
              "title": "Notebook sketch layer"
             }
            }
           ]
          },
          "id": "e01e25c2-102c-4f3a-8945-1160e1eaa217",
          "layerDefinition": {
           "definitionExpression": null
          },
          "layerType": "ArcGISFeatureLayer",
          "opacity": 1,
          "title": "Notebook sketch layer",
          "visibility": true
         },
         {
          "featureCollection": {
           "layers": [
            {
             "featureSet": {
              "features": [
               {
                "attributes": {
                 "OBJECTID": 1
                },
                "geometry": {
                 "spatialReference": {
                  "wkid": 4326
                 },
                 "type": "point",
                 "x": -76.94529299999994,
                 "y": 38.98869000000008
                }
               }
              ],
              "geometryType": "esriGeometryPoint"
             },
             "layerDefinition": {
              "drawingInfo": {
               "renderer": {
                "symbol": {
                 "angle": 0,
                 "contentType": "image/png",
                 "height": 24,
                 "type": "esriPMS",
                 "url": "https://esri.github.io/arcgis-python-api/notebooks/nbimages/pink.png",
                 "width": 24,
                 "xoffset": 0,
                 "yoffset": 12
                },
                "type": "simple"
               }
              },
              "fields": [
               {
                "alias": "OBJECTID",
                "name": "OBJECTID",
                "sqlType": "sqlTypeOther",
                "type": "esriFieldTypeOID"
               }
              ],
              "geometryType": "esriGeometryPoint",
              "name": "Notebook sketch layer",
              "objectIdField": "OBJECTID",
              "spatialReference": {
               "wkid": 4326
              },
              "type": "Feature Layer"
             },
             "popupInfo": {
              "description": null,
              "fieldInfos": [
               {
                "fieldName": "OBJECTID",
                "isEditable": true,
                "label": "OBJECTID",
                "visible": true
               }
              ],
              "mediaInfos": [],
              "showAttachments": true,
              "title": "Notebook sketch layer"
             }
            }
           ]
          },
          "id": "8a48d434-44ae-4025-a6d4-9c20963cfb91",
          "layerDefinition": {
           "definitionExpression": null
          },
          "layerType": "ArcGISFeatureLayer",
          "opacity": 1,
          "title": "Notebook sketch layer",
          "visibility": true
         },
         {
          "featureCollection": {
           "layers": [
            {
             "featureSet": {
              "features": [
               {
                "attributes": {
                 "OBJECTID": 1
                },
                "geometry": {
                 "spatialReference": {
                  "wkid": 4326
                 },
                 "type": "point",
                 "x": -76.94212699999997,
                 "y": 38.98925600000007
                }
               }
              ],
              "geometryType": "esriGeometryPoint"
             },
             "layerDefinition": {
              "drawingInfo": {
               "renderer": {
                "symbol": {
                 "angle": 0,
                 "contentType": "image/png",
                 "height": 24,
                 "type": "esriPMS",
                 "url": "https://esri.github.io/arcgis-python-api/notebooks/nbimages/pink.png",
                 "width": 24,
                 "xoffset": 0,
                 "yoffset": 12
                },
                "type": "simple"
               }
              },
              "fields": [
               {
                "alias": "OBJECTID",
                "name": "OBJECTID",
                "sqlType": "sqlTypeOther",
                "type": "esriFieldTypeOID"
               }
              ],
              "geometryType": "esriGeometryPoint",
              "name": "Notebook sketch layer",
              "objectIdField": "OBJECTID",
              "spatialReference": {
               "wkid": 4326
              },
              "type": "Feature Layer"
             },
             "popupInfo": {
              "description": null,
              "fieldInfos": [
               {
                "fieldName": "OBJECTID",
                "isEditable": true,
                "label": "OBJECTID",
                "visible": true
               }
              ],
              "mediaInfos": [],
              "showAttachments": true,
              "title": "Notebook sketch layer"
             }
            }
           ]
          },
          "id": "4985b3f8-8573-4038-80ad-6ce8e03bae63",
          "layerDefinition": {
           "definitionExpression": null
          },
          "layerType": "ArcGISFeatureLayer",
          "opacity": 1,
          "title": "Notebook sketch layer",
          "visibility": true
         },
         {
          "featureCollection": {
           "layers": [
            {
             "featureSet": {
              "features": [
               {
                "attributes": {
                 "OBJECTID": 1
                },
                "geometry": {
                 "spatialReference": {
                  "wkid": 4326
                 },
                 "type": "point",
                 "x": -76.94023899999996,
                 "y": 38.98664900000006
                }
               }
              ],
              "geometryType": "esriGeometryPoint"
             },
             "layerDefinition": {
              "drawingInfo": {
               "renderer": {
                "symbol": {
                 "angle": 0,
                 "contentType": "image/png",
                 "height": 24,
                 "type": "esriPMS",
                 "url": "https://esri.github.io/arcgis-python-api/notebooks/nbimages/pink.png",
                 "width": 24,
                 "xoffset": 0,
                 "yoffset": 12
                },
                "type": "simple"
               }
              },
              "fields": [
               {
                "alias": "OBJECTID",
                "name": "OBJECTID",
                "sqlType": "sqlTypeOther",
                "type": "esriFieldTypeOID"
               }
              ],
              "geometryType": "esriGeometryPoint",
              "name": "Notebook sketch layer",
              "objectIdField": "OBJECTID",
              "spatialReference": {
               "wkid": 4326
              },
              "type": "Feature Layer"
             },
             "popupInfo": {
              "description": null,
              "fieldInfos": [
               {
                "fieldName": "OBJECTID",
                "isEditable": true,
                "label": "OBJECTID",
                "visible": true
               }
              ],
              "mediaInfos": [],
              "showAttachments": true,
              "title": "Notebook sketch layer"
             }
            }
           ]
          },
          "id": "f6fa3888-cc63-425c-86a5-6364d979ffd7",
          "layerDefinition": {
           "definitionExpression": null
          },
          "layerType": "ArcGISFeatureLayer",
          "opacity": 1,
          "title": "Notebook sketch layer",
          "visibility": true
         },
         {
          "featureCollection": {
           "layers": [
            {
             "featureSet": {
              "features": [
               {
                "attributes": {
                 "OBJECTID": 1
                },
                "geometry": {
                 "spatialReference": {
                  "wkid": 4326
                 },
                 "type": "point",
                 "x": -76.94015599999994,
                 "y": 38.98492200000004
                }
               }
              ],
              "geometryType": "esriGeometryPoint"
             },
             "layerDefinition": {
              "drawingInfo": {
               "renderer": {
                "symbol": {
                 "angle": 0,
                 "contentType": "image/png",
                 "height": 24,
                 "type": "esriPMS",
                 "url": "https://esri.github.io/arcgis-python-api/notebooks/nbimages/pink.png",
                 "width": 24,
                 "xoffset": 0,
                 "yoffset": 12
                },
                "type": "simple"
               }
              },
              "fields": [
               {
                "alias": "OBJECTID",
                "name": "OBJECTID",
                "sqlType": "sqlTypeOther",
                "type": "esriFieldTypeOID"
               }
              ],
              "geometryType": "esriGeometryPoint",
              "name": "Notebook sketch layer",
              "objectIdField": "OBJECTID",
              "spatialReference": {
               "wkid": 4326
              },
              "type": "Feature Layer"
             },
             "popupInfo": {
              "description": null,
              "fieldInfos": [
               {
                "fieldName": "OBJECTID",
                "isEditable": true,
                "label": "OBJECTID",
                "visible": true
               }
              ],
              "mediaInfos": [],
              "showAttachments": true,
              "title": "Notebook sketch layer"
             }
            }
           ]
          },
          "id": "6f769049-6d9d-486e-a5e5-5cca29fecd71",
          "layerDefinition": {
           "definitionExpression": null
          },
          "layerType": "ArcGISFeatureLayer",
          "opacity": 1,
          "title": "Notebook sketch layer",
          "visibility": true
         },
         {
          "featureCollection": {
           "layers": [
            {
             "featureSet": {
              "features": [
               {
                "attributes": {
                 "OBJECTID": 1
                },
                "geometry": {
                 "spatialReference": {
                  "wkid": 4326
                 },
                 "type": "point",
                 "x": -76.93914899999999,
                 "y": 38.98242700000003
                }
               }
              ],
              "geometryType": "esriGeometryPoint"
             },
             "layerDefinition": {
              "drawingInfo": {
               "renderer": {
                "symbol": {
                 "angle": 0,
                 "contentType": "image/png",
                 "height": 24,
                 "type": "esriPMS",
                 "url": "https://esri.github.io/arcgis-python-api/notebooks/nbimages/pink.png",
                 "width": 24,
                 "xoffset": 0,
                 "yoffset": 12
                },
                "type": "simple"
               }
              },
              "fields": [
               {
                "alias": "OBJECTID",
                "name": "OBJECTID",
                "sqlType": "sqlTypeOther",
                "type": "esriFieldTypeOID"
               }
              ],
              "geometryType": "esriGeometryPoint",
              "name": "Notebook sketch layer",
              "objectIdField": "OBJECTID",
              "spatialReference": {
               "wkid": 4326
              },
              "type": "Feature Layer"
             },
             "popupInfo": {
              "description": null,
              "fieldInfos": [
               {
                "fieldName": "OBJECTID",
                "isEditable": true,
                "label": "OBJECTID",
                "visible": true
               }
              ],
              "mediaInfos": [],
              "showAttachments": true,
              "title": "Notebook sketch layer"
             }
            }
           ]
          },
          "id": "1c22a1fe-327c-4443-a293-10a338ec31c6",
          "layerDefinition": {
           "definitionExpression": null
          },
          "layerType": "ArcGISFeatureLayer",
          "opacity": 1,
          "title": "Notebook sketch layer",
          "visibility": true
         },
         {
          "featureCollection": {
           "layers": [
            {
             "featureSet": {
              "features": [
               {
                "attributes": {
                 "OBJECTID": 1
                },
                "geometry": {
                 "spatialReference": {
                  "wkid": 4326
                 },
                 "type": "point",
                 "x": -76.93709099999995,
                 "y": 38.98527400000006
                }
               }
              ],
              "geometryType": "esriGeometryPoint"
             },
             "layerDefinition": {
              "drawingInfo": {
               "renderer": {
                "symbol": {
                 "angle": 0,
                 "contentType": "image/png",
                 "height": 24,
                 "type": "esriPMS",
                 "url": "https://esri.github.io/arcgis-python-api/notebooks/nbimages/pink.png",
                 "width": 24,
                 "xoffset": 0,
                 "yoffset": 12
                },
                "type": "simple"
               }
              },
              "fields": [
               {
                "alias": "OBJECTID",
                "name": "OBJECTID",
                "sqlType": "sqlTypeOther",
                "type": "esriFieldTypeOID"
               }
              ],
              "geometryType": "esriGeometryPoint",
              "name": "Notebook sketch layer",
              "objectIdField": "OBJECTID",
              "spatialReference": {
               "wkid": 4326
              },
              "type": "Feature Layer"
             },
             "popupInfo": {
              "description": null,
              "fieldInfos": [
               {
                "fieldName": "OBJECTID",
                "isEditable": true,
                "label": "OBJECTID",
                "visible": true
               }
              ],
              "mediaInfos": [],
              "showAttachments": true,
              "title": "Notebook sketch layer"
             }
            }
           ]
          },
          "id": "855e810c-002c-4a25-8f4e-64c2f33ed1e0",
          "layerDefinition": {
           "definitionExpression": null
          },
          "layerType": "ArcGISFeatureLayer",
          "opacity": 1,
          "title": "Notebook sketch layer",
          "visibility": true
         },
         {
          "featureCollection": {
           "layers": [
            {
             "featureSet": {
              "features": [
               {
                "attributes": {
                 "OBJECTID": 1
                },
                "geometry": {
                 "spatialReference": {
                  "wkid": 4326
                 },
                 "type": "point",
                 "x": -76.92971899999998,
                 "y": 38.990613100000076
                }
               }
              ],
              "geometryType": "esriGeometryPoint"
             },
             "layerDefinition": {
              "drawingInfo": {
               "renderer": {
                "symbol": {
                 "angle": 0,
                 "contentType": "image/png",
                 "height": 24,
                 "type": "esriPMS",
                 "url": "https://esri.github.io/arcgis-python-api/notebooks/nbimages/pink.png",
                 "width": 24,
                 "xoffset": 0,
                 "yoffset": 12
                },
                "type": "simple"
               }
              },
              "fields": [
               {
                "alias": "OBJECTID",
                "name": "OBJECTID",
                "sqlType": "sqlTypeOther",
                "type": "esriFieldTypeOID"
               }
              ],
              "geometryType": "esriGeometryPoint",
              "name": "Notebook sketch layer",
              "objectIdField": "OBJECTID",
              "spatialReference": {
               "wkid": 4326
              },
              "type": "Feature Layer"
             },
             "popupInfo": {
              "description": null,
              "fieldInfos": [
               {
                "fieldName": "OBJECTID",
                "isEditable": true,
                "label": "OBJECTID",
                "visible": true
               }
              ],
              "mediaInfos": [],
              "showAttachments": true,
              "title": "Notebook sketch layer"
             }
            }
           ]
          },
          "id": "301ac751-1dae-4f9a-b172-b253584113bf",
          "layerDefinition": {
           "definitionExpression": null
          },
          "layerType": "ArcGISFeatureLayer",
          "opacity": 1,
          "title": "Notebook sketch layer",
          "visibility": true
         },
         {
          "featureCollection": {
           "layers": [
            {
             "featureSet": {
              "features": [
               {
                "attributes": {
                 "OBJECTID": 1
                },
                "geometry": {
                 "spatialReference": {
                  "wkid": 4326
                 },
                 "type": "point",
                 "x": -76.93402249999997,
                 "y": 38.99235100000004
                }
               }
              ],
              "geometryType": "esriGeometryPoint"
             },
             "layerDefinition": {
              "drawingInfo": {
               "renderer": {
                "symbol": {
                 "angle": 0,
                 "contentType": "image/png",
                 "height": 24,
                 "type": "esriPMS",
                 "url": "https://esri.github.io/arcgis-python-api/notebooks/nbimages/pink.png",
                 "width": 24,
                 "xoffset": 0,
                 "yoffset": 12
                },
                "type": "simple"
               }
              },
              "fields": [
               {
                "alias": "OBJECTID",
                "name": "OBJECTID",
                "sqlType": "sqlTypeOther",
                "type": "esriFieldTypeOID"
               }
              ],
              "geometryType": "esriGeometryPoint",
              "name": "Notebook sketch layer",
              "objectIdField": "OBJECTID",
              "spatialReference": {
               "wkid": 4326
              },
              "type": "Feature Layer"
             },
             "popupInfo": {
              "description": null,
              "fieldInfos": [
               {
                "fieldName": "OBJECTID",
                "isEditable": true,
                "label": "OBJECTID",
                "visible": true
               }
              ],
              "mediaInfos": [],
              "showAttachments": true,
              "title": "Notebook sketch layer"
             }
            }
           ]
          },
          "id": "b3b88933-f65a-4052-b982-315f69437c4b",
          "layerDefinition": {
           "definitionExpression": null
          },
          "layerType": "ArcGISFeatureLayer",
          "opacity": 1,
          "title": "Notebook sketch layer",
          "visibility": true
         },
         {
          "featureCollection": {
           "layers": [
            {
             "featureSet": {
              "features": [
               {
                "attributes": {
                 "OBJECTID": 1
                },
                "geometry": {
                 "spatialReference": {
                  "wkid": 4326
                 },
                 "type": "point",
                 "x": -76.93419409999996,
                 "y": 38.99052040000004
                }
               }
              ],
              "geometryType": "esriGeometryPoint"
             },
             "layerDefinition": {
              "drawingInfo": {
               "renderer": {
                "symbol": {
                 "angle": 0,
                 "contentType": "image/png",
                 "height": 24,
                 "type": "esriPMS",
                 "url": "https://esri.github.io/arcgis-python-api/notebooks/nbimages/pink.png",
                 "width": 24,
                 "xoffset": 0,
                 "yoffset": 12
                },
                "type": "simple"
               }
              },
              "fields": [
               {
                "alias": "OBJECTID",
                "name": "OBJECTID",
                "sqlType": "sqlTypeOther",
                "type": "esriFieldTypeOID"
               }
              ],
              "geometryType": "esriGeometryPoint",
              "name": "Notebook sketch layer",
              "objectIdField": "OBJECTID",
              "spatialReference": {
               "wkid": 4326
              },
              "type": "Feature Layer"
             },
             "popupInfo": {
              "description": null,
              "fieldInfos": [
               {
                "fieldName": "OBJECTID",
                "isEditable": true,
                "label": "OBJECTID",
                "visible": true
               }
              ],
              "mediaInfos": [],
              "showAttachments": true,
              "title": "Notebook sketch layer"
             }
            }
           ]
          },
          "id": "ebad63c8-dc83-4611-85b1-ba75355c7a31",
          "layerDefinition": {
           "definitionExpression": null
          },
          "layerType": "ArcGISFeatureLayer",
          "opacity": 1,
          "title": "Notebook sketch layer",
          "visibility": true
         },
         {
          "featureCollection": {
           "layers": [
            {
             "featureSet": {
              "features": [
               {
                "attributes": {
                 "OBJECTID": 1
                },
                "geometry": {
                 "spatialReference": {
                  "wkid": 4326
                 },
                 "type": "point",
                 "x": -76.93952399999995,
                 "y": 38.98773500000004
                }
               }
              ],
              "geometryType": "esriGeometryPoint"
             },
             "layerDefinition": {
              "drawingInfo": {
               "renderer": {
                "symbol": {
                 "angle": 0,
                 "contentType": "image/png",
                 "height": 24,
                 "type": "esriPMS",
                 "url": "https://esri.github.io/arcgis-python-api/notebooks/nbimages/pink.png",
                 "width": 24,
                 "xoffset": 0,
                 "yoffset": 12
                },
                "type": "simple"
               }
              },
              "fields": [
               {
                "alias": "OBJECTID",
                "name": "OBJECTID",
                "sqlType": "sqlTypeOther",
                "type": "esriFieldTypeOID"
               }
              ],
              "geometryType": "esriGeometryPoint",
              "name": "Notebook sketch layer",
              "objectIdField": "OBJECTID",
              "spatialReference": {
               "wkid": 4326
              },
              "type": "Feature Layer"
             },
             "popupInfo": {
              "description": null,
              "fieldInfos": [
               {
                "fieldName": "OBJECTID",
                "isEditable": true,
                "label": "OBJECTID",
                "visible": true
               }
              ],
              "mediaInfos": [],
              "showAttachments": true,
              "title": "Notebook sketch layer"
             }
            }
           ]
          },
          "id": "6ee1e926-2544-467c-8500-5d6e399abad7",
          "layerDefinition": {
           "definitionExpression": null
          },
          "layerType": "ArcGISFeatureLayer",
          "opacity": 1,
          "title": "Notebook sketch layer",
          "visibility": true
         },
         {
          "featureCollection": {
           "layers": [
            {
             "featureSet": {
              "features": [
               {
                "attributes": {
                 "OBJECTID": 1
                },
                "geometry": {
                 "spatialReference": {
                  "wkid": 4326
                 },
                 "type": "point",
                 "x": -76.94388199999997,
                 "y": 38.98743100000007
                }
               }
              ],
              "geometryType": "esriGeometryPoint"
             },
             "layerDefinition": {
              "drawingInfo": {
               "renderer": {
                "symbol": {
                 "angle": 0,
                 "contentType": "image/png",
                 "height": 24,
                 "type": "esriPMS",
                 "url": "https://esri.github.io/arcgis-python-api/notebooks/nbimages/pink.png",
                 "width": 24,
                 "xoffset": 0,
                 "yoffset": 12
                },
                "type": "simple"
               }
              },
              "fields": [
               {
                "alias": "OBJECTID",
                "name": "OBJECTID",
                "sqlType": "sqlTypeOther",
                "type": "esriFieldTypeOID"
               }
              ],
              "geometryType": "esriGeometryPoint",
              "name": "Notebook sketch layer",
              "objectIdField": "OBJECTID",
              "spatialReference": {
               "wkid": 4326
              },
              "type": "Feature Layer"
             },
             "popupInfo": {
              "description": null,
              "fieldInfos": [
               {
                "fieldName": "OBJECTID",
                "isEditable": true,
                "label": "OBJECTID",
                "visible": true
               }
              ],
              "mediaInfos": [],
              "showAttachments": true,
              "title": "Notebook sketch layer"
             }
            }
           ]
          },
          "id": "9808df8d-6609-4c4e-a861-d10633183525",
          "layerDefinition": {
           "definitionExpression": null
          },
          "layerType": "ArcGISFeatureLayer",
          "opacity": 1,
          "title": "Notebook sketch layer",
          "visibility": true
         },
         {
          "featureCollection": {
           "layers": [
            {
             "featureSet": {
              "features": [
               {
                "attributes": {
                 "OBJECTID": 1
                },
                "geometry": {
                 "paths": [
                  [
                   [
                    -76.94388199999997,
                    38.98753000000005
                   ],
                   [
                    -76.94421999999997,
                    38.98753000000005
                   ],
                   [
                    -76.94437999999997,
                    38.98753000000005
                   ],
                   [
                    -76.94537999999994,
                    38.98742000000004
                   ],
                   [
                    -76.94541999999996,
                    38.987520000000075
                   ],
                   [
                    -76.94541999999996,
                    38.98767000000004
                   ],
                   [
                    -76.94539999999995,
                    38.988000000000056
                   ],
                   [
                    -76.94539555799997,
                    38.98806958900008
                   ]
                  ],
                  [
                   [
                    -76.94539555799997,
                    38.98806958900008
                   ],
                   [
                    -76.94530829999997,
                    38.98869510000003
                   ]
                  ],
                  [
                   [
                    -76.94530829999997,
                    38.98869510000003
                   ],
                   [
                    -76.94526999999994,
                    38.98881000000006
                   ],
                   [
                    -76.94498999999996,
                    38.988770000000045
                   ],
                   [
                    -76.94455999999997,
                    38.988620000000026
                   ],
                   [
                    -76.94432999999998,
                    38.98869000000008
                   ],
                   [
                    -76.94408999999996,
                    38.98879000000005
                   ],
                   [
                    -76.94383999999997,
                    38.98900000000003
                   ],
                   [
                    -76.94381999999996,
                    38.98907000000003
                   ],
                   [
                    -76.94379999999995,
                    38.98915000000005
                   ],
                   [
                    -76.94371999999998,
                    38.98926000000006
                   ],
                   [
                    -76.94343999999995,
                    38.98943000000003
                   ],
                   [
                    -76.94228999999996,
                    38.98943000000003
                   ],
                   [
                    -76.94206999999994,
                    38.989310000000046
                   ],
                   [
                    -76.94206105399996,
                    38.98929479200007
                   ]
                  ],
                  [
                   [
                    -76.94206105399996,
                    38.98929479200007
                   ],
                   [
                    -76.94181999999995,
                    38.98909000000003
                   ],
                   [
                    -76.94069999999994,
                    38.98905000000008
                   ],
                   [
                    -76.94066999999995,
                    38.98866000000004
                   ],
                   [
                    -76.94066999999995,
                    38.988510000000076
                   ],
                   [
                    -76.94064999999995,
                    38.98828000000003
                   ],
                   [
                    -76.94062999999994,
                    38.98812000000004
                   ],
                   [
                    -76.94062999999994,
                    38.98794000000004
                   ],
                   [
                    -76.94048999999995,
                    38.987640000000056
                   ],
                   [
                    -76.94048999999995,
                    38.98759000000007
                   ],
                   [
                    -76.94045999999997,
                    38.987540000000024
                   ],
                   [
                    -76.94031999999999,
                    38.987430000000074
                   ],
                   [
                    -76.94013999999999,
                    38.98678000000007
                   ],
                   [
                    -76.94013999999999,
                    38.98669000000007
                   ],
                   [
                    -76.94013999999999,
                    38.98664900000006
                   ]
                  ],
                  [
                   [
                    -76.94013999999999,
                    38.98664900000006
                   ],
                   [
                    -76.94013999999999,
                    38.98654000000005
                   ],
                   [
                    -76.94013999999999,
                    38.98648000000003
                   ],
                   [
                    -76.94012999999995,
                    38.98562000000004
                   ],
                   [
                    -76.94010999999995,
                    38.98553000000004
                   ],
                   [
                    -76.94009999999997,
                    38.98526000000004
                   ],
                   [
                    -76.94010999999995,
                    38.98493000000008
                   ],
                   [
                    -76.94010976099997,
                    38.98492377800005
                   ]
                  ],
                  [
                   [
                    -76.94010976099997,
                    38.98492377800005
                   ],
                   [
                    -76.94009999999997,
                    38.98467000000005
                   ],
                   [
                    -76.94008999999994,
                    38.98461000000003
                   ],
                   [
                    -76.94012999999995,
                    38.98442000000006
                   ],
                   [
                    -76.94009999999997,
                    38.984200000000044
                   ],
                   [
                    -76.93998999999997,
                    38.98335000000003
                   ],
                   [
                    -76.93990999999994,
                    38.98305000000005
                   ],
                   [
                    -76.93980999999997,
                    38.98288000000008
                   ],
                   [
                    -76.93959999999998,
                    38.98267000000004
                   ],
                   [
                    -76.93913384699994,
                    38.98246867200004
                   ]
                  ],
                  [
                   [
                    -76.93913384699994,
                    38.98246867200004
                   ],
                   [
                    -76.93910999999997,
                    38.98246000000006
                   ],
                   [
                    -76.93885999999998,
                    38.982380000000035
                   ],
                   [
                    -76.93858999999998,
                    38.98232000000007
                   ],
                   [
                    -76.93798999999996,
                    38.98215000000005
                   ],
                   [
                    -76.93782999999996,
                    38.982120000000066
                   ],
                   [
                    -76.93782999999996,
                    38.98277000000007
                   ],
                   [
                    -76.93781999999999,
                    38.98284000000007
                   ],
                   [
                    -76.93777999999998,
                    38.98311000000007
                   ],
                   [
                    -76.93772999999999,
                    38.98348000000004
                   ],
                   [
                    -76.93765999999994,
                    38.98380000000003
                   ],
                   [
                    -76.93748999999997,
                    38.98442000000006
                   ],
                   [
                    -76.93725999999998,
                    38.98502000000008
                   ],
                   [
                    -76.93713648899995,
                    38.98529447000004
                   ]
                  ],
                  [
                   [
                    -76.93713648899995,
                    38.98529447000004
                   ],
                   [
                    -76.93707999999998,
                    38.98542000000003
                   ],
                   [
                    -76.93699999999995,
                    38.98557000000005
                   ],
                   [
                    -76.93665999999996,
                    38.98617000000007
                   ],
                   [
                    -76.93654999999995,
                    38.986330000000066
                   ],
                   [
                    -76.93632999999994,
                    38.98666000000003
                   ],
                   [
                    -76.93616999999995,
                    38.98689000000007
                   ],
                   [
                    -76.93583999999998,
                    38.98738000000003
                   ],
                   [
                    -76.93511999999998,
                    38.98846000000003
                   ],
                   [
                    -76.93509999999998,
                    38.98849000000007
                   ],
                   [
                    -76.93506999999994,
                    38.988680000000045
                   ],
                   [
                    -76.93503999999996,
                    38.98873000000003
                   ],
                   [
                    -76.93491999999998,
                    38.98893000000004
                   ],
                   [
                    -76.93475999999998,
                    38.98920000000004
                   ],
                   [
                    -76.93463999999994,
                    38.98938000000004
                   ],
                   [
                    -76.93452999999994,
                    38.989540000000034
                   ],
                   [
                    -76.93440999999996,
                    38.98975000000007
                   ],
                   [
                    -76.93433999999996,
                    38.98989000000006
                   ],
                   [
                    -76.93421999999998,
                    38.98985000000005
                   ],
                   [
                    -76.93380999999994,
                    38.989720000000034
                   ],
                   [
                    -76.93345999999997,
                    38.989630000000034
                   ],
                   [
                    -76.93335999999994,
                    38.98961000000003
                   ],
                   [
                    -76.93302999999997,
                    38.98956000000004
                   ],
                   [
                    -76.93287999999995,
                    38.989550000000065
                   ],
                   [
                    -76.93274999999994,
                    38.989540000000034
                   ],
                   [
                    -76.93263999999994,
                    38.98953000000006
                   ],
                   [
                    -76.93250999999998,
                    38.98951000000005
                   ],
                   [
                    -76.93230999999997,
                    38.989490000000046
                   ],
                   [
                    -76.93068999999997,
                    38.98925000000003
                   ],
                   [
                    -76.93049999999994,
                    38.98923000000008
                   ],
                   [
                    -76.93002999999999,
                    38.98917000000006
                   ],
                   [
                    -76.92934999999994,
                    38.98908000000006
                   ],
                   [
                    -76.92873999999995,
                    38.98900000000003
                   ],
                   [
                    -76.92859999999996,
                    38.98932000000008
                   ],
                   [
                    -76.92843999999997,
                    38.98977000000008
                   ],
                   [
                    -76.92973538899997,
                    38.99058493900003
                   ]
                  ],
                  [
                   [
                    -76.92973538899997,
                    38.99058493900003
                   ],
                   [
                    -76.92994999999996,
                    38.990710000000036
                   ],
                   [
                    -76.93024999999994,
                    38.990890000000036
                   ],
                   [
                    -76.93043999999998,
                    38.99100000000004
                   ],
                   [
                    -76.93114999999995,
                    38.991480000000024
                   ],
                   [
                    -76.93139999999994,
                    38.991660000000024
                   ],
                   [
                    -76.93175999999994,
                    38.99188000000004
                   ],
                   [
                    -76.93220999999994,
                    38.99215000000004
                   ],
                   [
                    -76.93257999999997,
                    38.99237000000005
                   ],
                   [
                    -76.93271999999996,
                    38.992450000000076
                   ],
                   [
                    -76.93313999999998,
                    38.992650000000026
                   ],
                   [
                    -76.93317999999994,
                    38.992560000000026
                   ],
                   [
                    -76.93335999999994,
                    38.99215000000004
                   ],
                   [
                    -76.93399999999997,
                    38.99230000000006
                   ],
                   [
                    -76.93403467899998,
                    38.99231040400008
                   ]
                  ],
                  [
                   [
                    -76.93403467899998,
                    38.99231040400008
                   ],
                   [
                    -76.93399999999997,
                    38.99230000000006
                   ],
                   [
                    -76.93335999999994,
                    38.99215000000004
                   ],
                   [
                    -76.93340999999998,
                    38.99203000000006
                   ],
                   [
                    -76.93349999999998,
                    38.991840000000025
                   ],
                   [
                    -76.93358999999998,
                    38.991660000000024
                   ],
                   [
                    -76.93365999999997,
                    38.99150000000003
                   ],
                   [
                    -76.93372999999997,
                    38.99130000000008
                   ],
                   [
                    -76.93379999999996,
                    38.99114000000003
                   ],
                   [
                    -76.93391999999994,
                    38.99088000000006
                   ],
                   [
                    -76.93397999999996,
                    38.99073000000004
                   ],
                   [
                    -76.93401999999998,
                    38.99064000000004
                   ],
                   [
                    -76.93409310499999,
                    38.990475513000035
                   ]
                  ],
                  [
                   [
                    -76.93409310499999,
                    38.990475513000035
                   ],
                   [
                    -76.93414999999999,
                    38.99034000000006
                   ],
                   [
                    -76.93440999999996,
                    38.98975000000007
                   ],
                   [
                    -76.93452999999994,
                    38.989540000000034
                   ],
                   [
                    -76.93463999999994,
                    38.98938000000004
                   ],
                   [
                    -76.93475999999998,
                    38.98920000000004
                   ],
                   [
                    -76.93491999999998,
                    38.98893000000004
                   ],
                   [
                    -76.93503999999996,
                    38.98873000000003
                   ],
                   [
                    -76.93506999999994,
                    38.988680000000045
                   ],
                   [
                    -76.93564999999995,
                    38.988740000000064
                   ],
                   [
                    -76.93606999999997,
                    38.98873000000003
                   ],
                   [
                    -76.93665999999996,
                    38.988530000000026
                   ],
                   [
                    -76.93753999999996,
                    38.98829000000006
                   ],
                   [
                    -76.93853999999999,
                    38.98795000000007
                   ],
                   [
                    -76.93874999999997,
                    38.987880000000075
                   ],
                   [
                    -76.93904999999995,
                    38.987790000000075
                   ],
                   [
                    -76.93941999999998,
                    38.987700000000075
                   ],
                   [
                    -76.93952399999995,
                    38.987700000000075
                   ]
                  ],
                  [
                   [
                    -76.93952399999995,
                    38.987700000000075
                   ],
                   [
                    -76.93972999999994,
                    38.987720000000024
                   ],
                   [
                    -76.93988999999993,
                    38.987730000000056
                   ],
                   [
                    -76.94024999999993,
                    38.987810000000025
                   ],
                   [
                    -76.94048999999995,
                    38.987640000000056
                   ],
                   [
                    -76.94048999999995,
                    38.98759000000007
                   ],
                   [
                    -76.94107999999994,
                    38.98757000000006
                   ],
                   [
                    -76.94121999999999,
                    38.98756000000003
                   ],
                   [
                    -76.94145999999995,
                    38.987550000000056
                   ],
                   [
                    -76.94170999999994,
                    38.987540000000024
                   ],
                   [
                    -76.94216999999998,
                    38.987540000000024
                   ],
                   [
                    -76.94260999999995,
                    38.987540000000024
                   ],
                   [
                    -76.94319999999993,
                    38.98753000000005
                   ],
                   [
                    -76.94343999999995,
                    38.98753000000005
                   ],
                   [
                    -76.94388199999997,
                    38.98753000000005
                   ]
                  ]
                 ],
                 "spatialReference": {
                  "wkid": 4326
                 },
                 "type": "polyline"
                }
               }
              ],
              "geometryType": "esriGeometryPolyline"
             },
             "layerDefinition": {
              "drawingInfo": {
               "renderer": {
                "symbol": {
                 "color": [
                  0,
                  191,
                  255,
                  90
                 ],
                 "style": "esriSLSSolid",
                 "type": "esriSLS",
                 "width": 4
                },
                "type": "simple"
               }
              },
              "fields": [
               {
                "alias": "OBJECTID",
                "name": "OBJECTID",
                "sqlType": "sqlTypeOther",
                "type": "esriFieldTypeOID"
               }
              ],
              "geometryType": "esriGeometryPolyline",
              "name": "Notebook sketch layer",
              "objectIdField": "OBJECTID",
              "spatialReference": {
               "wkid": 4326
              },
              "type": "Feature Layer"
             },
             "popupInfo": {
              "description": null,
              "fieldInfos": [
               {
                "fieldName": "OBJECTID",
                "isEditable": true,
                "label": "OBJECTID",
                "visible": true
               }
              ],
              "mediaInfos": [],
              "showAttachments": true,
              "title": "Notebook sketch layer"
             }
            }
           ]
          },
          "id": "383fe5fe-ee63-4563-9584-f23d5c259eed",
          "layerDefinition": {
           "definitionExpression": null
          },
          "layerType": "ArcGISFeatureLayer",
          "opacity": 1,
          "title": "Notebook sketch layer",
          "visibility": true
         },
         {
          "featureCollection": {
           "layers": [
            {
             "featureSet": {
              "features": [
               {
                "attributes": {
                 "OBJECTID": 1
                },
                "geometry": {
                 "spatialReference": {
                  "wkid": 4326
                 },
                 "type": "point",
                 "x": -76.94388199999997,
                 "y": 38.98743100000007
                }
               }
              ],
              "geometryType": "esriGeometryPoint"
             },
             "layerDefinition": {
              "drawingInfo": {
               "renderer": {
                "symbol": {
                 "angle": 0,
                 "contentType": "image/png",
                 "height": 24,
                 "type": "esriPMS",
                 "url": "https://esri.github.io/arcgis-python-api/notebooks/nbimages/pink.png",
                 "width": 24,
                 "xoffset": 0,
                 "yoffset": 12
                },
                "type": "simple"
               }
              },
              "fields": [
               {
                "alias": "OBJECTID",
                "name": "OBJECTID",
                "sqlType": "sqlTypeOther",
                "type": "esriFieldTypeOID"
               }
              ],
              "geometryType": "esriGeometryPoint",
              "name": "Notebook sketch layer",
              "objectIdField": "OBJECTID",
              "spatialReference": {
               "wkid": 4326
              },
              "type": "Feature Layer"
             },
             "popupInfo": {
              "description": null,
              "fieldInfos": [
               {
                "fieldName": "OBJECTID",
                "isEditable": true,
                "label": "OBJECTID",
                "visible": true
               }
              ],
              "mediaInfos": [],
              "showAttachments": true,
              "title": "Notebook sketch layer"
             }
            }
           ]
          },
          "id": "bbcf7183-fa32-41b0-9f38-7d0521fa4ac2",
          "layerDefinition": {
           "definitionExpression": null
          },
          "layerType": "ArcGISFeatureLayer",
          "opacity": 1,
          "title": "Notebook sketch layer",
          "visibility": true
         },
         {
          "featureCollection": {
           "layers": [
            {
             "featureSet": {
              "features": [
               {
                "attributes": {
                 "OBJECTID": 1
                },
                "geometry": {
                 "spatialReference": {
                  "wkid": 4326
                 },
                 "type": "point",
                 "x": -76.94535499999995,
                 "y": 38.98806700000006
                }
               }
              ],
              "geometryType": "esriGeometryPoint"
             },
             "layerDefinition": {
              "drawingInfo": {
               "renderer": {
                "symbol": {
                 "angle": 0,
                 "contentType": "image/png",
                 "height": 24,
                 "type": "esriPMS",
                 "url": "https://esri.github.io/arcgis-python-api/notebooks/nbimages/pink.png",
                 "width": 24,
                 "xoffset": 0,
                 "yoffset": 12
                },
                "type": "simple"
               }
              },
              "fields": [
               {
                "alias": "OBJECTID",
                "name": "OBJECTID",
                "sqlType": "sqlTypeOther",
                "type": "esriFieldTypeOID"
               }
              ],
              "geometryType": "esriGeometryPoint",
              "name": "Notebook sketch layer",
              "objectIdField": "OBJECTID",
              "spatialReference": {
               "wkid": 4326
              },
              "type": "Feature Layer"
             },
             "popupInfo": {
              "description": null,
              "fieldInfos": [
               {
                "fieldName": "OBJECTID",
                "isEditable": true,
                "label": "OBJECTID",
                "visible": true
               }
              ],
              "mediaInfos": [],
              "showAttachments": true,
              "title": "Notebook sketch layer"
             }
            }
           ]
          },
          "id": "29e78cce-15f3-4a4c-9f45-b5a2e80e99a7",
          "layerDefinition": {
           "definitionExpression": null
          },
          "layerType": "ArcGISFeatureLayer",
          "opacity": 1,
          "title": "Notebook sketch layer",
          "visibility": true
         },
         {
          "featureCollection": {
           "layers": [
            {
             "featureSet": {
              "features": [
               {
                "attributes": {
                 "OBJECTID": 1
                },
                "geometry": {
                 "spatialReference": {
                  "wkid": 4326
                 },
                 "type": "point",
                 "x": -76.94529299999994,
                 "y": 38.98869000000008
                }
               }
              ],
              "geometryType": "esriGeometryPoint"
             },
             "layerDefinition": {
              "drawingInfo": {
               "renderer": {
                "symbol": {
                 "angle": 0,
                 "contentType": "image/png",
                 "height": 24,
                 "type": "esriPMS",
                 "url": "https://esri.github.io/arcgis-python-api/notebooks/nbimages/pink.png",
                 "width": 24,
                 "xoffset": 0,
                 "yoffset": 12
                },
                "type": "simple"
               }
              },
              "fields": [
               {
                "alias": "OBJECTID",
                "name": "OBJECTID",
                "sqlType": "sqlTypeOther",
                "type": "esriFieldTypeOID"
               }
              ],
              "geometryType": "esriGeometryPoint",
              "name": "Notebook sketch layer",
              "objectIdField": "OBJECTID",
              "spatialReference": {
               "wkid": 4326
              },
              "type": "Feature Layer"
             },
             "popupInfo": {
              "description": null,
              "fieldInfos": [
               {
                "fieldName": "OBJECTID",
                "isEditable": true,
                "label": "OBJECTID",
                "visible": true
               }
              ],
              "mediaInfos": [],
              "showAttachments": true,
              "title": "Notebook sketch layer"
             }
            }
           ]
          },
          "id": "05f20ca1-a96e-4720-bdd9-d48fbc766f42",
          "layerDefinition": {
           "definitionExpression": null
          },
          "layerType": "ArcGISFeatureLayer",
          "opacity": 1,
          "title": "Notebook sketch layer",
          "visibility": true
         },
         {
          "featureCollection": {
           "layers": [
            {
             "featureSet": {
              "features": [
               {
                "attributes": {
                 "OBJECTID": 1
                },
                "geometry": {
                 "spatialReference": {
                  "wkid": 4326
                 },
                 "type": "point",
                 "x": -76.94212699999997,
                 "y": 38.98925600000007
                }
               }
              ],
              "geometryType": "esriGeometryPoint"
             },
             "layerDefinition": {
              "drawingInfo": {
               "renderer": {
                "symbol": {
                 "angle": 0,
                 "contentType": "image/png",
                 "height": 24,
                 "type": "esriPMS",
                 "url": "https://esri.github.io/arcgis-python-api/notebooks/nbimages/pink.png",
                 "width": 24,
                 "xoffset": 0,
                 "yoffset": 12
                },
                "type": "simple"
               }
              },
              "fields": [
               {
                "alias": "OBJECTID",
                "name": "OBJECTID",
                "sqlType": "sqlTypeOther",
                "type": "esriFieldTypeOID"
               }
              ],
              "geometryType": "esriGeometryPoint",
              "name": "Notebook sketch layer",
              "objectIdField": "OBJECTID",
              "spatialReference": {
               "wkid": 4326
              },
              "type": "Feature Layer"
             },
             "popupInfo": {
              "description": null,
              "fieldInfos": [
               {
                "fieldName": "OBJECTID",
                "isEditable": true,
                "label": "OBJECTID",
                "visible": true
               }
              ],
              "mediaInfos": [],
              "showAttachments": true,
              "title": "Notebook sketch layer"
             }
            }
           ]
          },
          "id": "8b6c0183-12d4-4583-9768-9262b569a63c",
          "layerDefinition": {
           "definitionExpression": null
          },
          "layerType": "ArcGISFeatureLayer",
          "opacity": 1,
          "title": "Notebook sketch layer",
          "visibility": true
         },
         {
          "featureCollection": {
           "layers": [
            {
             "featureSet": {
              "features": [
               {
                "attributes": {
                 "OBJECTID": 1
                },
                "geometry": {
                 "spatialReference": {
                  "wkid": 4326
                 },
                 "type": "point",
                 "x": -76.94023899999996,
                 "y": 38.98664900000006
                }
               }
              ],
              "geometryType": "esriGeometryPoint"
             },
             "layerDefinition": {
              "drawingInfo": {
               "renderer": {
                "symbol": {
                 "angle": 0,
                 "contentType": "image/png",
                 "height": 24,
                 "type": "esriPMS",
                 "url": "https://esri.github.io/arcgis-python-api/notebooks/nbimages/pink.png",
                 "width": 24,
                 "xoffset": 0,
                 "yoffset": 12
                },
                "type": "simple"
               }
              },
              "fields": [
               {
                "alias": "OBJECTID",
                "name": "OBJECTID",
                "sqlType": "sqlTypeOther",
                "type": "esriFieldTypeOID"
               }
              ],
              "geometryType": "esriGeometryPoint",
              "name": "Notebook sketch layer",
              "objectIdField": "OBJECTID",
              "spatialReference": {
               "wkid": 4326
              },
              "type": "Feature Layer"
             },
             "popupInfo": {
              "description": null,
              "fieldInfos": [
               {
                "fieldName": "OBJECTID",
                "isEditable": true,
                "label": "OBJECTID",
                "visible": true
               }
              ],
              "mediaInfos": [],
              "showAttachments": true,
              "title": "Notebook sketch layer"
             }
            }
           ]
          },
          "id": "b0edf533-2a3c-4414-be96-ff6182279468",
          "layerDefinition": {
           "definitionExpression": null
          },
          "layerType": "ArcGISFeatureLayer",
          "opacity": 1,
          "title": "Notebook sketch layer",
          "visibility": true
         },
         {
          "featureCollection": {
           "layers": [
            {
             "featureSet": {
              "features": [
               {
                "attributes": {
                 "OBJECTID": 1
                },
                "geometry": {
                 "spatialReference": {
                  "wkid": 4326
                 },
                 "type": "point",
                 "x": -76.94015599999994,
                 "y": 38.98492200000004
                }
               }
              ],
              "geometryType": "esriGeometryPoint"
             },
             "layerDefinition": {
              "drawingInfo": {
               "renderer": {
                "symbol": {
                 "angle": 0,
                 "contentType": "image/png",
                 "height": 24,
                 "type": "esriPMS",
                 "url": "https://esri.github.io/arcgis-python-api/notebooks/nbimages/pink.png",
                 "width": 24,
                 "xoffset": 0,
                 "yoffset": 12
                },
                "type": "simple"
               }
              },
              "fields": [
               {
                "alias": "OBJECTID",
                "name": "OBJECTID",
                "sqlType": "sqlTypeOther",
                "type": "esriFieldTypeOID"
               }
              ],
              "geometryType": "esriGeometryPoint",
              "name": "Notebook sketch layer",
              "objectIdField": "OBJECTID",
              "spatialReference": {
               "wkid": 4326
              },
              "type": "Feature Layer"
             },
             "popupInfo": {
              "description": null,
              "fieldInfos": [
               {
                "fieldName": "OBJECTID",
                "isEditable": true,
                "label": "OBJECTID",
                "visible": true
               }
              ],
              "mediaInfos": [],
              "showAttachments": true,
              "title": "Notebook sketch layer"
             }
            }
           ]
          },
          "id": "9e0ffb24-b9e9-4d98-91b9-da4c629ff5a8",
          "layerDefinition": {
           "definitionExpression": null
          },
          "layerType": "ArcGISFeatureLayer",
          "opacity": 1,
          "title": "Notebook sketch layer",
          "visibility": true
         },
         {
          "featureCollection": {
           "layers": [
            {
             "featureSet": {
              "features": [
               {
                "attributes": {
                 "OBJECTID": 1
                },
                "geometry": {
                 "spatialReference": {
                  "wkid": 4326
                 },
                 "type": "point",
                 "x": -76.93914899999999,
                 "y": 38.98242700000003
                }
               }
              ],
              "geometryType": "esriGeometryPoint"
             },
             "layerDefinition": {
              "drawingInfo": {
               "renderer": {
                "symbol": {
                 "angle": 0,
                 "contentType": "image/png",
                 "height": 24,
                 "type": "esriPMS",
                 "url": "https://esri.github.io/arcgis-python-api/notebooks/nbimages/pink.png",
                 "width": 24,
                 "xoffset": 0,
                 "yoffset": 12
                },
                "type": "simple"
               }
              },
              "fields": [
               {
                "alias": "OBJECTID",
                "name": "OBJECTID",
                "sqlType": "sqlTypeOther",
                "type": "esriFieldTypeOID"
               }
              ],
              "geometryType": "esriGeometryPoint",
              "name": "Notebook sketch layer",
              "objectIdField": "OBJECTID",
              "spatialReference": {
               "wkid": 4326
              },
              "type": "Feature Layer"
             },
             "popupInfo": {
              "description": null,
              "fieldInfos": [
               {
                "fieldName": "OBJECTID",
                "isEditable": true,
                "label": "OBJECTID",
                "visible": true
               }
              ],
              "mediaInfos": [],
              "showAttachments": true,
              "title": "Notebook sketch layer"
             }
            }
           ]
          },
          "id": "c9991239-e900-4df2-b0da-0ef8662ac9c8",
          "layerDefinition": {
           "definitionExpression": null
          },
          "layerType": "ArcGISFeatureLayer",
          "opacity": 1,
          "title": "Notebook sketch layer",
          "visibility": true
         },
         {
          "featureCollection": {
           "layers": [
            {
             "featureSet": {
              "features": [
               {
                "attributes": {
                 "OBJECTID": 1
                },
                "geometry": {
                 "spatialReference": {
                  "wkid": 4326
                 },
                 "type": "point",
                 "x": -76.93709099999995,
                 "y": 38.98527400000006
                }
               }
              ],
              "geometryType": "esriGeometryPoint"
             },
             "layerDefinition": {
              "drawingInfo": {
               "renderer": {
                "symbol": {
                 "angle": 0,
                 "contentType": "image/png",
                 "height": 24,
                 "type": "esriPMS",
                 "url": "https://esri.github.io/arcgis-python-api/notebooks/nbimages/pink.png",
                 "width": 24,
                 "xoffset": 0,
                 "yoffset": 12
                },
                "type": "simple"
               }
              },
              "fields": [
               {
                "alias": "OBJECTID",
                "name": "OBJECTID",
                "sqlType": "sqlTypeOther",
                "type": "esriFieldTypeOID"
               }
              ],
              "geometryType": "esriGeometryPoint",
              "name": "Notebook sketch layer",
              "objectIdField": "OBJECTID",
              "spatialReference": {
               "wkid": 4326
              },
              "type": "Feature Layer"
             },
             "popupInfo": {
              "description": null,
              "fieldInfos": [
               {
                "fieldName": "OBJECTID",
                "isEditable": true,
                "label": "OBJECTID",
                "visible": true
               }
              ],
              "mediaInfos": [],
              "showAttachments": true,
              "title": "Notebook sketch layer"
             }
            }
           ]
          },
          "id": "c2a7b43e-e8ad-42a4-9a32-cf60c5a113e9",
          "layerDefinition": {
           "definitionExpression": null
          },
          "layerType": "ArcGISFeatureLayer",
          "opacity": 1,
          "title": "Notebook sketch layer",
          "visibility": true
         },
         {
          "featureCollection": {
           "layers": [
            {
             "featureSet": {
              "features": [
               {
                "attributes": {
                 "OBJECTID": 1
                },
                "geometry": {
                 "spatialReference": {
                  "wkid": 4326
                 },
                 "type": "point",
                 "x": -76.92971899999998,
                 "y": 38.990613100000076
                }
               }
              ],
              "geometryType": "esriGeometryPoint"
             },
             "layerDefinition": {
              "drawingInfo": {
               "renderer": {
                "symbol": {
                 "angle": 0,
                 "contentType": "image/png",
                 "height": 24,
                 "type": "esriPMS",
                 "url": "https://esri.github.io/arcgis-python-api/notebooks/nbimages/pink.png",
                 "width": 24,
                 "xoffset": 0,
                 "yoffset": 12
                },
                "type": "simple"
               }
              },
              "fields": [
               {
                "alias": "OBJECTID",
                "name": "OBJECTID",
                "sqlType": "sqlTypeOther",
                "type": "esriFieldTypeOID"
               }
              ],
              "geometryType": "esriGeometryPoint",
              "name": "Notebook sketch layer",
              "objectIdField": "OBJECTID",
              "spatialReference": {
               "wkid": 4326
              },
              "type": "Feature Layer"
             },
             "popupInfo": {
              "description": null,
              "fieldInfos": [
               {
                "fieldName": "OBJECTID",
                "isEditable": true,
                "label": "OBJECTID",
                "visible": true
               }
              ],
              "mediaInfos": [],
              "showAttachments": true,
              "title": "Notebook sketch layer"
             }
            }
           ]
          },
          "id": "ce37d927-25e6-4f3e-b23b-b624b4fda708",
          "layerDefinition": {
           "definitionExpression": null
          },
          "layerType": "ArcGISFeatureLayer",
          "opacity": 1,
          "title": "Notebook sketch layer",
          "visibility": true
         },
         {
          "featureCollection": {
           "layers": [
            {
             "featureSet": {
              "features": [
               {
                "attributes": {
                 "OBJECTID": 1
                },
                "geometry": {
                 "spatialReference": {
                  "wkid": 4326
                 },
                 "type": "point",
                 "x": -76.93402249999997,
                 "y": 38.99235100000004
                }
               }
              ],
              "geometryType": "esriGeometryPoint"
             },
             "layerDefinition": {
              "drawingInfo": {
               "renderer": {
                "symbol": {
                 "angle": 0,
                 "contentType": "image/png",
                 "height": 24,
                 "type": "esriPMS",
                 "url": "https://esri.github.io/arcgis-python-api/notebooks/nbimages/pink.png",
                 "width": 24,
                 "xoffset": 0,
                 "yoffset": 12
                },
                "type": "simple"
               }
              },
              "fields": [
               {
                "alias": "OBJECTID",
                "name": "OBJECTID",
                "sqlType": "sqlTypeOther",
                "type": "esriFieldTypeOID"
               }
              ],
              "geometryType": "esriGeometryPoint",
              "name": "Notebook sketch layer",
              "objectIdField": "OBJECTID",
              "spatialReference": {
               "wkid": 4326
              },
              "type": "Feature Layer"
             },
             "popupInfo": {
              "description": null,
              "fieldInfos": [
               {
                "fieldName": "OBJECTID",
                "isEditable": true,
                "label": "OBJECTID",
                "visible": true
               }
              ],
              "mediaInfos": [],
              "showAttachments": true,
              "title": "Notebook sketch layer"
             }
            }
           ]
          },
          "id": "b1708bc9-20d4-43b9-a49e-7cc416616e82",
          "layerDefinition": {
           "definitionExpression": null
          },
          "layerType": "ArcGISFeatureLayer",
          "opacity": 1,
          "title": "Notebook sketch layer",
          "visibility": true
         },
         {
          "featureCollection": {
           "layers": [
            {
             "featureSet": {
              "features": [
               {
                "attributes": {
                 "OBJECTID": 1
                },
                "geometry": {
                 "spatialReference": {
                  "wkid": 4326
                 },
                 "type": "point",
                 "x": -76.93419409999996,
                 "y": 38.99052040000004
                }
               }
              ],
              "geometryType": "esriGeometryPoint"
             },
             "layerDefinition": {
              "drawingInfo": {
               "renderer": {
                "symbol": {
                 "angle": 0,
                 "contentType": "image/png",
                 "height": 24,
                 "type": "esriPMS",
                 "url": "https://esri.github.io/arcgis-python-api/notebooks/nbimages/pink.png",
                 "width": 24,
                 "xoffset": 0,
                 "yoffset": 12
                },
                "type": "simple"
               }
              },
              "fields": [
               {
                "alias": "OBJECTID",
                "name": "OBJECTID",
                "sqlType": "sqlTypeOther",
                "type": "esriFieldTypeOID"
               }
              ],
              "geometryType": "esriGeometryPoint",
              "name": "Notebook sketch layer",
              "objectIdField": "OBJECTID",
              "spatialReference": {
               "wkid": 4326
              },
              "type": "Feature Layer"
             },
             "popupInfo": {
              "description": null,
              "fieldInfos": [
               {
                "fieldName": "OBJECTID",
                "isEditable": true,
                "label": "OBJECTID",
                "visible": true
               }
              ],
              "mediaInfos": [],
              "showAttachments": true,
              "title": "Notebook sketch layer"
             }
            }
           ]
          },
          "id": "044b9bf0-d00b-47a6-bfd4-9c0e9c477b17",
          "layerDefinition": {
           "definitionExpression": null
          },
          "layerType": "ArcGISFeatureLayer",
          "opacity": 1,
          "title": "Notebook sketch layer",
          "visibility": true
         },
         {
          "featureCollection": {
           "layers": [
            {
             "featureSet": {
              "features": [
               {
                "attributes": {
                 "OBJECTID": 1
                },
                "geometry": {
                 "spatialReference": {
                  "wkid": 4326
                 },
                 "type": "point",
                 "x": -76.93952399999995,
                 "y": 38.98773500000004
                }
               }
              ],
              "geometryType": "esriGeometryPoint"
             },
             "layerDefinition": {
              "drawingInfo": {
               "renderer": {
                "symbol": {
                 "angle": 0,
                 "contentType": "image/png",
                 "height": 24,
                 "type": "esriPMS",
                 "url": "https://esri.github.io/arcgis-python-api/notebooks/nbimages/pink.png",
                 "width": 24,
                 "xoffset": 0,
                 "yoffset": 12
                },
                "type": "simple"
               }
              },
              "fields": [
               {
                "alias": "OBJECTID",
                "name": "OBJECTID",
                "sqlType": "sqlTypeOther",
                "type": "esriFieldTypeOID"
               }
              ],
              "geometryType": "esriGeometryPoint",
              "name": "Notebook sketch layer",
              "objectIdField": "OBJECTID",
              "spatialReference": {
               "wkid": 4326
              },
              "type": "Feature Layer"
             },
             "popupInfo": {
              "description": null,
              "fieldInfos": [
               {
                "fieldName": "OBJECTID",
                "isEditable": true,
                "label": "OBJECTID",
                "visible": true
               }
              ],
              "mediaInfos": [],
              "showAttachments": true,
              "title": "Notebook sketch layer"
             }
            }
           ]
          },
          "id": "ad755385-acd5-484c-ab22-3284caa99f3b",
          "layerDefinition": {
           "definitionExpression": null
          },
          "layerType": "ArcGISFeatureLayer",
          "opacity": 1,
          "title": "Notebook sketch layer",
          "visibility": true
         },
         {
          "featureCollection": {
           "layers": [
            {
             "featureSet": {
              "features": [
               {
                "attributes": {
                 "OBJECTID": 1
                },
                "geometry": {
                 "spatialReference": {
                  "wkid": 4326
                 },
                 "type": "point",
                 "x": -76.94388199999997,
                 "y": 38.98743100000007
                }
               }
              ],
              "geometryType": "esriGeometryPoint"
             },
             "layerDefinition": {
              "drawingInfo": {
               "renderer": {
                "symbol": {
                 "angle": 0,
                 "contentType": "image/png",
                 "height": 24,
                 "type": "esriPMS",
                 "url": "https://esri.github.io/arcgis-python-api/notebooks/nbimages/pink.png",
                 "width": 24,
                 "xoffset": 0,
                 "yoffset": 12
                },
                "type": "simple"
               }
              },
              "fields": [
               {
                "alias": "OBJECTID",
                "name": "OBJECTID",
                "sqlType": "sqlTypeOther",
                "type": "esriFieldTypeOID"
               }
              ],
              "geometryType": "esriGeometryPoint",
              "name": "Notebook sketch layer",
              "objectIdField": "OBJECTID",
              "spatialReference": {
               "wkid": 4326
              },
              "type": "Feature Layer"
             },
             "popupInfo": {
              "description": null,
              "fieldInfos": [
               {
                "fieldName": "OBJECTID",
                "isEditable": true,
                "label": "OBJECTID",
                "visible": true
               }
              ],
              "mediaInfos": [],
              "showAttachments": true,
              "title": "Notebook sketch layer"
             }
            }
           ]
          },
          "id": "8157cbfb-2478-4dd1-81e5-f5e6f1b8c316",
          "layerDefinition": {
           "definitionExpression": null
          },
          "layerType": "ArcGISFeatureLayer",
          "opacity": 1,
          "title": "Notebook sketch layer",
          "visibility": true
         },
         {
          "featureCollection": {
           "layers": [
            {
             "featureSet": {
              "features": [
               {
                "attributes": {
                 "OBJECTID": 1
                },
                "geometry": {
                 "paths": [
                  [
                   [
                    -76.94388199999997,
                    38.98753000000005
                   ],
                   [
                    -76.94421999999997,
                    38.98753000000005
                   ],
                   [
                    -76.94437999999997,
                    38.98753000000005
                   ],
                   [
                    -76.94537999999994,
                    38.98742000000004
                   ],
                   [
                    -76.94541999999996,
                    38.987520000000075
                   ],
                   [
                    -76.94541999999996,
                    38.98767000000004
                   ],
                   [
                    -76.94539999999995,
                    38.988000000000056
                   ],
                   [
                    -76.94539555799997,
                    38.98806958900008
                   ]
                  ],
                  [
                   [
                    -76.94539555799997,
                    38.98806958900008
                   ],
                   [
                    -76.94530829999997,
                    38.98869510000003
                   ]
                  ],
                  [
                   [
                    -76.94530829999997,
                    38.98869510000003
                   ],
                   [
                    -76.94526999999994,
                    38.98881000000006
                   ],
                   [
                    -76.94498999999996,
                    38.988770000000045
                   ],
                   [
                    -76.94455999999997,
                    38.988620000000026
                   ],
                   [
                    -76.94432999999998,
                    38.98869000000008
                   ],
                   [
                    -76.94408999999996,
                    38.98879000000005
                   ],
                   [
                    -76.94383999999997,
                    38.98900000000003
                   ],
                   [
                    -76.94381999999996,
                    38.98907000000003
                   ],
                   [
                    -76.94379999999995,
                    38.98915000000005
                   ],
                   [
                    -76.94371999999998,
                    38.98926000000006
                   ],
                   [
                    -76.94343999999995,
                    38.98943000000003
                   ],
                   [
                    -76.94228999999996,
                    38.98943000000003
                   ],
                   [
                    -76.94206999999994,
                    38.989310000000046
                   ],
                   [
                    -76.94206105399996,
                    38.98929479200007
                   ]
                  ],
                  [
                   [
                    -76.94206105399996,
                    38.98929479200007
                   ],
                   [
                    -76.94181999999995,
                    38.98909000000003
                   ],
                   [
                    -76.94069999999994,
                    38.98905000000008
                   ],
                   [
                    -76.94066999999995,
                    38.98866000000004
                   ],
                   [
                    -76.94066999999995,
                    38.988510000000076
                   ],
                   [
                    -76.94064999999995,
                    38.98828000000003
                   ],
                   [
                    -76.94062999999994,
                    38.98812000000004
                   ],
                   [
                    -76.94062999999994,
                    38.98794000000004
                   ],
                   [
                    -76.94048999999995,
                    38.987640000000056
                   ],
                   [
                    -76.94048999999995,
                    38.98759000000007
                   ],
                   [
                    -76.94045999999997,
                    38.987540000000024
                   ],
                   [
                    -76.94031999999999,
                    38.987430000000074
                   ],
                   [
                    -76.94013999999999,
                    38.98678000000007
                   ],
                   [
                    -76.94013999999999,
                    38.98669000000007
                   ],
                   [
                    -76.94013999999999,
                    38.98664900000006
                   ]
                  ],
                  [
                   [
                    -76.94013999999999,
                    38.98664900000006
                   ],
                   [
                    -76.94013999999999,
                    38.98654000000005
                   ],
                   [
                    -76.94013999999999,
                    38.98648000000003
                   ],
                   [
                    -76.94012999999995,
                    38.98562000000004
                   ],
                   [
                    -76.94010999999995,
                    38.98553000000004
                   ],
                   [
                    -76.94009999999997,
                    38.98526000000004
                   ],
                   [
                    -76.94010999999995,
                    38.98493000000008
                   ],
                   [
                    -76.94010976099997,
                    38.98492377800005
                   ]
                  ],
                  [
                   [
                    -76.94010976099997,
                    38.98492377800005
                   ],
                   [
                    -76.94009999999997,
                    38.98467000000005
                   ],
                   [
                    -76.94008999999994,
                    38.98461000000003
                   ],
                   [
                    -76.94012999999995,
                    38.98442000000006
                   ],
                   [
                    -76.94009999999997,
                    38.984200000000044
                   ],
                   [
                    -76.93998999999997,
                    38.98335000000003
                   ],
                   [
                    -76.93990999999994,
                    38.98305000000005
                   ],
                   [
                    -76.93980999999997,
                    38.98288000000008
                   ],
                   [
                    -76.93959999999998,
                    38.98267000000004
                   ],
                   [
                    -76.93913384699994,
                    38.98246867200004
                   ]
                  ],
                  [
                   [
                    -76.93913384699994,
                    38.98246867200004
                   ],
                   [
                    -76.93910999999997,
                    38.98246000000006
                   ],
                   [
                    -76.93885999999998,
                    38.982380000000035
                   ],
                   [
                    -76.93858999999998,
                    38.98232000000007
                   ],
                   [
                    -76.93798999999996,
                    38.98215000000005
                   ],
                   [
                    -76.93782999999996,
                    38.982120000000066
                   ],
                   [
                    -76.93782999999996,
                    38.98277000000007
                   ],
                   [
                    -76.93781999999999,
                    38.98284000000007
                   ],
                   [
                    -76.93777999999998,
                    38.98311000000007
                   ],
                   [
                    -76.93772999999999,
                    38.98348000000004
                   ],
                   [
                    -76.93765999999994,
                    38.98380000000003
                   ],
                   [
                    -76.93748999999997,
                    38.98442000000006
                   ],
                   [
                    -76.93725999999998,
                    38.98502000000008
                   ],
                   [
                    -76.93713648899995,
                    38.98529447000004
                   ]
                  ],
                  [
                   [
                    -76.93713648899995,
                    38.98529447000004
                   ],
                   [
                    -76.93707999999998,
                    38.98542000000003
                   ],
                   [
                    -76.93699999999995,
                    38.98557000000005
                   ],
                   [
                    -76.93665999999996,
                    38.98617000000007
                   ],
                   [
                    -76.93654999999995,
                    38.986330000000066
                   ],
                   [
                    -76.93632999999994,
                    38.98666000000003
                   ],
                   [
                    -76.93616999999995,
                    38.98689000000007
                   ],
                   [
                    -76.93583999999998,
                    38.98738000000003
                   ],
                   [
                    -76.93511999999998,
                    38.98846000000003
                   ],
                   [
                    -76.93509999999998,
                    38.98849000000007
                   ],
                   [
                    -76.93506999999994,
                    38.988680000000045
                   ],
                   [
                    -76.93503999999996,
                    38.98873000000003
                   ],
                   [
                    -76.93491999999998,
                    38.98893000000004
                   ],
                   [
                    -76.93475999999998,
                    38.98920000000004
                   ],
                   [
                    -76.93463999999994,
                    38.98938000000004
                   ],
                   [
                    -76.93452999999994,
                    38.989540000000034
                   ],
                   [
                    -76.93440999999996,
                    38.98975000000007
                   ],
                   [
                    -76.93433999999996,
                    38.98989000000006
                   ],
                   [
                    -76.93421999999998,
                    38.98985000000005
                   ],
                   [
                    -76.93380999999994,
                    38.989720000000034
                   ],
                   [
                    -76.93345999999997,
                    38.989630000000034
                   ],
                   [
                    -76.93335999999994,
                    38.98961000000003
                   ],
                   [
                    -76.93302999999997,
                    38.98956000000004
                   ],
                   [
                    -76.93287999999995,
                    38.989550000000065
                   ],
                   [
                    -76.93274999999994,
                    38.989540000000034
                   ],
                   [
                    -76.93263999999994,
                    38.98953000000006
                   ],
                   [
                    -76.93250999999998,
                    38.98951000000005
                   ],
                   [
                    -76.93230999999997,
                    38.989490000000046
                   ],
                   [
                    -76.93068999999997,
                    38.98925000000003
                   ],
                   [
                    -76.93049999999994,
                    38.98923000000008
                   ],
                   [
                    -76.93002999999999,
                    38.98917000000006
                   ],
                   [
                    -76.92934999999994,
                    38.98908000000006
                   ],
                   [
                    -76.92873999999995,
                    38.98900000000003
                   ],
                   [
                    -76.92859999999996,
                    38.98932000000008
                   ],
                   [
                    -76.92843999999997,
                    38.98977000000008
                   ],
                   [
                    -76.92973538899997,
                    38.99058493900003
                   ]
                  ],
                  [
                   [
                    -76.92973538899997,
                    38.99058493900003
                   ],
                   [
                    -76.92994999999996,
                    38.990710000000036
                   ],
                   [
                    -76.93024999999994,
                    38.990890000000036
                   ],
                   [
                    -76.93043999999998,
                    38.99100000000004
                   ],
                   [
                    -76.93114999999995,
                    38.991480000000024
                   ],
                   [
                    -76.93139999999994,
                    38.991660000000024
                   ],
                   [
                    -76.93175999999994,
                    38.99188000000004
                   ],
                   [
                    -76.93220999999994,
                    38.99215000000004
                   ],
                   [
                    -76.93257999999997,
                    38.99237000000005
                   ],
                   [
                    -76.93271999999996,
                    38.992450000000076
                   ],
                   [
                    -76.93313999999998,
                    38.992650000000026
                   ],
                   [
                    -76.93317999999994,
                    38.992560000000026
                   ],
                   [
                    -76.93335999999994,
                    38.99215000000004
                   ],
                   [
                    -76.93399999999997,
                    38.99230000000006
                   ],
                   [
                    -76.93403467899998,
                    38.99231040400008
                   ]
                  ],
                  [
                   [
                    -76.93403467899998,
                    38.99231040400008
                   ],
                   [
                    -76.93399999999997,
                    38.99230000000006
                   ],
                   [
                    -76.93335999999994,
                    38.99215000000004
                   ],
                   [
                    -76.93340999999998,
                    38.99203000000006
                   ],
                   [
                    -76.93349999999998,
                    38.991840000000025
                   ],
                   [
                    -76.93358999999998,
                    38.991660000000024
                   ],
                   [
                    -76.93365999999997,
                    38.99150000000003
                   ],
                   [
                    -76.93372999999997,
                    38.99130000000008
                   ],
                   [
                    -76.93379999999996,
                    38.99114000000003
                   ],
                   [
                    -76.93391999999994,
                    38.99088000000006
                   ],
                   [
                    -76.93397999999996,
                    38.99073000000004
                   ],
                   [
                    -76.93401999999998,
                    38.99064000000004
                   ],
                   [
                    -76.93409310499999,
                    38.990475513000035
                   ]
                  ],
                  [
                   [
                    -76.93409310499999,
                    38.990475513000035
                   ],
                   [
                    -76.93414999999999,
                    38.99034000000006
                   ],
                   [
                    -76.93440999999996,
                    38.98975000000007
                   ],
                   [
                    -76.93452999999994,
                    38.989540000000034
                   ],
                   [
                    -76.93463999999994,
                    38.98938000000004
                   ],
                   [
                    -76.93475999999998,
                    38.98920000000004
                   ],
                   [
                    -76.93491999999998,
                    38.98893000000004
                   ],
                   [
                    -76.93503999999996,
                    38.98873000000003
                   ],
                   [
                    -76.93506999999994,
                    38.988680000000045
                   ],
                   [
                    -76.93564999999995,
                    38.988740000000064
                   ],
                   [
                    -76.93606999999997,
                    38.98873000000003
                   ],
                   [
                    -76.93665999999996,
                    38.988530000000026
                   ],
                   [
                    -76.93753999999996,
                    38.98829000000006
                   ],
                   [
                    -76.93853999999999,
                    38.98795000000007
                   ],
                   [
                    -76.93874999999997,
                    38.987880000000075
                   ],
                   [
                    -76.93904999999995,
                    38.987790000000075
                   ],
                   [
                    -76.93941999999998,
                    38.987700000000075
                   ],
                   [
                    -76.93952399999995,
                    38.987700000000075
                   ]
                  ],
                  [
                   [
                    -76.93952399999995,
                    38.987700000000075
                   ],
                   [
                    -76.93972999999994,
                    38.987720000000024
                   ],
                   [
                    -76.93988999999993,
                    38.987730000000056
                   ],
                   [
                    -76.94024999999993,
                    38.987810000000025
                   ],
                   [
                    -76.94048999999995,
                    38.987640000000056
                   ],
                   [
                    -76.94048999999995,
                    38.98759000000007
                   ],
                   [
                    -76.94107999999994,
                    38.98757000000006
                   ],
                   [
                    -76.94121999999999,
                    38.98756000000003
                   ],
                   [
                    -76.94145999999995,
                    38.987550000000056
                   ],
                   [
                    -76.94170999999994,
                    38.987540000000024
                   ],
                   [
                    -76.94216999999998,
                    38.987540000000024
                   ],
                   [
                    -76.94260999999995,
                    38.987540000000024
                   ],
                   [
                    -76.94319999999993,
                    38.98753000000005
                   ],
                   [
                    -76.94343999999995,
                    38.98753000000005
                   ],
                   [
                    -76.94388199999997,
                    38.98753000000005
                   ]
                  ]
                 ],
                 "spatialReference": {
                  "wkid": 4326
                 },
                 "type": "polyline"
                }
               }
              ],
              "geometryType": "esriGeometryPolyline"
             },
             "layerDefinition": {
              "drawingInfo": {
               "renderer": {
                "symbol": {
                 "color": [
                  0,
                  191,
                  255,
                  90
                 ],
                 "style": "esriSLSSolid",
                 "type": "esriSLS",
                 "width": 4
                },
                "type": "simple"
               }
              },
              "fields": [
               {
                "alias": "OBJECTID",
                "name": "OBJECTID",
                "sqlType": "sqlTypeOther",
                "type": "esriFieldTypeOID"
               }
              ],
              "geometryType": "esriGeometryPolyline",
              "name": "Notebook sketch layer",
              "objectIdField": "OBJECTID",
              "spatialReference": {
               "wkid": 4326
              },
              "type": "Feature Layer"
             },
             "popupInfo": {
              "description": null,
              "fieldInfos": [
               {
                "fieldName": "OBJECTID",
                "isEditable": true,
                "label": "OBJECTID",
                "visible": true
               }
              ],
              "mediaInfos": [],
              "showAttachments": true,
              "title": "Notebook sketch layer"
             }
            }
           ]
          },
          "id": "af63c56a-f97d-4351-a94a-11ddd2acac76",
          "layerDefinition": {
           "definitionExpression": null
          },
          "layerType": "ArcGISFeatureLayer",
          "opacity": 1,
          "title": "Notebook sketch layer",
          "visibility": true
         },
         {
          "featureCollection": {
           "layers": [
            {
             "featureSet": {
              "features": [
               {
                "attributes": {
                 "OBJECTID": 1
                },
                "geometry": {
                 "spatialReference": {
                  "wkid": 4326
                 },
                 "type": "point",
                 "x": -76.94388199999997,
                 "y": 38.98743100000007
                }
               }
              ],
              "geometryType": "esriGeometryPoint"
             },
             "layerDefinition": {
              "drawingInfo": {
               "renderer": {
                "symbol": {
                 "angle": 0,
                 "contentType": "image/png",
                 "height": 24,
                 "type": "esriPMS",
                 "url": "https://esri.github.io/arcgis-python-api/notebooks/nbimages/pink.png",
                 "width": 24,
                 "xoffset": 0,
                 "yoffset": 12
                },
                "type": "simple"
               }
              },
              "fields": [
               {
                "alias": "OBJECTID",
                "name": "OBJECTID",
                "sqlType": "sqlTypeOther",
                "type": "esriFieldTypeOID"
               }
              ],
              "geometryType": "esriGeometryPoint",
              "name": "Notebook sketch layer",
              "objectIdField": "OBJECTID",
              "spatialReference": {
               "wkid": 4326
              },
              "type": "Feature Layer"
             },
             "popupInfo": {
              "description": null,
              "fieldInfos": [
               {
                "fieldName": "OBJECTID",
                "isEditable": true,
                "label": "OBJECTID",
                "visible": true
               }
              ],
              "mediaInfos": [],
              "showAttachments": true,
              "title": "Notebook sketch layer"
             }
            }
           ]
          },
          "id": "d69aa0ed-07e3-45a2-9af8-ea583636d9b9",
          "layerDefinition": {
           "definitionExpression": null
          },
          "layerType": "ArcGISFeatureLayer",
          "opacity": 1,
          "title": "Notebook sketch layer",
          "visibility": true
         },
         {
          "featureCollection": {
           "layers": [
            {
             "featureSet": {
              "features": [
               {
                "attributes": {
                 "OBJECTID": 1
                },
                "geometry": {
                 "spatialReference": {
                  "wkid": 4326
                 },
                 "type": "point",
                 "x": -76.94535499999995,
                 "y": 38.98806700000006
                }
               }
              ],
              "geometryType": "esriGeometryPoint"
             },
             "layerDefinition": {
              "drawingInfo": {
               "renderer": {
                "symbol": {
                 "angle": 0,
                 "contentType": "image/png",
                 "height": 24,
                 "type": "esriPMS",
                 "url": "https://esri.github.io/arcgis-python-api/notebooks/nbimages/pink.png",
                 "width": 24,
                 "xoffset": 0,
                 "yoffset": 12
                },
                "type": "simple"
               }
              },
              "fields": [
               {
                "alias": "OBJECTID",
                "name": "OBJECTID",
                "sqlType": "sqlTypeOther",
                "type": "esriFieldTypeOID"
               }
              ],
              "geometryType": "esriGeometryPoint",
              "name": "Notebook sketch layer",
              "objectIdField": "OBJECTID",
              "spatialReference": {
               "wkid": 4326
              },
              "type": "Feature Layer"
             },
             "popupInfo": {
              "description": null,
              "fieldInfos": [
               {
                "fieldName": "OBJECTID",
                "isEditable": true,
                "label": "OBJECTID",
                "visible": true
               }
              ],
              "mediaInfos": [],
              "showAttachments": true,
              "title": "Notebook sketch layer"
             }
            }
           ]
          },
          "id": "f7b1aa2a-6516-4bb0-9d59-01757e861563",
          "layerDefinition": {
           "definitionExpression": null
          },
          "layerType": "ArcGISFeatureLayer",
          "opacity": 1,
          "title": "Notebook sketch layer",
          "visibility": true
         },
         {
          "featureCollection": {
           "layers": [
            {
             "featureSet": {
              "features": [
               {
                "attributes": {
                 "OBJECTID": 1
                },
                "geometry": {
                 "spatialReference": {
                  "wkid": 4326
                 },
                 "type": "point",
                 "x": -76.94529299999994,
                 "y": 38.98869000000008
                }
               }
              ],
              "geometryType": "esriGeometryPoint"
             },
             "layerDefinition": {
              "drawingInfo": {
               "renderer": {
                "symbol": {
                 "angle": 0,
                 "contentType": "image/png",
                 "height": 24,
                 "type": "esriPMS",
                 "url": "https://esri.github.io/arcgis-python-api/notebooks/nbimages/pink.png",
                 "width": 24,
                 "xoffset": 0,
                 "yoffset": 12
                },
                "type": "simple"
               }
              },
              "fields": [
               {
                "alias": "OBJECTID",
                "name": "OBJECTID",
                "sqlType": "sqlTypeOther",
                "type": "esriFieldTypeOID"
               }
              ],
              "geometryType": "esriGeometryPoint",
              "name": "Notebook sketch layer",
              "objectIdField": "OBJECTID",
              "spatialReference": {
               "wkid": 4326
              },
              "type": "Feature Layer"
             },
             "popupInfo": {
              "description": null,
              "fieldInfos": [
               {
                "fieldName": "OBJECTID",
                "isEditable": true,
                "label": "OBJECTID",
                "visible": true
               }
              ],
              "mediaInfos": [],
              "showAttachments": true,
              "title": "Notebook sketch layer"
             }
            }
           ]
          },
          "id": "10f93b45-2643-4991-abf7-e7d662b2efaa",
          "layerDefinition": {
           "definitionExpression": null
          },
          "layerType": "ArcGISFeatureLayer",
          "opacity": 1,
          "title": "Notebook sketch layer",
          "visibility": true
         },
         {
          "featureCollection": {
           "layers": [
            {
             "featureSet": {
              "features": [
               {
                "attributes": {
                 "OBJECTID": 1
                },
                "geometry": {
                 "spatialReference": {
                  "wkid": 4326
                 },
                 "type": "point",
                 "x": -76.94212699999997,
                 "y": 38.98925600000007
                }
               }
              ],
              "geometryType": "esriGeometryPoint"
             },
             "layerDefinition": {
              "drawingInfo": {
               "renderer": {
                "symbol": {
                 "angle": 0,
                 "contentType": "image/png",
                 "height": 24,
                 "type": "esriPMS",
                 "url": "https://esri.github.io/arcgis-python-api/notebooks/nbimages/pink.png",
                 "width": 24,
                 "xoffset": 0,
                 "yoffset": 12
                },
                "type": "simple"
               }
              },
              "fields": [
               {
                "alias": "OBJECTID",
                "name": "OBJECTID",
                "sqlType": "sqlTypeOther",
                "type": "esriFieldTypeOID"
               }
              ],
              "geometryType": "esriGeometryPoint",
              "name": "Notebook sketch layer",
              "objectIdField": "OBJECTID",
              "spatialReference": {
               "wkid": 4326
              },
              "type": "Feature Layer"
             },
             "popupInfo": {
              "description": null,
              "fieldInfos": [
               {
                "fieldName": "OBJECTID",
                "isEditable": true,
                "label": "OBJECTID",
                "visible": true
               }
              ],
              "mediaInfos": [],
              "showAttachments": true,
              "title": "Notebook sketch layer"
             }
            }
           ]
          },
          "id": "d732e843-4b46-4c1e-a4a0-f92e1f489af2",
          "layerDefinition": {
           "definitionExpression": null
          },
          "layerType": "ArcGISFeatureLayer",
          "opacity": 1,
          "title": "Notebook sketch layer",
          "visibility": true
         },
         {
          "featureCollection": {
           "layers": [
            {
             "featureSet": {
              "features": [
               {
                "attributes": {
                 "OBJECTID": 1
                },
                "geometry": {
                 "spatialReference": {
                  "wkid": 4326
                 },
                 "type": "point",
                 "x": -76.94023899999996,
                 "y": 38.98664900000006
                }
               }
              ],
              "geometryType": "esriGeometryPoint"
             },
             "layerDefinition": {
              "drawingInfo": {
               "renderer": {
                "symbol": {
                 "angle": 0,
                 "contentType": "image/png",
                 "height": 24,
                 "type": "esriPMS",
                 "url": "https://esri.github.io/arcgis-python-api/notebooks/nbimages/pink.png",
                 "width": 24,
                 "xoffset": 0,
                 "yoffset": 12
                },
                "type": "simple"
               }
              },
              "fields": [
               {
                "alias": "OBJECTID",
                "name": "OBJECTID",
                "sqlType": "sqlTypeOther",
                "type": "esriFieldTypeOID"
               }
              ],
              "geometryType": "esriGeometryPoint",
              "name": "Notebook sketch layer",
              "objectIdField": "OBJECTID",
              "spatialReference": {
               "wkid": 4326
              },
              "type": "Feature Layer"
             },
             "popupInfo": {
              "description": null,
              "fieldInfos": [
               {
                "fieldName": "OBJECTID",
                "isEditable": true,
                "label": "OBJECTID",
                "visible": true
               }
              ],
              "mediaInfos": [],
              "showAttachments": true,
              "title": "Notebook sketch layer"
             }
            }
           ]
          },
          "id": "c06a56dc-d6fa-48e2-a41d-4ab3f511f6d3",
          "layerDefinition": {
           "definitionExpression": null
          },
          "layerType": "ArcGISFeatureLayer",
          "opacity": 1,
          "title": "Notebook sketch layer",
          "visibility": true
         },
         {
          "featureCollection": {
           "layers": [
            {
             "featureSet": {
              "features": [
               {
                "attributes": {
                 "OBJECTID": 1
                },
                "geometry": {
                 "spatialReference": {
                  "wkid": 4326
                 },
                 "type": "point",
                 "x": -76.94015599999994,
                 "y": 38.98492200000004
                }
               }
              ],
              "geometryType": "esriGeometryPoint"
             },
             "layerDefinition": {
              "drawingInfo": {
               "renderer": {
                "symbol": {
                 "angle": 0,
                 "contentType": "image/png",
                 "height": 24,
                 "type": "esriPMS",
                 "url": "https://esri.github.io/arcgis-python-api/notebooks/nbimages/pink.png",
                 "width": 24,
                 "xoffset": 0,
                 "yoffset": 12
                },
                "type": "simple"
               }
              },
              "fields": [
               {
                "alias": "OBJECTID",
                "name": "OBJECTID",
                "sqlType": "sqlTypeOther",
                "type": "esriFieldTypeOID"
               }
              ],
              "geometryType": "esriGeometryPoint",
              "name": "Notebook sketch layer",
              "objectIdField": "OBJECTID",
              "spatialReference": {
               "wkid": 4326
              },
              "type": "Feature Layer"
             },
             "popupInfo": {
              "description": null,
              "fieldInfos": [
               {
                "fieldName": "OBJECTID",
                "isEditable": true,
                "label": "OBJECTID",
                "visible": true
               }
              ],
              "mediaInfos": [],
              "showAttachments": true,
              "title": "Notebook sketch layer"
             }
            }
           ]
          },
          "id": "14360bed-c0c2-4101-b6fe-ff24c80df11d",
          "layerDefinition": {
           "definitionExpression": null
          },
          "layerType": "ArcGISFeatureLayer",
          "opacity": 1,
          "title": "Notebook sketch layer",
          "visibility": true
         },
         {
          "featureCollection": {
           "layers": [
            {
             "featureSet": {
              "features": [
               {
                "attributes": {
                 "OBJECTID": 1
                },
                "geometry": {
                 "spatialReference": {
                  "wkid": 4326
                 },
                 "type": "point",
                 "x": -76.93914899999999,
                 "y": 38.98242700000003
                }
               }
              ],
              "geometryType": "esriGeometryPoint"
             },
             "layerDefinition": {
              "drawingInfo": {
               "renderer": {
                "symbol": {
                 "angle": 0,
                 "contentType": "image/png",
                 "height": 24,
                 "type": "esriPMS",
                 "url": "https://esri.github.io/arcgis-python-api/notebooks/nbimages/pink.png",
                 "width": 24,
                 "xoffset": 0,
                 "yoffset": 12
                },
                "type": "simple"
               }
              },
              "fields": [
               {
                "alias": "OBJECTID",
                "name": "OBJECTID",
                "sqlType": "sqlTypeOther",
                "type": "esriFieldTypeOID"
               }
              ],
              "geometryType": "esriGeometryPoint",
              "name": "Notebook sketch layer",
              "objectIdField": "OBJECTID",
              "spatialReference": {
               "wkid": 4326
              },
              "type": "Feature Layer"
             },
             "popupInfo": {
              "description": null,
              "fieldInfos": [
               {
                "fieldName": "OBJECTID",
                "isEditable": true,
                "label": "OBJECTID",
                "visible": true
               }
              ],
              "mediaInfos": [],
              "showAttachments": true,
              "title": "Notebook sketch layer"
             }
            }
           ]
          },
          "id": "c35fef41-496b-47bd-ae8a-dbd56b28ec39",
          "layerDefinition": {
           "definitionExpression": null
          },
          "layerType": "ArcGISFeatureLayer",
          "opacity": 1,
          "title": "Notebook sketch layer",
          "visibility": true
         },
         {
          "featureCollection": {
           "layers": [
            {
             "featureSet": {
              "features": [
               {
                "attributes": {
                 "OBJECTID": 1
                },
                "geometry": {
                 "spatialReference": {
                  "wkid": 4326
                 },
                 "type": "point",
                 "x": -76.93709099999995,
                 "y": 38.98527400000006
                }
               }
              ],
              "geometryType": "esriGeometryPoint"
             },
             "layerDefinition": {
              "drawingInfo": {
               "renderer": {
                "symbol": {
                 "angle": 0,
                 "contentType": "image/png",
                 "height": 24,
                 "type": "esriPMS",
                 "url": "https://esri.github.io/arcgis-python-api/notebooks/nbimages/pink.png",
                 "width": 24,
                 "xoffset": 0,
                 "yoffset": 12
                },
                "type": "simple"
               }
              },
              "fields": [
               {
                "alias": "OBJECTID",
                "name": "OBJECTID",
                "sqlType": "sqlTypeOther",
                "type": "esriFieldTypeOID"
               }
              ],
              "geometryType": "esriGeometryPoint",
              "name": "Notebook sketch layer",
              "objectIdField": "OBJECTID",
              "spatialReference": {
               "wkid": 4326
              },
              "type": "Feature Layer"
             },
             "popupInfo": {
              "description": null,
              "fieldInfos": [
               {
                "fieldName": "OBJECTID",
                "isEditable": true,
                "label": "OBJECTID",
                "visible": true
               }
              ],
              "mediaInfos": [],
              "showAttachments": true,
              "title": "Notebook sketch layer"
             }
            }
           ]
          },
          "id": "bea59383-b40d-43dc-9239-8e2a66a1e1e8",
          "layerDefinition": {
           "definitionExpression": null
          },
          "layerType": "ArcGISFeatureLayer",
          "opacity": 1,
          "title": "Notebook sketch layer",
          "visibility": true
         },
         {
          "featureCollection": {
           "layers": [
            {
             "featureSet": {
              "features": [
               {
                "attributes": {
                 "OBJECTID": 1
                },
                "geometry": {
                 "spatialReference": {
                  "wkid": 4326
                 },
                 "type": "point",
                 "x": -76.92971899999998,
                 "y": 38.990613100000076
                }
               }
              ],
              "geometryType": "esriGeometryPoint"
             },
             "layerDefinition": {
              "drawingInfo": {
               "renderer": {
                "symbol": {
                 "angle": 0,
                 "contentType": "image/png",
                 "height": 24,
                 "type": "esriPMS",
                 "url": "https://esri.github.io/arcgis-python-api/notebooks/nbimages/pink.png",
                 "width": 24,
                 "xoffset": 0,
                 "yoffset": 12
                },
                "type": "simple"
               }
              },
              "fields": [
               {
                "alias": "OBJECTID",
                "name": "OBJECTID",
                "sqlType": "sqlTypeOther",
                "type": "esriFieldTypeOID"
               }
              ],
              "geometryType": "esriGeometryPoint",
              "name": "Notebook sketch layer",
              "objectIdField": "OBJECTID",
              "spatialReference": {
               "wkid": 4326
              },
              "type": "Feature Layer"
             },
             "popupInfo": {
              "description": null,
              "fieldInfos": [
               {
                "fieldName": "OBJECTID",
                "isEditable": true,
                "label": "OBJECTID",
                "visible": true
               }
              ],
              "mediaInfos": [],
              "showAttachments": true,
              "title": "Notebook sketch layer"
             }
            }
           ]
          },
          "id": "97d501df-64b9-4ddd-a9e9-df064f83ce0f",
          "layerDefinition": {
           "definitionExpression": null
          },
          "layerType": "ArcGISFeatureLayer",
          "opacity": 1,
          "title": "Notebook sketch layer",
          "visibility": true
         },
         {
          "featureCollection": {
           "layers": [
            {
             "featureSet": {
              "features": [
               {
                "attributes": {
                 "OBJECTID": 1
                },
                "geometry": {
                 "spatialReference": {
                  "wkid": 4326
                 },
                 "type": "point",
                 "x": -76.93402249999997,
                 "y": 38.99235100000004
                }
               }
              ],
              "geometryType": "esriGeometryPoint"
             },
             "layerDefinition": {
              "drawingInfo": {
               "renderer": {
                "symbol": {
                 "angle": 0,
                 "contentType": "image/png",
                 "height": 24,
                 "type": "esriPMS",
                 "url": "https://esri.github.io/arcgis-python-api/notebooks/nbimages/pink.png",
                 "width": 24,
                 "xoffset": 0,
                 "yoffset": 12
                },
                "type": "simple"
               }
              },
              "fields": [
               {
                "alias": "OBJECTID",
                "name": "OBJECTID",
                "sqlType": "sqlTypeOther",
                "type": "esriFieldTypeOID"
               }
              ],
              "geometryType": "esriGeometryPoint",
              "name": "Notebook sketch layer",
              "objectIdField": "OBJECTID",
              "spatialReference": {
               "wkid": 4326
              },
              "type": "Feature Layer"
             },
             "popupInfo": {
              "description": null,
              "fieldInfos": [
               {
                "fieldName": "OBJECTID",
                "isEditable": true,
                "label": "OBJECTID",
                "visible": true
               }
              ],
              "mediaInfos": [],
              "showAttachments": true,
              "title": "Notebook sketch layer"
             }
            }
           ]
          },
          "id": "8507d0d8-3eff-421e-8b3a-ba85753811fe",
          "layerDefinition": {
           "definitionExpression": null
          },
          "layerType": "ArcGISFeatureLayer",
          "opacity": 1,
          "title": "Notebook sketch layer",
          "visibility": true
         },
         {
          "featureCollection": {
           "layers": [
            {
             "featureSet": {
              "features": [
               {
                "attributes": {
                 "OBJECTID": 1
                },
                "geometry": {
                 "spatialReference": {
                  "wkid": 4326
                 },
                 "type": "point",
                 "x": -76.93419409999996,
                 "y": 38.99052040000004
                }
               }
              ],
              "geometryType": "esriGeometryPoint"
             },
             "layerDefinition": {
              "drawingInfo": {
               "renderer": {
                "symbol": {
                 "angle": 0,
                 "contentType": "image/png",
                 "height": 24,
                 "type": "esriPMS",
                 "url": "https://esri.github.io/arcgis-python-api/notebooks/nbimages/pink.png",
                 "width": 24,
                 "xoffset": 0,
                 "yoffset": 12
                },
                "type": "simple"
               }
              },
              "fields": [
               {
                "alias": "OBJECTID",
                "name": "OBJECTID",
                "sqlType": "sqlTypeOther",
                "type": "esriFieldTypeOID"
               }
              ],
              "geometryType": "esriGeometryPoint",
              "name": "Notebook sketch layer",
              "objectIdField": "OBJECTID",
              "spatialReference": {
               "wkid": 4326
              },
              "type": "Feature Layer"
             },
             "popupInfo": {
              "description": null,
              "fieldInfos": [
               {
                "fieldName": "OBJECTID",
                "isEditable": true,
                "label": "OBJECTID",
                "visible": true
               }
              ],
              "mediaInfos": [],
              "showAttachments": true,
              "title": "Notebook sketch layer"
             }
            }
           ]
          },
          "id": "e3bef125-68ab-4af0-9f44-7a41a5803431",
          "layerDefinition": {
           "definitionExpression": null
          },
          "layerType": "ArcGISFeatureLayer",
          "opacity": 1,
          "title": "Notebook sketch layer",
          "visibility": true
         },
         {
          "featureCollection": {
           "layers": [
            {
             "featureSet": {
              "features": [
               {
                "attributes": {
                 "OBJECTID": 1
                },
                "geometry": {
                 "spatialReference": {
                  "wkid": 4326
                 },
                 "type": "point",
                 "x": -76.93952399999995,
                 "y": 38.98773500000004
                }
               }
              ],
              "geometryType": "esriGeometryPoint"
             },
             "layerDefinition": {
              "drawingInfo": {
               "renderer": {
                "symbol": {
                 "angle": 0,
                 "contentType": "image/png",
                 "height": 24,
                 "type": "esriPMS",
                 "url": "https://esri.github.io/arcgis-python-api/notebooks/nbimages/pink.png",
                 "width": 24,
                 "xoffset": 0,
                 "yoffset": 12
                },
                "type": "simple"
               }
              },
              "fields": [
               {
                "alias": "OBJECTID",
                "name": "OBJECTID",
                "sqlType": "sqlTypeOther",
                "type": "esriFieldTypeOID"
               }
              ],
              "geometryType": "esriGeometryPoint",
              "name": "Notebook sketch layer",
              "objectIdField": "OBJECTID",
              "spatialReference": {
               "wkid": 4326
              },
              "type": "Feature Layer"
             },
             "popupInfo": {
              "description": null,
              "fieldInfos": [
               {
                "fieldName": "OBJECTID",
                "isEditable": true,
                "label": "OBJECTID",
                "visible": true
               }
              ],
              "mediaInfos": [],
              "showAttachments": true,
              "title": "Notebook sketch layer"
             }
            }
           ]
          },
          "id": "bd11a7d2-a75f-47e6-8e82-d7592119c3e3",
          "layerDefinition": {
           "definitionExpression": null
          },
          "layerType": "ArcGISFeatureLayer",
          "opacity": 1,
          "title": "Notebook sketch layer",
          "visibility": true
         },
         {
          "featureCollection": {
           "layers": [
            {
             "featureSet": {
              "features": [
               {
                "attributes": {
                 "OBJECTID": 1
                },
                "geometry": {
                 "spatialReference": {
                  "wkid": 4326
                 },
                 "type": "point",
                 "x": -76.94388199999997,
                 "y": 38.98743100000007
                }
               }
              ],
              "geometryType": "esriGeometryPoint"
             },
             "layerDefinition": {
              "drawingInfo": {
               "renderer": {
                "symbol": {
                 "angle": 0,
                 "contentType": "image/png",
                 "height": 24,
                 "type": "esriPMS",
                 "url": "https://esri.github.io/arcgis-python-api/notebooks/nbimages/pink.png",
                 "width": 24,
                 "xoffset": 0,
                 "yoffset": 12
                },
                "type": "simple"
               }
              },
              "fields": [
               {
                "alias": "OBJECTID",
                "name": "OBJECTID",
                "sqlType": "sqlTypeOther",
                "type": "esriFieldTypeOID"
               }
              ],
              "geometryType": "esriGeometryPoint",
              "name": "Notebook sketch layer",
              "objectIdField": "OBJECTID",
              "spatialReference": {
               "wkid": 4326
              },
              "type": "Feature Layer"
             },
             "popupInfo": {
              "description": null,
              "fieldInfos": [
               {
                "fieldName": "OBJECTID",
                "isEditable": true,
                "label": "OBJECTID",
                "visible": true
               }
              ],
              "mediaInfos": [],
              "showAttachments": true,
              "title": "Notebook sketch layer"
             }
            }
           ]
          },
          "id": "d2671486-d516-41f4-b853-582b70fb1e42",
          "layerDefinition": {
           "definitionExpression": null
          },
          "layerType": "ArcGISFeatureLayer",
          "opacity": 1,
          "title": "Notebook sketch layer",
          "visibility": true
         },
         {
          "featureCollection": {
           "layers": [
            {
             "featureSet": {
              "features": [
               {
                "attributes": {
                 "OBJECTID": 1
                },
                "geometry": {
                 "paths": [
                  [
                   [
                    -76.94394499999999,
                    38.98753000000005
                   ],
                   [
                    -76.94421999999997,
                    38.98753000000005
                   ],
                   [
                    -76.94437999999997,
                    38.98753000000005
                   ],
                   [
                    -76.94537999999994,
                    38.98742000000004
                   ],
                   [
                    -76.94567999999998,
                    38.98733000000004
                   ],
                   [
                    -76.94608999999997,
                    38.98715000000004
                   ],
                   [
                    -76.94655999999998,
                    38.986860000000036
                   ],
                   [
                    -76.94695999999993,
                    38.98627000000005
                   ],
                   [
                    -76.94698999999997,
                    38.98612000000003
                   ],
                   [
                    -76.94697999999994,
                    38.98574000000008
                   ],
                   [
                    -76.94687999999996,
                    38.98548000000005
                   ],
                   [
                    -76.94675098399995,
                    38.98530118000008
                   ]
                  ],
                  [
                   [
                    -76.94675098399995,
                    38.98530118000008
                   ],
                   [
                    -76.94661999999994,
                    38.98518000000007
                   ],
                   [
                    -76.94623999999999,
                    38.98496000000006
                   ],
                   [
                    -76.94593999999995,
                    38.98479000000003
                   ],
                   [
                    -76.94577999999996,
                    38.98470000000003
                   ],
                   [
                    -76.94550999999996,
                    38.98453000000006
                   ],
                   [
                    -76.94538999999997,
                    38.98445000000004
                   ],
                   [
                    -76.94522999999998,
                    38.984320000000025
                   ],
                   [
                    -76.94517999999994,
                    38.984140000000025
                   ],
                   [
                    -76.94512999999995,
                    38.983880000000056
                   ],
                   [
                    -76.94513959399995,
                    38.98374568500003
                   ]
                  ],
                  [
                   [
                    -76.94513959399995,
                    38.98374568500003
                   ],
                   [
                    -76.94513999999998,
                    38.98374000000007
                   ],
                   [
                    -76.94515999999999,
                    38.983600000000024
                   ],
                   [
                    -76.94505999999996,
                    38.983400000000074
                   ],
                   [
                    -76.94488999999999,
                    38.983010000000036
                   ],
                   [
                    -76.94488999999999,
                    38.98259000000007
                   ],
                   [
                    -76.94488999999999,
                    38.982470000000035
                   ],
                   [
                    -76.94487999999996,
                    38.98237000000006
                   ],
                   [
                    -76.94494095899995,
                    38.98236857100005
                   ]
                  ],
                  [
                   [
                    -76.94494095899995,
                    38.98236857100005
                   ],
                   [
                    -76.94487999999996,
                    38.98237000000006
                   ],
                   [
                    -76.94484999999997,
                    38.98191000000003
                   ],
                   [
                    -76.94488999999999,
                    38.98128000000003
                   ],
                   [
                    -76.94455999999997,
                    38.98118000000005
                   ],
                   [
                    -76.94409999999993,
                    38.98099000000008
                   ],
                   [
                    -76.94421999999997,
                    38.980810000000076
                   ],
                   [
                    -76.94283999999999,
                    38.97987000000006
                   ],
                   [
                    -76.94246999999996,
                    38.97968000000003
                   ],
                   [
                    -76.94163999999995,
                    38.979310000000055
                   ],
                   [
                    -76.94116999999994,
                    38.979220000000055
                   ],
                   [
                    -76.94010999999995,
                    38.97893000000005
                   ],
                   [
                    -76.93994999999995,
                    38.97882000000004
                   ],
                   [
                    -76.93980999999997,
                    38.978680000000054
                   ],
                   [
                    -76.93944703799997,
                    38.97819313200006
                   ]
                  ],
                  [
                   [
                    -76.93944703799997,
                    38.97819313200006
                   ],
                   [
                    -76.93937999999997,
                    38.97812000000005
                   ],
                   [
                    -76.93893999999995,
                    38.97786000000008
                   ],
                   [
                    -76.93870999999996,
                    38.977760000000046
                   ],
                   [
                    -76.93844999999999,
                    38.977640000000065
                   ],
                   [
                    -76.93805999999995,
                    38.977550000000065
                   ],
                   [
                    -76.93790999999999,
                    38.97759000000008
                   ],
                   [
                    -76.93785999999994,
                    38.97774000000004
                   ],
                   [
                    -76.93784999999997,
                    38.97784000000007
                   ],
                   [
                    -76.93784999999997,
                    38.97807000000006
                   ],
                   [
                    -76.93784999999997,
                    38.978270000000066
                   ],
                   [
                    -76.93784999999997,
                    38.978440000000035
                   ],
                   [
                    -76.93784999999997,
                    38.97864000000004
                   ],
                   [
                    -76.93784999999997,
                    38.97899000000007
                   ],
                   [
                    -76.93784999999997,
                    38.979280000000074
                   ],
                   [
                    -76.93784999999997,
                    38.97946200000007
                   ]
                  ],
                  [
                   [
                    -76.93784999999997,
                    38.97946200000007
                   ],
                   [
                    -76.93784999999997,
                    38.97961000000004
                   ],
                   [
                    -76.93783999999994,
                    38.98013000000003
                   ],
                   [
                    -76.93783999999994,
                    38.98041000000006
                   ],
                   [
                    -76.93783999999994,
                    38.98073000000005
                   ],
                   [
                    -76.93783999999994,
                    38.98182000000003
                   ],
                   [
                    -76.93782999999996,
                    38.982120000000066
                   ],
                   [
                    -76.93798999999996,
                    38.98215000000005
                   ],
                   [
                    -76.93858999999998,
                    38.98232000000007
                   ],
                   [
                    -76.93885999999998,
                    38.982380000000035
                   ],
                   [
                    -76.93910999999997,
                    38.98246000000006
                   ],
                   [
                    -76.93912991199994,
                    38.98246724100005
                   ]
                  ],
                  [
                   [
                    -76.93912991199994,
                    38.98246724100005
                   ],
                   [
                    -76.93959999999998,
                    38.98267000000004
                   ],
                   [
                    -76.93980999999997,
                    38.98288000000008
                   ],
                   [
                    -76.93990999999994,
                    38.98305000000005
                   ],
                   [
                    -76.93998999999997,
                    38.98335000000003
                   ],
                   [
                    -76.94009999999997,
                    38.984200000000044
                   ],
                   [
                    -76.94012999999995,
                    38.98442000000006
                   ],
                   [
                    -76.94010237099997,
                    38.98455123600007
                   ]
                  ],
                  [
                   [
                    -76.94010237099997,
                    38.98455123600007
                   ],
                   [
                    -76.94008999999994,
                    38.98461000000003
                   ],
                   [
                    -76.94009999999997,
                    38.98467000000005
                   ],
                   [
                    -76.94010999999995,
                    38.98493000000008
                   ],
                   [
                    -76.94009999999997,
                    38.98526000000004
                   ],
                   [
                    -76.94010999999995,
                    38.98553000000004
                   ],
                   [
                    -76.94012999999995,
                    38.98562000000004
                   ],
                   [
                    -76.94013875199994,
                    38.98637268900006
                   ]
                  ],
                  [
                   [
                    -76.94013875199994,
                    38.98637268900006
                   ],
                   [
                    -76.94013999999999,
                    38.98648000000003
                   ],
                   [
                    -76.94013999999999,
                    38.98654000000005
                   ],
                   [
                    -76.94013999999999,
                    38.98669000000007
                   ],
                   [
                    -76.94013999999999,
                    38.98678000000007
                   ],
                   [
                    -76.94010999999995,
                    38.986950000000036
                   ],
                   [
                    -76.93991999999997,
                    38.987450000000024
                   ],
                   [
                    -76.93988999999993,
                    38.98748000000006
                   ],
                   [
                    -76.93988999999993,
                    38.987730000000056
                   ],
                   [
                    -76.94024999999993,
                    38.987810000000025
                   ],
                   [
                    -76.94045999999997,
                    38.987900000000025
                   ],
                   [
                    -76.94062999999994,
                    38.98812000000004
                   ],
                   [
                    -76.94064999999995,
                    38.98828000000003
                   ],
                   [
                    -76.94066999999995,
                    38.988510000000076
                   ],
                   [
                    -76.94066999999995,
                    38.98866000000004
                   ],
                   [
                    -76.94069999999994,
                    38.98905000000008
                   ],
                   [
                    -76.94069999999994,
                    38.98935000000006
                   ],
                   [
                    -76.94070999999997,
                    38.98978000000005
                   ],
                   [
                    -76.94071999999994,
                    38.99019000000004
                   ],
                   [
                    -76.94070962199999,
                    38.990387191000025
                   ]
                  ],
                  [
                   [
                    -76.94070962199999,
                    38.990387191000025
                   ],
                   [
                    -76.94069999999994,
                    38.99057000000005
                   ],
                   [
                    -76.94068999999996,
                    38.99064000000004
                   ],
                   [
                    -76.94068999999996,
                    38.99088000000006
                   ],
                   [
                    -76.94073999999995,
                    38.99142000000006
                   ],
                   [
                    -76.94072437599993,
                    38.99149030600006
                   ]
                  ],
                  [
                   [
                    -76.94072437599993,
                    38.99149030600006
                   ],
                   [
                    -76.94071999999994,
                    38.99151000000006
                   ],
                   [
                    -76.94065999999998,
                    38.99160000000006
                   ],
                   [
                    -76.93991999999997,
                    38.99273000000005
                   ],
                   [
                    -76.93984999999998,
                    38.99317000000008
                   ],
                   [
                    -76.93988999999993,
                    38.99327000000005
                   ],
                   [
                    -76.93992999999995,
                    38.99339000000003
                   ],
                   [
                    -76.93996999999996,
                    38.993570000000034
                   ],
                   [
                    -76.93991999999997,
                    38.99365000000006
                   ],
                   [
                    -76.93983444599996,
                    38.993658279000044
                   ]
                  ],
                  [
                   [
                    -76.93983444599996,
                    38.993658279000044
                   ],
                   [
                    -76.93960999999996,
                    38.99368000000004
                   ],
                   [
                    -76.93898999999999,
                    38.99369000000007
                   ],
                   [
                    -76.93782999999996,
                    38.99371000000008
                   ],
                   [
                    -76.93771499999997,
                    38.99371000000008
                   ]
                  ],
                  [
                   [
                    -76.93771499999997,
                    38.99371000000008
                   ],
                   [
                    -76.93730999999997,
                    38.993670000000066
                   ],
                   [
                    -76.93730999999997,
                    38.994020000000035
                   ],
                   [
                    -76.93730999999997,
                    38.99422000000004
                   ],
                   [
                    -76.93730999999997,
                    38.99469000000005
                   ],
                   [
                    -76.93731999999994,
                    38.99476000000004
                   ],
                   [
                    -76.93733999999995,
                    38.99487000000005
                   ],
                   [
                    -76.93739999999997,
                    38.99503000000004
                   ],
                   [
                    -76.93756999999994,
                    38.99535000000003
                   ],
                   [
                    -76.93758024099998,
                    38.99536934300005
                   ]
                  ],
                  [
                   [
                    -76.93758024099998,
                    38.99536934300005
                   ],
                   [
                    -76.93778999999995,
                    38.99571000000003
                   ],
                   [
                    -76.93834999999996,
                    38.99631000000005
                   ],
                   [
                    -76.93923999999998,
                    38.99694000000005
                   ],
                   [
                    -76.93978999999996,
                    38.99735000000004
                   ],
                   [
                    -76.94005999999996,
                    38.99756000000008
                   ],
                   [
                    -76.94045950399999,
                    38.997873543000026
                   ]
                  ],
                  [
                   [
                    -76.94045950399999,
                    38.997873543000026
                   ],
                   [
                    -76.94058999999999,
                    38.99798000000004
                   ],
                   [
                    -76.94120999999996,
                    38.99844000000007
                   ],
                   [
                    -76.94153999999997,
                    38.99878000000007
                   ],
                   [
                    -76.94181999999995,
                    38.99917000000005
                   ],
                   [
                    -76.94201999999996,
                    38.999450000000024
                   ],
                   [
                    -76.94223999999997,
                    38.99974000000003
                   ],
                   [
                    -76.94288999999998,
                    39.000230000000045
                   ],
                   [
                    -76.94312999999994,
                    39.000410000000045
                   ],
                   [
                    -76.94383999999997,
                    39.00076000000007
                   ],
                   [
                    -76.94456999999994,
                    39.00088000000005
                   ],
                   [
                    -76.94472999999994,
                    39.00091000000003
                   ],
                   [
                    -76.94468297199995,
                    39.00106049100003
                   ]
                  ],
                  [
                   [
                    -76.94468297199995,
                    39.00106049100003
                   ],
                   [
                    -76.94411999999994,
                    39.001450000000034
                   ],
                   [
                    -76.94352999999995,
                    39.00210000000004
                   ],
                   [
                    -76.94334596199997,
                    39.00267013900003
                   ]
                  ],
                  [
                   [
                    -76.94334596199997,
                    39.00267013900003
                   ],
                   [
                    -76.94300999999996,
                    39.003660000000025
                   ],
                   [
                    -76.94248999999996,
                    39.003540000000044
                   ],
                   [
                    -76.94256500899996,
                    39.00309055900004
                   ]
                  ],
                  [
                   [
                    -76.94256500899996,
                    39.00309055900004
                   ],
                   [
                    -76.94248999999996,
                    39.003540000000044
                   ],
                   [
                    -76.94300999999996,
                    39.003660000000025
                   ],
                   [
                    -76.94352999999995,
                    39.00210000000004
                   ]
                  ],
                  [
                   [
                    -76.94352999999995,
                    39.00210000000004
                   ],
                   [
                    -76.94411999999994,
                    39.001450000000034
                   ],
                   [
                    -76.94468297199995,
                    39.00106049100003
                   ]
                  ],
                  [
                   [
                    -76.94468297199995,
                    39.00106049100003
                   ],
                   [
                    -76.94472999999994,
                    39.00091000000003
                   ],
                   [
                    -76.94456999999994,
                    39.00088000000005
                   ],
                   [
                    -76.94383999999997,
                    39.00076000000007
                   ],
                   [
                    -76.94312999999994,
                    39.000410000000045
                   ],
                   [
                    -76.94288999999998,
                    39.000230000000045
                   ],
                   [
                    -76.94223999999997,
                    38.99974000000003
                   ],
                   [
                    -76.94201999999996,
                    38.999450000000024
                   ],
                   [
                    -76.94181999999995,
                    38.99917000000005
                   ],
                   [
                    -76.94153999999997,
                    38.99878000000007
                   ],
                   [
                    -76.94120999999996,
                    38.99844000000007
                   ],
                   [
                    -76.94058999999999,
                    38.99798000000004
                   ],
                   [
                    -76.94044605799996,
                    38.99786257400007
                   ]
                  ],
                  [
                   [
                    -76.94044605799996,
                    38.99786257400007
                   ],
                   [
                    -76.94005999999996,
                    38.99756000000008
                   ],
                   [
                    -76.93978999999996,
                    38.99735000000004
                   ],
                   [
                    -76.93923999999998,
                    38.99694000000005
                   ],
                   [
                    -76.93834999999996,
                    38.99631000000005
                   ],
                   [
                    -76.93778999999995,
                    38.99571000000003
                   ],
                   [
                    -76.93756999999994,
                    38.99535000000003
                   ],
                   [
                    -76.93746205799994,
                    38.99535780300005
                   ]
                  ],
                  [
                   [
                    -76.93746205799994,
                    38.99535780300005
                   ],
                   [
                    -76.93673999999999,
                    38.99541000000005
                   ],
                   [
                    -76.93677999999994,
                    38.99577000000005
                   ],
                   [
                    -76.93778999999995,
                    38.99571000000003
                   ],
                   [
                    -76.93756999999994,
                    38.99535000000003
                   ],
                   [
                    -76.93739999999997,
                    38.99503000000004
                   ],
                   [
                    -76.93733999999995,
                    38.99487000000005
                   ],
                   [
                    -76.93731999999994,
                    38.99476000000004
                   ],
                   [
                    -76.93730999999997,
                    38.99469000000005
                   ],
                   [
                    -76.93730999999997,
                    38.99422000000004
                   ],
                   [
                    -76.93730999999997,
                    38.994020000000035
                   ],
                   [
                    -76.93730999999997,
                    38.993670000000066
                   ],
                   [
                    -76.93747899999994,
                    38.99371000000008
                   ]
                  ],
                  [
                   [
                    -76.93747899999994,
                    38.99371000000008
                   ],
                   [
                    -76.93782999999996,
                    38.99371000000008
                   ],
                   [
                    -76.93898999999999,
                    38.99369000000007
                   ],
                   [
                    -76.93960999999996,
                    38.99368000000004
                   ],
                   [
                    -76.93991999999997,
                    38.99365000000006
                   ],
                   [
                    -76.93996999999996,
                    38.993570000000034
                   ],
                   [
                    -76.93994978799998,
                    38.99347904700005
                   ]
                  ],
                  [
                   [
                    -76.93994978799998,
                    38.99347904700005
                   ],
                   [
                    -76.93992999999995,
                    38.99339000000003
                   ],
                   [
                    -76.93988999999993,
                    38.99327000000005
                   ],
                   [
                    -76.93984999999998,
                    38.99317000000008
                   ],
                   [
                    -76.93991999999997,
                    38.99273000000005
                   ],
                   [
                    -76.94065999999998,
                    38.99160000000006
                   ],
                   [
                    -76.94071999999994,
                    38.99151000000006
                   ],
                   [
                    -76.94073999999995,
                    38.99142000000006
                   ],
                   [
                    -76.94072580599999,
                    38.991266703000065
                   ]
                  ],
                  [
                   [
                    -76.94072580599999,
                    38.991266703000065
                   ],
                   [
                    -76.94068999999996,
                    38.99088000000006
                   ],
                   [
                    -76.94068999999996,
                    38.99064000000004
                   ],
                   [
                    -76.94069999999994,
                    38.99057000000005
                   ],
                   [
                    -76.94071999999994,
                    38.99019000000004
                   ],
                   [
                    -76.94070999999997,
                    38.98978000000005
                   ],
                   [
                    -76.94070403699999,
                    38.98952358100007
                   ]
                  ],
                  [
                   [
                    -76.94070403699999,
                    38.98952358100007
                   ],
                   [
                    -76.94069999999994,
                    38.98935000000006
                   ],
                   [
                    -76.94069999999994,
                    38.98905000000008
                   ],
                   [
                    -76.94066999999995,
                    38.98866000000004
                   ],
                   [
                    -76.94066999999995,
                    38.988510000000076
                   ],
                   [
                    -76.94064999999995,
                    38.98828000000003
                   ],
                   [
                    -76.94062999999994,
                    38.98812000000004
                   ],
                   [
                    -76.94062999999994,
                    38.98794000000004
                   ],
                   [
                    -76.94048999999995,
                    38.987640000000056
                   ],
                   [
                    -76.94048999999995,
                    38.98759000000007
                   ],
                   [
                    -76.94107999999994,
                    38.98757000000006
                   ],
                   [
                    -76.94121999999999,
                    38.98756000000003
                   ],
                   [
                    -76.94145999999995,
                    38.987550000000056
                   ],
                   [
                    -76.94170999999994,
                    38.987540000000024
                   ],
                   [
                    -76.94216999999998,
                    38.987540000000024
                   ],
                   [
                    -76.94260999999995,
                    38.987540000000024
                   ],
                   [
                    -76.94319999999993,
                    38.98753000000005
                   ],
                   [
                    -76.94343999999995,
                    38.98753000000005
                   ],
                   [
                    -76.94394499999999,
                    38.98753000000005
                   ]
                  ]
                 ],
                 "spatialReference": {
                  "wkid": 4326
                 },
                 "type": "polyline"
                }
               }
              ],
              "geometryType": "esriGeometryPolyline"
             },
             "layerDefinition": {
              "drawingInfo": {
               "renderer": {
                "symbol": {
                 "color": [
                  128,
                  0,
                  128,
                  90
                 ],
                 "style": "esriSLSSolid",
                 "type": "esriSLS",
                 "width": 4
                },
                "type": "simple"
               }
              },
              "fields": [
               {
                "alias": "OBJECTID",
                "name": "OBJECTID",
                "sqlType": "sqlTypeOther",
                "type": "esriFieldTypeOID"
               }
              ],
              "geometryType": "esriGeometryPolyline",
              "name": "Notebook sketch layer",
              "objectIdField": "OBJECTID",
              "spatialReference": {
               "wkid": 4326
              },
              "type": "Feature Layer"
             },
             "popupInfo": {
              "description": null,
              "fieldInfos": [
               {
                "fieldName": "OBJECTID",
                "isEditable": true,
                "label": "OBJECTID",
                "visible": true
               }
              ],
              "mediaInfos": [],
              "showAttachments": true,
              "title": "Notebook sketch layer"
             }
            }
           ]
          },
          "id": "3e6d3a97-dff1-4f10-aea9-771d536730ff",
          "layerDefinition": {
           "definitionExpression": null
          },
          "layerType": "ArcGISFeatureLayer",
          "opacity": 1,
          "title": "Notebook sketch layer",
          "visibility": true
         },
         {
          "featureCollection": {
           "layers": [
            {
             "featureSet": {
              "features": [
               {
                "attributes": {
                 "OBJECTID": 1
                },
                "geometry": {
                 "spatialReference": {
                  "wkid": 4326
                 },
                 "type": "point",
                 "x": -76.94394499999999,
                 "y": 38.987610000000075
                }
               }
              ],
              "geometryType": "esriGeometryPoint"
             },
             "layerDefinition": {
              "drawingInfo": {
               "renderer": {
                "symbol": {
                 "angle": 0,
                 "contentType": "image/png",
                 "height": 24,
                 "type": "esriPMS",
                 "url": "https://esri.github.io/arcgis-python-api/notebooks/nbimages/pink.png",
                 "width": 24,
                 "xoffset": 0,
                 "yoffset": 12
                },
                "type": "simple"
               }
              },
              "fields": [
               {
                "alias": "OBJECTID",
                "name": "OBJECTID",
                "sqlType": "sqlTypeOther",
                "type": "esriFieldTypeOID"
               }
              ],
              "geometryType": "esriGeometryPoint",
              "name": "Notebook sketch layer",
              "objectIdField": "OBJECTID",
              "spatialReference": {
               "wkid": 4326
              },
              "type": "Feature Layer"
             },
             "popupInfo": {
              "description": null,
              "fieldInfos": [
               {
                "fieldName": "OBJECTID",
                "isEditable": true,
                "label": "OBJECTID",
                "visible": true
               }
              ],
              "mediaInfos": [],
              "showAttachments": true,
              "title": "Notebook sketch layer"
             }
            }
           ]
          },
          "id": "674f6f17-dfe7-417c-9314-93a7874fb920",
          "layerDefinition": {
           "definitionExpression": null
          },
          "layerType": "ArcGISFeatureLayer",
          "opacity": 1,
          "title": "Notebook sketch layer",
          "visibility": true
         },
         {
          "featureCollection": {
           "layers": [
            {
             "featureSet": {
              "features": [
               {
                "attributes": {
                 "OBJECTID": 1
                },
                "geometry": {
                 "spatialReference": {
                  "wkid": 4326
                 },
                 "type": "point",
                 "x": -76.94677999999999,
                 "y": 38.98527700000005
                }
               }
              ],
              "geometryType": "esriGeometryPoint"
             },
             "layerDefinition": {
              "drawingInfo": {
               "renderer": {
                "symbol": {
                 "angle": 0,
                 "contentType": "image/png",
                 "height": 24,
                 "type": "esriPMS",
                 "url": "https://esri.github.io/arcgis-python-api/notebooks/nbimages/pink.png",
                 "width": 24,
                 "xoffset": 0,
                 "yoffset": 12
                },
                "type": "simple"
               }
              },
              "fields": [
               {
                "alias": "OBJECTID",
                "name": "OBJECTID",
                "sqlType": "sqlTypeOther",
                "type": "esriFieldTypeOID"
               }
              ],
              "geometryType": "esriGeometryPoint",
              "name": "Notebook sketch layer",
              "objectIdField": "OBJECTID",
              "spatialReference": {
               "wkid": 4326
              },
              "type": "Feature Layer"
             },
             "popupInfo": {
              "description": null,
              "fieldInfos": [
               {
                "fieldName": "OBJECTID",
                "isEditable": true,
                "label": "OBJECTID",
                "visible": true
               }
              ],
              "mediaInfos": [],
              "showAttachments": true,
              "title": "Notebook sketch layer"
             }
            }
           ]
          },
          "id": "d2595c25-8c4c-4982-827f-52e545083ec7",
          "layerDefinition": {
           "definitionExpression": null
          },
          "layerType": "ArcGISFeatureLayer",
          "opacity": 1,
          "title": "Notebook sketch layer",
          "visibility": true
         },
         {
          "featureCollection": {
           "layers": [
            {
             "featureSet": {
              "features": [
               {
                "attributes": {
                 "OBJECTID": 1
                },
                "geometry": {
                 "spatialReference": {
                  "wkid": 4326
                 },
                 "type": "point",
                 "x": -76.94518599999998,
                 "y": 38.983749000000046
                }
               }
              ],
              "geometryType": "esriGeometryPoint"
             },
             "layerDefinition": {
              "drawingInfo": {
               "renderer": {
                "symbol": {
                 "angle": 0,
                 "contentType": "image/png",
                 "height": 24,
                 "type": "esriPMS",
                 "url": "https://esri.github.io/arcgis-python-api/notebooks/nbimages/pink.png",
                 "width": 24,
                 "xoffset": 0,
                 "yoffset": 12
                },
                "type": "simple"
               }
              },
              "fields": [
               {
                "alias": "OBJECTID",
                "name": "OBJECTID",
                "sqlType": "sqlTypeOther",
                "type": "esriFieldTypeOID"
               }
              ],
              "geometryType": "esriGeometryPoint",
              "name": "Notebook sketch layer",
              "objectIdField": "OBJECTID",
              "spatialReference": {
               "wkid": 4326
              },
              "type": "Feature Layer"
             },
             "popupInfo": {
              "description": null,
              "fieldInfos": [
               {
                "fieldName": "OBJECTID",
                "isEditable": true,
                "label": "OBJECTID",
                "visible": true
               }
              ],
              "mediaInfos": [],
              "showAttachments": true,
              "title": "Notebook sketch layer"
             }
            }
           ]
          },
          "id": "48ef6cc7-6254-475a-9e2e-db76e205b48e",
          "layerDefinition": {
           "definitionExpression": null
          },
          "layerType": "ArcGISFeatureLayer",
          "opacity": 1,
          "title": "Notebook sketch layer",
          "visibility": true
         },
         {
          "featureCollection": {
           "layers": [
            {
             "featureSet": {
              "features": [
               {
                "attributes": {
                 "OBJECTID": 1
                },
                "geometry": {
                 "spatialReference": {
                  "wkid": 4326
                 },
                 "type": "point",
                 "x": -76.94494199999997,
                 "y": 38.982413000000065
                }
               }
              ],
              "geometryType": "esriGeometryPoint"
             },
             "layerDefinition": {
              "drawingInfo": {
               "renderer": {
                "symbol": {
                 "angle": 0,
                 "contentType": "image/png",
                 "height": 24,
                 "type": "esriPMS",
                 "url": "https://esri.github.io/arcgis-python-api/notebooks/nbimages/pink.png",
                 "width": 24,
                 "xoffset": 0,
                 "yoffset": 12
                },
                "type": "simple"
               }
              },
              "fields": [
               {
                "alias": "OBJECTID",
                "name": "OBJECTID",
                "sqlType": "sqlTypeOther",
                "type": "esriFieldTypeOID"
               }
              ],
              "geometryType": "esriGeometryPoint",
              "name": "Notebook sketch layer",
              "objectIdField": "OBJECTID",
              "spatialReference": {
               "wkid": 4326
              },
              "type": "Feature Layer"
             },
             "popupInfo": {
              "description": null,
              "fieldInfos": [
               {
                "fieldName": "OBJECTID",
                "isEditable": true,
                "label": "OBJECTID",
                "visible": true
               }
              ],
              "mediaInfos": [],
              "showAttachments": true,
              "title": "Notebook sketch layer"
             }
            }
           ]
          },
          "id": "9eb79745-c0eb-4c7b-bd82-5737b0c67941",
          "layerDefinition": {
           "definitionExpression": null
          },
          "layerType": "ArcGISFeatureLayer",
          "opacity": 1,
          "title": "Notebook sketch layer",
          "visibility": true
         },
         {
          "featureCollection": {
           "layers": [
            {
             "featureSet": {
              "features": [
               {
                "attributes": {
                 "OBJECTID": 1
                },
                "geometry": {
                 "spatialReference": {
                  "wkid": 4326
                 },
                 "type": "point",
                 "x": -76.93948099999994,
                 "y": 38.978162000000054
                }
               }
              ],
              "geometryType": "esriGeometryPoint"
             },
             "layerDefinition": {
              "drawingInfo": {
               "renderer": {
                "symbol": {
                 "angle": 0,
                 "contentType": "image/png",
                 "height": 24,
                 "type": "esriPMS",
                 "url": "https://esri.github.io/arcgis-python-api/notebooks/nbimages/pink.png",
                 "width": 24,
                 "xoffset": 0,
                 "yoffset": 12
                },
                "type": "simple"
               }
              },
              "fields": [
               {
                "alias": "OBJECTID",
                "name": "OBJECTID",
                "sqlType": "sqlTypeOther",
                "type": "esriFieldTypeOID"
               }
              ],
              "geometryType": "esriGeometryPoint",
              "name": "Notebook sketch layer",
              "objectIdField": "OBJECTID",
              "spatialReference": {
               "wkid": 4326
              },
              "type": "Feature Layer"
             },
             "popupInfo": {
              "description": null,
              "fieldInfos": [
               {
                "fieldName": "OBJECTID",
                "isEditable": true,
                "label": "OBJECTID",
                "visible": true
               }
              ],
              "mediaInfos": [],
              "showAttachments": true,
              "title": "Notebook sketch layer"
             }
            }
           ]
          },
          "id": "35ca24ba-31a4-4ba5-88f1-e473e36ab423",
          "layerDefinition": {
           "definitionExpression": null
          },
          "layerType": "ArcGISFeatureLayer",
          "opacity": 1,
          "title": "Notebook sketch layer",
          "visibility": true
         },
         {
          "featureCollection": {
           "layers": [
            {
             "featureSet": {
              "features": [
               {
                "attributes": {
                 "OBJECTID": 1
                },
                "geometry": {
                 "spatialReference": {
                  "wkid": 4326
                 },
                 "type": "point",
                 "x": -76.93777099999994,
                 "y": 38.97946200000007
                }
               }
              ],
              "geometryType": "esriGeometryPoint"
             },
             "layerDefinition": {
              "drawingInfo": {
               "renderer": {
                "symbol": {
                 "angle": 0,
                 "contentType": "image/png",
                 "height": 24,
                 "type": "esriPMS",
                 "url": "https://esri.github.io/arcgis-python-api/notebooks/nbimages/pink.png",
                 "width": 24,
                 "xoffset": 0,
                 "yoffset": 12
                },
                "type": "simple"
               }
              },
              "fields": [
               {
                "alias": "OBJECTID",
                "name": "OBJECTID",
                "sqlType": "sqlTypeOther",
                "type": "esriFieldTypeOID"
               }
              ],
              "geometryType": "esriGeometryPoint",
              "name": "Notebook sketch layer",
              "objectIdField": "OBJECTID",
              "spatialReference": {
               "wkid": 4326
              },
              "type": "Feature Layer"
             },
             "popupInfo": {
              "description": null,
              "fieldInfos": [
               {
                "fieldName": "OBJECTID",
                "isEditable": true,
                "label": "OBJECTID",
                "visible": true
               }
              ],
              "mediaInfos": [],
              "showAttachments": true,
              "title": "Notebook sketch layer"
             }
            }
           ]
          },
          "id": "c8e35652-7e64-4046-9798-0b81520733bc",
          "layerDefinition": {
           "definitionExpression": null
          },
          "layerType": "ArcGISFeatureLayer",
          "opacity": 1,
          "title": "Notebook sketch layer",
          "visibility": true
         },
         {
          "featureCollection": {
           "layers": [
            {
             "featureSet": {
              "features": [
               {
                "attributes": {
                 "OBJECTID": 1
                },
                "geometry": {
                 "spatialReference": {
                  "wkid": 4326
                 },
                 "type": "point",
                 "x": -76.93911399999996,
                 "y": 38.982511000000045
                }
               }
              ],
              "geometryType": "esriGeometryPoint"
             },
             "layerDefinition": {
              "drawingInfo": {
               "renderer": {
                "symbol": {
                 "angle": 0,
                 "contentType": "image/png",
                 "height": 24,
                 "type": "esriPMS",
                 "url": "https://esri.github.io/arcgis-python-api/notebooks/nbimages/pink.png",
                 "width": 24,
                 "xoffset": 0,
                 "yoffset": 12
                },
                "type": "simple"
               }
              },
              "fields": [
               {
                "alias": "OBJECTID",
                "name": "OBJECTID",
                "sqlType": "sqlTypeOther",
                "type": "esriFieldTypeOID"
               }
              ],
              "geometryType": "esriGeometryPoint",
              "name": "Notebook sketch layer",
              "objectIdField": "OBJECTID",
              "spatialReference": {
               "wkid": 4326
              },
              "type": "Feature Layer"
             },
             "popupInfo": {
              "description": null,
              "fieldInfos": [
               {
                "fieldName": "OBJECTID",
                "isEditable": true,
                "label": "OBJECTID",
                "visible": true
               }
              ],
              "mediaInfos": [],
              "showAttachments": true,
              "title": "Notebook sketch layer"
             }
            }
           ]
          },
          "id": "6fd52b43-119a-4ae8-93cb-95448b2b856b",
          "layerDefinition": {
           "definitionExpression": null
          },
          "layerType": "ArcGISFeatureLayer",
          "opacity": 1,
          "title": "Notebook sketch layer",
          "visibility": true
         },
         {
          "featureCollection": {
           "layers": [
            {
             "featureSet": {
              "features": [
               {
                "attributes": {
                 "OBJECTID": 1
                },
                "geometry": {
                 "spatialReference": {
                  "wkid": 4326
                 },
                 "type": "point",
                 "x": -76.94004899999999,
                 "y": 38.98454000000004
                }
               }
              ],
              "geometryType": "esriGeometryPoint"
             },
             "layerDefinition": {
              "drawingInfo": {
               "renderer": {
                "symbol": {
                 "angle": 0,
                 "contentType": "image/png",
                 "height": 24,
                 "type": "esriPMS",
                 "url": "https://esri.github.io/arcgis-python-api/notebooks/nbimages/pink.png",
                 "width": 24,
                 "xoffset": 0,
                 "yoffset": 12
                },
                "type": "simple"
               }
              },
              "fields": [
               {
                "alias": "OBJECTID",
                "name": "OBJECTID",
                "sqlType": "sqlTypeOther",
                "type": "esriFieldTypeOID"
               }
              ],
              "geometryType": "esriGeometryPoint",
              "name": "Notebook sketch layer",
              "objectIdField": "OBJECTID",
              "spatialReference": {
               "wkid": 4326
              },
              "type": "Feature Layer"
             },
             "popupInfo": {
              "description": null,
              "fieldInfos": [
               {
                "fieldName": "OBJECTID",
                "isEditable": true,
                "label": "OBJECTID",
                "visible": true
               }
              ],
              "mediaInfos": [],
              "showAttachments": true,
              "title": "Notebook sketch layer"
             }
            }
           ]
          },
          "id": "33d290bc-f256-48e2-a111-d91a978184f9",
          "layerDefinition": {
           "definitionExpression": null
          },
          "layerType": "ArcGISFeatureLayer",
          "opacity": 1,
          "title": "Notebook sketch layer",
          "visibility": true
         },
         {
          "featureCollection": {
           "layers": [
            {
             "featureSet": {
              "features": [
               {
                "attributes": {
                 "OBJECTID": 1
                },
                "geometry": {
                 "spatialReference": {
                  "wkid": 4326
                 },
                 "type": "point",
                 "x": -76.94011199999994,
                 "y": 38.98637300000007
                }
               }
              ],
              "geometryType": "esriGeometryPoint"
             },
             "layerDefinition": {
              "drawingInfo": {
               "renderer": {
                "symbol": {
                 "angle": 0,
                 "contentType": "image/png",
                 "height": 24,
                 "type": "esriPMS",
                 "url": "https://esri.github.io/arcgis-python-api/notebooks/nbimages/pink.png",
                 "width": 24,
                 "xoffset": 0,
                 "yoffset": 12
                },
                "type": "simple"
               }
              },
              "fields": [
               {
                "alias": "OBJECTID",
                "name": "OBJECTID",
                "sqlType": "sqlTypeOther",
                "type": "esriFieldTypeOID"
               }
              ],
              "geometryType": "esriGeometryPoint",
              "name": "Notebook sketch layer",
              "objectIdField": "OBJECTID",
              "spatialReference": {
               "wkid": 4326
              },
              "type": "Feature Layer"
             },
             "popupInfo": {
              "description": null,
              "fieldInfos": [
               {
                "fieldName": "OBJECTID",
                "isEditable": true,
                "label": "OBJECTID",
                "visible": true
               }
              ],
              "mediaInfos": [],
              "showAttachments": true,
              "title": "Notebook sketch layer"
             }
            }
           ]
          },
          "id": "8a44d2d5-af45-4bd5-9554-c153377ef801",
          "layerDefinition": {
           "definitionExpression": null
          },
          "layerType": "ArcGISFeatureLayer",
          "opacity": 1,
          "title": "Notebook sketch layer",
          "visibility": true
         },
         {
          "featureCollection": {
           "layers": [
            {
             "featureSet": {
              "features": [
               {
                "attributes": {
                 "OBJECTID": 1
                },
                "geometry": {
                 "spatialReference": {
                  "wkid": 4326
                 },
                 "type": "point",
                 "x": -76.94060719999999,
                 "y": 38.99038180000008
                }
               }
              ],
              "geometryType": "esriGeometryPoint"
             },
             "layerDefinition": {
              "drawingInfo": {
               "renderer": {
                "symbol": {
                 "angle": 0,
                 "contentType": "image/png",
                 "height": 24,
                 "type": "esriPMS",
                 "url": "https://esri.github.io/arcgis-python-api/notebooks/nbimages/pink.png",
                 "width": 24,
                 "xoffset": 0,
                 "yoffset": 12
                },
                "type": "simple"
               }
              },
              "fields": [
               {
                "alias": "OBJECTID",
                "name": "OBJECTID",
                "sqlType": "sqlTypeOther",
                "type": "esriFieldTypeOID"
               }
              ],
              "geometryType": "esriGeometryPoint",
              "name": "Notebook sketch layer",
              "objectIdField": "OBJECTID",
              "spatialReference": {
               "wkid": 4326
              },
              "type": "Feature Layer"
             },
             "popupInfo": {
              "description": null,
              "fieldInfos": [
               {
                "fieldName": "OBJECTID",
                "isEditable": true,
                "label": "OBJECTID",
                "visible": true
               }
              ],
              "mediaInfos": [],
              "showAttachments": true,
              "title": "Notebook sketch layer"
             }
            }
           ]
          },
          "id": "1f80d914-6021-4a76-881d-700ee54c49c0",
          "layerDefinition": {
           "definitionExpression": null
          },
          "layerType": "ArcGISFeatureLayer",
          "opacity": 1,
          "title": "Notebook sketch layer",
          "visibility": true
         },
         {
          "featureCollection": {
           "layers": [
            {
             "featureSet": {
              "features": [
               {
                "attributes": {
                 "OBJECTID": 1
                },
                "geometry": {
                 "spatialReference": {
                  "wkid": 4326
                 },
                 "type": "point",
                 "x": -76.94073199999997,
                 "y": 38.99149200000005
                }
               }
              ],
              "geometryType": "esriGeometryPoint"
             },
             "layerDefinition": {
              "drawingInfo": {
               "renderer": {
                "symbol": {
                 "angle": 0,
                 "contentType": "image/png",
                 "height": 24,
                 "type": "esriPMS",
                 "url": "https://esri.github.io/arcgis-python-api/notebooks/nbimages/pink.png",
                 "width": 24,
                 "xoffset": 0,
                 "yoffset": 12
                },
                "type": "simple"
               }
              },
              "fields": [
               {
                "alias": "OBJECTID",
                "name": "OBJECTID",
                "sqlType": "sqlTypeOther",
                "type": "esriFieldTypeOID"
               }
              ],
              "geometryType": "esriGeometryPoint",
              "name": "Notebook sketch layer",
              "objectIdField": "OBJECTID",
              "spatialReference": {
               "wkid": 4326
              },
              "type": "Feature Layer"
             },
             "popupInfo": {
              "description": null,
              "fieldInfos": [
               {
                "fieldName": "OBJECTID",
                "isEditable": true,
                "label": "OBJECTID",
                "visible": true
               }
              ],
              "mediaInfos": [],
              "showAttachments": true,
              "title": "Notebook sketch layer"
             }
            }
           ]
          },
          "id": "b5991a89-cd13-4f08-8e27-5a96f66292fa",
          "layerDefinition": {
           "definitionExpression": null
          },
          "layerType": "ArcGISFeatureLayer",
          "opacity": 1,
          "title": "Notebook sketch layer",
          "visibility": true
         },
         {
          "featureCollection": {
           "layers": [
            {
             "featureSet": {
              "features": [
               {
                "attributes": {
                 "OBJECTID": 1
                },
                "geometry": {
                 "spatialReference": {
                  "wkid": 4326
                 },
                 "type": "point",
                 "x": -76.93983499999996,
                 "y": 38.99366400000008
                }
               }
              ],
              "geometryType": "esriGeometryPoint"
             },
             "layerDefinition": {
              "drawingInfo": {
               "renderer": {
                "symbol": {
                 "angle": 0,
                 "contentType": "image/png",
                 "height": 24,
                 "type": "esriPMS",
                 "url": "https://esri.github.io/arcgis-python-api/notebooks/nbimages/pink.png",
                 "width": 24,
                 "xoffset": 0,
                 "yoffset": 12
                },
                "type": "simple"
               }
              },
              "fields": [
               {
                "alias": "OBJECTID",
                "name": "OBJECTID",
                "sqlType": "sqlTypeOther",
                "type": "esriFieldTypeOID"
               }
              ],
              "geometryType": "esriGeometryPoint",
              "name": "Notebook sketch layer",
              "objectIdField": "OBJECTID",
              "spatialReference": {
               "wkid": 4326
              },
              "type": "Feature Layer"
             },
             "popupInfo": {
              "description": null,
              "fieldInfos": [
               {
                "fieldName": "OBJECTID",
                "isEditable": true,
                "label": "OBJECTID",
                "visible": true
               }
              ],
              "mediaInfos": [],
              "showAttachments": true,
              "title": "Notebook sketch layer"
             }
            }
           ]
          },
          "id": "da33659e-cebf-408e-b332-c1e2b548f907",
          "layerDefinition": {
           "definitionExpression": null
          },
          "layerType": "ArcGISFeatureLayer",
          "opacity": 1,
          "title": "Notebook sketch layer",
          "visibility": true
         },
         {
          "featureCollection": {
           "layers": [
            {
             "featureSet": {
              "features": [
               {
                "attributes": {
                 "OBJECTID": 1
                },
                "geometry": {
                 "spatialReference": {
                  "wkid": 4326
                 },
                 "type": "point",
                 "x": -76.93771499999997,
                 "y": 38.99370200000004
                }
               }
              ],
              "geometryType": "esriGeometryPoint"
             },
             "layerDefinition": {
              "drawingInfo": {
               "renderer": {
                "symbol": {
                 "angle": 0,
                 "contentType": "image/png",
                 "height": 24,
                 "type": "esriPMS",
                 "url": "https://esri.github.io/arcgis-python-api/notebooks/nbimages/pink.png",
                 "width": 24,
                 "xoffset": 0,
                 "yoffset": 12
                },
                "type": "simple"
               }
              },
              "fields": [
               {
                "alias": "OBJECTID",
                "name": "OBJECTID",
                "sqlType": "sqlTypeOther",
                "type": "esriFieldTypeOID"
               }
              ],
              "geometryType": "esriGeometryPoint",
              "name": "Notebook sketch layer",
              "objectIdField": "OBJECTID",
              "spatialReference": {
               "wkid": 4326
              },
              "type": "Feature Layer"
             },
             "popupInfo": {
              "description": null,
              "fieldInfos": [
               {
                "fieldName": "OBJECTID",
                "isEditable": true,
                "label": "OBJECTID",
                "visible": true
               }
              ],
              "mediaInfos": [],
              "showAttachments": true,
              "title": "Notebook sketch layer"
             }
            }
           ]
          },
          "id": "bf019bb9-fd64-428b-bb47-d2577ca931f1",
          "layerDefinition": {
           "definitionExpression": null
          },
          "layerType": "ArcGISFeatureLayer",
          "opacity": 1,
          "title": "Notebook sketch layer",
          "visibility": true
         },
         {
          "featureCollection": {
           "layers": [
            {
             "featureSet": {
              "features": [
               {
                "attributes": {
                 "OBJECTID": 1
                },
                "geometry": {
                 "spatialReference": {
                  "wkid": 4326
                 },
                 "type": "point",
                 "x": -76.93764699999997,
                 "y": 38.99533400000007
                }
               }
              ],
              "geometryType": "esriGeometryPoint"
             },
             "layerDefinition": {
              "drawingInfo": {
               "renderer": {
                "symbol": {
                 "angle": 0,
                 "contentType": "image/png",
                 "height": 24,
                 "type": "esriPMS",
                 "url": "https://esri.github.io/arcgis-python-api/notebooks/nbimages/pink.png",
                 "width": 24,
                 "xoffset": 0,
                 "yoffset": 12
                },
                "type": "simple"
               }
              },
              "fields": [
               {
                "alias": "OBJECTID",
                "name": "OBJECTID",
                "sqlType": "sqlTypeOther",
                "type": "esriFieldTypeOID"
               }
              ],
              "geometryType": "esriGeometryPoint",
              "name": "Notebook sketch layer",
              "objectIdField": "OBJECTID",
              "spatialReference": {
               "wkid": 4326
              },
              "type": "Feature Layer"
             },
             "popupInfo": {
              "description": null,
              "fieldInfos": [
               {
                "fieldName": "OBJECTID",
                "isEditable": true,
                "label": "OBJECTID",
                "visible": true
               }
              ],
              "mediaInfos": [],
              "showAttachments": true,
              "title": "Notebook sketch layer"
             }
            }
           ]
          },
          "id": "7a2a2bec-544f-4574-975b-f0f2de0351b9",
          "layerDefinition": {
           "definitionExpression": null
          },
          "layerType": "ArcGISFeatureLayer",
          "opacity": 1,
          "title": "Notebook sketch layer",
          "visibility": true
         },
         {
          "featureCollection": {
           "layers": [
            {
             "featureSet": {
              "features": [
               {
                "attributes": {
                 "OBJECTID": 1
                },
                "geometry": {
                 "spatialReference": {
                  "wkid": 4326
                 },
                 "type": "point",
                 "x": -76.94050399999998,
                 "y": 38.99781900000005
                }
               }
              ],
              "geometryType": "esriGeometryPoint"
             },
             "layerDefinition": {
              "drawingInfo": {
               "renderer": {
                "symbol": {
                 "angle": 0,
                 "contentType": "image/png",
                 "height": 24,
                 "type": "esriPMS",
                 "url": "https://esri.github.io/arcgis-python-api/notebooks/nbimages/pink.png",
                 "width": 24,
                 "xoffset": 0,
                 "yoffset": 12
                },
                "type": "simple"
               }
              },
              "fields": [
               {
                "alias": "OBJECTID",
                "name": "OBJECTID",
                "sqlType": "sqlTypeOther",
                "type": "esriFieldTypeOID"
               }
              ],
              "geometryType": "esriGeometryPoint",
              "name": "Notebook sketch layer",
              "objectIdField": "OBJECTID",
              "spatialReference": {
               "wkid": 4326
              },
              "type": "Feature Layer"
             },
             "popupInfo": {
              "description": null,
              "fieldInfos": [
               {
                "fieldName": "OBJECTID",
                "isEditable": true,
                "label": "OBJECTID",
                "visible": true
               }
              ],
              "mediaInfos": [],
              "showAttachments": true,
              "title": "Notebook sketch layer"
             }
            }
           ]
          },
          "id": "639912f8-9f72-479a-8c85-19210ff5cd15",
          "layerDefinition": {
           "definitionExpression": null
          },
          "layerType": "ArcGISFeatureLayer",
          "opacity": 1,
          "title": "Notebook sketch layer",
          "visibility": true
         },
         {
          "featureCollection": {
           "layers": [
            {
             "featureSet": {
              "features": [
               {
                "attributes": {
                 "OBJECTID": 1
                },
                "geometry": {
                 "spatialReference": {
                  "wkid": 4326
                 },
                 "type": "point",
                 "x": -76.94472299999995,
                 "y": 39.001073000000076
                }
               }
              ],
              "geometryType": "esriGeometryPoint"
             },
             "layerDefinition": {
              "drawingInfo": {
               "renderer": {
                "symbol": {
                 "angle": 0,
                 "contentType": "image/png",
                 "height": 24,
                 "type": "esriPMS",
                 "url": "https://esri.github.io/arcgis-python-api/notebooks/nbimages/pink.png",
                 "width": 24,
                 "xoffset": 0,
                 "yoffset": 12
                },
                "type": "simple"
               }
              },
              "fields": [
               {
                "alias": "OBJECTID",
                "name": "OBJECTID",
                "sqlType": "sqlTypeOther",
                "type": "esriFieldTypeOID"
               }
              ],
              "geometryType": "esriGeometryPoint",
              "name": "Notebook sketch layer",
              "objectIdField": "OBJECTID",
              "spatialReference": {
               "wkid": 4326
              },
              "type": "Feature Layer"
             },
             "popupInfo": {
              "description": null,
              "fieldInfos": [
               {
                "fieldName": "OBJECTID",
                "isEditable": true,
                "label": "OBJECTID",
                "visible": true
               }
              ],
              "mediaInfos": [],
              "showAttachments": true,
              "title": "Notebook sketch layer"
             }
            }
           ]
          },
          "id": "b118b77f-a0b6-46e9-af9b-f23531393595",
          "layerDefinition": {
           "definitionExpression": null
          },
          "layerType": "ArcGISFeatureLayer",
          "opacity": 1,
          "title": "Notebook sketch layer",
          "visibility": true
         },
         {
          "featureCollection": {
           "layers": [
            {
             "featureSet": {
              "features": [
               {
                "attributes": {
                 "OBJECTID": 1
                },
                "geometry": {
                 "spatialReference": {
                  "wkid": 4326
                 },
                 "type": "point",
                 "x": -76.94339999999994,
                 "y": 39.00268500000004
                }
               }
              ],
              "geometryType": "esriGeometryPoint"
             },
             "layerDefinition": {
              "drawingInfo": {
               "renderer": {
                "symbol": {
                 "angle": 0,
                 "contentType": "image/png",
                 "height": 24,
                 "type": "esriPMS",
                 "url": "https://esri.github.io/arcgis-python-api/notebooks/nbimages/pink.png",
                 "width": 24,
                 "xoffset": 0,
                 "yoffset": 12
                },
                "type": "simple"
               }
              },
              "fields": [
               {
                "alias": "OBJECTID",
                "name": "OBJECTID",
                "sqlType": "sqlTypeOther",
                "type": "esriFieldTypeOID"
               }
              ],
              "geometryType": "esriGeometryPoint",
              "name": "Notebook sketch layer",
              "objectIdField": "OBJECTID",
              "spatialReference": {
               "wkid": 4326
              },
              "type": "Feature Layer"
             },
             "popupInfo": {
              "description": null,
              "fieldInfos": [
               {
                "fieldName": "OBJECTID",
                "isEditable": true,
                "label": "OBJECTID",
                "visible": true
               }
              ],
              "mediaInfos": [],
              "showAttachments": true,
              "title": "Notebook sketch layer"
             }
            }
           ]
          },
          "id": "7e0e4a5a-f44f-4d35-8239-fa1e83c4cd3c",
          "layerDefinition": {
           "definitionExpression": null
          },
          "layerType": "ArcGISFeatureLayer",
          "opacity": 1,
          "title": "Notebook sketch layer",
          "visibility": true
         },
         {
          "featureCollection": {
           "layers": [
            {
             "featureSet": {
              "features": [
               {
                "attributes": {
                 "OBJECTID": 1
                },
                "geometry": {
                 "spatialReference": {
                  "wkid": 4326
                 },
                 "type": "point",
                 "x": -76.94254099999995,
                 "y": 39.00308300000006
                }
               }
              ],
              "geometryType": "esriGeometryPoint"
             },
             "layerDefinition": {
              "drawingInfo": {
               "renderer": {
                "symbol": {
                 "angle": 0,
                 "contentType": "image/png",
                 "height": 24,
                 "type": "esriPMS",
                 "url": "https://esri.github.io/arcgis-python-api/notebooks/nbimages/pink.png",
                 "width": 24,
                 "xoffset": 0,
                 "yoffset": 12
                },
                "type": "simple"
               }
              },
              "fields": [
               {
                "alias": "OBJECTID",
                "name": "OBJECTID",
                "sqlType": "sqlTypeOther",
                "type": "esriFieldTypeOID"
               }
              ],
              "geometryType": "esriGeometryPoint",
              "name": "Notebook sketch layer",
              "objectIdField": "OBJECTID",
              "spatialReference": {
               "wkid": 4326
              },
              "type": "Feature Layer"
             },
             "popupInfo": {
              "description": null,
              "fieldInfos": [
               {
                "fieldName": "OBJECTID",
                "isEditable": true,
                "label": "OBJECTID",
                "visible": true
               }
              ],
              "mediaInfos": [],
              "showAttachments": true,
              "title": "Notebook sketch layer"
             }
            }
           ]
          },
          "id": "ede7b298-d95f-45ce-8d82-d7996d885a6e",
          "layerDefinition": {
           "definitionExpression": null
          },
          "layerType": "ArcGISFeatureLayer",
          "opacity": 1,
          "title": "Notebook sketch layer",
          "visibility": true
         },
         {
          "featureCollection": {
           "layers": [
            {
             "featureSet": {
              "features": [
               {
                "attributes": {
                 "OBJECTID": 1
                },
                "geometry": {
                 "spatialReference": {
                  "wkid": 4326
                 },
                 "type": "point",
                 "x": -76.94342999999998,
                 "y": 39.00205600000004
                }
               }
              ],
              "geometryType": "esriGeometryPoint"
             },
             "layerDefinition": {
              "drawingInfo": {
               "renderer": {
                "symbol": {
                 "angle": 0,
                 "contentType": "image/png",
                 "height": 24,
                 "type": "esriPMS",
                 "url": "https://esri.github.io/arcgis-python-api/notebooks/nbimages/pink.png",
                 "width": 24,
                 "xoffset": 0,
                 "yoffset": 12
                },
                "type": "simple"
               }
              },
              "fields": [
               {
                "alias": "OBJECTID",
                "name": "OBJECTID",
                "sqlType": "sqlTypeOther",
                "type": "esriFieldTypeOID"
               }
              ],
              "geometryType": "esriGeometryPoint",
              "name": "Notebook sketch layer",
              "objectIdField": "OBJECTID",
              "spatialReference": {
               "wkid": 4326
              },
              "type": "Feature Layer"
             },
             "popupInfo": {
              "description": null,
              "fieldInfos": [
               {
                "fieldName": "OBJECTID",
                "isEditable": true,
                "label": "OBJECTID",
                "visible": true
               }
              ],
              "mediaInfos": [],
              "showAttachments": true,
              "title": "Notebook sketch layer"
             }
            }
           ]
          },
          "id": "732dc4a7-f941-4126-90ba-0621478110bc",
          "layerDefinition": {
           "definitionExpression": null
          },
          "layerType": "ArcGISFeatureLayer",
          "opacity": 1,
          "title": "Notebook sketch layer",
          "visibility": true
         },
         {
          "featureCollection": {
           "layers": [
            {
             "featureSet": {
              "features": [
               {
                "attributes": {
                 "OBJECTID": 1
                },
                "geometry": {
                 "spatialReference": {
                  "wkid": 4326
                 },
                 "type": "point",
                 "x": -76.94472299999995,
                 "y": 39.001073000000076
                }
               }
              ],
              "geometryType": "esriGeometryPoint"
             },
             "layerDefinition": {
              "drawingInfo": {
               "renderer": {
                "symbol": {
                 "angle": 0,
                 "contentType": "image/png",
                 "height": 24,
                 "type": "esriPMS",
                 "url": "https://esri.github.io/arcgis-python-api/notebooks/nbimages/pink.png",
                 "width": 24,
                 "xoffset": 0,
                 "yoffset": 12
                },
                "type": "simple"
               }
              },
              "fields": [
               {
                "alias": "OBJECTID",
                "name": "OBJECTID",
                "sqlType": "sqlTypeOther",
                "type": "esriFieldTypeOID"
               }
              ],
              "geometryType": "esriGeometryPoint",
              "name": "Notebook sketch layer",
              "objectIdField": "OBJECTID",
              "spatialReference": {
               "wkid": 4326
              },
              "type": "Feature Layer"
             },
             "popupInfo": {
              "description": null,
              "fieldInfos": [
               {
                "fieldName": "OBJECTID",
                "isEditable": true,
                "label": "OBJECTID",
                "visible": true
               }
              ],
              "mediaInfos": [],
              "showAttachments": true,
              "title": "Notebook sketch layer"
             }
            }
           ]
          },
          "id": "08fca91c-6ee7-4b08-ba36-d0d40a6f5c7d",
          "layerDefinition": {
           "definitionExpression": null
          },
          "layerType": "ArcGISFeatureLayer",
          "opacity": 1,
          "title": "Notebook sketch layer",
          "visibility": true
         },
         {
          "featureCollection": {
           "layers": [
            {
             "featureSet": {
              "features": [
               {
                "attributes": {
                 "OBJECTID": 1
                },
                "geometry": {
                 "spatialReference": {
                  "wkid": 4326
                 },
                 "type": "point",
                 "x": -76.94040899999999,
                 "y": 38.99790800000005
                }
               }
              ],
              "geometryType": "esriGeometryPoint"
             },
             "layerDefinition": {
              "drawingInfo": {
               "renderer": {
                "symbol": {
                 "angle": 0,
                 "contentType": "image/png",
                 "height": 24,
                 "type": "esriPMS",
                 "url": "https://esri.github.io/arcgis-python-api/notebooks/nbimages/pink.png",
                 "width": 24,
                 "xoffset": 0,
                 "yoffset": 12
                },
                "type": "simple"
               }
              },
              "fields": [
               {
                "alias": "OBJECTID",
                "name": "OBJECTID",
                "sqlType": "sqlTypeOther",
                "type": "esriFieldTypeOID"
               }
              ],
              "geometryType": "esriGeometryPoint",
              "name": "Notebook sketch layer",
              "objectIdField": "OBJECTID",
              "spatialReference": {
               "wkid": 4326
              },
              "type": "Feature Layer"
             },
             "popupInfo": {
              "description": null,
              "fieldInfos": [
               {
                "fieldName": "OBJECTID",
                "isEditable": true,
                "label": "OBJECTID",
                "visible": true
               }
              ],
              "mediaInfos": [],
              "showAttachments": true,
              "title": "Notebook sketch layer"
             }
            }
           ]
          },
          "id": "c5472d28-8951-4f0c-acc5-ca12b0d0433c",
          "layerDefinition": {
           "definitionExpression": null
          },
          "layerType": "ArcGISFeatureLayer",
          "opacity": 1,
          "title": "Notebook sketch layer",
          "visibility": true
         },
         {
          "featureCollection": {
           "layers": [
            {
             "featureSet": {
              "features": [
               {
                "attributes": {
                 "OBJECTID": 1
                },
                "geometry": {
                 "spatialReference": {
                  "wkid": 4326
                 },
                 "type": "point",
                 "x": -76.93746199999998,
                 "y": 38.99535700000007
                }
               }
              ],
              "geometryType": "esriGeometryPoint"
             },
             "layerDefinition": {
              "drawingInfo": {
               "renderer": {
                "symbol": {
                 "angle": 0,
                 "contentType": "image/png",
                 "height": 24,
                 "type": "esriPMS",
                 "url": "https://esri.github.io/arcgis-python-api/notebooks/nbimages/pink.png",
                 "width": 24,
                 "xoffset": 0,
                 "yoffset": 12
                },
                "type": "simple"
               }
              },
              "fields": [
               {
                "alias": "OBJECTID",
                "name": "OBJECTID",
                "sqlType": "sqlTypeOther",
                "type": "esriFieldTypeOID"
               }
              ],
              "geometryType": "esriGeometryPoint",
              "name": "Notebook sketch layer",
              "objectIdField": "OBJECTID",
              "spatialReference": {
               "wkid": 4326
              },
              "type": "Feature Layer"
             },
             "popupInfo": {
              "description": null,
              "fieldInfos": [
               {
                "fieldName": "OBJECTID",
                "isEditable": true,
                "label": "OBJECTID",
                "visible": true
               }
              ],
              "mediaInfos": [],
              "showAttachments": true,
              "title": "Notebook sketch layer"
             }
            }
           ]
          },
          "id": "97533e82-c66e-4393-92f4-85515903d1b6",
          "layerDefinition": {
           "definitionExpression": null
          },
          "layerType": "ArcGISFeatureLayer",
          "opacity": 1,
          "title": "Notebook sketch layer",
          "visibility": true
         },
         {
          "featureCollection": {
           "layers": [
            {
             "featureSet": {
              "features": [
               {
                "attributes": {
                 "OBJECTID": 1
                },
                "geometry": {
                 "spatialReference": {
                  "wkid": 4326
                 },
                 "type": "point",
                 "x": -76.93747899999994,
                 "y": 38.99362800000006
                }
               }
              ],
              "geometryType": "esriGeometryPoint"
             },
             "layerDefinition": {
              "drawingInfo": {
               "renderer": {
                "symbol": {
                 "angle": 0,
                 "contentType": "image/png",
                 "height": 24,
                 "type": "esriPMS",
                 "url": "https://esri.github.io/arcgis-python-api/notebooks/nbimages/pink.png",
                 "width": 24,
                 "xoffset": 0,
                 "yoffset": 12
                },
                "type": "simple"
               }
              },
              "fields": [
               {
                "alias": "OBJECTID",
                "name": "OBJECTID",
                "sqlType": "sqlTypeOther",
                "type": "esriFieldTypeOID"
               }
              ],
              "geometryType": "esriGeometryPoint",
              "name": "Notebook sketch layer",
              "objectIdField": "OBJECTID",
              "spatialReference": {
               "wkid": 4326
              },
              "type": "Feature Layer"
             },
             "popupInfo": {
              "description": null,
              "fieldInfos": [
               {
                "fieldName": "OBJECTID",
                "isEditable": true,
                "label": "OBJECTID",
                "visible": true
               }
              ],
              "mediaInfos": [],
              "showAttachments": true,
              "title": "Notebook sketch layer"
             }
            }
           ]
          },
          "id": "58ed5f28-601c-4365-be3f-c2a885be6b9d",
          "layerDefinition": {
           "definitionExpression": null
          },
          "layerType": "ArcGISFeatureLayer",
          "opacity": 1,
          "title": "Notebook sketch layer",
          "visibility": true
         },
         {
          "featureCollection": {
           "layers": [
            {
             "featureSet": {
              "features": [
               {
                "attributes": {
                 "OBJECTID": 1
                },
                "geometry": {
                 "spatialReference": {
                  "wkid": 4326
                 },
                 "type": "point",
                 "x": -76.93993199999994,
                 "y": 38.993483000000026
                }
               }
              ],
              "geometryType": "esriGeometryPoint"
             },
             "layerDefinition": {
              "drawingInfo": {
               "renderer": {
                "symbol": {
                 "angle": 0,
                 "contentType": "image/png",
                 "height": 24,
                 "type": "esriPMS",
                 "url": "https://esri.github.io/arcgis-python-api/notebooks/nbimages/pink.png",
                 "width": 24,
                 "xoffset": 0,
                 "yoffset": 12
                },
                "type": "simple"
               }
              },
              "fields": [
               {
                "alias": "OBJECTID",
                "name": "OBJECTID",
                "sqlType": "sqlTypeOther",
                "type": "esriFieldTypeOID"
               }
              ],
              "geometryType": "esriGeometryPoint",
              "name": "Notebook sketch layer",
              "objectIdField": "OBJECTID",
              "spatialReference": {
               "wkid": 4326
              },
              "type": "Feature Layer"
             },
             "popupInfo": {
              "description": null,
              "fieldInfos": [
               {
                "fieldName": "OBJECTID",
                "isEditable": true,
                "label": "OBJECTID",
                "visible": true
               }
              ],
              "mediaInfos": [],
              "showAttachments": true,
              "title": "Notebook sketch layer"
             }
            }
           ]
          },
          "id": "9d797e92-c1ab-4f45-ac25-08a96470d745",
          "layerDefinition": {
           "definitionExpression": null
          },
          "layerType": "ArcGISFeatureLayer",
          "opacity": 1,
          "title": "Notebook sketch layer",
          "visibility": true
         },
         {
          "featureCollection": {
           "layers": [
            {
             "featureSet": {
              "features": [
               {
                "attributes": {
                 "OBJECTID": 1
                },
                "geometry": {
                 "spatialReference": {
                  "wkid": 4326
                 },
                 "type": "point",
                 "x": -76.94064699999996,
                 "y": 38.99127400000003
                }
               }
              ],
              "geometryType": "esriGeometryPoint"
             },
             "layerDefinition": {
              "drawingInfo": {
               "renderer": {
                "symbol": {
                 "angle": 0,
                 "contentType": "image/png",
                 "height": 24,
                 "type": "esriPMS",
                 "url": "https://esri.github.io/arcgis-python-api/notebooks/nbimages/pink.png",
                 "width": 24,
                 "xoffset": 0,
                 "yoffset": 12
                },
                "type": "simple"
               }
              },
              "fields": [
               {
                "alias": "OBJECTID",
                "name": "OBJECTID",
                "sqlType": "sqlTypeOther",
                "type": "esriFieldTypeOID"
               }
              ],
              "geometryType": "esriGeometryPoint",
              "name": "Notebook sketch layer",
              "objectIdField": "OBJECTID",
              "spatialReference": {
               "wkid": 4326
              },
              "type": "Feature Layer"
             },
             "popupInfo": {
              "description": null,
              "fieldInfos": [
               {
                "fieldName": "OBJECTID",
                "isEditable": true,
                "label": "OBJECTID",
                "visible": true
               }
              ],
              "mediaInfos": [],
              "showAttachments": true,
              "title": "Notebook sketch layer"
             }
            }
           ]
          },
          "id": "44a32e8b-4610-4ba9-8529-08b0a86f5608",
          "layerDefinition": {
           "definitionExpression": null
          },
          "layerType": "ArcGISFeatureLayer",
          "opacity": 1,
          "title": "Notebook sketch layer",
          "visibility": true
         },
         {
          "featureCollection": {
           "layers": [
            {
             "featureSet": {
              "features": [
               {
                "attributes": {
                 "OBJECTID": 1
                },
                "geometry": {
                 "spatialReference": {
                  "wkid": 4326
                 },
                 "type": "point",
                 "x": -76.94077199999998,
                 "y": 38.98952200000008
                }
               }
              ],
              "geometryType": "esriGeometryPoint"
             },
             "layerDefinition": {
              "drawingInfo": {
               "renderer": {
                "symbol": {
                 "angle": 0,
                 "contentType": "image/png",
                 "height": 24,
                 "type": "esriPMS",
                 "url": "https://esri.github.io/arcgis-python-api/notebooks/nbimages/pink.png",
                 "width": 24,
                 "xoffset": 0,
                 "yoffset": 12
                },
                "type": "simple"
               }
              },
              "fields": [
               {
                "alias": "OBJECTID",
                "name": "OBJECTID",
                "sqlType": "sqlTypeOther",
                "type": "esriFieldTypeOID"
               }
              ],
              "geometryType": "esriGeometryPoint",
              "name": "Notebook sketch layer",
              "objectIdField": "OBJECTID",
              "spatialReference": {
               "wkid": 4326
              },
              "type": "Feature Layer"
             },
             "popupInfo": {
              "description": null,
              "fieldInfos": [
               {
                "fieldName": "OBJECTID",
                "isEditable": true,
                "label": "OBJECTID",
                "visible": true
               }
              ],
              "mediaInfos": [],
              "showAttachments": true,
              "title": "Notebook sketch layer"
             }
            }
           ]
          },
          "id": "0c7e5acb-2ef1-4978-8420-f6c9ed4e13a5",
          "layerDefinition": {
           "definitionExpression": null
          },
          "layerType": "ArcGISFeatureLayer",
          "opacity": 1,
          "title": "Notebook sketch layer",
          "visibility": true
         },
         {
          "featureCollection": {
           "layers": [
            {
             "featureSet": {
              "features": [
               {
                "attributes": {
                 "OBJECTID": 1
                },
                "geometry": {
                 "spatialReference": {
                  "wkid": 4326
                 },
                 "type": "point",
                 "x": -76.94394499999999,
                 "y": 38.987610000000075
                }
               }
              ],
              "geometryType": "esriGeometryPoint"
             },
             "layerDefinition": {
              "drawingInfo": {
               "renderer": {
                "symbol": {
                 "angle": 0,
                 "contentType": "image/png",
                 "height": 24,
                 "type": "esriPMS",
                 "url": "https://esri.github.io/arcgis-python-api/notebooks/nbimages/pink.png",
                 "width": 24,
                 "xoffset": 0,
                 "yoffset": 12
                },
                "type": "simple"
               }
              },
              "fields": [
               {
                "alias": "OBJECTID",
                "name": "OBJECTID",
                "sqlType": "sqlTypeOther",
                "type": "esriFieldTypeOID"
               }
              ],
              "geometryType": "esriGeometryPoint",
              "name": "Notebook sketch layer",
              "objectIdField": "OBJECTID",
              "spatialReference": {
               "wkid": 4326
              },
              "type": "Feature Layer"
             },
             "popupInfo": {
              "description": null,
              "fieldInfos": [
               {
                "fieldName": "OBJECTID",
                "isEditable": true,
                "label": "OBJECTID",
                "visible": true
               }
              ],
              "mediaInfos": [],
              "showAttachments": true,
              "title": "Notebook sketch layer"
             }
            }
           ]
          },
          "id": "84acb7ba-21ce-4286-b5f1-451ca505ebdb",
          "layerDefinition": {
           "definitionExpression": null
          },
          "layerType": "ArcGISFeatureLayer",
          "opacity": 1,
          "title": "Notebook sketch layer",
          "visibility": true
         }
        ],
        "spatialReference": {
         "latestWkid": 3857,
         "wkid": 102100
        },
        "version": "2.10"
       },
       "_writeonly_end_time": "1900-01-01T00:00:00.000000",
       "_writeonly_start_time": "1900-01-01T00:00:00.000000",
       "hide_mode_switch": true,
       "layout": "IPY_MODEL_bb26dc75f6234869a8967f22211acf3c",
       "print_service_url": ""
      }
     },
     "da3e0a86bc124d2dbb8a4f2554021571": {
      "model_module": "@jupyter-widgets/base",
      "model_module_version": "1.2.0",
      "model_name": "LayoutModel",
      "state": {
       "height": "400px",
       "width": "100%"
      }
     },
     "f81d204ced374daea91ddfc44a23680a": {
      "model_module": "@jupyter-widgets/base",
      "model_module_version": "1.2.0",
      "model_name": "LayoutModel",
      "state": {
       "height": "400px",
       "width": "100%"
      }
     }
    },
    "version_major": 2,
    "version_minor": 0
   }
  }
 },
 "nbformat": 4,
 "nbformat_minor": 5
}
